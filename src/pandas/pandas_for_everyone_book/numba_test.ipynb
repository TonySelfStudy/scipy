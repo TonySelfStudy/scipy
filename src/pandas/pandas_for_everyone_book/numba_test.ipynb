{
 "cells": [
  {
   "cell_type": "code",
   "execution_count": 1,
   "metadata": {},
   "outputs": [],
   "source": [
    "# Estimate pi using a monte_carlo technique \n",
    "# that can be speed up with numba\n",
    "\n",
    "# if you don't have the numba package\n",
    "# run 'pip install numba' from command line \n",
    "\n",
    "import numba         \n",
    "import random\n",
    "import numpy"
   ]
  },
  {
   "cell_type": "code",
   "execution_count": 2,
   "metadata": {},
   "outputs": [],
   "source": [
    "# Simulation without using numba\n",
    "def monte_carlo_pi(nsamples: int):\n",
    "    acc = 0\n",
    "    for i in range(nsamples):\n",
    "        x = random.random()\n",
    "        y = random.random()\n",
    "        if (x**2 + y**2) < 1.0:\n",
    "            acc += 1\n",
    "    return 4.0 * acc / nsamples"
   ]
  },
  {
   "cell_type": "code",
   "execution_count": 3,
   "metadata": {},
   "outputs": [],
   "source": [
    "# Simulation using numba \n",
    "# Note, you only have to add a single line decorator\n",
    "\n",
    "@numba.jit\n",
    "def monte_carlo_pi_numba1(nsamples: int):\n",
    "    acc = 0\n",
    "    for i in range(nsamples):\n",
    "        x = random.random()\n",
    "        y = random.random()\n",
    "        if (x**2 + y**2) < 1.0:\n",
    "            acc += 1\n",
    "    return 4.0 * acc / nsamples"
   ]
  },
  {
   "cell_type": "code",
   "execution_count": 24,
   "metadata": {},
   "outputs": [],
   "source": [
    "# Simulation using numba \n",
    "# Note, you only have to add a single line decorator\n",
    "\n",
    "@numba.jit(nopython=True)\n",
    "def monte_carlo_pi_numba2(nsamples: int):\n",
    "\n",
    "    x = numpy.random.rand(nsamples)\n",
    "    y = numpy.random.rand(nsamples)\n",
    "    z = x**2 + y**2\n",
    "    out = 4 * np.count_nonzero(z[z<1.0]) / nsamples\n",
    "    \n",
    "    return out\n"
   ]
  },
  {
   "cell_type": "code",
   "execution_count": 33,
   "metadata": {},
   "outputs": [],
   "source": [
    "# Simulation using numba \n",
    "# Note, you only have to add a single line decorator\n",
    "\n",
    "@numba.jit(nopython=True)\n",
    "def monte_carlo_pi_numba3(nsamples: int):\n",
    "\n",
    "    x = numpy.random.rand(nsamples) **2 + numpy.random.rand(nsamples) **2\n",
    "    out = 4 * np.count_nonzero(x[x<1.0]) / nsamples\n",
    "    \n",
    "    return out\n"
   ]
  },
  {
   "cell_type": "code",
   "execution_count": 5,
   "metadata": {},
   "outputs": [],
   "source": [
    " # use 1,000,000 samples to determine pi\n",
    "num_samples = 1000000"
   ]
  },
  {
   "cell_type": "code",
   "execution_count": 6,
   "metadata": {},
   "outputs": [
    {
     "name": "stdout",
     "output_type": "stream",
     "text": [
      "781 ms ± 32.2 ms per loop (mean ± std. dev. of 7 runs, 1 loop each)\n"
     ]
    },
    {
     "data": {
      "text/plain": [
       "<TimeitResult : 781 ms ± 32.2 ms per loop (mean ± std. dev. of 7 runs, 1 loop each)>"
      ]
     },
     "execution_count": 6,
     "metadata": {},
     "output_type": "execute_result"
    }
   ],
   "source": [
    "%%timeit -o\n",
    "monte_carlo_pi(num_samples)"
   ]
  },
  {
   "cell_type": "code",
   "execution_count": 7,
   "metadata": {},
   "outputs": [],
   "source": [
    "# save timeit result for no numba\n",
    "result_no_numba = _  "
   ]
  },
  {
   "cell_type": "code",
   "execution_count": 8,
   "metadata": {},
   "outputs": [
    {
     "name": "stdout",
     "output_type": "stream",
     "text": [
      "16.3 ms ± 55.3 µs per loop (mean ± std. dev. of 7 runs, 1 loop each)\n"
     ]
    },
    {
     "data": {
      "text/plain": [
       "<TimeitResult : 16.3 ms ± 55.3 µs per loop (mean ± std. dev. of 7 runs, 1 loop each)>"
      ]
     },
     "execution_count": 8,
     "metadata": {},
     "output_type": "execute_result"
    }
   ],
   "source": [
    "%%timeit -o\n",
    "monte_carlo_pi_numba1(num_samples)"
   ]
  },
  {
   "cell_type": "code",
   "execution_count": 9,
   "metadata": {},
   "outputs": [],
   "source": [
    "# save timeit result with numba\n",
    "result_with_numba1 = _ "
   ]
  },
  {
   "cell_type": "code",
   "execution_count": 25,
   "metadata": {},
   "outputs": [
    {
     "name": "stdout",
     "output_type": "stream",
     "text": [
      "33.1 ms ± 262 µs per loop (mean ± std. dev. of 7 runs, 1 loop each)\n"
     ]
    },
    {
     "data": {
      "text/plain": [
       "<TimeitResult : 33.1 ms ± 262 µs per loop (mean ± std. dev. of 7 runs, 1 loop each)>"
      ]
     },
     "execution_count": 25,
     "metadata": {},
     "output_type": "execute_result"
    }
   ],
   "source": [
    "%%timeit -o\n",
    "monte_carlo_pi_numba2(num_samples)"
   ]
  },
  {
   "cell_type": "code",
   "execution_count": 26,
   "metadata": {},
   "outputs": [],
   "source": [
    "# save timeit result with numba optimizations\n",
    "result_with_numba2 = _ "
   ]
  },
  {
   "cell_type": "code",
   "execution_count": 34,
   "metadata": {},
   "outputs": [
    {
     "name": "stdout",
     "output_type": "stream",
     "text": [
      "32.6 ms ± 89.9 µs per loop (mean ± std. dev. of 7 runs, 1 loop each)\n"
     ]
    },
    {
     "data": {
      "text/plain": [
       "<TimeitResult : 32.6 ms ± 89.9 µs per loop (mean ± std. dev. of 7 runs, 1 loop each)>"
      ]
     },
     "execution_count": 34,
     "metadata": {},
     "output_type": "execute_result"
    }
   ],
   "source": [
    "%%timeit -o\n",
    "monte_carlo_pi_numba3(num_samples)"
   ]
  },
  {
   "cell_type": "code",
   "execution_count": 35,
   "metadata": {},
   "outputs": [],
   "source": [
    "# save timeit result with numba optimizations\n",
    "result_with_numba3 = _ "
   ]
  },
  {
   "cell_type": "code",
   "execution_count": 27,
   "metadata": {},
   "outputs": [],
   "source": [
    "no_numba_time = np.mean(result_no_numba.timings)\n",
    "with_numba_time1 = np.mean(result_with_numba1.timings)\n",
    "with_numba_time2 = np.mean(result_with_numba2.timings)\n",
    "\n",
    "# speed up factor\n",
    "speed_up1 = no_numba_time/with_numba_time1\n",
    "speed_up2 = no_numba_time/with_numba_time2\n",
    "\n",
    "# change/original * 100%\n",
    "percent_change1 = (no_numba_time - with_numba_time1) / no_numba_time * 100\n",
    "percent_change2 = (no_numba_time - with_numba_time2) / no_numba_time * 100\n"
   ]
  },
  {
   "cell_type": "code",
   "execution_count": 28,
   "metadata": {},
   "outputs": [
    {
     "name": "stdout",
     "output_type": "stream",
     "text": [
      "Including a single line of numba decorator code results in:\n",
      "Speed up factor of: 47.99226074107485 or \n",
      "Percent change in time: 97.91633070716308\n"
     ]
    }
   ],
   "source": [
    "# Calculate speed up.\n",
    "\n",
    "no_numba_time = np.mean(result_no_numba.timings)\n",
    "with_numba_time = np.mean(result_with_numba1.timings)\n",
    "print(f'Including a single line of numba decorator code results in:\\n'\n",
    "      f'Speed up factor of: {speed_up1} or \\n'\n",
    "      f'Percent change in time: {percent_change1}')"
   ]
  },
  {
   "cell_type": "code",
   "execution_count": 32,
   "metadata": {},
   "outputs": [
    {
     "name": "stdout",
     "output_type": "stream",
     "text": [
      "Including a single line of numba decorator code with parallel optomization results in:\n",
      "Speed up factor of: 23.639171096080908 or \n",
      "Percent change in time: 95.76973322822732\n"
     ]
    }
   ],
   "source": [
    "no_numba_time = np.mean(result_no_numba.timings)\n",
    "with_numba_time = np.mean(result_with_numba2.timings)\n",
    "print(f'Including a single line of numba decorator code '\n",
    "      f'with parallel optomization results in:\\n'\n",
    "      f'Speed up factor of: {speed_up2} or \\n'\n",
    "      f'Percent change in time: {percent_change2}')"
   ]
  },
  {
   "cell_type": "code",
   "execution_count": 31,
   "metadata": {},
   "outputs": [],
   "source": [
    "# monte_carlo_pi_numba2.parallel_diagnostics(level=4)"
   ]
  },
  {
   "cell_type": "code",
   "execution_count": null,
   "metadata": {},
   "outputs": [],
   "source": []
  }
 ],
 "metadata": {
  "kernelspec": {
   "display_name": "Python 3",
   "language": "python",
   "name": "python3"
  },
  "language_info": {
   "codemirror_mode": {
    "name": "ipython",
    "version": 3
   },
   "file_extension": ".py",
   "mimetype": "text/x-python",
   "name": "python",
   "nbconvert_exporter": "python",
   "pygments_lexer": "ipython3",
   "version": "3.8.2"
  },
  "varInspector": {
   "cols": {
    "lenName": 16,
    "lenType": 16,
    "lenVar": 40
   },
   "kernels_config": {
    "python": {
     "delete_cmd_postfix": "",
     "delete_cmd_prefix": "del ",
     "library": "var_list.py",
     "varRefreshCmd": "print(var_dic_list())"
    },
    "r": {
     "delete_cmd_postfix": ") ",
     "delete_cmd_prefix": "rm(",
     "library": "var_list.r",
     "varRefreshCmd": "cat(var_dic_list()) "
    }
   },
   "types_to_exclude": [
    "module",
    "function",
    "builtin_function_or_method",
    "instance",
    "_Feature"
   ],
   "window_display": false
  }
 },
 "nbformat": 4,
 "nbformat_minor": 4
}
