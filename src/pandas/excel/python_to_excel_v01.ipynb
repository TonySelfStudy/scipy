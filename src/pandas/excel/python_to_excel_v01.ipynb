{
 "cells": [
  {
   "cell_type": "code",
   "execution_count": 1,
   "metadata": {},
   "outputs": [],
   "source": [
    "\"\"\"\n",
    "Learning how to output to excel\n",
    "Created 01/17/21\n",
    "Website resources\n",
    "https://www.geeksforgeeks.org/writing-excel-sheet-using-python/\n",
    "https://www.datacamp.com/community/tutorials/python-excel-tutorial\n",
    "https://realpython.com/openpyxl-excel-spreadsheets-python/\n",
    "\"\"\";"
   ]
  },
  {
   "cell_type": "code",
   "execution_count": 2,
   "metadata": {},
   "outputs": [],
   "source": [
    "from IPython.core.interactiveshell import InteractiveShell\n",
    "# InteractiveShell.ast_node_interactivity I can only get last_expr_or_assign to work\n",
    "InteractiveShell.ast_node_interactivity = \"last_expr_or_assign\""
   ]
  },
  {
   "cell_type": "code",
   "execution_count": 28,
   "metadata": {},
   "outputs": [],
   "source": [
    "import os\n",
    "import pandas as pd\n",
    "import numpy as np"
   ]
  },
  {
   "cell_type": "code",
   "execution_count": 4,
   "metadata": {},
   "outputs": [
    {
     "data": {
      "text/plain": [
       "'D:\\\\Google Drive\\\\My Documents\\\\code\\\\python\\\\jupyter\\\\Self Study\\\\excel'"
      ]
     },
     "execution_count": 4,
     "metadata": {},
     "output_type": "execute_result"
    }
   ],
   "source": [
    "# Retrieve current working directory (`cwd`)\n",
    "cwd = os.getcwd()"
   ]
  },
  {
   "cell_type": "code",
   "execution_count": 5,
   "metadata": {},
   "outputs": [
    {
     "data": {
      "text/plain": [
       "['.ipynb_checkpoints',\n",
       " 'hello_world.xlsx',\n",
       " 'hello_world2.xlsx',\n",
       " 'hello_world3.xlsx',\n",
       " 'hello_world4.xlsx',\n",
       " 'hello_world5.xlsx',\n",
       " 'old',\n",
       " 'python_to_excel_v01.ipynb',\n",
       " 'sample.xlsx',\n",
       " '~$hello_world3.xlsx']"
      ]
     },
     "execution_count": 5,
     "metadata": {},
     "output_type": "execute_result"
    }
   ],
   "source": [
    "os.listdir('.')"
   ]
  },
  {
   "cell_type": "code",
   "execution_count": 6,
   "metadata": {},
   "outputs": [],
   "source": [
    "from openpyxl import Workbook\n",
    "from openpyxl.cell.cell import Cell"
   ]
  },
  {
   "cell_type": "code",
   "execution_count": 7,
   "metadata": {},
   "outputs": [],
   "source": [
    "workbook = Workbook()\n",
    "sheet = workbook.active\n",
    "\n",
    "sheet[\"A1\"] = \"hello\"\n",
    "sheet[\"B1\"] = \"world!\""
   ]
  },
  {
   "cell_type": "code",
   "execution_count": 8,
   "metadata": {},
   "outputs": [
    {
     "data": {
      "text/plain": [
       "['.ipynb_checkpoints',\n",
       " 'hello_world.xlsx',\n",
       " 'hello_world2.xlsx',\n",
       " 'hello_world3.xlsx',\n",
       " 'hello_world4.xlsx',\n",
       " 'hello_world5.xlsx',\n",
       " 'old',\n",
       " 'python_to_excel_v01.ipynb',\n",
       " 'sample.xlsx',\n",
       " '~$hello_world3.xlsx']"
      ]
     },
     "execution_count": 8,
     "metadata": {},
     "output_type": "execute_result"
    }
   ],
   "source": [
    "os.listdir('.')"
   ]
  },
  {
   "cell_type": "code",
   "execution_count": 9,
   "metadata": {},
   "outputs": [],
   "source": [
    "sheet[\"A3\"] = \"update\"\n",
    "sheet[\"B3\"] = \"me?\""
   ]
  },
  {
   "cell_type": "code",
   "execution_count": 17,
   "metadata": {},
   "outputs": [
    {
     "data": {
      "text/plain": [
       "<Worksheet \"Data\">"
      ]
     },
     "execution_count": 17,
     "metadata": {},
     "output_type": "execute_result"
    }
   ],
   "source": [
    "ws3 = workbook.create_sheet(title=\"Data\")"
   ]
  },
  {
   "cell_type": "code",
   "execution_count": 23,
   "metadata": {},
   "outputs": [
    {
     "name": "stdout",
     "output_type": "stream",
     "text": [
      "row: 10, col: 27\n",
      "row: 10, col: 27\n",
      "row: 10, col: 28\n",
      "row: 10, col: 28\n",
      "row: 10, col: 29\n",
      "row: 10, col: 29\n",
      "row: 10, col: 30\n",
      "row: 10, col: 30\n",
      "row: 10, col: 31\n",
      "row: 10, col: 31\n",
      "row: 10, col: 32\n",
      "row: 10, col: 32\n",
      "row: 10, col: 33\n",
      "row: 10, col: 33\n",
      "row: 10, col: 34\n",
      "row: 10, col: 34\n",
      "row: 10, col: 35\n",
      "row: 10, col: 35\n",
      "row: 10, col: 36\n",
      "row: 10, col: 36\n",
      "row: 10, col: 37\n",
      "row: 10, col: 37\n",
      "row: 10, col: 38\n",
      "row: 10, col: 38\n",
      "row: 10, col: 39\n",
      "row: 10, col: 39\n",
      "row: 10, col: 40\n",
      "row: 10, col: 40\n",
      "row: 10, col: 41\n",
      "row: 10, col: 41\n",
      "row: 10, col: 42\n",
      "row: 10, col: 42\n",
      "row: 10, col: 43\n",
      "row: 10, col: 43\n",
      "row: 10, col: 44\n",
      "row: 10, col: 44\n",
      "row: 10, col: 45\n",
      "row: 10, col: 45\n",
      "row: 10, col: 46\n",
      "row: 10, col: 46\n",
      "row: 10, col: 47\n",
      "row: 10, col: 47\n",
      "row: 10, col: 48\n",
      "row: 10, col: 48\n",
      "row: 10, col: 49\n",
      "row: 10, col: 49\n",
      "row: 10, col: 50\n",
      "row: 10, col: 50\n",
      "row: 10, col: 51\n",
      "row: 10, col: 51\n",
      "row: 10, col: 52\n",
      "row: 10, col: 52\n",
      "row: 10, col: 53\n",
      "row: 10, col: 53\n",
      "row: 11, col: 27\n",
      "row: 11, col: 27\n",
      "row: 11, col: 28\n",
      "row: 11, col: 28\n",
      "row: 11, col: 29\n",
      "row: 11, col: 29\n",
      "row: 11, col: 30\n",
      "row: 11, col: 30\n",
      "row: 11, col: 31\n",
      "row: 11, col: 31\n",
      "row: 11, col: 32\n",
      "row: 11, col: 32\n",
      "row: 11, col: 33\n",
      "row: 11, col: 33\n",
      "row: 11, col: 34\n",
      "row: 11, col: 34\n",
      "row: 11, col: 35\n",
      "row: 11, col: 35\n",
      "row: 11, col: 36\n",
      "row: 11, col: 36\n",
      "row: 11, col: 37\n",
      "row: 11, col: 37\n",
      "row: 11, col: 38\n",
      "row: 11, col: 38\n",
      "row: 11, col: 39\n",
      "row: 11, col: 39\n",
      "row: 11, col: 40\n",
      "row: 11, col: 40\n",
      "row: 11, col: 41\n",
      "row: 11, col: 41\n",
      "row: 11, col: 42\n",
      "row: 11, col: 42\n",
      "row: 11, col: 43\n",
      "row: 11, col: 43\n",
      "row: 11, col: 44\n",
      "row: 11, col: 44\n",
      "row: 11, col: 45\n",
      "row: 11, col: 45\n",
      "row: 11, col: 46\n",
      "row: 11, col: 46\n",
      "row: 11, col: 47\n",
      "row: 11, col: 47\n",
      "row: 11, col: 48\n",
      "row: 11, col: 48\n",
      "row: 11, col: 49\n",
      "row: 11, col: 49\n",
      "row: 11, col: 50\n",
      "row: 11, col: 50\n",
      "row: 11, col: 51\n",
      "row: 11, col: 51\n",
      "row: 11, col: 52\n",
      "row: 11, col: 52\n",
      "row: 11, col: 53\n",
      "row: 11, col: 53\n",
      "row: 12, col: 27\n",
      "row: 12, col: 27\n",
      "row: 12, col: 28\n",
      "row: 12, col: 28\n",
      "row: 12, col: 29\n",
      "row: 12, col: 29\n",
      "row: 12, col: 30\n",
      "row: 12, col: 30\n",
      "row: 12, col: 31\n",
      "row: 12, col: 31\n",
      "row: 12, col: 32\n",
      "row: 12, col: 32\n",
      "row: 12, col: 33\n",
      "row: 12, col: 33\n",
      "row: 12, col: 34\n",
      "row: 12, col: 34\n",
      "row: 12, col: 35\n",
      "row: 12, col: 35\n",
      "row: 12, col: 36\n",
      "row: 12, col: 36\n",
      "row: 12, col: 37\n",
      "row: 12, col: 37\n",
      "row: 12, col: 38\n",
      "row: 12, col: 38\n",
      "row: 12, col: 39\n",
      "row: 12, col: 39\n",
      "row: 12, col: 40\n",
      "row: 12, col: 40\n",
      "row: 12, col: 41\n",
      "row: 12, col: 41\n",
      "row: 12, col: 42\n",
      "row: 12, col: 42\n",
      "row: 12, col: 43\n",
      "row: 12, col: 43\n",
      "row: 12, col: 44\n",
      "row: 12, col: 44\n",
      "row: 12, col: 45\n",
      "row: 12, col: 45\n",
      "row: 12, col: 46\n",
      "row: 12, col: 46\n",
      "row: 12, col: 47\n",
      "row: 12, col: 47\n",
      "row: 12, col: 48\n",
      "row: 12, col: 48\n",
      "row: 12, col: 49\n",
      "row: 12, col: 49\n",
      "row: 12, col: 50\n",
      "row: 12, col: 50\n",
      "row: 12, col: 51\n",
      "row: 12, col: 51\n",
      "row: 12, col: 52\n",
      "row: 12, col: 52\n",
      "row: 12, col: 53\n",
      "row: 12, col: 53\n",
      "row: 13, col: 27\n",
      "row: 13, col: 27\n",
      "row: 13, col: 28\n",
      "row: 13, col: 28\n",
      "row: 13, col: 29\n",
      "row: 13, col: 29\n",
      "row: 13, col: 30\n",
      "row: 13, col: 30\n",
      "row: 13, col: 31\n",
      "row: 13, col: 31\n",
      "row: 13, col: 32\n",
      "row: 13, col: 32\n",
      "row: 13, col: 33\n",
      "row: 13, col: 33\n",
      "row: 13, col: 34\n",
      "row: 13, col: 34\n",
      "row: 13, col: 35\n",
      "row: 13, col: 35\n",
      "row: 13, col: 36\n",
      "row: 13, col: 36\n",
      "row: 13, col: 37\n",
      "row: 13, col: 37\n",
      "row: 13, col: 38\n",
      "row: 13, col: 38\n",
      "row: 13, col: 39\n",
      "row: 13, col: 39\n",
      "row: 13, col: 40\n",
      "row: 13, col: 40\n",
      "row: 13, col: 41\n",
      "row: 13, col: 41\n",
      "row: 13, col: 42\n",
      "row: 13, col: 42\n",
      "row: 13, col: 43\n",
      "row: 13, col: 43\n",
      "row: 13, col: 44\n",
      "row: 13, col: 44\n",
      "row: 13, col: 45\n",
      "row: 13, col: 45\n",
      "row: 13, col: 46\n",
      "row: 13, col: 46\n",
      "row: 13, col: 47\n",
      "row: 13, col: 47\n",
      "row: 13, col: 48\n",
      "row: 13, col: 48\n",
      "row: 13, col: 49\n",
      "row: 13, col: 49\n",
      "row: 13, col: 50\n",
      "row: 13, col: 50\n",
      "row: 13, col: 51\n",
      "row: 13, col: 51\n",
      "row: 13, col: 52\n",
      "row: 13, col: 52\n",
      "row: 13, col: 53\n",
      "row: 13, col: 53\n",
      "row: 14, col: 27\n",
      "row: 14, col: 27\n",
      "row: 14, col: 28\n",
      "row: 14, col: 28\n",
      "row: 14, col: 29\n",
      "row: 14, col: 29\n",
      "row: 14, col: 30\n",
      "row: 14, col: 30\n",
      "row: 14, col: 31\n",
      "row: 14, col: 31\n",
      "row: 14, col: 32\n",
      "row: 14, col: 32\n",
      "row: 14, col: 33\n",
      "row: 14, col: 33\n",
      "row: 14, col: 34\n",
      "row: 14, col: 34\n",
      "row: 14, col: 35\n",
      "row: 14, col: 35\n",
      "row: 14, col: 36\n",
      "row: 14, col: 36\n",
      "row: 14, col: 37\n",
      "row: 14, col: 37\n",
      "row: 14, col: 38\n",
      "row: 14, col: 38\n",
      "row: 14, col: 39\n",
      "row: 14, col: 39\n",
      "row: 14, col: 40\n",
      "row: 14, col: 40\n",
      "row: 14, col: 41\n",
      "row: 14, col: 41\n",
      "row: 14, col: 42\n",
      "row: 14, col: 42\n",
      "row: 14, col: 43\n",
      "row: 14, col: 43\n",
      "row: 14, col: 44\n",
      "row: 14, col: 44\n",
      "row: 14, col: 45\n",
      "row: 14, col: 45\n",
      "row: 14, col: 46\n",
      "row: 14, col: 46\n",
      "row: 14, col: 47\n",
      "row: 14, col: 47\n",
      "row: 14, col: 48\n",
      "row: 14, col: 48\n",
      "row: 14, col: 49\n",
      "row: 14, col: 49\n",
      "row: 14, col: 50\n",
      "row: 14, col: 50\n",
      "row: 14, col: 51\n",
      "row: 14, col: 51\n",
      "row: 14, col: 52\n",
      "row: 14, col: 52\n",
      "row: 14, col: 53\n",
      "row: 14, col: 53\n",
      "row: 15, col: 27\n",
      "row: 15, col: 27\n",
      "row: 15, col: 28\n",
      "row: 15, col: 28\n",
      "row: 15, col: 29\n",
      "row: 15, col: 29\n",
      "row: 15, col: 30\n",
      "row: 15, col: 30\n",
      "row: 15, col: 31\n",
      "row: 15, col: 31\n",
      "row: 15, col: 32\n",
      "row: 15, col: 32\n",
      "row: 15, col: 33\n",
      "row: 15, col: 33\n",
      "row: 15, col: 34\n",
      "row: 15, col: 34\n",
      "row: 15, col: 35\n",
      "row: 15, col: 35\n",
      "row: 15, col: 36\n",
      "row: 15, col: 36\n",
      "row: 15, col: 37\n",
      "row: 15, col: 37\n",
      "row: 15, col: 38\n",
      "row: 15, col: 38\n",
      "row: 15, col: 39\n",
      "row: 15, col: 39\n",
      "row: 15, col: 40\n",
      "row: 15, col: 40\n",
      "row: 15, col: 41\n",
      "row: 15, col: 41\n",
      "row: 15, col: 42\n",
      "row: 15, col: 42\n",
      "row: 15, col: 43\n",
      "row: 15, col: 43\n",
      "row: 15, col: 44\n",
      "row: 15, col: 44\n",
      "row: 15, col: 45\n",
      "row: 15, col: 45\n",
      "row: 15, col: 46\n",
      "row: 15, col: 46\n",
      "row: 15, col: 47\n",
      "row: 15, col: 47\n",
      "row: 15, col: 48\n",
      "row: 15, col: 48\n",
      "row: 15, col: 49\n",
      "row: 15, col: 49\n",
      "row: 15, col: 50\n",
      "row: 15, col: 50\n",
      "row: 15, col: 51\n",
      "row: 15, col: 51\n",
      "row: 15, col: 52\n",
      "row: 15, col: 52\n",
      "row: 15, col: 53\n",
      "row: 15, col: 53\n",
      "row: 16, col: 27\n",
      "row: 16, col: 27\n",
      "row: 16, col: 28\n",
      "row: 16, col: 28\n",
      "row: 16, col: 29\n",
      "row: 16, col: 29\n",
      "row: 16, col: 30\n",
      "row: 16, col: 30\n",
      "row: 16, col: 31\n",
      "row: 16, col: 31\n",
      "row: 16, col: 32\n",
      "row: 16, col: 32\n",
      "row: 16, col: 33\n",
      "row: 16, col: 33\n",
      "row: 16, col: 34\n",
      "row: 16, col: 34\n",
      "row: 16, col: 35\n",
      "row: 16, col: 35\n",
      "row: 16, col: 36\n",
      "row: 16, col: 36\n",
      "row: 16, col: 37\n",
      "row: 16, col: 37\n",
      "row: 16, col: 38\n",
      "row: 16, col: 38\n",
      "row: 16, col: 39\n",
      "row: 16, col: 39\n",
      "row: 16, col: 40\n",
      "row: 16, col: 40\n",
      "row: 16, col: 41\n",
      "row: 16, col: 41\n",
      "row: 16, col: 42\n",
      "row: 16, col: 42\n",
      "row: 16, col: 43\n",
      "row: 16, col: 43\n",
      "row: 16, col: 44\n",
      "row: 16, col: 44\n",
      "row: 16, col: 45\n",
      "row: 16, col: 45\n",
      "row: 16, col: 46\n",
      "row: 16, col: 46\n",
      "row: 16, col: 47\n",
      "row: 16, col: 47\n",
      "row: 16, col: 48\n",
      "row: 16, col: 48\n",
      "row: 16, col: 49\n",
      "row: 16, col: 49\n",
      "row: 16, col: 50\n",
      "row: 16, col: 50\n",
      "row: 16, col: 51\n",
      "row: 16, col: 51\n",
      "row: 16, col: 52\n",
      "row: 16, col: 52\n",
      "row: 16, col: 53\n",
      "row: 16, col: 53\n",
      "row: 17, col: 27\n",
      "row: 17, col: 27\n",
      "row: 17, col: 28\n",
      "row: 17, col: 28\n",
      "row: 17, col: 29\n",
      "row: 17, col: 29\n",
      "row: 17, col: 30\n",
      "row: 17, col: 30\n",
      "row: 17, col: 31\n",
      "row: 17, col: 31\n",
      "row: 17, col: 32\n",
      "row: 17, col: 32\n",
      "row: 17, col: 33\n",
      "row: 17, col: 33\n",
      "row: 17, col: 34\n",
      "row: 17, col: 34\n",
      "row: 17, col: 35\n",
      "row: 17, col: 35\n",
      "row: 17, col: 36\n",
      "row: 17, col: 36\n",
      "row: 17, col: 37\n",
      "row: 17, col: 37\n",
      "row: 17, col: 38\n",
      "row: 17, col: 38\n",
      "row: 17, col: 39\n",
      "row: 17, col: 39\n",
      "row: 17, col: 40\n",
      "row: 17, col: 40\n",
      "row: 17, col: 41\n",
      "row: 17, col: 41\n",
      "row: 17, col: 42\n",
      "row: 17, col: 42\n",
      "row: 17, col: 43\n",
      "row: 17, col: 43\n",
      "row: 17, col: 44\n",
      "row: 17, col: 44\n",
      "row: 17, col: 45\n",
      "row: 17, col: 45\n",
      "row: 17, col: 46\n",
      "row: 17, col: 46\n",
      "row: 17, col: 47\n",
      "row: 17, col: 47\n",
      "row: 17, col: 48\n",
      "row: 17, col: 48\n",
      "row: 17, col: 49\n",
      "row: 17, col: 49\n",
      "row: 17, col: 50\n",
      "row: 17, col: 50\n",
      "row: 17, col: 51\n",
      "row: 17, col: 51\n",
      "row: 17, col: 52\n",
      "row: 17, col: 52\n",
      "row: 17, col: 53\n",
      "row: 17, col: 53\n",
      "row: 18, col: 27\n",
      "row: 18, col: 27\n",
      "row: 18, col: 28\n",
      "row: 18, col: 28\n",
      "row: 18, col: 29\n",
      "row: 18, col: 29\n",
      "row: 18, col: 30\n",
      "row: 18, col: 30\n",
      "row: 18, col: 31\n",
      "row: 18, col: 31\n",
      "row: 18, col: 32\n",
      "row: 18, col: 32\n",
      "row: 18, col: 33\n",
      "row: 18, col: 33\n",
      "row: 18, col: 34\n",
      "row: 18, col: 34\n",
      "row: 18, col: 35\n",
      "row: 18, col: 35\n",
      "row: 18, col: 36\n",
      "row: 18, col: 36\n",
      "row: 18, col: 37\n",
      "row: 18, col: 37\n",
      "row: 18, col: 38\n",
      "row: 18, col: 38\n",
      "row: 18, col: 39\n",
      "row: 18, col: 39\n",
      "row: 18, col: 40\n",
      "row: 18, col: 40\n",
      "row: 18, col: 41\n",
      "row: 18, col: 41\n",
      "row: 18, col: 42\n",
      "row: 18, col: 42\n",
      "row: 18, col: 43\n",
      "row: 18, col: 43\n",
      "row: 18, col: 44\n",
      "row: 18, col: 44\n",
      "row: 18, col: 45\n",
      "row: 18, col: 45\n",
      "row: 18, col: 46\n",
      "row: 18, col: 46\n",
      "row: 18, col: 47\n",
      "row: 18, col: 47\n",
      "row: 18, col: 48\n",
      "row: 18, col: 48\n",
      "row: 18, col: 49\n",
      "row: 18, col: 49\n",
      "row: 18, col: 50\n",
      "row: 18, col: 50\n",
      "row: 18, col: 51\n",
      "row: 18, col: 51\n",
      "row: 18, col: 52\n",
      "row: 18, col: 52\n",
      "row: 18, col: 53\n",
      "row: 18, col: 53\n",
      "row: 19, col: 27\n",
      "row: 19, col: 27\n",
      "row: 19, col: 28\n",
      "row: 19, col: 28\n",
      "row: 19, col: 29\n",
      "row: 19, col: 29\n",
      "row: 19, col: 30\n",
      "row: 19, col: 30\n",
      "row: 19, col: 31\n",
      "row: 19, col: 31\n",
      "row: 19, col: 32\n",
      "row: 19, col: 32\n",
      "row: 19, col: 33\n",
      "row: 19, col: 33\n",
      "row: 19, col: 34\n",
      "row: 19, col: 34\n",
      "row: 19, col: 35\n",
      "row: 19, col: 35\n",
      "row: 19, col: 36\n",
      "row: 19, col: 36\n",
      "row: 19, col: 37\n",
      "row: 19, col: 37\n",
      "row: 19, col: 38\n",
      "row: 19, col: 38\n",
      "row: 19, col: 39\n",
      "row: 19, col: 39\n",
      "row: 19, col: 40\n",
      "row: 19, col: 40\n",
      "row: 19, col: 41\n",
      "row: 19, col: 41\n",
      "row: 19, col: 42\n",
      "row: 19, col: 42\n",
      "row: 19, col: 43\n",
      "row: 19, col: 43\n",
      "row: 19, col: 44\n",
      "row: 19, col: 44\n",
      "row: 19, col: 45\n",
      "row: 19, col: 45\n",
      "row: 19, col: 46\n",
      "row: 19, col: 46\n",
      "row: 19, col: 47\n",
      "row: 19, col: 47\n",
      "row: 19, col: 48\n",
      "row: 19, col: 48\n",
      "row: 19, col: 49\n",
      "row: 19, col: 49\n",
      "row: 19, col: 50\n",
      "row: 19, col: 50\n",
      "row: 19, col: 51\n",
      "row: 19, col: 51\n",
      "row: 19, col: 52\n",
      "row: 19, col: 52\n",
      "row: 19, col: 53\n",
      "row: 19, col: 53\n"
     ]
    }
   ],
   "source": [
    "for row in range(10, 20):\n",
    "    for col in range(27, 54):\n",
    "#         print(ws3.cell(row=row, column=col).value)\n",
    "        _ = ws3.cell(row=row, column=col, value=f\"row: {row}, col: {col}\")\n",
    "        print(ws3.cell(row=row, column=col).value)\n"
   ]
  },
  {
   "cell_type": "code",
   "execution_count": 16,
   "metadata": {},
   "outputs": [
    {
     "name": "stdout",
     "output_type": "stream",
     "text": [
      "<generator object Worksheet.values at 0x0F681418>\n"
     ]
    }
   ],
   "source": [
    "print(sheet.values)"
   ]
  },
  {
   "cell_type": "code",
   "execution_count": null,
   "metadata": {},
   "outputs": [],
   "source": []
  },
  {
   "cell_type": "code",
   "execution_count": 25,
   "metadata": {},
   "outputs": [],
   "source": [
    "workbook.save(filename=\"hello_world6.xlsx\")"
   ]
  },
  {
   "cell_type": "code",
   "execution_count": null,
   "metadata": {},
   "outputs": [],
   "source": [
    "from openpyxl import load_workbook\n",
    "workbook = load_workbook(filename=\"sample.xlsx\")\n",
    "workbook.sheetnames"
   ]
  },
  {
   "cell_type": "code",
   "execution_count": null,
   "metadata": {},
   "outputs": [],
   "source": [
    "sheet = workbook.active\n",
    "sheet"
   ]
  },
  {
   "cell_type": "code",
   "execution_count": null,
   "metadata": {},
   "outputs": [],
   "source": [
    "sheet.title"
   ]
  },
  {
   "cell_type": "code",
   "execution_count": null,
   "metadata": {},
   "outputs": [],
   "source": [
    "sheet[\"A1\"]"
   ]
  },
  {
   "cell_type": "code",
   "execution_count": null,
   "metadata": {},
   "outputs": [],
   "source": [
    "sheet[\"A1\"].value"
   ]
  },
  {
   "cell_type": "code",
   "execution_count": null,
   "metadata": {},
   "outputs": [],
   "source": []
  },
  {
   "cell_type": "code",
   "execution_count": null,
   "metadata": {},
   "outputs": [],
   "source": [
    "sheet[\"A1:C2\"]"
   ]
  },
  {
   "cell_type": "code",
   "execution_count": null,
   "metadata": {},
   "outputs": [],
   "source": [
    "sheet[\"A\"]"
   ]
  },
  {
   "cell_type": "code",
   "execution_count": null,
   "metadata": {},
   "outputs": [],
   "source": [
    "sheet[\"A:B\"]"
   ]
  },
  {
   "cell_type": "code",
   "execution_count": null,
   "metadata": {},
   "outputs": [],
   "source": [
    "sheet[5]"
   ]
  },
  {
   "cell_type": "code",
   "execution_count": null,
   "metadata": {},
   "outputs": [],
   "source": [
    "for row in sheet.iter_rows(min_row=1,\n",
    "                           max_row=3,\n",
    "                           min_col=4,\n",
    "                           max_col=10):\n",
    "    print(row)"
   ]
  },
  {
   "cell_type": "code",
   "execution_count": null,
   "metadata": {},
   "outputs": [],
   "source": [
    "for column in sheet.iter_cols(min_row=1,\n",
    "                              max_row=2,\n",
    "                              min_col=6,\n",
    "                              max_col=10,\n",
    "                              values_only=True):\n",
    "    print(column)"
   ]
  },
  {
   "cell_type": "code",
   "execution_count": null,
   "metadata": {},
   "outputs": [],
   "source": [
    "for row in sheet.iter_rows(min_row=1,\n",
    "                              max_row=2,\n",
    "                              min_col=6,\n",
    "                              max_col=10,\n",
    "                              values_only=True):\n",
    "    print(row)"
   ]
  },
  {
   "cell_type": "code",
   "execution_count": null,
   "metadata": {},
   "outputs": [],
   "source": [
    "dir(workbook)"
   ]
  },
  {
   "cell_type": "code",
   "execution_count": null,
   "metadata": {},
   "outputs": [],
   "source": [
    "for row in sheet.iter_rows(min_row=1,\n",
    "                              max_row=2,\n",
    "                              min_col=6,\n",
    "                              max_col=10):\n",
    "    row = [1, 2, 3, 4, 5]"
   ]
  },
  {
   "cell_type": "code",
   "execution_count": null,
   "metadata": {},
   "outputs": [],
   "source": [
    "workbook.save(filename=\"hello_world2.xlsx\")"
   ]
  },
  {
   "cell_type": "code",
   "execution_count": null,
   "metadata": {},
   "outputs": [],
   "source": [
    "pwd"
   ]
  },
  {
   "cell_type": "code",
   "execution_count": null,
   "metadata": {},
   "outputs": [],
   "source": [
    "workbook.save(filename=\"hello_world3.xlsx\")"
   ]
  },
  {
   "cell_type": "code",
   "execution_count": null,
   "metadata": {},
   "outputs": [],
   "source": [
    "sheet[5, 5] = \"cell 5,5\""
   ]
  },
  {
   "cell_type": "code",
   "execution_count": null,
   "metadata": {},
   "outputs": [],
   "source": [
    "active_cell = Cell(sheet, row=5, column=5)"
   ]
  },
  {
   "cell_type": "code",
   "execution_count": null,
   "metadata": {},
   "outputs": [],
   "source": [
    "active_cell.value = 'set by the cell'"
   ]
  },
  {
   "cell_type": "code",
   "execution_count": null,
   "metadata": {},
   "outputs": [],
   "source": [
    "workbook.save(filename=\"hello_world4.xlsx\")"
   ]
  },
  {
   "cell_type": "code",
   "execution_count": null,
   "metadata": {},
   "outputs": [],
   "source": [
    "from openpyxl import Workbook\n",
    "from openpyxl.utils import get_column_letter\n",
    "wb = Workbook()\n",
    "dest_filename = 'empty_book.xlsx'"
   ]
  },
  {
   "cell_type": "code",
   "execution_count": 26,
   "metadata": {},
   "outputs": [
    {
     "name": "stdout",
     "output_type": "stream",
     "text": [
      "AA\n"
     ]
    }
   ],
   "source": [
    "from openpyxl import Workbook\n",
    "from openpyxl.utils import get_column_letter\n",
    "wb = Workbook()\n",
    "dest_filename = 'empty_book.xlsx'\n",
    "\n",
    "ws1 = wb.active\n",
    "ws1.title = \"range names\"\n",
    "for row in range(1, 40):\n",
    "    ws1.append(range(600))\n",
    "ws2 = wb.create_sheet(title=\"Pi\")\n",
    "ws2['F5'] = 3.14\n",
    "ws3 = wb.create_sheet(title=\"Data\")\n",
    "for row in range(10, 20):\n",
    "    for col in range(27, 54):\n",
    "        _ = ws3.cell(column=col, row=row, value=\"{0}\".format(get_column_letter(col)))\n",
    "print(ws3['AA10'].value)\n",
    "wb.save(filename = dest_filename)"
   ]
  },
  {
   "cell_type": "code",
   "execution_count": 33,
   "metadata": {},
   "outputs": [],
   "source": [
    "writer= pd.ExcelWriter('output.xlsx')\n",
    "writer.close()"
   ]
  },
  {
   "cell_type": "code",
   "execution_count": null,
   "metadata": {},
   "outputs": [],
   "source": []
  }
 ],
 "metadata": {
  "kernelspec": {
   "display_name": "Python 3",
   "language": "python",
   "name": "python3"
  },
  "language_info": {
   "codemirror_mode": {
    "name": "ipython",
    "version": 3
   },
   "file_extension": ".py",
   "mimetype": "text/x-python",
   "name": "python",
   "nbconvert_exporter": "python",
   "pygments_lexer": "ipython3",
   "version": "3.8.2"
  },
  "varInspector": {
   "cols": {
    "lenName": 16,
    "lenType": 16,
    "lenVar": 40
   },
   "kernels_config": {
    "python": {
     "delete_cmd_postfix": "",
     "delete_cmd_prefix": "del ",
     "library": "var_list.py",
     "varRefreshCmd": "print(var_dic_list())"
    },
    "r": {
     "delete_cmd_postfix": ") ",
     "delete_cmd_prefix": "rm(",
     "library": "var_list.r",
     "varRefreshCmd": "cat(var_dic_list()) "
    }
   },
   "types_to_exclude": [
    "module",
    "function",
    "builtin_function_or_method",
    "instance",
    "_Feature"
   ],
   "window_display": false
  }
 },
 "nbformat": 4,
 "nbformat_minor": 4
}
