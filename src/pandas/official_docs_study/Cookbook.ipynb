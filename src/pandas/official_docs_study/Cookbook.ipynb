{
 "cells": [
  {
   "cell_type": "code",
   "execution_count": 1,
   "metadata": {},
   "outputs": [],
   "source": [
    "# Pandas Web User Guide Follow along\n",
    "# Cookbook\n",
    "\n",
    "# https://pandas.pydata.org/docs/user_guide/cookbook.html\n",
    "\n",
    "# Created 12/05/20\n",
    "\n",
    "%matplotlib notebook\n",
    "\n",
    "import pandas as pd\n",
    "import numpy as np\n",
    "import matplotlib.pyplot as plt\n",
    "from io import StringIO\n",
    "import datetime\n",
    "\n",
    "# How interactive you want is discussed:\n",
    "# https://ipython.readthedocs.io/en/stable/config/options/terminal.html\n",
    "# Options are: 'all', 'last', 'last_expr', 'none', 'last_expr_or_assign'\n",
    "# Default is: 'last_expr'\n",
    "\n",
    "from IPython.core.interactiveshell import InteractiveShell\n",
    "# InteractiveShell.ast_node_interactivity I can only get last_expr_or_assign to work\n",
    "InteractiveShell.ast_node_interactivity = \"last_expr_or_assign\""
   ]
  },
  {
   "cell_type": "code",
   "execution_count": 2,
   "metadata": {},
   "outputs": [],
   "source": [
    "def diag(*args):\n",
    "    \"\"\"Pandas diagnostics\"\"\"\n",
    "    \n",
    "    for i in args:\n",
    "        \n",
    "        if isinstance(i, pd.core.frame.DataFrame):\n",
    "            print(i.info())\n",
    "            display(i)\n",
    "        else:\n",
    "            print(f'{\"-\"*40}')\n",
    "            print(f'Type: {type(i)}')\n",
    "\n",
    "            try:\n",
    "                print(f'Length: {len(i)}')\n",
    "            except:\n",
    "                pass\n",
    "\n",
    "            try:\n",
    "                print(i.info())\n",
    "            except:\n",
    "                pass\n",
    "\n",
    "            try:\n",
    "                display(i)\n",
    "            except:\n",
    "                print(i)\n",
    "                \n",
    "z = diag\n",
    "d = display;"
   ]
  },
  {
   "cell_type": "code",
   "execution_count": 3,
   "metadata": {},
   "outputs": [],
   "source": [
    "def read_df(text):\n",
    "    \"\"\"Create a pandas dataframe from a string of a dataframe\n",
    "    copied from the pandas website tutorial.\"\"\"\n",
    "    lines = text.split('\\n')\n",
    "    cols = lines[0].split()\n",
    "    index, array = [], []\n",
    "    for line in lines[1:]:\n",
    "        vals = line.split()\n",
    "        index.append(vals[0])\n",
    "        array.append(vals[1:])\n",
    "#     print(cols)\n",
    "#     print(index)\n",
    "#     print(array)\n",
    "    df = pd.DataFrame(array, index=index, columns=cols)\n",
    "    return df"
   ]
  },
  {
   "cell_type": "code",
   "execution_count": 4,
   "metadata": {},
   "outputs": [],
   "source": [
    "np.random.seed(123456)"
   ]
  },
  {
   "cell_type": "code",
   "execution_count": null,
   "metadata": {},
   "outputs": [],
   "source": []
  }
 ],
 "metadata": {
  "kernelspec": {
   "display_name": "Python 3",
   "language": "python",
   "name": "python3"
  },
  "language_info": {
   "codemirror_mode": {
    "name": "ipython",
    "version": 3
   },
   "file_extension": ".py",
   "mimetype": "text/x-python",
   "name": "python",
   "nbconvert_exporter": "python",
   "pygments_lexer": "ipython3",
   "version": "3.8.2"
  },
  "varInspector": {
   "cols": {
    "lenName": 16,
    "lenType": 16,
    "lenVar": 40
   },
   "kernels_config": {
    "python": {
     "delete_cmd_postfix": "",
     "delete_cmd_prefix": "del ",
     "library": "var_list.py",
     "varRefreshCmd": "print(var_dic_list())"
    },
    "r": {
     "delete_cmd_postfix": ") ",
     "delete_cmd_prefix": "rm(",
     "library": "var_list.r",
     "varRefreshCmd": "cat(var_dic_list()) "
    }
   },
   "types_to_exclude": [
    "module",
    "function",
    "builtin_function_or_method",
    "instance",
    "_Feature"
   ],
   "window_display": false
  }
 },
 "nbformat": 4,
 "nbformat_minor": 4
}
