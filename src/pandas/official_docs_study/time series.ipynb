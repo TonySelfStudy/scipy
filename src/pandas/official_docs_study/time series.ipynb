{
 "cells": [
  {
   "cell_type": "code",
   "execution_count": 1,
   "metadata": {},
   "outputs": [],
   "source": [
    "# Pandas Web User Guide Follow along\n",
    "# Time Series and Time Deltas\n",
    "# https://pandas.pydata.org/docs/user_guide/timeseries.html\n",
    "# Created 11/29/20\n",
    "\n",
    "%matplotlib notebook\n",
    "\n",
    "import pandas as pd\n",
    "import numpy as np\n",
    "import matplotlib.pyplot as plt\n",
    "from io import StringIO\n",
    "import datetime\n",
    "\n",
    "# How interactive you want is discussed:\n",
    "# https://ipython.readthedocs.io/en/stable/config/options/terminal.html\n",
    "# Options are: 'all', 'last', 'last_expr', 'none', 'last_expr_or_assign'\n",
    "# Default is: 'last_expr'\n",
    "\n",
    "from IPython.core.interactiveshell import InteractiveShell\n",
    "# InteractiveShell.ast_node_interactivity I can only get last_expr_or_assign to work\n",
    "InteractiveShell.ast_node_interactivity = \"last_expr_or_assign\""
   ]
  },
  {
   "cell_type": "code",
   "execution_count": 2,
   "metadata": {},
   "outputs": [],
   "source": [
    "def diag(*args):\n",
    "    \"\"\"Pandas diagnostics\"\"\"\n",
    "    \n",
    "    for i in args:\n",
    "        \n",
    "        if isinstance(i, pd.core.frame.DataFrame):\n",
    "            print(i.info())\n",
    "            display(i)\n",
    "        else:\n",
    "            print(f'{\"-\"*40}')\n",
    "            print(f'Type: {type(i)}')\n",
    "\n",
    "            try:\n",
    "                print(f'Length: {len(i)}')\n",
    "            except:\n",
    "                pass\n",
    "\n",
    "            try:\n",
    "                print(i.info())\n",
    "            except:\n",
    "                pass\n",
    "\n",
    "            try:\n",
    "                display(i)\n",
    "            except:\n",
    "                print(i)\n",
    "                \n",
    "z = diag\n",
    "d = display;"
   ]
  },
  {
   "cell_type": "code",
   "execution_count": 3,
   "metadata": {},
   "outputs": [],
   "source": [
    "def read_df(text):\n",
    "    \"\"\"Create a pandas dataframe from a string of a dataframe\n",
    "    copied from the pandas website tutorial.\"\"\"\n",
    "    lines = text.split('\\n')\n",
    "    cols = lines[0].split()\n",
    "    index, array = [], []\n",
    "    for line in lines[1:]:\n",
    "        vals = line.split()\n",
    "        index.append(vals[0])\n",
    "        array.append(vals[1:])\n",
    "#     print(cols)\n",
    "#     print(index)\n",
    "#     print(array)\n",
    "    df = pd.DataFrame(array, index=index, columns=cols)\n",
    "    return df"
   ]
  },
  {
   "cell_type": "code",
   "execution_count": 5,
   "metadata": {},
   "outputs": [
    {
     "data": {
      "text/plain": [
       "DatetimeIndex(['2018-01-01 00:00:00', '2018-01-01 01:00:00',\n",
       "               '2018-01-01 02:00:00'],\n",
       "              dtype='datetime64[ns]', freq='H')"
      ]
     },
     "execution_count": 5,
     "metadata": {},
     "output_type": "execute_result"
    }
   ],
   "source": [
    "dti = pd.date_range('2018-01-01', periods=3, freq='H')"
   ]
  },
  {
   "cell_type": "code",
   "execution_count": 6,
   "metadata": {},
   "outputs": [
    {
     "data": {
      "text/plain": [
       "DatetimeIndex(['2018-01-01 00:00:00+00:00', '2018-01-01 01:00:00+00:00',\n",
       "               '2018-01-01 02:00:00+00:00'],\n",
       "              dtype='datetime64[ns, UTC]', freq='H')"
      ]
     },
     "execution_count": 6,
     "metadata": {},
     "output_type": "execute_result"
    }
   ],
   "source": [
    "dti = dti.tz_localize('UTC')"
   ]
  },
  {
   "cell_type": "code",
   "execution_count": 7,
   "metadata": {},
   "outputs": [
    {
     "data": {
      "text/plain": [
       "0    2011-01\n",
       "1    2011-02\n",
       "2    2011-03\n",
       "dtype: period[M]"
      ]
     },
     "execution_count": 7,
     "metadata": {},
     "output_type": "execute_result"
    }
   ],
   "source": [
    "pd.Series(pd.period_range('1/1/2011', freq='M', periods=3))"
   ]
  },
  {
   "cell_type": "code",
   "execution_count": 8,
   "metadata": {},
   "outputs": [
    {
     "data": {
      "text/plain": [
       "0    2011-01\n",
       "1    2011-02\n",
       "2    2011-03\n",
       "dtype: period[M]"
      ]
     },
     "execution_count": 8,
     "metadata": {},
     "output_type": "execute_result"
    }
   ],
   "source": [
    "pd.Series(pd.period_range('1/1/2011', freq='M', periods=3))"
   ]
  },
  {
   "cell_type": "code",
   "execution_count": 12,
   "metadata": {},
   "outputs": [
    {
     "data": {
      "text/plain": [
       "0         <DateOffset>\n",
       "1    <2 * DateOffsets>\n",
       "2    <4 * DateOffsets>\n",
       "dtype: object"
      ]
     },
     "execution_count": 12,
     "metadata": {},
     "output_type": "execute_result"
    }
   ],
   "source": [
    "pd.Series([pd.DateOffset(1), pd.DateOffset(2), pd.DateOffset(4.0)])"
   ]
  },
  {
   "cell_type": "code",
   "execution_count": 15,
   "metadata": {},
   "outputs": [
    {
     "data": {
      "text/plain": [
       "0   2011-01-31\n",
       "1   2011-02-28\n",
       "2   2011-03-31\n",
       "3   2011-04-30\n",
       "4   2011-05-31\n",
       "5   2011-06-30\n",
       "6   2011-07-31\n",
       "7   2011-08-31\n",
       "dtype: datetime64[ns]"
      ]
     },
     "execution_count": 15,
     "metadata": {},
     "output_type": "execute_result"
    }
   ],
   "source": [
    "pd.Series(pd.date_range(start='1/1/2011', freq='M', periods=8))"
   ]
  },
  {
   "cell_type": "code",
   "execution_count": 16,
   "metadata": {},
   "outputs": [
    {
     "data": {
      "text/plain": [
       "True"
      ]
     },
     "execution_count": 16,
     "metadata": {},
     "output_type": "execute_result"
    }
   ],
   "source": [
    "pd.NaT is pd.NaT"
   ]
  },
  {
   "cell_type": "code",
   "execution_count": 18,
   "metadata": {},
   "outputs": [
    {
     "data": {
      "text/plain": [
       "False"
      ]
     },
     "execution_count": 18,
     "metadata": {},
     "output_type": "execute_result"
    }
   ],
   "source": [
    "pd.NaT is pd.NA"
   ]
  },
  {
   "cell_type": "code",
   "execution_count": 19,
   "metadata": {},
   "outputs": [
    {
     "data": {
      "text/plain": [
       "True"
      ]
     },
     "execution_count": 19,
     "metadata": {},
     "output_type": "execute_result"
    }
   ],
   "source": [
    "pd.NaT is pd.NaT"
   ]
  },
  {
   "cell_type": "code",
   "execution_count": 20,
   "metadata": {},
   "outputs": [
    {
     "data": {
      "text/plain": [
       "False"
      ]
     },
     "execution_count": 20,
     "metadata": {},
     "output_type": "execute_result"
    }
   ],
   "source": [
    "pd.NA is np.nan"
   ]
  },
  {
   "cell_type": "code",
   "execution_count": 21,
   "metadata": {},
   "outputs": [
    {
     "data": {
      "text/plain": [
       "[Timestamp('2012-05-01 00:00:00'),\n",
       " Timestamp('2012-05-02 00:00:00'),\n",
       " Timestamp('2012-05-03 00:00:00')]"
      ]
     },
     "execution_count": 21,
     "metadata": {},
     "output_type": "execute_result"
    }
   ],
   "source": [
    "dates = [pd.Timestamp('2012-05-01'),\n",
    "         pd.Timestamp('2012-05-02'),\n",
    "         pd.Timestamp('2012-05-03')]"
   ]
  },
  {
   "cell_type": "code",
   "execution_count": 23,
   "metadata": {},
   "outputs": [
    {
     "name": "stdout",
     "output_type": "stream",
     "text": [
      "----------------------------------------\n",
      "Type: <class 'pandas.core.indexes.datetimes.DatetimeIndex'>\n",
      "Length: 3\n"
     ]
    },
    {
     "data": {
      "text/plain": [
       "DatetimeIndex(['2012-05-01', '2012-05-02', '2012-05-03'], dtype='datetime64[ns]', freq=None)"
      ]
     },
     "metadata": {},
     "output_type": "display_data"
    },
    {
     "name": "stdout",
     "output_type": "stream",
     "text": [
      "----------------------------------------\n",
      "Type: <class 'pandas.core.series.Series'>\n",
      "Length: 3\n"
     ]
    },
    {
     "data": {
      "text/plain": [
       "2012-05-01    0.605450\n",
       "2012-05-02   -0.245871\n",
       "2012-05-03    1.631007\n",
       "dtype: float64"
      ]
     },
     "metadata": {},
     "output_type": "display_data"
    }
   ],
   "source": [
    "ts = pd.Series(np.random.randn(3), dates)\n",
    "z(ts.index, ts)"
   ]
  },
  {
   "cell_type": "code",
   "execution_count": 136,
   "metadata": {},
   "outputs": [
    {
     "name": "stdout",
     "output_type": "stream",
     "text": [
      "----------------------------------------\n",
      "Type: <class 'pandas.core.indexes.period.PeriodIndex'>\n",
      "Length: 3\n"
     ]
    },
    {
     "data": {
      "text/plain": [
       "PeriodIndex(['2012-01', '2012-02', '2012-03'], dtype='period[M]', freq='M')"
      ]
     },
     "metadata": {},
     "output_type": "display_data"
    },
    {
     "name": "stdout",
     "output_type": "stream",
     "text": [
      "----------------------------------------\n",
      "Type: <class 'pandas.core.series.Series'>\n",
      "Length: 3\n"
     ]
    },
    {
     "data": {
      "text/plain": [
       "2012-01   -1.971659\n",
       "2012-02   -0.659482\n",
       "2012-03   -1.224457\n",
       "Freq: M, dtype: float64"
      ]
     },
     "metadata": {},
     "output_type": "display_data"
    }
   ],
   "source": [
    "periods = [pd.Period('2012-01'), pd.Period('2012-02'), pd.Period('2012-03')]\n",
    "ts = pd.Series(np.random.randn(3), periods)\n",
    "z(ts.index, ts)"
   ]
  },
  {
   "cell_type": "code",
   "execution_count": 25,
   "metadata": {},
   "outputs": [
    {
     "data": {
      "text/plain": [
       "0   2009-07-31\n",
       "1   2010-01-10\n",
       "2          NaT\n",
       "dtype: datetime64[ns]"
      ]
     },
     "execution_count": 25,
     "metadata": {},
     "output_type": "execute_result"
    }
   ],
   "source": [
    "pd.to_datetime(pd.Series(['Jul 31, 2009', '2010-01-10', None]))"
   ]
  },
  {
   "cell_type": "code",
   "execution_count": 26,
   "metadata": {},
   "outputs": [
    {
     "data": {
      "text/plain": [
       "DatetimeIndex(['2005-11-23', '2010-12-31'], dtype='datetime64[ns]', freq=None)"
      ]
     },
     "execution_count": 26,
     "metadata": {},
     "output_type": "execute_result"
    }
   ],
   "source": [
    "pd.to_datetime(['2005/11/23', '2010.12.31'])"
   ]
  },
  {
   "cell_type": "code",
   "execution_count": 137,
   "metadata": {},
   "outputs": [
    {
     "data": {
      "text/html": [
       "<div>\n",
       "<style scoped>\n",
       "    .dataframe tbody tr th:only-of-type {\n",
       "        vertical-align: middle;\n",
       "    }\n",
       "\n",
       "    .dataframe tbody tr th {\n",
       "        vertical-align: top;\n",
       "    }\n",
       "\n",
       "    .dataframe thead th {\n",
       "        text-align: right;\n",
       "    }\n",
       "</style>\n",
       "<table border=\"1\" class=\"dataframe\">\n",
       "  <thead>\n",
       "    <tr style=\"text-align: right;\">\n",
       "      <th></th>\n",
       "      <th>year</th>\n",
       "      <th>month</th>\n",
       "      <th>day</th>\n",
       "      <th>hour</th>\n",
       "    </tr>\n",
       "  </thead>\n",
       "  <tbody>\n",
       "    <tr>\n",
       "      <th>0</th>\n",
       "      <td>2015</td>\n",
       "      <td>2</td>\n",
       "      <td>4</td>\n",
       "      <td>2</td>\n",
       "    </tr>\n",
       "    <tr>\n",
       "      <th>1</th>\n",
       "      <td>2016</td>\n",
       "      <td>3</td>\n",
       "      <td>5</td>\n",
       "      <td>3</td>\n",
       "    </tr>\n",
       "  </tbody>\n",
       "</table>\n",
       "</div>"
      ],
      "text/plain": [
       "   year  month  day  hour\n",
       "0  2015      2    4     2\n",
       "1  2016      3    5     3"
      ]
     },
     "execution_count": 137,
     "metadata": {},
     "output_type": "execute_result"
    }
   ],
   "source": [
    "df = pd.DataFrame({'year': [2015, 2016],\n",
    "   ....:                    'month': [2, 3],\n",
    "   ....:                    'day': [4, 5],\n",
    "   ....:                    'hour': [2, 3]})"
   ]
  },
  {
   "cell_type": "code",
   "execution_count": 139,
   "metadata": {},
   "outputs": [
    {
     "name": "stdout",
     "output_type": "stream",
     "text": [
      "----------------------------------------\n",
      "Type: <class 'pandas.core.series.Series'>\n",
      "Length: 2\n"
     ]
    },
    {
     "data": {
      "text/plain": [
       "0   2015-02-04 02:00:00\n",
       "1   2016-03-05 03:00:00\n",
       "dtype: datetime64[ns]"
      ]
     },
     "metadata": {},
     "output_type": "display_data"
    },
    {
     "name": "stdout",
     "output_type": "stream",
     "text": [
      "----------------------------------------\n",
      "Type: <class 'numpy.dtype'>\n",
      "Length: 0\n"
     ]
    },
    {
     "data": {
      "text/plain": [
       "dtype('<M8[ns]')"
      ]
     },
     "metadata": {},
     "output_type": "display_data"
    }
   ],
   "source": [
    "df2 = pd.to_datetime(df)\n",
    "z(df2, df2.dtypes, )"
   ]
  },
  {
   "cell_type": "code",
   "execution_count": 29,
   "metadata": {},
   "outputs": [
    {
     "data": {
      "text/plain": [
       "DatetimeIndex(['2012-10-08 18:15:05', '2012-10-09 18:15:05',\n",
       "               '2012-10-10 18:15:05', '2012-10-11 18:15:05',\n",
       "               '2012-10-12 18:15:05'],\n",
       "              dtype='datetime64[ns]', freq=None)"
      ]
     },
     "execution_count": 29,
     "metadata": {},
     "output_type": "execute_result"
    }
   ],
   "source": [
    "pd.to_datetime([1349720105, 1349806505, 1349892905,\n",
    "   ....:                 1349979305, 1350065705], unit='s')"
   ]
  },
  {
   "cell_type": "code",
   "execution_count": 30,
   "metadata": {},
   "outputs": [
    {
     "data": {
      "text/plain": [
       "DatetimeIndex(['1970-01-16 14:55:20.105000', '1970-01-16 14:56:46.505000',\n",
       "               '1970-01-16 14:58:12.905000', '1970-01-16 14:59:39.305000',\n",
       "               '1970-01-16 15:01:05.705000'],\n",
       "              dtype='datetime64[ns]', freq=None)"
      ]
     },
     "execution_count": 30,
     "metadata": {},
     "output_type": "execute_result"
    }
   ],
   "source": [
    "pd.to_datetime([1349720105, 1349806505, 1349892905,\n",
    "   ....:                 1349979305, 1350065705], unit='ms')"
   ]
  },
  {
   "cell_type": "code",
   "execution_count": 140,
   "metadata": {},
   "outputs": [
    {
     "data": {
      "text/plain": [
       "DatetimeIndex(['2012-10-08 18:15:05', '2012-10-09 18:15:05',\n",
       "               '2012-10-10 18:15:05', '2012-10-11 18:15:05'],\n",
       "              dtype='datetime64[ns]', freq='D')"
      ]
     },
     "execution_count": 140,
     "metadata": {},
     "output_type": "execute_result"
    }
   ],
   "source": [
    "stamps = pd.date_range('2012-10-08 18:15:05', periods=4, freq='D')"
   ]
  },
  {
   "cell_type": "code",
   "execution_count": 142,
   "metadata": {},
   "outputs": [
    {
     "name": "stdout",
     "output_type": "stream",
     "text": [
      "----------------------------------------\n",
      "Type: <class 'pandas.core.indexes.timedeltas.TimedeltaIndex'>\n",
      "Length: 4\n"
     ]
    },
    {
     "data": {
      "text/plain": [
       "TimedeltaIndex(['15621 days 18:15:05', '15622 days 18:15:05',\n",
       "                '15623 days 18:15:05', '15624 days 18:15:05'],\n",
       "               dtype='timedelta64[ns]', freq=None)"
      ]
     },
     "metadata": {},
     "output_type": "display_data"
    },
    {
     "name": "stdout",
     "output_type": "stream",
     "text": [
      "----------------------------------------\n",
      "Type: <class 'pandas.core.indexes.numeric.Int64Index'>\n",
      "Length: 4\n"
     ]
    },
    {
     "data": {
      "text/plain": [
       "Int64Index([1349720105, 1349806505, 1349892905, 1349979305], dtype='int64')"
      ]
     },
     "metadata": {},
     "output_type": "display_data"
    }
   ],
   "source": [
    "a = stamps - pd.Timestamp(\"1970-01-01\")\n",
    "b = a // pd.Timedelta('1s')\n",
    "z(a, b)"
   ]
  },
  {
   "cell_type": "code",
   "execution_count": null,
   "metadata": {},
   "outputs": [],
   "source": []
  },
  {
   "cell_type": "code",
   "execution_count": 37,
   "metadata": {},
   "outputs": [
    {
     "data": {
      "text/plain": [
       "DatetimeIndex(['1700-01-02', '1700-01-03', '1700-01-04'], dtype='datetime64[ns]', freq=None)"
      ]
     },
     "execution_count": 37,
     "metadata": {},
     "output_type": "execute_result"
    }
   ],
   "source": [
    "pd.to_datetime([1, 2, 3], unit='D', origin=pd.Timestamp('1700-01-01'))"
   ]
  },
  {
   "cell_type": "code",
   "execution_count": 143,
   "metadata": {},
   "outputs": [
    {
     "data": {
      "text/plain": [
       "DatetimeIndex(['2011-01-01', '2011-01-02', '2011-01-03', '2011-01-04',\n",
       "               '2011-01-05', '2011-01-06', '2011-01-07', '2011-01-08',\n",
       "               '2011-01-09', '2011-01-10',\n",
       "               ...\n",
       "               '2011-12-23', '2011-12-24', '2011-12-25', '2011-12-26',\n",
       "               '2011-12-27', '2011-12-28', '2011-12-29', '2011-12-30',\n",
       "               '2011-12-31', '2012-01-01'],\n",
       "              dtype='datetime64[ns]', length=366, freq='D')"
      ]
     },
     "execution_count": 143,
     "metadata": {},
     "output_type": "execute_result"
    }
   ],
   "source": [
    "start = datetime.datetime(2011, 1, 1)\n",
    "end = datetime.datetime(2012, 1, 1)\n",
    "index = pd.date_range(start, end)"
   ]
  },
  {
   "cell_type": "code",
   "execution_count": 144,
   "metadata": {},
   "outputs": [
    {
     "name": "stdout",
     "output_type": "stream",
     "text": [
      "----------------------------------------\n",
      "Type: <class 'pandas.core.indexes.datetimes.DatetimeIndex'>\n",
      "Length: 1000\n"
     ]
    },
    {
     "data": {
      "text/plain": [
       "DatetimeIndex(['2011-01-31', '2011-02-28', '2011-03-31', '2011-04-30',\n",
       "               '2011-05-31', '2011-06-30', '2011-07-31', '2011-08-31',\n",
       "               '2011-09-30', '2011-10-31',\n",
       "               ...\n",
       "               '2093-07-31', '2093-08-31', '2093-09-30', '2093-10-31',\n",
       "               '2093-11-30', '2093-12-31', '2094-01-31', '2094-02-28',\n",
       "               '2094-03-31', '2094-04-30'],\n",
       "              dtype='datetime64[ns]', length=1000, freq='M')"
      ]
     },
     "metadata": {},
     "output_type": "display_data"
    },
    {
     "name": "stdout",
     "output_type": "stream",
     "text": [
      "----------------------------------------\n",
      "Type: <class 'pandas.core.indexes.datetimes.DatetimeIndex'>\n",
      "Length: 1000\n"
     ]
    },
    {
     "data": {
      "text/plain": [
       "DatetimeIndex(['2011-01-01', '2011-02-01', '2011-03-01', '2011-04-01',\n",
       "               '2011-05-01', '2011-06-01', '2011-07-01', '2011-08-01',\n",
       "               '2011-09-01', '2011-10-01',\n",
       "               ...\n",
       "               '2093-07-01', '2093-08-01', '2093-09-01', '2093-10-01',\n",
       "               '2093-11-01', '2093-12-01', '2094-01-01', '2094-02-01',\n",
       "               '2094-03-01', '2094-04-01'],\n",
       "              dtype='datetime64[ns]', length=1000, freq='MS')"
      ]
     },
     "metadata": {},
     "output_type": "display_data"
    }
   ],
   "source": [
    "a = pd.date_range(start, periods=1000, freq='M')\n",
    "b = pd.date_range(start, periods=1000, freq='MS')\n",
    "z(a, b)"
   ]
  },
  {
   "cell_type": "code",
   "execution_count": 42,
   "metadata": {},
   "outputs": [
    {
     "data": {
      "text/plain": [
       "DatetimeIndex(['2018-01-01', '2018-01-02', '2018-01-03', '2018-01-04',\n",
       "               '2018-01-05'],\n",
       "              dtype='datetime64[ns]', freq=None)"
      ]
     },
     "execution_count": 42,
     "metadata": {},
     "output_type": "execute_result"
    }
   ],
   "source": [
    "pd.date_range('2018-01-01', '2018-01-05', periods=5)"
   ]
  },
  {
   "cell_type": "code",
   "execution_count": 43,
   "metadata": {},
   "outputs": [
    {
     "data": {
      "text/plain": [
       "DatetimeIndex(['2018-01-01 00:00:00', '2018-01-01 10:40:00',\n",
       "               '2018-01-01 21:20:00', '2018-01-02 08:00:00',\n",
       "               '2018-01-02 18:40:00', '2018-01-03 05:20:00',\n",
       "               '2018-01-03 16:00:00', '2018-01-04 02:40:00',\n",
       "               '2018-01-04 13:20:00', '2018-01-05 00:00:00'],\n",
       "              dtype='datetime64[ns]', freq=None)"
      ]
     },
     "execution_count": 43,
     "metadata": {},
     "output_type": "execute_result"
    }
   ],
   "source": [
    "pd.date_range('2018-01-01', '2018-01-05', periods=10)"
   ]
  },
  {
   "cell_type": "code",
   "execution_count": 44,
   "metadata": {},
   "outputs": [
    {
     "data": {
      "text/plain": [
       "DatetimeIndex(['2011-01-31', '2011-02-28', '2011-03-31', '2011-04-29',\n",
       "               '2011-05-31', '2011-06-30', '2011-07-29', '2011-08-31',\n",
       "               '2011-09-30', '2011-10-31', '2011-11-30', '2011-12-30'],\n",
       "              dtype='datetime64[ns]', freq='BM')"
      ]
     },
     "execution_count": 44,
     "metadata": {},
     "output_type": "execute_result"
    }
   ],
   "source": [
    "rng = pd.date_range(start, end, freq='BM')"
   ]
  },
  {
   "cell_type": "code",
   "execution_count": 145,
   "metadata": {},
   "outputs": [
    {
     "data": {
      "text/plain": [
       "DatetimeIndex(['2011-01-02', '2011-01-09', '2011-01-16', '2011-01-23',\n",
       "               '2011-01-30', '2011-02-06', '2011-02-13', '2011-02-20',\n",
       "               '2011-02-27', '2011-03-06', '2011-03-13', '2011-03-20',\n",
       "               '2011-03-27', '2011-04-03', '2011-04-10', '2011-04-17',\n",
       "               '2011-04-24', '2011-05-01', '2011-05-08', '2011-05-15',\n",
       "               '2011-05-22', '2011-05-29', '2011-06-05', '2011-06-12',\n",
       "               '2011-06-19', '2011-06-26', '2011-07-03', '2011-07-10',\n",
       "               '2011-07-17', '2011-07-24', '2011-07-31', '2011-08-07',\n",
       "               '2011-08-14', '2011-08-21', '2011-08-28', '2011-09-04',\n",
       "               '2011-09-11', '2011-09-18', '2011-09-25', '2011-10-02',\n",
       "               '2011-10-09', '2011-10-16', '2011-10-23', '2011-10-30',\n",
       "               '2011-11-06', '2011-11-13', '2011-11-20', '2011-11-27',\n",
       "               '2011-12-04', '2011-12-11', '2011-12-18', '2011-12-25',\n",
       "               '2012-01-01'],\n",
       "              dtype='datetime64[ns]', freq='W-SUN')"
      ]
     },
     "execution_count": 145,
     "metadata": {},
     "output_type": "execute_result"
    }
   ],
   "source": [
    "pd.date_range(start, end, freq='W')"
   ]
  },
  {
   "cell_type": "code",
   "execution_count": 147,
   "metadata": {},
   "outputs": [
    {
     "data": {
      "text/plain": [
       "DatetimeIndex(['2011-01-03', '2011-01-10', '2011-01-17', '2011-01-24',\n",
       "               '2011-01-31', '2011-02-07', '2011-02-14', '2011-02-21',\n",
       "               '2011-02-28', '2011-03-07', '2011-03-14', '2011-03-21',\n",
       "               '2011-03-28', '2011-04-04', '2011-04-11', '2011-04-18',\n",
       "               '2011-04-25', '2011-05-02', '2011-05-09', '2011-05-16',\n",
       "               '2011-05-23', '2011-05-30', '2011-06-06', '2011-06-13',\n",
       "               '2011-06-20', '2011-06-27', '2011-07-04', '2011-07-11',\n",
       "               '2011-07-18', '2011-07-25', '2011-08-01', '2011-08-08',\n",
       "               '2011-08-15', '2011-08-22', '2011-08-29', '2011-09-05',\n",
       "               '2011-09-12', '2011-09-19', '2011-09-26', '2011-10-03',\n",
       "               '2011-10-10', '2011-10-17', '2011-10-24', '2011-10-31',\n",
       "               '2011-11-07', '2011-11-14', '2011-11-21', '2011-11-28',\n",
       "               '2011-12-05', '2011-12-12', '2011-12-19', '2011-12-26'],\n",
       "              dtype='datetime64[ns]', freq='W-MON')"
      ]
     },
     "execution_count": 147,
     "metadata": {},
     "output_type": "execute_result"
    }
   ],
   "source": [
    "a = pd.date_range(start, end, freq='W-MON')"
   ]
  },
  {
   "cell_type": "code",
   "execution_count": 150,
   "metadata": {},
   "outputs": [
    {
     "data": {
      "text/plain": [
       "Int64Index([ 1,  1,  1,  1,  1,  2,  2,  2,  2,  3,  3,  3,  3,  4,  4,  4,  4,\n",
       "             5,  5,  5,  5,  5,  6,  6,  6,  6,  7,  7,  7,  7,  8,  8,  8,  8,\n",
       "             8,  9,  9,  9,  9, 10, 10, 10, 10, 10, 11, 11, 11, 11, 12, 12, 12,\n",
       "            12],\n",
       "           dtype='int64')"
      ]
     },
     "execution_count": 150,
     "metadata": {},
     "output_type": "execute_result"
    }
   ],
   "source": [
    "a.month"
   ]
  },
  {
   "cell_type": "code",
   "execution_count": 156,
   "metadata": {},
   "outputs": [
    {
     "data": {
      "text/plain": [
       "'day'"
      ]
     },
     "execution_count": 156,
     "metadata": {},
     "output_type": "execute_result"
    }
   ],
   "source": [
    "a = pd.bdate_range(start=start, periods=20, freq='BMS')\n",
    "a.resolution"
   ]
  },
  {
   "cell_type": "code",
   "execution_count": 45,
   "metadata": {},
   "outputs": [
    {
     "data": {
      "text/plain": [
       "2011-01-31    0.469248\n",
       "2011-02-28    0.353420\n",
       "2011-03-31   -0.255962\n",
       "2011-04-29    1.542482\n",
       "2011-05-31   -0.137880\n",
       "2011-06-30   -0.975482\n",
       "2011-07-29   -1.575433\n",
       "2011-08-31   -1.561767\n",
       "2011-09-30    1.059957\n",
       "2011-10-31   -0.392001\n",
       "2011-11-30    0.811126\n",
       "2011-12-30   -0.219556\n",
       "Freq: BM, dtype: float64"
      ]
     },
     "execution_count": 45,
     "metadata": {},
     "output_type": "execute_result"
    }
   ],
   "source": [
    "ts = pd.Series(np.random.randn(len(rng)), index=rng)"
   ]
  },
  {
   "cell_type": "code",
   "execution_count": 46,
   "metadata": {},
   "outputs": [
    {
     "data": {
      "text/plain": [
       "2011-01-31    0.469248\n",
       "2011-03-31   -0.255962\n",
       "2011-05-31   -0.137880\n",
       "2011-07-29   -1.575433\n",
       "2011-09-30    1.059957\n",
       "2011-11-30    0.811126\n",
       "Freq: 2BM, dtype: float64"
      ]
     },
     "execution_count": 46,
     "metadata": {},
     "output_type": "execute_result"
    }
   ],
   "source": [
    "ts[::2]"
   ]
  },
  {
   "cell_type": "code",
   "execution_count": 161,
   "metadata": {},
   "outputs": [
    {
     "name": "stdout",
     "output_type": "stream",
     "text": [
      "----------------------------------------\n",
      "Type: <class 'str'>\n",
      "Length: 6\n"
     ]
    },
    {
     "data": {
      "text/plain": [
       "'minute'"
      ]
     },
     "metadata": {},
     "output_type": "display_data"
    },
    {
     "name": "stdout",
     "output_type": "stream",
     "text": [
      "----------------------------------------\n",
      "Type: <class 'pandas._libs.tslibs.offsets.Minute'>\n"
     ]
    },
    {
     "data": {
      "text/plain": [
       "<Minute>"
      ]
     },
     "metadata": {},
     "output_type": "display_data"
    }
   ],
   "source": [
    "dft = pd.DataFrame(np.random.randn(100000, 1), columns=['A'],\n",
    "                  index=pd.date_range('20130101', periods=100000, freq='T'))\n",
    "z(dft.index.resolution)\n",
    "z(dft.index.freq)"
   ]
  },
  {
   "cell_type": "code",
   "execution_count": 48,
   "metadata": {},
   "outputs": [
    {
     "data": {
      "text/html": [
       "<div>\n",
       "<style scoped>\n",
       "    .dataframe tbody tr th:only-of-type {\n",
       "        vertical-align: middle;\n",
       "    }\n",
       "\n",
       "    .dataframe tbody tr th {\n",
       "        vertical-align: top;\n",
       "    }\n",
       "\n",
       "    .dataframe thead th {\n",
       "        text-align: right;\n",
       "    }\n",
       "</style>\n",
       "<table border=\"1\" class=\"dataframe\">\n",
       "  <thead>\n",
       "    <tr style=\"text-align: right;\">\n",
       "      <th></th>\n",
       "      <th>A</th>\n",
       "    </tr>\n",
       "  </thead>\n",
       "  <tbody>\n",
       "    <tr>\n",
       "      <th>2013-01-01 00:00:00</th>\n",
       "      <td>-0.188308</td>\n",
       "    </tr>\n",
       "    <tr>\n",
       "      <th>2013-01-01 00:01:00</th>\n",
       "      <td>-0.908766</td>\n",
       "    </tr>\n",
       "    <tr>\n",
       "      <th>2013-01-01 00:02:00</th>\n",
       "      <td>3.289080</td>\n",
       "    </tr>\n",
       "    <tr>\n",
       "      <th>2013-01-01 00:03:00</th>\n",
       "      <td>1.546936</td>\n",
       "    </tr>\n",
       "    <tr>\n",
       "      <th>2013-01-01 00:04:00</th>\n",
       "      <td>-0.481675</td>\n",
       "    </tr>\n",
       "    <tr>\n",
       "      <th>...</th>\n",
       "      <td>...</td>\n",
       "    </tr>\n",
       "    <tr>\n",
       "      <th>2013-03-11 10:35:00</th>\n",
       "      <td>-0.467292</td>\n",
       "    </tr>\n",
       "    <tr>\n",
       "      <th>2013-03-11 10:36:00</th>\n",
       "      <td>-0.777721</td>\n",
       "    </tr>\n",
       "    <tr>\n",
       "      <th>2013-03-11 10:37:00</th>\n",
       "      <td>0.187142</td>\n",
       "    </tr>\n",
       "    <tr>\n",
       "      <th>2013-03-11 10:38:00</th>\n",
       "      <td>-2.921198</td>\n",
       "    </tr>\n",
       "    <tr>\n",
       "      <th>2013-03-11 10:39:00</th>\n",
       "      <td>-2.400136</td>\n",
       "    </tr>\n",
       "  </tbody>\n",
       "</table>\n",
       "<p>100000 rows × 1 columns</p>\n",
       "</div>"
      ],
      "text/plain": [
       "                            A\n",
       "2013-01-01 00:00:00 -0.188308\n",
       "2013-01-01 00:01:00 -0.908766\n",
       "2013-01-01 00:02:00  3.289080\n",
       "2013-01-01 00:03:00  1.546936\n",
       "2013-01-01 00:04:00 -0.481675\n",
       "...                       ...\n",
       "2013-03-11 10:35:00 -0.467292\n",
       "2013-03-11 10:36:00 -0.777721\n",
       "2013-03-11 10:37:00  0.187142\n",
       "2013-03-11 10:38:00 -2.921198\n",
       "2013-03-11 10:39:00 -2.400136\n",
       "\n",
       "[100000 rows x 1 columns]"
      ]
     },
     "execution_count": 48,
     "metadata": {},
     "output_type": "execute_result"
    }
   ],
   "source": [
    "dft['2013']"
   ]
  },
  {
   "cell_type": "code",
   "execution_count": 154,
   "metadata": {},
   "outputs": [
    {
     "name": "stdout",
     "output_type": "stream",
     "text": [
      "----------------------------------------\n",
      "Type: <class 'pandas.core.indexes.datetimes.DatetimeIndex'>\n",
      "Length: 3\n"
     ]
    },
    {
     "data": {
      "text/plain": [
       "DatetimeIndex(['2011-12-31 23:59:00', '2012-01-01 00:00:00',\n",
       "               '2012-01-01 00:02:00'],\n",
       "              dtype='datetime64[ns]', freq=None)"
      ]
     },
     "metadata": {},
     "output_type": "display_data"
    },
    {
     "name": "stdout",
     "output_type": "stream",
     "text": [
      "----------------------------------------\n",
      "Type: <class 'str'>\n",
      "Length: 6\n"
     ]
    },
    {
     "data": {
      "text/plain": [
       "'minute'"
      ]
     },
     "metadata": {},
     "output_type": "display_data"
    },
    {
     "name": "stdout",
     "output_type": "stream",
     "text": [
      "----------------------------------------\n",
      "Type: <class 'pandas.core.series.Series'>\n",
      "Length: 3\n"
     ]
    },
    {
     "data": {
      "text/plain": [
       "2011-12-31 23:59:00    1\n",
       "2012-01-01 00:00:00    2\n",
       "2012-01-01 00:02:00    3\n",
       "dtype: int64"
      ]
     },
     "metadata": {},
     "output_type": "display_data"
    }
   ],
   "source": [
    "series_minute = pd.Series([1, 2, 3],\n",
    "   .....:                           pd.DatetimeIndex(['2011-12-31 23:59:00',\n",
    "   .....:                                             '2012-01-01 00:00:00',\n",
    "   .....:                                             '2012-01-01 00:02:00']))\n",
    "z(series_minute.index, series_minute.index.resolution, series_minute)"
   ]
  },
  {
   "cell_type": "code",
   "execution_count": 167,
   "metadata": {},
   "outputs": [
    {
     "data": {
      "text/plain": [
       "2012-01-01 00:00:00    2\n",
       "2012-01-01 00:02:00    3\n",
       "dtype: int64"
      ]
     },
     "execution_count": 167,
     "metadata": {},
     "output_type": "execute_result"
    }
   ],
   "source": [
    "series_minute['2012-01-01 00']"
   ]
  },
  {
   "cell_type": "code",
   "execution_count": 173,
   "metadata": {},
   "outputs": [
    {
     "name": "stdout",
     "output_type": "stream",
     "text": [
      "day\n",
      "2011-12-01    1\n",
      "dtype: int64\n"
     ]
    }
   ],
   "source": [
    "series_monthly = pd.Series([1, 2, 3],\n",
    "                 pd.DatetimeIndex(['2011-12', '2012-01', '2012-02']))\n",
    "print(series_monthly.index.resolution)\n",
    "print(series_monthly['2011-12'])"
   ]
  },
  {
   "cell_type": "code",
   "execution_count": 53,
   "metadata": {},
   "outputs": [
    {
     "data": {
      "text/plain": [
       "2011-01-31    0.469248\n",
       "2011-02-28    0.353420\n",
       "2011-03-31   -0.255962\n",
       "2011-04-29    1.542482\n",
       "2011-05-31   -0.137880\n",
       "2011-06-30   -0.975482\n",
       "2011-07-29   -1.575433\n",
       "2011-08-31   -1.561767\n",
       "2011-09-30    1.059957\n",
       "2011-10-31   -0.392001\n",
       "2011-11-30    0.811126\n",
       "2011-12-30   -0.219556\n",
       "Freq: BM, dtype: float64"
      ]
     },
     "execution_count": 53,
     "metadata": {},
     "output_type": "execute_result"
    }
   ],
   "source": [
    "ts"
   ]
  },
  {
   "cell_type": "code",
   "execution_count": 54,
   "metadata": {},
   "outputs": [
    {
     "name": "stdout",
     "output_type": "stream",
     "text": [
      "----------------------------------------\n",
      "Type: <class 'pandas.core.series.Series'>\n",
      "Length: 12\n"
     ]
    },
    {
     "data": {
      "text/plain": [
       "2011-01-31    0.469248\n",
       "2011-02-28    0.353420\n",
       "2011-03-31   -0.255962\n",
       "2011-04-29    1.542482\n",
       "2011-05-31   -0.137880\n",
       "2011-06-30   -0.975482\n",
       "2011-07-29   -1.575433\n",
       "2011-08-31   -1.561767\n",
       "2011-09-30    1.059957\n",
       "2011-10-31   -0.392001\n",
       "2011-11-30    0.811126\n",
       "2011-12-30   -0.219556\n",
       "Freq: BM, dtype: float64"
      ]
     },
     "metadata": {},
     "output_type": "display_data"
    }
   ],
   "source": [
    "z(ts)"
   ]
  },
  {
   "cell_type": "code",
   "execution_count": 56,
   "metadata": {},
   "outputs": [
    {
     "data": {
      "text/plain": [
       "2011-06-30   -0.975482\n",
       "Freq: BM, dtype: float64"
      ]
     },
     "execution_count": 56,
     "metadata": {},
     "output_type": "execute_result"
    }
   ],
   "source": [
    "ts['2011-06']"
   ]
  },
  {
   "cell_type": "code",
   "execution_count": 57,
   "metadata": {},
   "outputs": [
    {
     "name": "stdout",
     "output_type": "stream",
     "text": [
      "<class 'pandas.core.frame.DataFrame'>\n",
      "DatetimeIndex: 100000 entries, 2013-01-01 00:00:00 to 2013-03-11 10:39:00\n",
      "Freq: T\n",
      "Data columns (total 1 columns):\n",
      " #   Column  Non-Null Count   Dtype  \n",
      "---  ------  --------------   -----  \n",
      " 0   A       100000 non-null  float64\n",
      "dtypes: float64(1)\n",
      "memory usage: 1.5 MB\n",
      "None\n"
     ]
    },
    {
     "data": {
      "text/html": [
       "<div>\n",
       "<style scoped>\n",
       "    .dataframe tbody tr th:only-of-type {\n",
       "        vertical-align: middle;\n",
       "    }\n",
       "\n",
       "    .dataframe tbody tr th {\n",
       "        vertical-align: top;\n",
       "    }\n",
       "\n",
       "    .dataframe thead th {\n",
       "        text-align: right;\n",
       "    }\n",
       "</style>\n",
       "<table border=\"1\" class=\"dataframe\">\n",
       "  <thead>\n",
       "    <tr style=\"text-align: right;\">\n",
       "      <th></th>\n",
       "      <th>A</th>\n",
       "    </tr>\n",
       "  </thead>\n",
       "  <tbody>\n",
       "    <tr>\n",
       "      <th>2013-01-01 00:00:00</th>\n",
       "      <td>-0.188308</td>\n",
       "    </tr>\n",
       "    <tr>\n",
       "      <th>2013-01-01 00:01:00</th>\n",
       "      <td>-0.908766</td>\n",
       "    </tr>\n",
       "    <tr>\n",
       "      <th>2013-01-01 00:02:00</th>\n",
       "      <td>3.289080</td>\n",
       "    </tr>\n",
       "    <tr>\n",
       "      <th>2013-01-01 00:03:00</th>\n",
       "      <td>1.546936</td>\n",
       "    </tr>\n",
       "    <tr>\n",
       "      <th>2013-01-01 00:04:00</th>\n",
       "      <td>-0.481675</td>\n",
       "    </tr>\n",
       "    <tr>\n",
       "      <th>...</th>\n",
       "      <td>...</td>\n",
       "    </tr>\n",
       "    <tr>\n",
       "      <th>2013-03-11 10:35:00</th>\n",
       "      <td>-0.467292</td>\n",
       "    </tr>\n",
       "    <tr>\n",
       "      <th>2013-03-11 10:36:00</th>\n",
       "      <td>-0.777721</td>\n",
       "    </tr>\n",
       "    <tr>\n",
       "      <th>2013-03-11 10:37:00</th>\n",
       "      <td>0.187142</td>\n",
       "    </tr>\n",
       "    <tr>\n",
       "      <th>2013-03-11 10:38:00</th>\n",
       "      <td>-2.921198</td>\n",
       "    </tr>\n",
       "    <tr>\n",
       "      <th>2013-03-11 10:39:00</th>\n",
       "      <td>-2.400136</td>\n",
       "    </tr>\n",
       "  </tbody>\n",
       "</table>\n",
       "<p>100000 rows × 1 columns</p>\n",
       "</div>"
      ],
      "text/plain": [
       "                            A\n",
       "2013-01-01 00:00:00 -0.188308\n",
       "2013-01-01 00:01:00 -0.908766\n",
       "2013-01-01 00:02:00  3.289080\n",
       "2013-01-01 00:03:00  1.546936\n",
       "2013-01-01 00:04:00 -0.481675\n",
       "...                       ...\n",
       "2013-03-11 10:35:00 -0.467292\n",
       "2013-03-11 10:36:00 -0.777721\n",
       "2013-03-11 10:37:00  0.187142\n",
       "2013-03-11 10:38:00 -2.921198\n",
       "2013-03-11 10:39:00 -2.400136\n",
       "\n",
       "[100000 rows x 1 columns]"
      ]
     },
     "metadata": {},
     "output_type": "display_data"
    }
   ],
   "source": [
    "z(dft)"
   ]
  },
  {
   "cell_type": "code",
   "execution_count": 60,
   "metadata": {},
   "outputs": [
    {
     "data": {
      "text/html": [
       "<div>\n",
       "<style scoped>\n",
       "    .dataframe tbody tr th:only-of-type {\n",
       "        vertical-align: middle;\n",
       "    }\n",
       "\n",
       "    .dataframe tbody tr th {\n",
       "        vertical-align: top;\n",
       "    }\n",
       "\n",
       "    .dataframe thead th {\n",
       "        text-align: right;\n",
       "    }\n",
       "</style>\n",
       "<table border=\"1\" class=\"dataframe\">\n",
       "  <thead>\n",
       "    <tr style=\"text-align: right;\">\n",
       "      <th></th>\n",
       "      <th>A</th>\n",
       "    </tr>\n",
       "  </thead>\n",
       "  <tbody>\n",
       "    <tr>\n",
       "      <th>2013-02-24 00:00:00</th>\n",
       "      <td>0.337012</td>\n",
       "    </tr>\n",
       "    <tr>\n",
       "      <th>2013-02-24 00:01:00</th>\n",
       "      <td>1.048683</td>\n",
       "    </tr>\n",
       "    <tr>\n",
       "      <th>2013-02-24 00:02:00</th>\n",
       "      <td>-0.119736</td>\n",
       "    </tr>\n",
       "    <tr>\n",
       "      <th>2013-02-24 00:03:00</th>\n",
       "      <td>-1.232204</td>\n",
       "    </tr>\n",
       "    <tr>\n",
       "      <th>2013-02-24 00:04:00</th>\n",
       "      <td>0.382528</td>\n",
       "    </tr>\n",
       "    <tr>\n",
       "      <th>...</th>\n",
       "      <td>...</td>\n",
       "    </tr>\n",
       "    <tr>\n",
       "      <th>2013-02-24 23:55:00</th>\n",
       "      <td>-0.298344</td>\n",
       "    </tr>\n",
       "    <tr>\n",
       "      <th>2013-02-24 23:56:00</th>\n",
       "      <td>1.168321</td>\n",
       "    </tr>\n",
       "    <tr>\n",
       "      <th>2013-02-24 23:57:00</th>\n",
       "      <td>0.823045</td>\n",
       "    </tr>\n",
       "    <tr>\n",
       "      <th>2013-02-24 23:58:00</th>\n",
       "      <td>0.408961</td>\n",
       "    </tr>\n",
       "    <tr>\n",
       "      <th>2013-02-24 23:59:00</th>\n",
       "      <td>-0.077655</td>\n",
       "    </tr>\n",
       "  </tbody>\n",
       "</table>\n",
       "<p>1440 rows × 1 columns</p>\n",
       "</div>"
      ],
      "text/plain": [
       "                            A\n",
       "2013-02-24 00:00:00  0.337012\n",
       "2013-02-24 00:01:00  1.048683\n",
       "2013-02-24 00:02:00 -0.119736\n",
       "2013-02-24 00:03:00 -1.232204\n",
       "2013-02-24 00:04:00  0.382528\n",
       "...                       ...\n",
       "2013-02-24 23:55:00 -0.298344\n",
       "2013-02-24 23:56:00  1.168321\n",
       "2013-02-24 23:57:00  0.823045\n",
       "2013-02-24 23:58:00  0.408961\n",
       "2013-02-24 23:59:00 -0.077655\n",
       "\n",
       "[1440 rows x 1 columns]"
      ]
     },
     "execution_count": 60,
     "metadata": {},
     "output_type": "execute_result"
    }
   ],
   "source": [
    "dft['2013-02-24']"
   ]
  },
  {
   "cell_type": "code",
   "execution_count": 61,
   "metadata": {},
   "outputs": [
    {
     "data": {
      "text/plain": [
       "DatetimeIndex(['2011-01-02', '2011-01-09', '2011-01-16', '2011-01-23',\n",
       "               '2011-01-30', '2011-02-06', '2011-02-13', '2011-02-20',\n",
       "               '2011-02-27', '2011-03-06', '2011-03-13', '2011-03-20',\n",
       "               '2011-03-27', '2011-04-03', '2011-04-10', '2011-04-17',\n",
       "               '2011-04-24', '2011-05-01', '2011-05-08', '2011-05-15',\n",
       "               '2011-05-22', '2011-05-29', '2011-06-05', '2011-06-12',\n",
       "               '2011-06-19', '2011-06-26', '2011-07-03', '2011-07-10',\n",
       "               '2011-07-17', '2011-07-24', '2011-07-31', '2011-08-07',\n",
       "               '2011-08-14', '2011-08-21', '2011-08-28', '2011-09-04',\n",
       "               '2011-09-11', '2011-09-18', '2011-09-25', '2011-10-02',\n",
       "               '2011-10-09', '2011-10-16', '2011-10-23', '2011-10-30',\n",
       "               '2011-11-06', '2011-11-13', '2011-11-20', '2011-11-27',\n",
       "               '2011-12-04', '2011-12-11', '2011-12-18', '2011-12-25',\n",
       "               '2012-01-01'],\n",
       "              dtype='datetime64[ns]', freq='W-SUN')"
      ]
     },
     "execution_count": 61,
     "metadata": {},
     "output_type": "execute_result"
    }
   ],
   "source": [
    "rng2 = pd.date_range('2011-01-01', '2012-01-01', freq='W')"
   ]
  },
  {
   "cell_type": "code",
   "execution_count": 62,
   "metadata": {},
   "outputs": [
    {
     "data": {
      "text/plain": [
       "2011-01-02   -0.188494\n",
       "2011-01-09    1.667016\n",
       "2011-01-16    0.505273\n",
       "2011-01-23   -1.474057\n",
       "2011-01-30   -0.498516\n",
       "2011-02-06   -1.165027\n",
       "2011-02-13   -0.337596\n",
       "2011-02-20   -0.052104\n",
       "2011-02-27    1.804285\n",
       "2011-03-06    0.130294\n",
       "2011-03-13    1.603325\n",
       "2011-03-20    0.943623\n",
       "2011-03-27   -0.003974\n",
       "2011-04-03    0.110405\n",
       "2011-04-10    2.206680\n",
       "2011-04-17    0.034970\n",
       "2011-04-24   -0.279702\n",
       "2011-05-01   -0.368704\n",
       "2011-05-08    0.735305\n",
       "2011-05-15   -0.937733\n",
       "2011-05-22   -0.397711\n",
       "2011-05-29    1.616814\n",
       "2011-06-05   -0.690936\n",
       "2011-06-12   -0.574000\n",
       "2011-06-19    0.180460\n",
       "2011-06-26    0.207952\n",
       "2011-07-03   -0.179582\n",
       "2011-07-10    0.906417\n",
       "2011-07-17   -0.798614\n",
       "2011-07-24   -0.009809\n",
       "2011-07-31   -1.647068\n",
       "2011-08-07   -0.782783\n",
       "2011-08-14   -1.944176\n",
       "2011-08-21   -0.829244\n",
       "2011-08-28   -1.935939\n",
       "2011-09-04    0.848565\n",
       "2011-09-11   -0.219305\n",
       "2011-09-18   -0.859469\n",
       "2011-09-25   -0.457441\n",
       "2011-10-02    0.478476\n",
       "2011-10-09   -2.136958\n",
       "2011-10-16    0.696783\n",
       "2011-10-23    0.890155\n",
       "2011-10-30   -0.459147\n",
       "2011-11-06    0.510827\n",
       "2011-11-13   -0.708865\n",
       "2011-11-20   -0.415951\n",
       "2011-11-27    0.674801\n",
       "2011-12-04   -0.664703\n",
       "2011-12-11    2.293911\n",
       "2011-12-18    0.817137\n",
       "2011-12-25    2.078164\n",
       "2012-01-01   -1.881377\n",
       "Freq: W-SUN, dtype: float64"
      ]
     },
     "execution_count": 62,
     "metadata": {},
     "output_type": "execute_result"
    }
   ],
   "source": [
    "ts2 = pd.Series(np.random.randn(len(rng2)), index=rng2)"
   ]
  },
  {
   "cell_type": "code",
   "execution_count": 63,
   "metadata": {},
   "outputs": [
    {
     "data": {
      "text/plain": [
       "2011-11-06    0.510827\n",
       "2011-11-13   -0.708865\n",
       "2011-11-20   -0.415951\n",
       "2011-11-27    0.674801\n",
       "Freq: W-SUN, dtype: float64"
      ]
     },
     "execution_count": 63,
     "metadata": {},
     "output_type": "execute_result"
    }
   ],
   "source": [
    "ts2.truncate(before='2011-11', after='2011-12')"
   ]
  },
  {
   "cell_type": "code",
   "execution_count": 64,
   "metadata": {},
   "outputs": [
    {
     "data": {
      "text/plain": [
       "DatetimeIndex(['2019-12-29', '2019-12-30', '2019-12-31', '2020-01-01'], dtype='datetime64[ns]', freq='D')"
      ]
     },
     "execution_count": 64,
     "metadata": {},
     "output_type": "execute_result"
    }
   ],
   "source": [
    "idx = pd.date_range(start='2019-12-29', freq='D', periods=4)"
   ]
  },
  {
   "cell_type": "code",
   "execution_count": 65,
   "metadata": {},
   "outputs": [
    {
     "data": {
      "text/html": [
       "<div>\n",
       "<style scoped>\n",
       "    .dataframe tbody tr th:only-of-type {\n",
       "        vertical-align: middle;\n",
       "    }\n",
       "\n",
       "    .dataframe tbody tr th {\n",
       "        vertical-align: top;\n",
       "    }\n",
       "\n",
       "    .dataframe thead th {\n",
       "        text-align: right;\n",
       "    }\n",
       "</style>\n",
       "<table border=\"1\" class=\"dataframe\">\n",
       "  <thead>\n",
       "    <tr style=\"text-align: right;\">\n",
       "      <th></th>\n",
       "      <th>year</th>\n",
       "      <th>week</th>\n",
       "      <th>day</th>\n",
       "    </tr>\n",
       "  </thead>\n",
       "  <tbody>\n",
       "    <tr>\n",
       "      <th>2019-12-29</th>\n",
       "      <td>2019</td>\n",
       "      <td>52</td>\n",
       "      <td>7</td>\n",
       "    </tr>\n",
       "    <tr>\n",
       "      <th>2019-12-30</th>\n",
       "      <td>2020</td>\n",
       "      <td>1</td>\n",
       "      <td>1</td>\n",
       "    </tr>\n",
       "    <tr>\n",
       "      <th>2019-12-31</th>\n",
       "      <td>2020</td>\n",
       "      <td>1</td>\n",
       "      <td>2</td>\n",
       "    </tr>\n",
       "    <tr>\n",
       "      <th>2020-01-01</th>\n",
       "      <td>2020</td>\n",
       "      <td>1</td>\n",
       "      <td>3</td>\n",
       "    </tr>\n",
       "  </tbody>\n",
       "</table>\n",
       "</div>"
      ],
      "text/plain": [
       "            year  week  day\n",
       "2019-12-29  2019    52    7\n",
       "2019-12-30  2020     1    1\n",
       "2019-12-31  2020     1    2\n",
       "2020-01-01  2020     1    3"
      ]
     },
     "execution_count": 65,
     "metadata": {},
     "output_type": "execute_result"
    }
   ],
   "source": [
    "idx.isocalendar()"
   ]
  },
  {
   "cell_type": "code",
   "execution_count": 66,
   "metadata": {},
   "outputs": [
    {
     "data": {
      "text/html": [
       "<div>\n",
       "<style scoped>\n",
       "    .dataframe tbody tr th:only-of-type {\n",
       "        vertical-align: middle;\n",
       "    }\n",
       "\n",
       "    .dataframe tbody tr th {\n",
       "        vertical-align: top;\n",
       "    }\n",
       "\n",
       "    .dataframe thead th {\n",
       "        text-align: right;\n",
       "    }\n",
       "</style>\n",
       "<table border=\"1\" class=\"dataframe\">\n",
       "  <thead>\n",
       "    <tr style=\"text-align: right;\">\n",
       "      <th></th>\n",
       "      <th>year</th>\n",
       "      <th>week</th>\n",
       "      <th>day</th>\n",
       "    </tr>\n",
       "  </thead>\n",
       "  <tbody>\n",
       "    <tr>\n",
       "      <th>2019-12-29</th>\n",
       "      <td>2019</td>\n",
       "      <td>52</td>\n",
       "      <td>7</td>\n",
       "    </tr>\n",
       "    <tr>\n",
       "      <th>2019-12-30</th>\n",
       "      <td>2020</td>\n",
       "      <td>1</td>\n",
       "      <td>1</td>\n",
       "    </tr>\n",
       "    <tr>\n",
       "      <th>2019-12-31</th>\n",
       "      <td>2020</td>\n",
       "      <td>1</td>\n",
       "      <td>2</td>\n",
       "    </tr>\n",
       "    <tr>\n",
       "      <th>2020-01-01</th>\n",
       "      <td>2020</td>\n",
       "      <td>1</td>\n",
       "      <td>3</td>\n",
       "    </tr>\n",
       "  </tbody>\n",
       "</table>\n",
       "</div>"
      ],
      "text/plain": [
       "            year  week  day\n",
       "2019-12-29  2019    52    7\n",
       "2019-12-30  2020     1    1\n",
       "2019-12-31  2020     1    2\n",
       "2020-01-01  2020     1    3"
      ]
     },
     "execution_count": 66,
     "metadata": {},
     "output_type": "execute_result"
    }
   ],
   "source": [
    "idx.to_series().dt.isocalendar()"
   ]
  },
  {
   "cell_type": "code",
   "execution_count": 67,
   "metadata": {},
   "outputs": [
    {
     "data": {
      "text/plain": [
       "Timestamp('2016-10-30 00:00:00+0300', tz='Europe/Helsinki')"
      ]
     },
     "execution_count": 67,
     "metadata": {},
     "output_type": "execute_result"
    }
   ],
   "source": [
    "ts = pd.Timestamp('2016-10-30 00:00:00', tz='Europe/Helsinki')"
   ]
  },
  {
   "cell_type": "code",
   "execution_count": 68,
   "metadata": {},
   "outputs": [
    {
     "data": {
      "text/plain": [
       "Timestamp('2016-10-30 23:00:00+0200', tz='Europe/Helsinki')"
      ]
     },
     "execution_count": 68,
     "metadata": {},
     "output_type": "execute_result"
    }
   ],
   "source": [
    "ts + pd.Timedelta(days=1)"
   ]
  },
  {
   "cell_type": "code",
   "execution_count": 69,
   "metadata": {},
   "outputs": [
    {
     "data": {
      "text/plain": [
       "Timestamp('2016-10-31 00:00:00+0200', tz='Europe/Helsinki')"
      ]
     },
     "execution_count": 69,
     "metadata": {},
     "output_type": "execute_result"
    }
   ],
   "source": [
    "ts + pd.DateOffset(days=1)"
   ]
  },
  {
   "cell_type": "code",
   "execution_count": 70,
   "metadata": {},
   "outputs": [
    {
     "data": {
      "text/plain": [
       "Timestamp('2018-01-05 00:00:00')"
      ]
     },
     "execution_count": 70,
     "metadata": {},
     "output_type": "execute_result"
    }
   ],
   "source": [
    "friday = pd.Timestamp('2018-01-05')"
   ]
  },
  {
   "cell_type": "code",
   "execution_count": 71,
   "metadata": {},
   "outputs": [
    {
     "data": {
      "text/plain": [
       "'Friday'"
      ]
     },
     "execution_count": 71,
     "metadata": {},
     "output_type": "execute_result"
    }
   ],
   "source": [
    "friday.day_name()"
   ]
  },
  {
   "cell_type": "code",
   "execution_count": 72,
   "metadata": {},
   "outputs": [
    {
     "data": {
      "text/plain": [
       "<2 * BusinessDays>"
      ]
     },
     "execution_count": 72,
     "metadata": {},
     "output_type": "execute_result"
    }
   ],
   "source": [
    "two_business_days = 2 * pd.offsets.BDay()"
   ]
  },
  {
   "cell_type": "code",
   "execution_count": 74,
   "metadata": {},
   "outputs": [
    {
     "name": "stdout",
     "output_type": "stream",
     "text": [
      "----------------------------------------\n",
      "Type: <class 'pandas._libs.tslibs.timestamps.Timestamp'>\n"
     ]
    },
    {
     "data": {
      "text/plain": [
       "Timestamp('2018-01-09 00:00:00')"
      ]
     },
     "metadata": {},
     "output_type": "display_data"
    },
    {
     "name": "stdout",
     "output_type": "stream",
     "text": [
      "----------------------------------------\n",
      "Type: <class 'str'>\n",
      "Length: 7\n"
     ]
    },
    {
     "data": {
      "text/plain": [
       "'Tuesday'"
      ]
     },
     "metadata": {},
     "output_type": "display_data"
    }
   ],
   "source": [
    "d1 = two_business_days.apply(friday)\n",
    "z(d1, d1.day_name())"
   ]
  },
  {
   "cell_type": "code",
   "execution_count": 181,
   "metadata": {},
   "outputs": [
    {
     "data": {
      "text/plain": [
       "Timestamp('2018-01-06 00:00:00')"
      ]
     },
     "execution_count": 181,
     "metadata": {},
     "output_type": "execute_result"
    }
   ],
   "source": [
    "ts = pd.Timestamp('2018-01-06 00:00:00')"
   ]
  },
  {
   "cell_type": "code",
   "execution_count": 182,
   "metadata": {},
   "outputs": [
    {
     "data": {
      "text/plain": [
       "<BusinessHour: BH=09:00-17:00>"
      ]
     },
     "execution_count": 182,
     "metadata": {},
     "output_type": "execute_result"
    }
   ],
   "source": [
    "bday_off = pd.offsets.BusinessHour()"
   ]
  },
  {
   "cell_type": "code",
   "execution_count": 185,
   "metadata": {},
   "outputs": [
    {
     "name": "stdout",
     "output_type": "stream",
     "text": [
      "----------------------------------------\n",
      "Type: <class 'pandas._libs.tslibs.offsets.BusinessHour'>\n"
     ]
    },
    {
     "data": {
      "text/plain": [
       "<3 * BusinessHours: BH=09:00-17:00>"
      ]
     },
     "metadata": {},
     "output_type": "display_data"
    },
    {
     "name": "stdout",
     "output_type": "stream",
     "text": [
      "----------------------------------------\n",
      "Type: <class 'pandas._libs.tslibs.timestamps.Timestamp'>\n"
     ]
    },
    {
     "data": {
      "text/plain": [
       "Timestamp('2018-01-08 12:00:00')"
      ]
     },
     "metadata": {},
     "output_type": "display_data"
    }
   ],
   "source": [
    "bd2 = 3*bday_off\n",
    "z(bd2, ts + bd2)\n"
   ]
  },
  {
   "cell_type": "code",
   "execution_count": 76,
   "metadata": {},
   "outputs": [
    {
     "data": {
      "text/plain": [
       "'Saturday'"
      ]
     },
     "execution_count": 76,
     "metadata": {},
     "output_type": "execute_result"
    }
   ],
   "source": [
    "ts.day_name()"
   ]
  },
  {
   "cell_type": "code",
   "execution_count": 77,
   "metadata": {},
   "outputs": [
    {
     "data": {
      "text/plain": [
       "<BusinessHour: BH=09:00-17:00>"
      ]
     },
     "execution_count": 77,
     "metadata": {},
     "output_type": "execute_result"
    }
   ],
   "source": [
    "offset = pd.offsets.BusinessHour(start='09:00')"
   ]
  },
  {
   "cell_type": "code",
   "execution_count": 187,
   "metadata": {},
   "outputs": [],
   "source": [
    "from datetime import date\n",
    "import calendar"
   ]
  },
  {
   "cell_type": "code",
   "execution_count": 197,
   "metadata": {},
   "outputs": [
    {
     "data": {
      "text/plain": [
       "'Friday'"
      ]
     },
     "execution_count": 197,
     "metadata": {},
     "output_type": "execute_result"
    }
   ],
   "source": [
    "d = datetime.datetime(2008, 8, 22, 9, 0)\n",
    "calendar.day_name[d.weekday()]"
   ]
  },
  {
   "cell_type": "code",
   "execution_count": 198,
   "metadata": {},
   "outputs": [
    {
     "data": {
      "text/plain": [
       "<Week: weekday=4>"
      ]
     },
     "execution_count": 198,
     "metadata": {},
     "output_type": "execute_result"
    }
   ],
   "source": [
    "pd4 = pd.offsets.Week(weekday=4)"
   ]
  },
  {
   "cell_type": "code",
   "execution_count": 199,
   "metadata": {},
   "outputs": [
    {
     "data": {
      "text/plain": [
       "Timestamp('2008-08-22 09:00:00')"
      ]
     },
     "execution_count": 199,
     "metadata": {},
     "output_type": "execute_result"
    }
   ],
   "source": [
    "d1 = pd4.rollforward(d)"
   ]
  },
  {
   "cell_type": "code",
   "execution_count": 200,
   "metadata": {},
   "outputs": [
    {
     "data": {
      "text/plain": [
       "Timestamp('2008-08-29 09:00:00')"
      ]
     },
     "execution_count": 200,
     "metadata": {},
     "output_type": "execute_result"
    }
   ],
   "source": [
    "d2 = d + pd4"
   ]
  },
  {
   "cell_type": "code",
   "execution_count": 193,
   "metadata": {},
   "outputs": [
    {
     "name": "stdout",
     "output_type": "stream",
     "text": [
      "----------------------------------------\n",
      "Type: <class 'pandas._libs.tslibs.timestamps.Timestamp'>\n"
     ]
    },
    {
     "data": {
      "text/plain": [
       "Timestamp('2008-09-05 09:00:00')"
      ]
     },
     "metadata": {},
     "output_type": "display_data"
    },
    {
     "name": "stdout",
     "output_type": "stream",
     "text": [
      "----------------------------------------\n",
      "Type: <class 'int'>\n"
     ]
    },
    {
     "data": {
      "text/plain": [
       "4"
      ]
     },
     "metadata": {},
     "output_type": "display_data"
    }
   ],
   "source": [
    "d2 = d + 2* pd4\n",
    "z(d2, d2.dayofweek)"
   ]
  },
  {
   "cell_type": "code",
   "execution_count": 78,
   "metadata": {},
   "outputs": [
    {
     "data": {
      "text/plain": [
       "Timestamp('2018-01-08 09:00:00')"
      ]
     },
     "execution_count": 78,
     "metadata": {},
     "output_type": "execute_result"
    }
   ],
   "source": [
    "offset.rollforward(ts)"
   ]
  },
  {
   "cell_type": "code",
   "execution_count": 208,
   "metadata": {},
   "outputs": [
    {
     "data": {
      "text/plain": [
       "'Monday'"
      ]
     },
     "execution_count": 208,
     "metadata": {},
     "output_type": "execute_result"
    }
   ],
   "source": [
    "d = datetime.datetime(2008, 8, 18, 9, 0)\n",
    "calendar.day_name[d.weekday()]"
   ]
  },
  {
   "cell_type": "code",
   "execution_count": 212,
   "metadata": {},
   "outputs": [
    {
     "name": "stdout",
     "output_type": "stream",
     "text": [
      "2008-08-25 09:00:00 7 days 00:00:00\n"
     ]
    }
   ],
   "source": [
    "d1 = d + pd.offsets.Week()\n",
    "print(d1, d1 - d)"
   ]
  },
  {
   "cell_type": "code",
   "execution_count": 213,
   "metadata": {},
   "outputs": [
    {
     "name": "stdout",
     "output_type": "stream",
     "text": [
      "2008-08-22 09:00:00 4 days 00:00:00\n"
     ]
    }
   ],
   "source": [
    "d2 = d + pd.offsets.Week(weekday=4)\n",
    "print(d2, d2 - d)"
   ]
  },
  {
   "cell_type": "code",
   "execution_count": 214,
   "metadata": {},
   "outputs": [
    {
     "name": "stdout",
     "output_type": "stream",
     "text": [
      "2008-08-29 09:00:00 11 days 00:00:00\n"
     ]
    }
   ],
   "source": [
    "d3 = d + 2* pd.offsets.Week(weekday=4)\n",
    "print(d3, d3 - d)"
   ]
  },
  {
   "cell_type": "code",
   "execution_count": null,
   "metadata": {},
   "outputs": [],
   "source": []
  },
  {
   "cell_type": "code",
   "execution_count": null,
   "metadata": {},
   "outputs": [],
   "source": []
  },
  {
   "cell_type": "code",
   "execution_count": null,
   "metadata": {},
   "outputs": [],
   "source": []
  },
  {
   "cell_type": "code",
   "execution_count": 79,
   "metadata": {},
   "outputs": [],
   "source": [
    "from pandas.tseries.holiday import USFederalHolidayCalendar"
   ]
  },
  {
   "cell_type": "code",
   "execution_count": 80,
   "metadata": {},
   "outputs": [
    {
     "data": {
      "text/plain": [
       "pandas.tseries.holiday.USFederalHolidayCalendar"
      ]
     },
     "execution_count": 80,
     "metadata": {},
     "output_type": "execute_result"
    }
   ],
   "source": [
    "USFederalHolidayCalendar"
   ]
  },
  {
   "cell_type": "code",
   "execution_count": 81,
   "metadata": {},
   "outputs": [
    {
     "data": {
      "text/plain": [
       "mappingproxy({'__module__': 'pandas.tseries.holiday',\n",
       "              '__doc__': '\\n    US Federal Government Holiday Calendar based on rules specified by:\\n    https://www.opm.gov/policy-data-oversight/\\n       snow-dismissal-procedures/federal-holidays/\\n    ',\n",
       "              'rules': [Holiday: New Years Day (month=1, day=1, observance=<function nearest_workday at 0x1292BAD8>),\n",
       "               Holiday: Martin Luther King Jr. Day (month=1, day=1, offset=<DateOffset: weekday=MO(+3)>),\n",
       "               Holiday: Presidents Day (month=2, day=1, offset=<DateOffset: weekday=MO(+3)>),\n",
       "               Holiday: Memorial Day (month=5, day=31, offset=<DateOffset: weekday=MO(-1)>),\n",
       "               Holiday: July 4th (month=7, day=4, observance=<function nearest_workday at 0x1292BAD8>),\n",
       "               Holiday: Labor Day (month=9, day=1, offset=<DateOffset: weekday=MO(+1)>),\n",
       "               Holiday: Columbus Day (month=10, day=1, offset=<DateOffset: weekday=MO(+2)>),\n",
       "               Holiday: Veterans Day (month=11, day=11, observance=<function nearest_workday at 0x1292BAD8>),\n",
       "               Holiday: Thanksgiving (month=11, day=1, offset=<DateOffset: weekday=TH(+4)>),\n",
       "               Holiday: Christmas (month=12, day=25, observance=<function nearest_workday at 0x1292BAD8>)]})"
      ]
     },
     "execution_count": 81,
     "metadata": {},
     "output_type": "execute_result"
    }
   ],
   "source": [
    "vars(USFederalHolidayCalendar)"
   ]
  },
  {
   "cell_type": "code",
   "execution_count": 82,
   "metadata": {},
   "outputs": [
    {
     "data": {
      "text/plain": [
       "2011-01-31     0\n",
       "2011-02-28     1\n",
       "2011-03-31     2\n",
       "2011-04-29     3\n",
       "2011-05-31     4\n",
       "2011-06-30     5\n",
       "2011-07-29     6\n",
       "2011-08-31     7\n",
       "2011-09-30     8\n",
       "2011-10-31     9\n",
       "2011-11-30    10\n",
       "2011-12-30    11\n",
       "Freq: BM, dtype: int64"
      ]
     },
     "execution_count": 82,
     "metadata": {},
     "output_type": "execute_result"
    }
   ],
   "source": [
    "ts = pd.Series(range(len(rng)), index=rng)"
   ]
  },
  {
   "cell_type": "code",
   "execution_count": 215,
   "metadata": {},
   "outputs": [
    {
     "data": {
      "text/plain": [
       "2012-01-01    0\n",
       "2012-01-02    1\n",
       "2012-01-03    2\n",
       "Freq: D, dtype: int64"
      ]
     },
     "execution_count": 215,
     "metadata": {},
     "output_type": "execute_result"
    }
   ],
   "source": [
    "rng = pd.date_range('2012-01-01', '2012-01-03')\n",
    "ts = pd.Series(range(len(rng)), index=rng)"
   ]
  },
  {
   "cell_type": "code",
   "execution_count": 216,
   "metadata": {},
   "outputs": [
    {
     "data": {
      "text/plain": [
       "2012-01-01    0\n",
       "2012-01-02    1\n",
       "2012-01-03    2\n",
       "Freq: D, dtype: int64"
      ]
     },
     "execution_count": 216,
     "metadata": {},
     "output_type": "execute_result"
    }
   ],
   "source": [
    "ts = ts[:5]"
   ]
  },
  {
   "cell_type": "code",
   "execution_count": 217,
   "metadata": {},
   "outputs": [
    {
     "name": "stdout",
     "output_type": "stream",
     "text": [
      "2012-01-01    NaN\n",
      "2012-01-02    0.0\n",
      "2012-01-03    1.0\n",
      "Freq: D, dtype: float64\n",
      "2012-01-01    1.0\n",
      "2012-01-02    2.0\n",
      "2012-01-03    NaN\n",
      "Freq: D, dtype: float64\n"
     ]
    }
   ],
   "source": [
    "print(ts.shift(1))\n",
    "print(ts.shift(-1))"
   ]
  },
  {
   "cell_type": "code",
   "execution_count": 92,
   "metadata": {},
   "outputs": [
    {
     "data": {
      "text/plain": [
       "2012-01-06    0\n",
       "2012-01-07    1\n",
       "2012-01-08    2\n",
       "Freq: D, dtype: int64"
      ]
     },
     "execution_count": 92,
     "metadata": {},
     "output_type": "execute_result"
    }
   ],
   "source": [
    "ts.shift(5, freq='D')"
   ]
  },
  {
   "cell_type": "code",
   "execution_count": 218,
   "metadata": {},
   "outputs": [
    {
     "data": {
      "text/plain": [
       "DatetimeIndex(['2020-01-29', '2020-01-30', '2020-01-31', '2020-02-01',\n",
       "               '2020-02-02'],\n",
       "              dtype='datetime64[ns]', freq='D')"
      ]
     },
     "execution_count": 218,
     "metadata": {},
     "output_type": "execute_result"
    }
   ],
   "source": [
    "ts2 = pd.date_range('01-29-2020', '02-02-2020')"
   ]
  },
  {
   "cell_type": "code",
   "execution_count": 220,
   "metadata": {},
   "outputs": [
    {
     "data": {
      "text/html": [
       "<div>\n",
       "<style scoped>\n",
       "    .dataframe tbody tr th:only-of-type {\n",
       "        vertical-align: middle;\n",
       "    }\n",
       "\n",
       "    .dataframe tbody tr th {\n",
       "        vertical-align: top;\n",
       "    }\n",
       "\n",
       "    .dataframe thead th {\n",
       "        text-align: right;\n",
       "    }\n",
       "</style>\n",
       "<table border=\"1\" class=\"dataframe\">\n",
       "  <thead>\n",
       "    <tr style=\"text-align: right;\">\n",
       "      <th></th>\n",
       "      <th>0</th>\n",
       "    </tr>\n",
       "  </thead>\n",
       "  <tbody>\n",
       "    <tr>\n",
       "      <th>2020-01-29</th>\n",
       "      <td>0</td>\n",
       "    </tr>\n",
       "    <tr>\n",
       "      <th>2020-01-30</th>\n",
       "      <td>1</td>\n",
       "    </tr>\n",
       "    <tr>\n",
       "      <th>2020-01-31</th>\n",
       "      <td>2</td>\n",
       "    </tr>\n",
       "    <tr>\n",
       "      <th>2020-02-01</th>\n",
       "      <td>3</td>\n",
       "    </tr>\n",
       "    <tr>\n",
       "      <th>2020-02-02</th>\n",
       "      <td>4</td>\n",
       "    </tr>\n",
       "  </tbody>\n",
       "</table>\n",
       "</div>"
      ],
      "text/plain": [
       "            0\n",
       "2020-01-29  0\n",
       "2020-01-30  1\n",
       "2020-01-31  2\n",
       "2020-02-01  3\n",
       "2020-02-02  4"
      ]
     },
     "execution_count": 220,
     "metadata": {},
     "output_type": "execute_result"
    }
   ],
   "source": [
    "s2 = pd.DataFrame(range(len(ts2)), index=ts2)"
   ]
  },
  {
   "cell_type": "code",
   "execution_count": 221,
   "metadata": {},
   "outputs": [
    {
     "data": {
      "text/html": [
       "<div>\n",
       "<style scoped>\n",
       "    .dataframe tbody tr th:only-of-type {\n",
       "        vertical-align: middle;\n",
       "    }\n",
       "\n",
       "    .dataframe tbody tr th {\n",
       "        vertical-align: top;\n",
       "    }\n",
       "\n",
       "    .dataframe thead th {\n",
       "        text-align: right;\n",
       "    }\n",
       "</style>\n",
       "<table border=\"1\" class=\"dataframe\">\n",
       "  <thead>\n",
       "    <tr style=\"text-align: right;\">\n",
       "      <th></th>\n",
       "      <th>0</th>\n",
       "    </tr>\n",
       "  </thead>\n",
       "  <tbody>\n",
       "    <tr>\n",
       "      <th>2020-01-31</th>\n",
       "      <td>0</td>\n",
       "    </tr>\n",
       "    <tr>\n",
       "      <th>2020-01-31</th>\n",
       "      <td>1</td>\n",
       "    </tr>\n",
       "    <tr>\n",
       "      <th>2020-02-29</th>\n",
       "      <td>2</td>\n",
       "    </tr>\n",
       "    <tr>\n",
       "      <th>2020-02-29</th>\n",
       "      <td>3</td>\n",
       "    </tr>\n",
       "    <tr>\n",
       "      <th>2020-02-29</th>\n",
       "      <td>4</td>\n",
       "    </tr>\n",
       "  </tbody>\n",
       "</table>\n",
       "</div>"
      ],
      "text/plain": [
       "            0\n",
       "2020-01-31  0\n",
       "2020-01-31  1\n",
       "2020-02-29  2\n",
       "2020-02-29  3\n",
       "2020-02-29  4"
      ]
     },
     "execution_count": 221,
     "metadata": {},
     "output_type": "execute_result"
    }
   ],
   "source": [
    "s2.shift(freq='M')"
   ]
  },
  {
   "cell_type": "code",
   "execution_count": 225,
   "metadata": {},
   "outputs": [
    {
     "name": "stdout",
     "output_type": "stream",
     "text": [
      "----------------------------------------\n",
      "Type: <class 'pandas.core.indexes.datetimes.DatetimeIndex'>\n",
      "Length: 3\n"
     ]
    },
    {
     "data": {
      "text/plain": [
       "DatetimeIndex(['2010-01-01', '2010-01-06', '2010-01-11'], dtype='datetime64[ns]', freq='3B')"
      ]
     },
     "metadata": {},
     "output_type": "display_data"
    }
   ],
   "source": [
    "dr = pd.date_range('1/1/2010', periods=3, freq=3 * pd.offsets.BDay())\n",
    "z(dr)"
   ]
  },
  {
   "cell_type": "code",
   "execution_count": 226,
   "metadata": {},
   "outputs": [
    {
     "data": {
      "text/plain": [
       "2010-01-01   -1.142274\n",
       "2010-01-06    1.953736\n",
       "2010-01-11    1.554070\n",
       "Freq: 3B, dtype: float64"
      ]
     },
     "execution_count": 226,
     "metadata": {},
     "output_type": "execute_result"
    }
   ],
   "source": [
    "ts = pd.Series(np.random.randn(3), index=dr)"
   ]
  },
  {
   "cell_type": "code",
   "execution_count": 227,
   "metadata": {},
   "outputs": [
    {
     "data": {
      "text/plain": [
       "2010-01-01   -1.142274\n",
       "2010-01-04         NaN\n",
       "2010-01-05         NaN\n",
       "2010-01-06    1.953736\n",
       "2010-01-07         NaN\n",
       "2010-01-08         NaN\n",
       "2010-01-11    1.554070\n",
       "Freq: B, dtype: float64"
      ]
     },
     "execution_count": 227,
     "metadata": {},
     "output_type": "execute_result"
    }
   ],
   "source": [
    "ts.asfreq(pd.offsets.BDay())"
   ]
  },
  {
   "cell_type": "code",
   "execution_count": 228,
   "metadata": {},
   "outputs": [
    {
     "data": {
      "text/plain": [
       "DatetimeIndex(['2012-01-01 00:00:00', '2012-01-01 00:00:01',\n",
       "               '2012-01-01 00:00:02', '2012-01-01 00:00:03',\n",
       "               '2012-01-01 00:00:04', '2012-01-01 00:00:05',\n",
       "               '2012-01-01 00:00:06', '2012-01-01 00:00:07',\n",
       "               '2012-01-01 00:00:08', '2012-01-01 00:00:09',\n",
       "               '2012-01-01 00:00:10', '2012-01-01 00:00:11',\n",
       "               '2012-01-01 00:00:12', '2012-01-01 00:00:13',\n",
       "               '2012-01-01 00:00:14', '2012-01-01 00:00:15',\n",
       "               '2012-01-01 00:00:16', '2012-01-01 00:00:17',\n",
       "               '2012-01-01 00:00:18', '2012-01-01 00:00:19',\n",
       "               '2012-01-01 00:00:20', '2012-01-01 00:00:21',\n",
       "               '2012-01-01 00:00:22', '2012-01-01 00:00:23',\n",
       "               '2012-01-01 00:00:24', '2012-01-01 00:00:25',\n",
       "               '2012-01-01 00:00:26', '2012-01-01 00:00:27',\n",
       "               '2012-01-01 00:00:28', '2012-01-01 00:00:29',\n",
       "               '2012-01-01 00:00:30', '2012-01-01 00:00:31',\n",
       "               '2012-01-01 00:00:32', '2012-01-01 00:00:33',\n",
       "               '2012-01-01 00:00:34', '2012-01-01 00:00:35',\n",
       "               '2012-01-01 00:00:36', '2012-01-01 00:00:37',\n",
       "               '2012-01-01 00:00:38', '2012-01-01 00:00:39',\n",
       "               '2012-01-01 00:00:40', '2012-01-01 00:00:41',\n",
       "               '2012-01-01 00:00:42', '2012-01-01 00:00:43',\n",
       "               '2012-01-01 00:00:44', '2012-01-01 00:00:45',\n",
       "               '2012-01-01 00:00:46', '2012-01-01 00:00:47',\n",
       "               '2012-01-01 00:00:48', '2012-01-01 00:00:49',\n",
       "               '2012-01-01 00:00:50', '2012-01-01 00:00:51',\n",
       "               '2012-01-01 00:00:52', '2012-01-01 00:00:53',\n",
       "               '2012-01-01 00:00:54', '2012-01-01 00:00:55',\n",
       "               '2012-01-01 00:00:56', '2012-01-01 00:00:57',\n",
       "               '2012-01-01 00:00:58', '2012-01-01 00:00:59',\n",
       "               '2012-01-01 00:01:00', '2012-01-01 00:01:01',\n",
       "               '2012-01-01 00:01:02', '2012-01-01 00:01:03',\n",
       "               '2012-01-01 00:01:04', '2012-01-01 00:01:05',\n",
       "               '2012-01-01 00:01:06', '2012-01-01 00:01:07',\n",
       "               '2012-01-01 00:01:08', '2012-01-01 00:01:09',\n",
       "               '2012-01-01 00:01:10', '2012-01-01 00:01:11',\n",
       "               '2012-01-01 00:01:12', '2012-01-01 00:01:13',\n",
       "               '2012-01-01 00:01:14', '2012-01-01 00:01:15',\n",
       "               '2012-01-01 00:01:16', '2012-01-01 00:01:17',\n",
       "               '2012-01-01 00:01:18', '2012-01-01 00:01:19',\n",
       "               '2012-01-01 00:01:20', '2012-01-01 00:01:21',\n",
       "               '2012-01-01 00:01:22', '2012-01-01 00:01:23',\n",
       "               '2012-01-01 00:01:24', '2012-01-01 00:01:25',\n",
       "               '2012-01-01 00:01:26', '2012-01-01 00:01:27',\n",
       "               '2012-01-01 00:01:28', '2012-01-01 00:01:29',\n",
       "               '2012-01-01 00:01:30', '2012-01-01 00:01:31',\n",
       "               '2012-01-01 00:01:32', '2012-01-01 00:01:33',\n",
       "               '2012-01-01 00:01:34', '2012-01-01 00:01:35',\n",
       "               '2012-01-01 00:01:36', '2012-01-01 00:01:37',\n",
       "               '2012-01-01 00:01:38', '2012-01-01 00:01:39'],\n",
       "              dtype='datetime64[ns]', freq='S')"
      ]
     },
     "execution_count": 228,
     "metadata": {},
     "output_type": "execute_result"
    }
   ],
   "source": [
    "rng = pd.date_range('1/1/2012', periods=100, freq='S')"
   ]
  },
  {
   "cell_type": "code",
   "execution_count": 229,
   "metadata": {},
   "outputs": [
    {
     "data": {
      "text/plain": [
       "2012-01-01 00:00:00    165\n",
       "2012-01-01 00:00:01    239\n",
       "2012-01-01 00:00:02    109\n",
       "2012-01-01 00:00:03     14\n",
       "2012-01-01 00:00:04    422\n",
       "                      ... \n",
       "2012-01-01 00:01:35    147\n",
       "2012-01-01 00:01:36    344\n",
       "2012-01-01 00:01:37    483\n",
       "2012-01-01 00:01:38    146\n",
       "2012-01-01 00:01:39    214\n",
       "Freq: S, Length: 100, dtype: int32"
      ]
     },
     "execution_count": 229,
     "metadata": {},
     "output_type": "execute_result"
    }
   ],
   "source": [
    "ts = pd.Series(np.random.randint(0, 500, len(rng)), index=rng)"
   ]
  },
  {
   "cell_type": "code",
   "execution_count": 230,
   "metadata": {},
   "outputs": [
    {
     "data": {
      "text/plain": [
       "2012-01-01    23176\n",
       "Freq: 5T, dtype: int32"
      ]
     },
     "execution_count": 230,
     "metadata": {},
     "output_type": "execute_result"
    }
   ],
   "source": [
    "ts.resample('5Min').sum()"
   ]
  },
  {
   "cell_type": "code",
   "execution_count": 104,
   "metadata": {},
   "outputs": [
    {
     "data": {
      "text/plain": [
       "2012-01-01    272.75\n",
       "Freq: 5T, dtype: float64"
      ]
     },
     "execution_count": 104,
     "metadata": {},
     "output_type": "execute_result"
    }
   ],
   "source": [
    "ts.resample('5Min').mean()"
   ]
  },
  {
   "cell_type": "code",
   "execution_count": 105,
   "metadata": {},
   "outputs": [
    {
     "data": {
      "text/html": [
       "<div>\n",
       "<style scoped>\n",
       "    .dataframe tbody tr th:only-of-type {\n",
       "        vertical-align: middle;\n",
       "    }\n",
       "\n",
       "    .dataframe tbody tr th {\n",
       "        vertical-align: top;\n",
       "    }\n",
       "\n",
       "    .dataframe thead th {\n",
       "        text-align: right;\n",
       "    }\n",
       "</style>\n",
       "<table border=\"1\" class=\"dataframe\">\n",
       "  <thead>\n",
       "    <tr style=\"text-align: right;\">\n",
       "      <th></th>\n",
       "      <th>open</th>\n",
       "      <th>high</th>\n",
       "      <th>low</th>\n",
       "      <th>close</th>\n",
       "    </tr>\n",
       "  </thead>\n",
       "  <tbody>\n",
       "    <tr>\n",
       "      <th>2012-01-01</th>\n",
       "      <td>433</td>\n",
       "      <td>494</td>\n",
       "      <td>8</td>\n",
       "      <td>404</td>\n",
       "    </tr>\n",
       "  </tbody>\n",
       "</table>\n",
       "</div>"
      ],
      "text/plain": [
       "            open  high  low  close\n",
       "2012-01-01   433   494    8    404"
      ]
     },
     "execution_count": 105,
     "metadata": {},
     "output_type": "execute_result"
    }
   ],
   "source": [
    "ts.resample('5Min').ohlc()"
   ]
  },
  {
   "cell_type": "code",
   "execution_count": 106,
   "metadata": {},
   "outputs": [
    {
     "data": {
      "text/plain": [
       "2012-01-01    494\n",
       "Freq: 5T, dtype: int32"
      ]
     },
     "execution_count": 106,
     "metadata": {},
     "output_type": "execute_result"
    }
   ],
   "source": [
    "ts.resample('5Min').max()"
   ]
  },
  {
   "cell_type": "code",
   "execution_count": 107,
   "metadata": {},
   "outputs": [
    {
     "data": {
      "text/plain": [
       "<pandas.core.resample.DatetimeIndexResampler object at 0x122C2400>"
      ]
     },
     "execution_count": 107,
     "metadata": {},
     "output_type": "execute_result"
    }
   ],
   "source": [
    "ts.resample('5Min', closed='right')"
   ]
  },
  {
   "cell_type": "code",
   "execution_count": 233,
   "metadata": {},
   "outputs": [
    {
     "name": "stdout",
     "output_type": "stream",
     "text": [
      "2012-01-01 00:00:00 --> 2012-01-01 00:01:39 \n",
      "\n",
      "2012-01-01    100\n",
      "Freq: 5T, dtype: int64 \n",
      "\n",
      "2012-01-01 00:05:00    100\n",
      "Freq: 5T, dtype: int64 \n",
      "\n",
      "2011-12-31 23:55:00     1\n",
      "2012-01-01 00:00:00    99\n",
      "Freq: 5T, dtype: int64 \n",
      "\n",
      "2012-01-01 00:00:00     1\n",
      "2012-01-01 00:05:00    99\n",
      "Freq: 5T, dtype: int64 \n",
      "\n"
     ]
    }
   ],
   "source": [
    "print(ts.index.min(), '-->', ts.index.max(), '\\n' )\n",
    "print(ts.resample('5Min', label='left', closed='left').count(),'\\n')\n",
    "print(ts.resample('5Min', label='right', closed='left').count(),'\\n')\n",
    "print(ts.resample('5Min', label='left', closed='right').count(),'\\n')\n",
    "print(ts.resample('5Min', label='right', closed='right').count(),'\\n')"
   ]
  },
  {
   "cell_type": "code",
   "execution_count": 109,
   "metadata": {},
   "outputs": [
    {
     "data": {
      "text/plain": [
       "2012-01-01 00:00:00.000    433.0\n",
       "2012-01-01 00:00:00.250      NaN\n",
       "2012-01-01 00:00:00.500      NaN\n",
       "2012-01-01 00:00:00.750      NaN\n",
       "2012-01-01 00:00:01.000    396.0\n",
       "Freq: 250L, dtype: float64"
      ]
     },
     "execution_count": 109,
     "metadata": {},
     "output_type": "execute_result"
    }
   ],
   "source": [
    "ts[:2].resample('250L').asfreq()"
   ]
  },
  {
   "cell_type": "code",
   "execution_count": 110,
   "metadata": {},
   "outputs": [
    {
     "data": {
      "text/plain": [
       "2012-01-01 00:00:00.000    433\n",
       "2012-01-01 00:00:00.250    433\n",
       "2012-01-01 00:00:00.500    433\n",
       "2012-01-01 00:00:00.750    433\n",
       "2012-01-01 00:00:01.000    396\n",
       "Freq: 250L, dtype: int32"
      ]
     },
     "execution_count": 110,
     "metadata": {},
     "output_type": "execute_result"
    }
   ],
   "source": [
    "ts[:2].resample('250L').ffill()"
   ]
  },
  {
   "cell_type": "code",
   "execution_count": 111,
   "metadata": {},
   "outputs": [
    {
     "data": {
      "text/plain": [
       "DatetimeIndex(['2014-01-01 00:00:01', '2014-01-02 00:00:01',\n",
       "               '2014-01-03 00:00:01', '2014-01-04 00:00:01',\n",
       "               '2014-01-05 00:00:01', '2014-01-06 00:00:01',\n",
       "               '2014-01-07 00:00:01', '2014-01-08 00:00:01',\n",
       "               '2014-01-09 00:00:01', '2014-01-10 00:00:01',\n",
       "               '2014-01-11 00:00:01', '2014-01-12 00:00:01',\n",
       "               '2014-01-13 00:00:01', '2014-01-14 00:00:01',\n",
       "               '2014-01-15 00:00:01', '2014-01-16 00:00:01',\n",
       "               '2014-01-17 00:00:01', '2014-01-18 00:00:01',\n",
       "               '2014-01-19 00:00:01', '2014-01-20 00:00:01',\n",
       "               '2014-01-21 00:00:01', '2014-01-22 00:00:01',\n",
       "               '2014-01-23 00:00:01', '2014-01-24 00:00:01',\n",
       "               '2014-01-25 00:00:01', '2014-01-26 00:00:01',\n",
       "               '2014-01-27 00:00:01', '2014-01-28 00:00:01',\n",
       "               '2014-01-29 00:00:01', '2014-01-30 00:00:01',\n",
       "               '2014-01-31 00:00:01', '2014-02-01 00:00:01',\n",
       "               '2014-02-02 00:00:01', '2014-02-03 00:00:01',\n",
       "               '2014-02-04 00:00:01', '2014-02-05 00:00:01',\n",
       "               '2014-02-06 00:00:01', '2014-02-07 00:00:01',\n",
       "               '2014-02-08 00:00:01', '2014-02-09 00:00:01',\n",
       "               '2014-02-10 00:00:01', '2014-02-11 00:00:01',\n",
       "               '2014-02-12 00:00:01', '2014-02-13 00:00:01',\n",
       "               '2014-02-14 00:00:01', '2014-02-15 00:00:01',\n",
       "               '2014-02-16 00:00:01', '2014-02-17 00:00:01',\n",
       "               '2014-02-18 00:00:01', '2014-02-19 00:00:01',\n",
       "               '2014-02-20 00:00:01', '2014-02-21 00:00:01',\n",
       "               '2014-02-22 00:00:01', '2014-02-23 00:00:01',\n",
       "               '2014-02-24 00:00:01', '2014-02-25 00:00:01',\n",
       "               '2014-02-26 00:00:01', '2014-02-27 00:00:01',\n",
       "               '2014-02-28 00:00:01', '2014-03-01 00:00:01',\n",
       "               '2014-03-02 00:00:01', '2014-03-03 00:00:01',\n",
       "               '2014-03-04 00:00:01', '2014-03-05 00:00:01',\n",
       "               '2014-03-06 00:00:01', '2014-03-07 00:00:01',\n",
       "               '2014-03-08 00:00:01', '2014-03-09 00:00:01',\n",
       "               '2014-03-10 00:00:01', '2014-03-11 00:00:01',\n",
       "               '2014-03-12 00:00:01', '2014-03-13 00:00:01',\n",
       "               '2014-03-14 00:00:01', '2014-03-15 00:00:01',\n",
       "               '2014-03-16 00:00:01', '2014-03-17 00:00:01',\n",
       "               '2014-03-18 00:00:01', '2014-03-19 00:00:01',\n",
       "               '2014-03-20 00:00:01', '2014-03-21 00:00:01',\n",
       "               '2014-03-22 00:00:01', '2014-03-23 00:00:01',\n",
       "               '2014-03-24 00:00:01', '2014-03-25 00:00:01',\n",
       "               '2014-03-26 00:00:01', '2014-03-27 00:00:01',\n",
       "               '2014-03-28 00:00:01', '2014-03-29 00:00:01',\n",
       "               '2014-03-30 00:00:01', '2014-03-31 00:00:01',\n",
       "               '2014-04-01 00:00:01', '2014-04-02 00:00:01',\n",
       "               '2014-04-03 00:00:01', '2014-04-04 00:00:01',\n",
       "               '2014-04-05 00:00:01', '2014-04-06 00:00:01',\n",
       "               '2014-04-07 00:00:01', '2014-04-08 00:00:01',\n",
       "               '2014-04-09 00:00:01', '2014-04-10 00:00:01'],\n",
       "              dtype='datetime64[ns]', freq='D')"
      ]
     },
     "execution_count": 111,
     "metadata": {},
     "output_type": "execute_result"
    }
   ],
   "source": [
    " rng = pd.date_range('2014-1-1', periods=100, freq='D') + pd.Timedelta('1s')"
   ]
  },
  {
   "cell_type": "code",
   "execution_count": 112,
   "metadata": {},
   "outputs": [
    {
     "data": {
      "text/plain": [
       "2014-01-01 00:00:01     0\n",
       "2014-01-02 00:00:01     1\n",
       "2014-01-03 00:00:01     2\n",
       "2014-01-04 00:00:01     3\n",
       "2014-01-05 00:00:01     4\n",
       "                       ..\n",
       "2014-04-06 00:00:01    95\n",
       "2014-04-07 00:00:01    96\n",
       "2014-04-08 00:00:01    97\n",
       "2014-04-09 00:00:01    98\n",
       "2014-04-10 00:00:01    99\n",
       "Freq: D, Length: 100, dtype: int64"
      ]
     },
     "execution_count": 112,
     "metadata": {},
     "output_type": "execute_result"
    }
   ],
   "source": [
    "ts = pd.Series(range(100), index=rng)"
   ]
  },
  {
   "cell_type": "code",
   "execution_count": 113,
   "metadata": {},
   "outputs": [
    {
     "data": {
      "text/html": [
       "<div>\n",
       "<style scoped>\n",
       "    .dataframe tbody tr th:only-of-type {\n",
       "        vertical-align: middle;\n",
       "    }\n",
       "\n",
       "    .dataframe tbody tr th {\n",
       "        vertical-align: top;\n",
       "    }\n",
       "\n",
       "    .dataframe thead th {\n",
       "        text-align: right;\n",
       "    }\n",
       "</style>\n",
       "<table border=\"1\" class=\"dataframe\">\n",
       "  <thead>\n",
       "    <tr style=\"text-align: right;\">\n",
       "      <th></th>\n",
       "      <th>A</th>\n",
       "      <th>B</th>\n",
       "      <th>C</th>\n",
       "    </tr>\n",
       "  </thead>\n",
       "  <tbody>\n",
       "    <tr>\n",
       "      <th>2012-01-01 00:00:00</th>\n",
       "      <td>0.384204</td>\n",
       "      <td>-2.454906</td>\n",
       "      <td>1.235091</td>\n",
       "    </tr>\n",
       "    <tr>\n",
       "      <th>2012-01-01 00:00:01</th>\n",
       "      <td>-0.958532</td>\n",
       "      <td>0.031057</td>\n",
       "      <td>-1.009663</td>\n",
       "    </tr>\n",
       "    <tr>\n",
       "      <th>2012-01-01 00:00:02</th>\n",
       "      <td>0.123029</td>\n",
       "      <td>-0.391049</td>\n",
       "      <td>-0.760514</td>\n",
       "    </tr>\n",
       "    <tr>\n",
       "      <th>2012-01-01 00:00:03</th>\n",
       "      <td>-0.220247</td>\n",
       "      <td>0.590073</td>\n",
       "      <td>0.369379</td>\n",
       "    </tr>\n",
       "    <tr>\n",
       "      <th>2012-01-01 00:00:04</th>\n",
       "      <td>1.141089</td>\n",
       "      <td>-0.486376</td>\n",
       "      <td>-1.470980</td>\n",
       "    </tr>\n",
       "    <tr>\n",
       "      <th>...</th>\n",
       "      <td>...</td>\n",
       "      <td>...</td>\n",
       "      <td>...</td>\n",
       "    </tr>\n",
       "    <tr>\n",
       "      <th>2012-01-01 00:16:35</th>\n",
       "      <td>-0.263813</td>\n",
       "      <td>-0.374628</td>\n",
       "      <td>-0.651111</td>\n",
       "    </tr>\n",
       "    <tr>\n",
       "      <th>2012-01-01 00:16:36</th>\n",
       "      <td>0.443566</td>\n",
       "      <td>1.265355</td>\n",
       "      <td>-0.320721</td>\n",
       "    </tr>\n",
       "    <tr>\n",
       "      <th>2012-01-01 00:16:37</th>\n",
       "      <td>0.585116</td>\n",
       "      <td>-0.161443</td>\n",
       "      <td>-1.109152</td>\n",
       "    </tr>\n",
       "    <tr>\n",
       "      <th>2012-01-01 00:16:38</th>\n",
       "      <td>0.499554</td>\n",
       "      <td>-1.990193</td>\n",
       "      <td>-0.335773</td>\n",
       "    </tr>\n",
       "    <tr>\n",
       "      <th>2012-01-01 00:16:39</th>\n",
       "      <td>0.107584</td>\n",
       "      <td>0.550127</td>\n",
       "      <td>-0.163949</td>\n",
       "    </tr>\n",
       "  </tbody>\n",
       "</table>\n",
       "<p>1000 rows × 3 columns</p>\n",
       "</div>"
      ],
      "text/plain": [
       "                            A         B         C\n",
       "2012-01-01 00:00:00  0.384204 -2.454906  1.235091\n",
       "2012-01-01 00:00:01 -0.958532  0.031057 -1.009663\n",
       "2012-01-01 00:00:02  0.123029 -0.391049 -0.760514\n",
       "2012-01-01 00:00:03 -0.220247  0.590073  0.369379\n",
       "2012-01-01 00:00:04  1.141089 -0.486376 -1.470980\n",
       "...                       ...       ...       ...\n",
       "2012-01-01 00:16:35 -0.263813 -0.374628 -0.651111\n",
       "2012-01-01 00:16:36  0.443566  1.265355 -0.320721\n",
       "2012-01-01 00:16:37  0.585116 -0.161443 -1.109152\n",
       "2012-01-01 00:16:38  0.499554 -1.990193 -0.335773\n",
       "2012-01-01 00:16:39  0.107584  0.550127 -0.163949\n",
       "\n",
       "[1000 rows x 3 columns]"
      ]
     },
     "execution_count": 113,
     "metadata": {},
     "output_type": "execute_result"
    }
   ],
   "source": [
    " df = pd.DataFrame(np.random.randn(1000, 3),\n",
    "   .....:                   index=pd.date_range('1/1/2012', freq='S', periods=1000),\n",
    "   .....:                   columns=['A', 'B', 'C'])"
   ]
  },
  {
   "cell_type": "code",
   "execution_count": 114,
   "metadata": {},
   "outputs": [
    {
     "data": {
      "text/plain": [
       "<pandas.core.resample.DatetimeIndexResampler object at 0x10F9D298>"
      ]
     },
     "execution_count": 114,
     "metadata": {},
     "output_type": "execute_result"
    }
   ],
   "source": [
    "r = df.resample('3T')"
   ]
  },
  {
   "cell_type": "code",
   "execution_count": 115,
   "metadata": {},
   "outputs": [
    {
     "data": {
      "text/plain": [
       "2017-01-01 00:00:00    0\n",
       "2017-01-01 00:30:00    1\n",
       "2017-01-01 00:31:00    2\n",
       "2017-01-01 01:00:00    3\n",
       "2017-01-01 03:00:00    4\n",
       "2017-01-01 03:05:00    5\n",
       "dtype: int64"
      ]
     },
     "execution_count": 115,
     "metadata": {},
     "output_type": "execute_result"
    }
   ],
   "source": [
    "small = pd.Series(\n",
    "   .....:     range(6),\n",
    "   .....:     index=pd.to_datetime(['2017-01-01T00:00:00',\n",
    "   .....:                           '2017-01-01T00:30:00',\n",
    "   .....:                           '2017-01-01T00:31:00',\n",
    "   .....:                           '2017-01-01T01:00:00',\n",
    "   .....:                           '2017-01-01T03:00:00',\n",
    "   .....:                           '2017-01-01T03:05:00'])\n",
    "   .....: )"
   ]
  },
  {
   "cell_type": "code",
   "execution_count": 116,
   "metadata": {},
   "outputs": [
    {
     "data": {
      "text/plain": [
       "<pandas.core.resample.DatetimeIndexResampler object at 0x122C0B98>"
      ]
     },
     "execution_count": 116,
     "metadata": {},
     "output_type": "execute_result"
    }
   ],
   "source": [
    "resampled = small.resample('H')"
   ]
  },
  {
   "cell_type": "code",
   "execution_count": 117,
   "metadata": {},
   "outputs": [
    {
     "name": "stdout",
     "output_type": "stream",
     "text": [
      "Group:  2017-01-01 00:00:00\n",
      "---------------------------\n",
      "2017-01-01 00:00:00    0\n",
      "2017-01-01 00:30:00    1\n",
      "2017-01-01 00:31:00    2\n",
      "dtype: int64\n",
      "\n",
      "Group:  2017-01-01 01:00:00\n",
      "---------------------------\n",
      "2017-01-01 01:00:00    3\n",
      "dtype: int64\n",
      "\n",
      "Group:  2017-01-01 02:00:00\n",
      "---------------------------\n",
      "Series([], dtype: int64)\n",
      "\n",
      "Group:  2017-01-01 03:00:00\n",
      "---------------------------\n",
      "2017-01-01 03:00:00    4\n",
      "2017-01-01 03:05:00    5\n",
      "dtype: int64\n",
      "\n"
     ]
    }
   ],
   "source": [
    "for name, group in resampled:\n",
    "   .....:     print(\"Group: \", name)\n",
    "   .....:     print(\"-\" * 27)\n",
    "   .....:     print(group, end=\"\\n\\n\")"
   ]
  },
  {
   "cell_type": "code",
   "execution_count": 118,
   "metadata": {},
   "outputs": [],
   "source": [
    "start, end = '2000-10-01 23:30:00', '2000-10-02 00:30:00'"
   ]
  },
  {
   "cell_type": "code",
   "execution_count": 119,
   "metadata": {},
   "outputs": [
    {
     "data": {
      "text/plain": [
       "'2000-10-02 00:00:00'"
      ]
     },
     "execution_count": 119,
     "metadata": {},
     "output_type": "execute_result"
    }
   ],
   "source": [
    "middle = '2000-10-02 00:00:00'"
   ]
  },
  {
   "cell_type": "code",
   "execution_count": 120,
   "metadata": {},
   "outputs": [
    {
     "data": {
      "text/plain": [
       "DatetimeIndex(['2000-10-01 23:30:00', '2000-10-01 23:37:00',\n",
       "               '2000-10-01 23:44:00', '2000-10-01 23:51:00',\n",
       "               '2000-10-01 23:58:00', '2000-10-02 00:05:00',\n",
       "               '2000-10-02 00:12:00', '2000-10-02 00:19:00',\n",
       "               '2000-10-02 00:26:00'],\n",
       "              dtype='datetime64[ns]', freq='7T')"
      ]
     },
     "execution_count": 120,
     "metadata": {},
     "output_type": "execute_result"
    }
   ],
   "source": [
    "rng = pd.date_range(start, end, freq='7min')"
   ]
  },
  {
   "cell_type": "code",
   "execution_count": 121,
   "metadata": {},
   "outputs": [
    {
     "data": {
      "text/plain": [
       "2000-10-01 23:30:00     0\n",
       "2000-10-01 23:37:00     3\n",
       "2000-10-01 23:44:00     6\n",
       "2000-10-01 23:51:00     9\n",
       "2000-10-01 23:58:00    12\n",
       "2000-10-02 00:05:00    15\n",
       "2000-10-02 00:12:00    18\n",
       "2000-10-02 00:19:00    21\n",
       "2000-10-02 00:26:00    24\n",
       "Freq: 7T, dtype: int32"
      ]
     },
     "execution_count": 121,
     "metadata": {},
     "output_type": "execute_result"
    }
   ],
   "source": [
    "ts = pd.Series(np.arange(len(rng)) * 3, index=rng)"
   ]
  },
  {
   "cell_type": "code",
   "execution_count": 122,
   "metadata": {},
   "outputs": [
    {
     "data": {
      "text/plain": [
       "Period('2012', 'A-DEC')"
      ]
     },
     "execution_count": 122,
     "metadata": {},
     "output_type": "execute_result"
    }
   ],
   "source": [
    "pd.Period('2012', freq='A-DEC')"
   ]
  },
  {
   "cell_type": "code",
   "execution_count": 123,
   "metadata": {},
   "outputs": [
    {
     "data": {
      "text/plain": [
       "Period('2012', 'A-DEC')"
      ]
     },
     "execution_count": 123,
     "metadata": {},
     "output_type": "execute_result"
    }
   ],
   "source": [
    "p = pd.Period('2012', freq='A-DEC')"
   ]
  },
  {
   "cell_type": "code",
   "execution_count": 124,
   "metadata": {},
   "outputs": [
    {
     "data": {
      "text/plain": [
       "Period('2013', 'A-DEC')"
      ]
     },
     "execution_count": 124,
     "metadata": {},
     "output_type": "execute_result"
    }
   ],
   "source": [
    "p +1"
   ]
  },
  {
   "cell_type": "code",
   "execution_count": 125,
   "metadata": {},
   "outputs": [
    {
     "data": {
      "text/plain": [
       "Period('2009', 'A-DEC')"
      ]
     },
     "execution_count": 125,
     "metadata": {},
     "output_type": "execute_result"
    }
   ],
   "source": [
    "p -3"
   ]
  },
  {
   "cell_type": "code",
   "execution_count": 126,
   "metadata": {},
   "outputs": [
    {
     "data": {
      "text/plain": [
       "Period('2012-01', '2M')"
      ]
     },
     "execution_count": 126,
     "metadata": {},
     "output_type": "execute_result"
    }
   ],
   "source": [
    "p = pd.Period('2012-01', freq='2M')"
   ]
  },
  {
   "cell_type": "code",
   "execution_count": 127,
   "metadata": {},
   "outputs": [
    {
     "data": {
      "text/plain": [
       "Period('2012-05', '2M')"
      ]
     },
     "execution_count": 127,
     "metadata": {},
     "output_type": "execute_result"
    }
   ],
   "source": [
    "p + 2"
   ]
  },
  {
   "cell_type": "code",
   "execution_count": 128,
   "metadata": {},
   "outputs": [
    {
     "data": {
      "text/plain": [
       "Period('2011-11', '2M')"
      ]
     },
     "execution_count": 128,
     "metadata": {},
     "output_type": "execute_result"
    }
   ],
   "source": [
    "p -1"
   ]
  },
  {
   "cell_type": "code",
   "execution_count": 129,
   "metadata": {},
   "outputs": [
    {
     "ename": "IncompatibleFrequency",
     "evalue": "Input has different freq=3M from Period(freq=2M)",
     "output_type": "error",
     "traceback": [
      "\u001b[1;31m---------------------------------------------------------------------------\u001b[0m",
      "\u001b[1;31mIncompatibleFrequency\u001b[0m                     Traceback (most recent call last)",
      "\u001b[1;32m<ipython-input-129-4b67dc0b596c>\u001b[0m in \u001b[0;36m<module>\u001b[1;34m\u001b[0m\n\u001b[1;32m----> 1\u001b[1;33m \u001b[0mp\u001b[0m \u001b[1;33m==\u001b[0m \u001b[0mpd\u001b[0m\u001b[1;33m.\u001b[0m\u001b[0mPeriod\u001b[0m\u001b[1;33m(\u001b[0m\u001b[1;34m'2012-01'\u001b[0m\u001b[1;33m,\u001b[0m \u001b[0mfreq\u001b[0m\u001b[1;33m=\u001b[0m\u001b[1;34m'3M'\u001b[0m\u001b[1;33m)\u001b[0m\u001b[1;33m\u001b[0m\u001b[1;33m\u001b[0m\u001b[0m\n\u001b[0m",
      "\u001b[1;32mpandas\\_libs\\tslibs\\period.pyx\u001b[0m in \u001b[0;36mpandas._libs.tslibs.period._Period.__richcmp__\u001b[1;34m()\u001b[0m\n",
      "\u001b[1;31mIncompatibleFrequency\u001b[0m: Input has different freq=3M from Period(freq=2M)"
     ]
    }
   ],
   "source": [
    "p == pd.Period('2012-01', freq='3M')"
   ]
  },
  {
   "cell_type": "code",
   "execution_count": 133,
   "metadata": {},
   "outputs": [
    {
     "name": "stdout",
     "output_type": "stream",
     "text": [
      "True False\n",
      "False False\n"
     ]
    }
   ],
   "source": [
    "p2 = pd.Period('2012-01', freq='2M')\n",
    "p3 = pd.Period('2011-01', freq='2M')\n",
    "print((p == p2), (p is p2) )\n",
    "print((p == p3), (p is p3) )"
   ]
  },
  {
   "cell_type": "code",
   "execution_count": 134,
   "metadata": {},
   "outputs": [
    {
     "data": {
      "text/plain": [
       "PeriodIndex(['2011-01', '2011-02', '2011-03', '2011-04', '2011-05', '2011-06',\n",
       "             '2011-07', '2011-08', '2011-09', '2011-10', '2011-11', '2011-12',\n",
       "             '2012-01'],\n",
       "            dtype='period[M]', freq='M')"
      ]
     },
     "execution_count": 134,
     "metadata": {},
     "output_type": "execute_result"
    }
   ],
   "source": [
    "prng = pd.period_range('1/1/2011', '1/1/2012', freq='M')"
   ]
  },
  {
   "cell_type": "code",
   "execution_count": 234,
   "metadata": {},
   "outputs": [
    {
     "data": {
      "text/plain": [
       "Period('2012', 'A-DEC')"
      ]
     },
     "execution_count": 234,
     "metadata": {},
     "output_type": "execute_result"
    }
   ],
   "source": [
    "p1 = pd.Period('2012', freq='A-DEC')"
   ]
  },
  {
   "cell_type": "code",
   "execution_count": 235,
   "metadata": {},
   "outputs": [
    {
     "data": {
      "text/plain": [
       "Period('2012-01-01', 'D')"
      ]
     },
     "execution_count": 235,
     "metadata": {},
     "output_type": "execute_result"
    }
   ],
   "source": [
    "p2 = pd.Period('2012-1-1', freq='D')"
   ]
  },
  {
   "cell_type": "code",
   "execution_count": 236,
   "metadata": {},
   "outputs": [
    {
     "data": {
      "text/plain": [
       "Period('2012-01-01 19:00', 'H')"
      ]
     },
     "execution_count": 236,
     "metadata": {},
     "output_type": "execute_result"
    }
   ],
   "source": [
    "p3 = pd.Period('2012-1-1 19:00', freq='H')"
   ]
  },
  {
   "cell_type": "code",
   "execution_count": 237,
   "metadata": {},
   "outputs": [
    {
     "data": {
      "text/plain": [
       "Period('2012-01-01 19:00', '5H')"
      ]
     },
     "execution_count": 237,
     "metadata": {},
     "output_type": "execute_result"
    }
   ],
   "source": [
    "p4 = pd.Period('2012-1-1 19:00', freq='5H')"
   ]
  },
  {
   "cell_type": "code",
   "execution_count": 238,
   "metadata": {},
   "outputs": [
    {
     "data": {
      "text/plain": [
       "Period('2014-07-01 09:00', 'H')"
      ]
     },
     "execution_count": 238,
     "metadata": {},
     "output_type": "execute_result"
    }
   ],
   "source": [
    "p = pd.Period('2014-07-01 09:00', freq='H')"
   ]
  },
  {
   "cell_type": "code",
   "execution_count": 242,
   "metadata": {},
   "outputs": [
    {
     "data": {
      "text/plain": [
       "Period('2014-07-01 11:00', 'H')"
      ]
     },
     "execution_count": 242,
     "metadata": {},
     "output_type": "execute_result"
    }
   ],
   "source": [
    "p + pd.offsets.Hour(2)"
   ]
  },
  {
   "cell_type": "code",
   "execution_count": 245,
   "metadata": {},
   "outputs": [
    {
     "data": {
      "text/plain": [
       "Period('2014-07-01 10:00', 'H')"
      ]
     },
     "execution_count": 245,
     "metadata": {},
     "output_type": "execute_result"
    }
   ],
   "source": [
    "p + datetime.timedelta(minutes=60)"
   ]
  },
  {
   "cell_type": "code",
   "execution_count": 246,
   "metadata": {},
   "outputs": [
    {
     "data": {
      "text/plain": [
       "Period('2014-07-01 11:00', 'H')"
      ]
     },
     "execution_count": 246,
     "metadata": {},
     "output_type": "execute_result"
    }
   ],
   "source": [
    "p + np.timedelta64(7200, 's')"
   ]
  },
  {
   "cell_type": "code",
   "execution_count": 247,
   "metadata": {},
   "outputs": [
    {
     "data": {
      "text/plain": [
       "Period('2014-07', 'M')"
      ]
     },
     "execution_count": 247,
     "metadata": {},
     "output_type": "execute_result"
    }
   ],
   "source": [
    "p = pd.Period('2014-07', freq='M')"
   ]
  },
  {
   "cell_type": "code",
   "execution_count": 248,
   "metadata": {},
   "outputs": [
    {
     "data": {
      "text/plain": [
       "Period('2014-10', 'M')"
      ]
     },
     "execution_count": 248,
     "metadata": {},
     "output_type": "execute_result"
    }
   ],
   "source": [
    "p + pd.offsets.MonthEnd(3)"
   ]
  },
  {
   "cell_type": "code",
   "execution_count": 249,
   "metadata": {},
   "outputs": [
    {
     "data": {
      "text/plain": [
       "PeriodIndex(['2011-01', '2011-02', '2011-03', '2011-04', '2011-05', '2011-06',\n",
       "             '2011-07', '2011-08', '2011-09', '2011-10', '2011-11', '2011-12',\n",
       "             '2012-01'],\n",
       "            dtype='period[M]', freq='M')"
      ]
     },
     "execution_count": 249,
     "metadata": {},
     "output_type": "execute_result"
    }
   ],
   "source": [
    "prng = pd.period_range('1/1/2011', '1/1/2012', freq='M')"
   ]
  },
  {
   "cell_type": "code",
   "execution_count": 251,
   "metadata": {},
   "outputs": [
    {
     "name": "stdout",
     "output_type": "stream",
     "text": [
      "----------------------------------------\n",
      "Type: <class 'pandas.core.series.Series'>\n",
      "Length: 13\n"
     ]
    },
    {
     "data": {
      "text/plain": [
       "2011-01   -0.011362\n",
       "2011-02   -0.619118\n",
       "2011-03   -1.788975\n",
       "2011-04    0.706156\n",
       "2011-05   -1.920391\n",
       "2011-06   -0.594074\n",
       "2011-07    0.195518\n",
       "2011-08    1.577161\n",
       "2011-09   -0.608735\n",
       "2011-10   -0.181588\n",
       "2011-11   -0.405430\n",
       "2011-12    0.138490\n",
       "2012-01    0.388799\n",
       "Freq: M, dtype: float64"
      ]
     },
     "metadata": {},
     "output_type": "display_data"
    },
    {
     "name": "stdout",
     "output_type": "stream",
     "text": [
      "----------------------------------------\n",
      "Type: <class 'pandas.core.indexes.period.PeriodIndex'>\n",
      "Length: 13\n"
     ]
    },
    {
     "data": {
      "text/plain": [
       "PeriodIndex(['2011-01', '2011-02', '2011-03', '2011-04', '2011-05', '2011-06',\n",
       "             '2011-07', '2011-08', '2011-09', '2011-10', '2011-11', '2011-12',\n",
       "             '2012-01'],\n",
       "            dtype='period[M]', freq='M')"
      ]
     },
     "metadata": {},
     "output_type": "display_data"
    }
   ],
   "source": [
    "ps = pd.Series(np.random.randn(len(prng)), prng)\n",
    "z(ps, ps.index)"
   ]
  },
  {
   "cell_type": "code",
   "execution_count": 4,
   "metadata": {},
   "outputs": [
    {
     "data": {
      "text/plain": [
       "Timedelta('1 days 00:00:00')"
      ]
     },
     "execution_count": 4,
     "metadata": {},
     "output_type": "execute_result"
    }
   ],
   "source": [
    "a = pd.Timedelta('1 days')"
   ]
  },
  {
   "cell_type": "code",
   "execution_count": 5,
   "metadata": {},
   "outputs": [
    {
     "data": {
      "text/plain": [
       "Timedelta('1 days 00:00:00')"
      ]
     },
     "execution_count": 5,
     "metadata": {},
     "output_type": "execute_result"
    }
   ],
   "source": [
    "b = pd.Timedelta('1 day')"
   ]
  },
  {
   "cell_type": "code",
   "execution_count": 6,
   "metadata": {},
   "outputs": [
    {
     "data": {
      "text/plain": [
       "Timedelta('-2 days +23:57:59.999997')"
      ]
     },
     "execution_count": 6,
     "metadata": {},
     "output_type": "execute_result"
    }
   ],
   "source": [
    "a = pd.Timedelta('-1 days 2 min 3us')"
   ]
  },
  {
   "cell_type": "code",
   "execution_count": 7,
   "metadata": {},
   "outputs": [
    {
     "data": {
      "text/plain": [
       "Timedelta('-1 days +23:57:59.999997')"
      ]
     },
     "execution_count": 7,
     "metadata": {},
     "output_type": "execute_result"
    }
   ],
   "source": [
    "b = pd.Timedelta('-2 min 3us')"
   ]
  },
  {
   "cell_type": "code",
   "execution_count": 8,
   "metadata": {},
   "outputs": [
    {
     "data": {
      "text/plain": [
       "Timedelta('1 days 00:00:01')"
      ]
     },
     "execution_count": 8,
     "metadata": {},
     "output_type": "execute_result"
    }
   ],
   "source": [
    "a = pd.Timedelta('1 day 1 second')"
   ]
  },
  {
   "cell_type": "code",
   "execution_count": 69,
   "metadata": {},
   "outputs": [
    {
     "name": "stdout",
     "output_type": "stream",
     "text": [
      "----------------------------------------\n",
      "Type: <class 'pandas.core.series.Series'>\n",
      "Length: 2\n"
     ]
    },
    {
     "data": {
      "text/plain": [
       "0   -106752 days +00:12:43.145224193\n",
       "1     106751 days 23:47:16.854775807\n",
       "dtype: timedelta64[ns]"
      ]
     },
     "metadata": {},
     "output_type": "display_data"
    },
    {
     "data": {
      "text/plain": [
       "0    3506.0\n",
       "1    3507.0\n",
       "dtype: float64"
      ]
     },
     "execution_count": 69,
     "metadata": {},
     "output_type": "execute_result"
    }
   ],
   "source": [
    "a = pd.Timedelta.min\n",
    "b = pd.Timedelta.max\n",
    "c = pd.Series([a, b])\n",
    "z(c)\n",
    "c.astype('timedelta64[M]')"
   ]
  },
  {
   "cell_type": "code",
   "execution_count": 73,
   "metadata": {},
   "outputs": [
    {
     "name": "stdout",
     "output_type": "stream",
     "text": [
      "0    600.0\n",
      "dtype: float64\n",
      "0    0.0\n",
      "dtype: float64\n"
     ]
    }
   ],
   "source": [
    "a = pd.Series(pd.Timedelta('10 min'))\n",
    "print(a.astype('timedelta64[s]'))\n",
    "print(a.astype('timedelta64[M]'))\n"
   ]
  },
  {
   "cell_type": "code",
   "execution_count": 61,
   "metadata": {},
   "outputs": [
    {
     "ename": "AttributeError",
     "evalue": "'Timedelta' object has no attribute 'astype'",
     "output_type": "error",
     "traceback": [
      "\u001b[1;31m---------------------------------------------------------------------------\u001b[0m",
      "\u001b[1;31mAttributeError\u001b[0m                            Traceback (most recent call last)",
      "\u001b[1;32m<ipython-input-61-bcc0c9c3c332>\u001b[0m in \u001b[0;36m<module>\u001b[1;34m\u001b[0m\n\u001b[1;32m----> 1\u001b[1;33m \u001b[0ma\u001b[0m\u001b[1;33m.\u001b[0m\u001b[0mastype\u001b[0m\u001b[1;33m(\u001b[0m\u001b[1;34m'timedelta64[D]'\u001b[0m\u001b[1;33m)\u001b[0m\u001b[1;33m\u001b[0m\u001b[1;33m\u001b[0m\u001b[0m\n\u001b[0m",
      "\u001b[1;31mAttributeError\u001b[0m: 'Timedelta' object has no attribute 'astype'"
     ]
    }
   ],
   "source": [
    "a.astype('timedelta64[D]')"
   ]
  },
  {
   "cell_type": "code",
   "execution_count": null,
   "metadata": {},
   "outputs": [],
   "source": []
  },
  {
   "cell_type": "code",
   "execution_count": 14,
   "metadata": {},
   "outputs": [
    {
     "data": {
      "text/plain": [
       "\"Timedelta('-106752 days +00:12:43.145224193')\""
      ]
     },
     "execution_count": 14,
     "metadata": {},
     "output_type": "execute_result"
    }
   ],
   "source": [
    "repr(a)"
   ]
  },
  {
   "cell_type": "code",
   "execution_count": 19,
   "metadata": {},
   "outputs": [
    {
     "data": {
      "text/plain": [
       "Timedelta('-106752 days +00:12:43.145224193')"
      ]
     },
     "execution_count": 19,
     "metadata": {},
     "output_type": "execute_result"
    }
   ],
   "source": [
    "b = pd.Timedelta(a, 'hours')"
   ]
  },
  {
   "cell_type": "code",
   "execution_count": 18,
   "metadata": {},
   "outputs": [
    {
     "ename": "TypeError",
     "evalue": "view() takes exactly one argument (0 given)",
     "output_type": "error",
     "traceback": [
      "\u001b[1;31m---------------------------------------------------------------------------\u001b[0m",
      "\u001b[1;31mTypeError\u001b[0m                                 Traceback (most recent call last)",
      "\u001b[1;32m<ipython-input-18-e900549bf5c0>\u001b[0m in \u001b[0;36m<module>\u001b[1;34m\u001b[0m\n\u001b[1;32m----> 1\u001b[1;33m \u001b[0ma\u001b[0m\u001b[1;33m.\u001b[0m\u001b[0mview\u001b[0m\u001b[1;33m(\u001b[0m\u001b[1;33m)\u001b[0m\u001b[1;33m\u001b[0m\u001b[1;33m\u001b[0m\u001b[0m\n\u001b[0m",
      "\u001b[1;31mTypeError\u001b[0m: view() takes exactly one argument (0 given)"
     ]
    }
   ],
   "source": [
    "a.view()"
   ]
  },
  {
   "cell_type": "code",
   "execution_count": 21,
   "metadata": {},
   "outputs": [
    {
     "data": {
      "text/plain": [
       "Timedelta('0 days 00:00:00.001000')"
      ]
     },
     "execution_count": 21,
     "metadata": {},
     "output_type": "execute_result"
    }
   ],
   "source": [
    "pd.Timedelta('1 ms')"
   ]
  },
  {
   "cell_type": "code",
   "execution_count": 22,
   "metadata": {},
   "outputs": [
    {
     "data": {
      "text/plain": [
       "0   2012-01-01\n",
       "1   2012-01-02\n",
       "2   2012-01-03\n",
       "dtype: datetime64[ns]"
      ]
     },
     "execution_count": 22,
     "metadata": {},
     "output_type": "execute_result"
    }
   ],
   "source": [
    "s = pd.Series(pd.date_range('2012-1-1', periods=3, freq='D'))"
   ]
  },
  {
   "cell_type": "code",
   "execution_count": 23,
   "metadata": {},
   "outputs": [
    {
     "data": {
      "text/plain": [
       "0   0 days\n",
       "1   1 days\n",
       "2   2 days\n",
       "dtype: timedelta64[ns]"
      ]
     },
     "execution_count": 23,
     "metadata": {},
     "output_type": "execute_result"
    }
   ],
   "source": [
    "td = pd.Series([pd.Timedelta(days=i) for i in range(3)])"
   ]
  },
  {
   "cell_type": "code",
   "execution_count": 24,
   "metadata": {},
   "outputs": [
    {
     "data": {
      "text/html": [
       "<div>\n",
       "<style scoped>\n",
       "    .dataframe tbody tr th:only-of-type {\n",
       "        vertical-align: middle;\n",
       "    }\n",
       "\n",
       "    .dataframe tbody tr th {\n",
       "        vertical-align: top;\n",
       "    }\n",
       "\n",
       "    .dataframe thead th {\n",
       "        text-align: right;\n",
       "    }\n",
       "</style>\n",
       "<table border=\"1\" class=\"dataframe\">\n",
       "  <thead>\n",
       "    <tr style=\"text-align: right;\">\n",
       "      <th></th>\n",
       "      <th>A</th>\n",
       "      <th>B</th>\n",
       "    </tr>\n",
       "  </thead>\n",
       "  <tbody>\n",
       "    <tr>\n",
       "      <th>0</th>\n",
       "      <td>2012-01-01</td>\n",
       "      <td>0 days</td>\n",
       "    </tr>\n",
       "    <tr>\n",
       "      <th>1</th>\n",
       "      <td>2012-01-02</td>\n",
       "      <td>1 days</td>\n",
       "    </tr>\n",
       "    <tr>\n",
       "      <th>2</th>\n",
       "      <td>2012-01-03</td>\n",
       "      <td>2 days</td>\n",
       "    </tr>\n",
       "  </tbody>\n",
       "</table>\n",
       "</div>"
      ],
      "text/plain": [
       "           A      B\n",
       "0 2012-01-01 0 days\n",
       "1 2012-01-02 1 days\n",
       "2 2012-01-03 2 days"
      ]
     },
     "execution_count": 24,
     "metadata": {},
     "output_type": "execute_result"
    }
   ],
   "source": [
    "df = pd.DataFrame({'A': s, 'B': td})"
   ]
  },
  {
   "cell_type": "code",
   "execution_count": 25,
   "metadata": {},
   "outputs": [],
   "source": [
    "df['C'] = df['A'] + df['B']"
   ]
  },
  {
   "cell_type": "code",
   "execution_count": 26,
   "metadata": {},
   "outputs": [
    {
     "data": {
      "text/html": [
       "<div>\n",
       "<style scoped>\n",
       "    .dataframe tbody tr th:only-of-type {\n",
       "        vertical-align: middle;\n",
       "    }\n",
       "\n",
       "    .dataframe tbody tr th {\n",
       "        vertical-align: top;\n",
       "    }\n",
       "\n",
       "    .dataframe thead th {\n",
       "        text-align: right;\n",
       "    }\n",
       "</style>\n",
       "<table border=\"1\" class=\"dataframe\">\n",
       "  <thead>\n",
       "    <tr style=\"text-align: right;\">\n",
       "      <th></th>\n",
       "      <th>A</th>\n",
       "      <th>B</th>\n",
       "      <th>C</th>\n",
       "    </tr>\n",
       "  </thead>\n",
       "  <tbody>\n",
       "    <tr>\n",
       "      <th>0</th>\n",
       "      <td>2012-01-01</td>\n",
       "      <td>0 days</td>\n",
       "      <td>2012-01-01</td>\n",
       "    </tr>\n",
       "    <tr>\n",
       "      <th>1</th>\n",
       "      <td>2012-01-02</td>\n",
       "      <td>1 days</td>\n",
       "      <td>2012-01-03</td>\n",
       "    </tr>\n",
       "    <tr>\n",
       "      <th>2</th>\n",
       "      <td>2012-01-03</td>\n",
       "      <td>2 days</td>\n",
       "      <td>2012-01-05</td>\n",
       "    </tr>\n",
       "  </tbody>\n",
       "</table>\n",
       "</div>"
      ],
      "text/plain": [
       "           A      B          C\n",
       "0 2012-01-01 0 days 2012-01-01\n",
       "1 2012-01-02 1 days 2012-01-03\n",
       "2 2012-01-03 2 days 2012-01-05"
      ]
     },
     "execution_count": 26,
     "metadata": {},
     "output_type": "execute_result"
    }
   ],
   "source": [
    "df"
   ]
  },
  {
   "cell_type": "code",
   "execution_count": 27,
   "metadata": {},
   "outputs": [
    {
     "data": {
      "text/plain": [
       "0   -2 days\n",
       "1   -1 days\n",
       "2    0 days\n",
       "dtype: timedelta64[ns]"
      ]
     },
     "execution_count": 27,
     "metadata": {},
     "output_type": "execute_result"
    }
   ],
   "source": [
    "s - s.max()"
   ]
  },
  {
   "cell_type": "code",
   "execution_count": 28,
   "metadata": {},
   "outputs": [
    {
     "data": {
      "text/plain": [
       "0   2012-01-01\n",
       "1   2012-01-02\n",
       "2   2012-01-03\n",
       "dtype: datetime64[ns]"
      ]
     },
     "execution_count": 28,
     "metadata": {},
     "output_type": "execute_result"
    }
   ],
   "source": [
    "s"
   ]
  },
  {
   "cell_type": "code",
   "execution_count": 29,
   "metadata": {},
   "outputs": [
    {
     "data": {
      "text/plain": [
       "0          NaT\n",
       "1   2012-01-01\n",
       "2   2012-01-02\n",
       "dtype: datetime64[ns]"
      ]
     },
     "execution_count": 29,
     "metadata": {},
     "output_type": "execute_result"
    }
   ],
   "source": [
    "s.shift()"
   ]
  },
  {
   "cell_type": "code",
   "execution_count": 30,
   "metadata": {},
   "outputs": [
    {
     "data": {
      "text/plain": [
       "0      NaT\n",
       "1   1 days\n",
       "2   1 days\n",
       "dtype: timedelta64[ns]"
      ]
     },
     "execution_count": 30,
     "metadata": {},
     "output_type": "execute_result"
    }
   ],
   "source": [
    "y = s - s.shift()"
   ]
  },
  {
   "cell_type": "code",
   "execution_count": 31,
   "metadata": {},
   "outputs": [
    {
     "data": {
      "text/plain": [
       "datetime.datetime(2011, 1, 1, 3, 5)"
      ]
     },
     "execution_count": 31,
     "metadata": {},
     "output_type": "execute_result"
    }
   ],
   "source": [
    "a = datetime.datetime(2011, 1, 1, 3, 5)"
   ]
  },
  {
   "cell_type": "code",
   "execution_count": 35,
   "metadata": {},
   "outputs": [
    {
     "data": {
      "text/plain": [
       "datetime.timedelta(seconds=11160)"
      ]
     },
     "execution_count": 35,
     "metadata": {},
     "output_type": "execute_result"
    }
   ],
   "source": [
    "b = datetime.timedelta(hours=3, minutes=6)"
   ]
  },
  {
   "cell_type": "code",
   "execution_count": 36,
   "metadata": {},
   "outputs": [
    {
     "data": {
      "text/plain": [
       "datetime.datetime(2010, 12, 31, 23, 59)"
      ]
     },
     "execution_count": 36,
     "metadata": {},
     "output_type": "execute_result"
    }
   ],
   "source": [
    "a - b"
   ]
  },
  {
   "cell_type": "code",
   "execution_count": 37,
   "metadata": {},
   "outputs": [
    {
     "data": {
      "text/html": [
       "<div>\n",
       "<style scoped>\n",
       "    .dataframe tbody tr th:only-of-type {\n",
       "        vertical-align: middle;\n",
       "    }\n",
       "\n",
       "    .dataframe tbody tr th {\n",
       "        vertical-align: top;\n",
       "    }\n",
       "\n",
       "    .dataframe thead th {\n",
       "        text-align: right;\n",
       "    }\n",
       "</style>\n",
       "<table border=\"1\" class=\"dataframe\">\n",
       "  <thead>\n",
       "    <tr style=\"text-align: right;\">\n",
       "      <th></th>\n",
       "      <th>A</th>\n",
       "      <th>B</th>\n",
       "    </tr>\n",
       "  </thead>\n",
       "  <tbody>\n",
       "    <tr>\n",
       "      <th>0</th>\n",
       "      <td>-1 days +23:54:55</td>\n",
       "      <td>-1 days</td>\n",
       "    </tr>\n",
       "    <tr>\n",
       "      <th>1</th>\n",
       "      <td>0 days 23:54:55</td>\n",
       "      <td>-1 days</td>\n",
       "    </tr>\n",
       "    <tr>\n",
       "      <th>2</th>\n",
       "      <td>1 days 23:54:55</td>\n",
       "      <td>-1 days</td>\n",
       "    </tr>\n",
       "  </tbody>\n",
       "</table>\n",
       "</div>"
      ],
      "text/plain": [
       "                  A       B\n",
       "0 -1 days +23:54:55 -1 days\n",
       "1   0 days 23:54:55 -1 days\n",
       "2   1 days 23:54:55 -1 days"
      ]
     },
     "execution_count": 37,
     "metadata": {},
     "output_type": "execute_result"
    }
   ],
   "source": [
    "A = s - pd.Timestamp('20120101') - pd.Timedelta('00:05:05')\n",
    "B = s - pd.Series(pd.date_range('2012-1-2', periods=3, freq='D'))\n",
    "df = pd.DataFrame({'A': A, 'B': B})"
   ]
  },
  {
   "cell_type": "code",
   "execution_count": 39,
   "metadata": {},
   "outputs": [
    {
     "data": {
      "text/plain": [
       "Timedelta('0 days 00:54:55')"
      ]
     },
     "execution_count": 39,
     "metadata": {},
     "output_type": "execute_result"
    }
   ],
   "source": [
    "pd.Timedelta('-00:05:05') + pd.Timedelta('01:00:00')"
   ]
  },
  {
   "cell_type": "code",
   "execution_count": 40,
   "metadata": {},
   "outputs": [
    {
     "data": {
      "text/plain": [
       "A   -1 days +23:54:55\n",
       "B   -1 days +00:00:00\n",
       "dtype: timedelta64[ns]"
      ]
     },
     "execution_count": 40,
     "metadata": {},
     "output_type": "execute_result"
    }
   ],
   "source": [
    "df.min()"
   ]
  },
  {
   "cell_type": "code",
   "execution_count": 41,
   "metadata": {},
   "outputs": [
    {
     "data": {
      "text/plain": [
       "A    0\n",
       "B    0\n",
       "dtype: int64"
      ]
     },
     "execution_count": 41,
     "metadata": {},
     "output_type": "execute_result"
    }
   ],
   "source": [
    "df.idxmin()"
   ]
  },
  {
   "cell_type": "code",
   "execution_count": 42,
   "metadata": {},
   "outputs": [
    {
     "name": "stdout",
     "output_type": "stream",
     "text": [
      "<class 'pandas.core.frame.DataFrame'>\n",
      "RangeIndex: 3 entries, 0 to 2\n",
      "Data columns (total 2 columns):\n",
      " #   Column  Non-Null Count  Dtype          \n",
      "---  ------  --------------  -----          \n",
      " 0   A       3 non-null      timedelta64[ns]\n",
      " 1   B       3 non-null      timedelta64[ns]\n",
      "dtypes: timedelta64[ns](2)\n",
      "memory usage: 112.0 bytes\n",
      "None\n"
     ]
    },
    {
     "data": {
      "text/html": [
       "<div>\n",
       "<style scoped>\n",
       "    .dataframe tbody tr th:only-of-type {\n",
       "        vertical-align: middle;\n",
       "    }\n",
       "\n",
       "    .dataframe tbody tr th {\n",
       "        vertical-align: top;\n",
       "    }\n",
       "\n",
       "    .dataframe thead th {\n",
       "        text-align: right;\n",
       "    }\n",
       "</style>\n",
       "<table border=\"1\" class=\"dataframe\">\n",
       "  <thead>\n",
       "    <tr style=\"text-align: right;\">\n",
       "      <th></th>\n",
       "      <th>A</th>\n",
       "      <th>B</th>\n",
       "    </tr>\n",
       "  </thead>\n",
       "  <tbody>\n",
       "    <tr>\n",
       "      <th>0</th>\n",
       "      <td>-1 days +23:54:55</td>\n",
       "      <td>-1 days</td>\n",
       "    </tr>\n",
       "    <tr>\n",
       "      <th>1</th>\n",
       "      <td>0 days 23:54:55</td>\n",
       "      <td>-1 days</td>\n",
       "    </tr>\n",
       "    <tr>\n",
       "      <th>2</th>\n",
       "      <td>1 days 23:54:55</td>\n",
       "      <td>-1 days</td>\n",
       "    </tr>\n",
       "  </tbody>\n",
       "</table>\n",
       "</div>"
      ],
      "text/plain": [
       "                  A       B\n",
       "0 -1 days +23:54:55 -1 days\n",
       "1   0 days 23:54:55 -1 days\n",
       "2   1 days 23:54:55 -1 days"
      ]
     },
     "metadata": {},
     "output_type": "display_data"
    }
   ],
   "source": [
    "z(df)"
   ]
  },
  {
   "cell_type": "code",
   "execution_count": 43,
   "metadata": {},
   "outputs": [
    {
     "data": {
      "text/plain": [
       "Timedelta('-2 days +00:00:00')"
      ]
     },
     "execution_count": 43,
     "metadata": {},
     "output_type": "execute_result"
    }
   ],
   "source": [
    "a = pd.Timedelta('-1 days')\n",
    "b = pd.Timedelta('-2 days')\n",
    "min(a, b)"
   ]
  },
  {
   "cell_type": "code",
   "execution_count": 44,
   "metadata": {},
   "outputs": [
    {
     "data": {
      "text/html": [
       "<div>\n",
       "<style scoped>\n",
       "    .dataframe tbody tr th:only-of-type {\n",
       "        vertical-align: middle;\n",
       "    }\n",
       "\n",
       "    .dataframe tbody tr th {\n",
       "        vertical-align: top;\n",
       "    }\n",
       "\n",
       "    .dataframe thead th {\n",
       "        text-align: right;\n",
       "    }\n",
       "</style>\n",
       "<table border=\"1\" class=\"dataframe\">\n",
       "  <thead>\n",
       "    <tr style=\"text-align: right;\">\n",
       "      <th></th>\n",
       "      <th>A</th>\n",
       "      <th>B</th>\n",
       "    </tr>\n",
       "  </thead>\n",
       "  <tbody>\n",
       "    <tr>\n",
       "      <th>0</th>\n",
       "      <td>-1 days +23:54:55</td>\n",
       "      <td>-1 days</td>\n",
       "    </tr>\n",
       "    <tr>\n",
       "      <th>1</th>\n",
       "      <td>0 days 23:54:55</td>\n",
       "      <td>-1 days</td>\n",
       "    </tr>\n",
       "    <tr>\n",
       "      <th>2</th>\n",
       "      <td>1 days 23:54:55</td>\n",
       "      <td>-1 days</td>\n",
       "    </tr>\n",
       "  </tbody>\n",
       "</table>\n",
       "</div>"
      ],
      "text/plain": [
       "                  A       B\n",
       "0 -1 days +23:54:55 -1 days\n",
       "1   0 days 23:54:55 -1 days\n",
       "2   1 days 23:54:55 -1 days"
      ]
     },
     "execution_count": 44,
     "metadata": {},
     "output_type": "execute_result"
    }
   ],
   "source": [
    "df"
   ]
  },
  {
   "cell_type": "code",
   "execution_count": 45,
   "metadata": {},
   "outputs": [
    {
     "data": {
      "text/plain": [
       "A   -1 days +23:54:55\n",
       "B   -1 days +00:00:00\n",
       "dtype: timedelta64[ns]"
      ]
     },
     "execution_count": 45,
     "metadata": {},
     "output_type": "execute_result"
    }
   ],
   "source": [
    "df.min()"
   ]
  },
  {
   "cell_type": "code",
   "execution_count": 46,
   "metadata": {},
   "outputs": [
    {
     "data": {
      "text/plain": [
       "0   -1 days\n",
       "1   -1 days\n",
       "2   -1 days\n",
       "dtype: timedelta64[ns]"
      ]
     },
     "execution_count": 46,
     "metadata": {},
     "output_type": "execute_result"
    }
   ],
   "source": [
    "df.min(axis=1)"
   ]
  },
  {
   "cell_type": "code",
   "execution_count": 47,
   "metadata": {},
   "outputs": [
    {
     "data": {
      "text/plain": [
       "A    0\n",
       "B    0\n",
       "dtype: int64"
      ]
     },
     "execution_count": 47,
     "metadata": {},
     "output_type": "execute_result"
    }
   ],
   "source": [
    "df.idxmin()"
   ]
  },
  {
   "cell_type": "code",
   "execution_count": 48,
   "metadata": {},
   "outputs": [
    {
     "data": {
      "text/plain": [
       "0    B\n",
       "1    B\n",
       "2    B\n",
       "dtype: object"
      ]
     },
     "execution_count": 48,
     "metadata": {},
     "output_type": "execute_result"
    }
   ],
   "source": [
    "df.idxmin(axis=1)"
   ]
  },
  {
   "cell_type": "code",
   "execution_count": 49,
   "metadata": {},
   "outputs": [
    {
     "data": {
      "text/plain": [
       "0      NaT\n",
       "1   1 days\n",
       "2   1 days\n",
       "dtype: timedelta64[ns]"
      ]
     },
     "execution_count": 49,
     "metadata": {},
     "output_type": "execute_result"
    }
   ],
   "source": [
    "y"
   ]
  },
  {
   "cell_type": "code",
   "execution_count": 50,
   "metadata": {},
   "outputs": [
    {
     "data": {
      "text/plain": [
       "0   0 days\n",
       "1   1 days\n",
       "2   1 days\n",
       "dtype: timedelta64[ns]"
      ]
     },
     "execution_count": 50,
     "metadata": {},
     "output_type": "execute_result"
    }
   ],
   "source": [
    " y.fillna(pd.Timedelta(0))"
   ]
  },
  {
   "cell_type": "code",
   "execution_count": 51,
   "metadata": {},
   "outputs": [
    {
     "data": {
      "text/plain": [
       "0   -1 days +00:00:05\n",
       "1                 NaT\n",
       "2   -1 days +00:00:05\n",
       "3     1 days 00:00:00\n",
       "dtype: timedelta64[ns]"
      ]
     },
     "execution_count": 51,
     "metadata": {},
     "output_type": "execute_result"
    }
   ],
   "source": [
    "y2 = pd.Series(pd.to_timedelta(['-1 days +00:00:05', 'nat',\n",
    "   ....:                                 '-1 days +00:00:05', '1 days']))"
   ]
  },
  {
   "cell_type": "code",
   "execution_count": 74,
   "metadata": {},
   "outputs": [
    {
     "data": {
      "text/plain": [
       "0   2012-12-01\n",
       "1   2012-12-02\n",
       "2   2012-12-03\n",
       "3   2012-12-04\n",
       "dtype: datetime64[ns]"
      ]
     },
     "execution_count": 74,
     "metadata": {},
     "output_type": "execute_result"
    }
   ],
   "source": [
    "december = pd.Series(pd.date_range('20121201', periods=4))"
   ]
  },
  {
   "cell_type": "code",
   "execution_count": 75,
   "metadata": {},
   "outputs": [
    {
     "data": {
      "text/plain": [
       "0   2013-01-01\n",
       "1   2013-01-02\n",
       "2   2013-01-03\n",
       "3   2013-01-04\n",
       "dtype: datetime64[ns]"
      ]
     },
     "execution_count": 75,
     "metadata": {},
     "output_type": "execute_result"
    }
   ],
   "source": [
    "january = pd.Series(pd.date_range('20130101', periods=4))"
   ]
  },
  {
   "cell_type": "code",
   "execution_count": 76,
   "metadata": {},
   "outputs": [
    {
     "data": {
      "text/plain": [
       "0   31 days\n",
       "1   31 days\n",
       "2   31 days\n",
       "3   31 days\n",
       "dtype: timedelta64[ns]"
      ]
     },
     "execution_count": 76,
     "metadata": {},
     "output_type": "execute_result"
    }
   ],
   "source": [
    "td = january - december"
   ]
  },
  {
   "cell_type": "code",
   "execution_count": 77,
   "metadata": {},
   "outputs": [],
   "source": [
    "td[2] += datetime.timedelta(minutes=5, seconds=3)"
   ]
  },
  {
   "cell_type": "code",
   "execution_count": 78,
   "metadata": {},
   "outputs": [
    {
     "data": {
      "text/plain": [
       "0   31 days 00:00:00\n",
       "1   31 days 00:00:00\n",
       "2   31 days 00:05:03\n",
       "3   31 days 00:00:00\n",
       "dtype: timedelta64[ns]"
      ]
     },
     "execution_count": 78,
     "metadata": {},
     "output_type": "execute_result"
    }
   ],
   "source": [
    "td"
   ]
  },
  {
   "cell_type": "code",
   "execution_count": 79,
   "metadata": {},
   "outputs": [
    {
     "data": {
      "text/plain": [
       "0   31 days 00:00:00\n",
       "1   31 days 00:00:00\n",
       "2   31 days 00:05:03\n",
       "3                NaT\n",
       "dtype: timedelta64[ns]"
      ]
     },
     "execution_count": 79,
     "metadata": {},
     "output_type": "execute_result"
    }
   ],
   "source": [
    "td[3] = np.nan\n",
    "td"
   ]
  },
  {
   "cell_type": "code",
   "execution_count": 80,
   "metadata": {},
   "outputs": [
    {
     "data": {
      "text/plain": [
       "0    31.000000\n",
       "1    31.000000\n",
       "2    31.003507\n",
       "3          NaN\n",
       "dtype: float64"
      ]
     },
     "execution_count": 80,
     "metadata": {},
     "output_type": "execute_result"
    }
   ],
   "source": [
    "td / np.timedelta64(1, 'D')"
   ]
  },
  {
   "cell_type": "code",
   "execution_count": 81,
   "metadata": {},
   "outputs": [
    {
     "data": {
      "text/plain": [
       "dtype('<m8[ns]')"
      ]
     },
     "execution_count": 81,
     "metadata": {},
     "output_type": "execute_result"
    }
   ],
   "source": [
    "td.dtype"
   ]
  },
  {
   "cell_type": "code",
   "execution_count": 82,
   "metadata": {},
   "outputs": [
    {
     "data": {
      "text/plain": [
       "pandas.core.series.Series"
      ]
     },
     "execution_count": 82,
     "metadata": {},
     "output_type": "execute_result"
    }
   ],
   "source": [
    "type(td)"
   ]
  },
  {
   "cell_type": "code",
   "execution_count": 84,
   "metadata": {},
   "outputs": [
    {
     "data": {
      "text/plain": [
       "0    31.0\n",
       "1    31.0\n",
       "2    31.0\n",
       "3     NaN\n",
       "dtype: float64"
      ]
     },
     "execution_count": 84,
     "metadata": {},
     "output_type": "execute_result"
    }
   ],
   "source": [
    "a = td.astype('timedelta64[D]')"
   ]
  },
  {
   "cell_type": "code",
   "execution_count": 85,
   "metadata": {},
   "outputs": [
    {
     "name": "stdout",
     "output_type": "stream",
     "text": [
      "----------------------------------------\n",
      "Type: <class 'pandas.core.series.Series'>\n",
      "Length: 4\n"
     ]
    },
    {
     "data": {
      "text/plain": [
       "0    31.0\n",
       "1    31.0\n",
       "2    31.0\n",
       "3     NaN\n",
       "dtype: float64"
      ]
     },
     "metadata": {},
     "output_type": "display_data"
    }
   ],
   "source": [
    "z(a)"
   ]
  },
  {
   "cell_type": "code",
   "execution_count": 86,
   "metadata": {},
   "outputs": [
    {
     "data": {
      "text/plain": [
       "0    2678400.0\n",
       "1    2678400.0\n",
       "2    2678703.0\n",
       "3          NaN\n",
       "dtype: float64"
      ]
     },
     "execution_count": 86,
     "metadata": {},
     "output_type": "execute_result"
    }
   ],
   "source": [
    "td / np.timedelta64(1, 's')"
   ]
  },
  {
   "cell_type": "code",
   "execution_count": 87,
   "metadata": {},
   "outputs": [
    {
     "data": {
      "text/plain": [
       "0    2678400.0\n",
       "1    2678400.0\n",
       "2    2678703.0\n",
       "3          NaN\n",
       "dtype: float64"
      ]
     },
     "execution_count": 87,
     "metadata": {},
     "output_type": "execute_result"
    }
   ],
   "source": [
    "td.astype('timedelta64[s]')"
   ]
  },
  {
   "cell_type": "code",
   "execution_count": 91,
   "metadata": {},
   "outputs": [
    {
     "name": "stdout",
     "output_type": "stream",
     "text": [
      "1 months\n"
     ]
    }
   ],
   "source": [
    "a = np.timedelta64(1, 'M')\n",
    "type(a)\n",
    "print(a)"
   ]
  },
  {
   "cell_type": "code",
   "execution_count": 94,
   "metadata": {},
   "outputs": [
    {
     "data": {
      "text/plain": [
       "numpy.timedelta64(30,'D')"
      ]
     },
     "execution_count": 94,
     "metadata": {},
     "output_type": "execute_result"
    }
   ],
   "source": [
    "a.astype('timedelta64[D]')"
   ]
  },
  {
   "cell_type": "code",
   "execution_count": 95,
   "metadata": {},
   "outputs": [
    {
     "data": {
      "text/plain": [
       "360"
      ]
     },
     "execution_count": 95,
     "metadata": {},
     "output_type": "execute_result"
    }
   ],
   "source": [
    "30*12"
   ]
  },
  {
   "cell_type": "code",
   "execution_count": 101,
   "metadata": {},
   "outputs": [
    {
     "data": {
      "text/plain": [
       "numpy.timedelta64(4,'Y')"
      ]
     },
     "execution_count": 101,
     "metadata": {},
     "output_type": "execute_result"
    }
   ],
   "source": [
    "a = np.timedelta64(4, 'Y')\n"
   ]
  },
  {
   "cell_type": "code",
   "execution_count": 102,
   "metadata": {},
   "outputs": [
    {
     "data": {
      "text/plain": [
       "numpy.timedelta64(1460,'D')"
      ]
     },
     "execution_count": 102,
     "metadata": {},
     "output_type": "execute_result"
    }
   ],
   "source": [
    "a.astype('timedelta64[D]')"
   ]
  },
  {
   "cell_type": "code",
   "execution_count": 103,
   "metadata": {},
   "outputs": [
    {
     "data": {
      "text/plain": [
       "4.0"
      ]
     },
     "execution_count": 103,
     "metadata": {},
     "output_type": "execute_result"
    }
   ],
   "source": [
    "1460/365"
   ]
  },
  {
   "cell_type": "code",
   "execution_count": 133,
   "metadata": {},
   "outputs": [
    {
     "name": "stdout",
     "output_type": "stream",
     "text": [
      "<class 'numpy.timedelta64'> 5000 years\n",
      "<class 'numpy.timedelta64'> 60000 months\n",
      "<class 'numpy.timedelta64'> 1826212 days\n"
     ]
    }
   ],
   "source": [
    "a = np.timedelta64(5000, 'Y')\n",
    "a_float = a.astype(float)\n",
    "b = a.astype('timedelta64[M]')\n",
    "b_float = b.astype(float)\n",
    "c = a.astype('timedelta64[D]')\n",
    "c_float = c.astype(float)\n",
    "\n",
    "print(type(a), a)\n",
    "print(type(b), b)\n",
    "print(type(c), c)"
   ]
  },
  {
   "cell_type": "code",
   "execution_count": 134,
   "metadata": {},
   "outputs": [
    {
     "data": {
      "text/plain": [
       "30.436866666666667"
      ]
     },
     "execution_count": 134,
     "metadata": {},
     "output_type": "execute_result"
    }
   ],
   "source": [
    "e = c_float/ b_float"
   ]
  },
  {
   "cell_type": "code",
   "execution_count": 135,
   "metadata": {},
   "outputs": [
    {
     "data": {
      "text/plain": [
       "365.2424"
      ]
     },
     "execution_count": 135,
     "metadata": {},
     "output_type": "execute_result"
    }
   ],
   "source": [
    "f = c_float / a_float"
   ]
  },
  {
   "cell_type": "code",
   "execution_count": 136,
   "metadata": {},
   "outputs": [
    {
     "data": {
      "text/plain": [
       "0   31 days 00:00:00\n",
       "1   31 days 00:00:00\n",
       "2   31 days 00:05:03\n",
       "3                NaT\n",
       "dtype: timedelta64[ns]"
      ]
     },
     "execution_count": 136,
     "metadata": {},
     "output_type": "execute_result"
    }
   ],
   "source": [
    "td"
   ]
  },
  {
   "cell_type": "code",
   "execution_count": 137,
   "metadata": {},
   "outputs": [
    {
     "data": {
      "text/plain": [
       "0   -31 days +00:00:00\n",
       "1   -31 days +00:00:00\n",
       "2   -32 days +23:54:57\n",
       "3                  NaT\n",
       "dtype: timedelta64[ns]"
      ]
     },
     "execution_count": 137,
     "metadata": {},
     "output_type": "execute_result"
    }
   ],
   "source": [
    "td * -1"
   ]
  },
  {
   "cell_type": "code",
   "execution_count": 138,
   "metadata": {},
   "outputs": [
    {
     "data": {
      "text/plain": [
       "0   31 days 00:00:00\n",
       "1   62 days 00:00:00\n",
       "2   93 days 00:15:09\n",
       "3                NaT\n",
       "dtype: timedelta64[ns]"
      ]
     },
     "execution_count": 138,
     "metadata": {},
     "output_type": "execute_result"
    }
   ],
   "source": [
    "td * pd.Series([1, 2, 3, 4])"
   ]
  },
  {
   "cell_type": "code",
   "execution_count": 139,
   "metadata": {},
   "outputs": [
    {
     "data": {
      "text/plain": [
       "0    31.0\n",
       "1    31.0\n",
       "2    31.0\n",
       "3     NaN\n",
       "dtype: float64"
      ]
     },
     "execution_count": 139,
     "metadata": {},
     "output_type": "execute_result"
    }
   ],
   "source": [
    "td.dt.days"
   ]
  },
  {
   "cell_type": "code",
   "execution_count": 140,
   "metadata": {},
   "outputs": [
    {
     "data": {
      "text/html": [
       "<div>\n",
       "<style scoped>\n",
       "    .dataframe tbody tr th:only-of-type {\n",
       "        vertical-align: middle;\n",
       "    }\n",
       "\n",
       "    .dataframe tbody tr th {\n",
       "        vertical-align: top;\n",
       "    }\n",
       "\n",
       "    .dataframe thead th {\n",
       "        text-align: right;\n",
       "    }\n",
       "</style>\n",
       "<table border=\"1\" class=\"dataframe\">\n",
       "  <thead>\n",
       "    <tr style=\"text-align: right;\">\n",
       "      <th></th>\n",
       "      <th>days</th>\n",
       "      <th>hours</th>\n",
       "      <th>minutes</th>\n",
       "      <th>seconds</th>\n",
       "      <th>milliseconds</th>\n",
       "      <th>microseconds</th>\n",
       "      <th>nanoseconds</th>\n",
       "    </tr>\n",
       "  </thead>\n",
       "  <tbody>\n",
       "    <tr>\n",
       "      <th>0</th>\n",
       "      <td>31.0</td>\n",
       "      <td>0.0</td>\n",
       "      <td>0.0</td>\n",
       "      <td>0.0</td>\n",
       "      <td>0.0</td>\n",
       "      <td>0.0</td>\n",
       "      <td>0.0</td>\n",
       "    </tr>\n",
       "    <tr>\n",
       "      <th>1</th>\n",
       "      <td>31.0</td>\n",
       "      <td>0.0</td>\n",
       "      <td>0.0</td>\n",
       "      <td>0.0</td>\n",
       "      <td>0.0</td>\n",
       "      <td>0.0</td>\n",
       "      <td>0.0</td>\n",
       "    </tr>\n",
       "    <tr>\n",
       "      <th>2</th>\n",
       "      <td>31.0</td>\n",
       "      <td>0.0</td>\n",
       "      <td>5.0</td>\n",
       "      <td>3.0</td>\n",
       "      <td>0.0</td>\n",
       "      <td>0.0</td>\n",
       "      <td>0.0</td>\n",
       "    </tr>\n",
       "    <tr>\n",
       "      <th>3</th>\n",
       "      <td>NaN</td>\n",
       "      <td>NaN</td>\n",
       "      <td>NaN</td>\n",
       "      <td>NaN</td>\n",
       "      <td>NaN</td>\n",
       "      <td>NaN</td>\n",
       "      <td>NaN</td>\n",
       "    </tr>\n",
       "  </tbody>\n",
       "</table>\n",
       "</div>"
      ],
      "text/plain": [
       "   days  hours  minutes  seconds  milliseconds  microseconds  nanoseconds\n",
       "0  31.0    0.0      0.0      0.0           0.0           0.0          0.0\n",
       "1  31.0    0.0      0.0      0.0           0.0           0.0          0.0\n",
       "2  31.0    0.0      5.0      3.0           0.0           0.0          0.0\n",
       "3   NaN    NaN      NaN      NaN           NaN           NaN          NaN"
      ]
     },
     "execution_count": 140,
     "metadata": {},
     "output_type": "execute_result"
    }
   ],
   "source": [
    "td.dt.components"
   ]
  },
  {
   "cell_type": "code",
   "execution_count": 141,
   "metadata": {},
   "outputs": [
    {
     "data": {
      "text/plain": [
       "0      0.0\n",
       "1      0.0\n",
       "2    303.0\n",
       "3      NaN\n",
       "dtype: float64"
      ]
     },
     "execution_count": 141,
     "metadata": {},
     "output_type": "execute_result"
    }
   ],
   "source": [
    "td.dt.seconds"
   ]
  },
  {
   "cell_type": "code",
   "execution_count": 142,
   "metadata": {},
   "outputs": [
    {
     "data": {
      "text/plain": [
       "Timedelta('31 days 00:05:03')"
      ]
     },
     "execution_count": 142,
     "metadata": {},
     "output_type": "execute_result"
    }
   ],
   "source": [
    "tds = pd.Timedelta('31 days 5 min 3 sec')"
   ]
  },
  {
   "cell_type": "code",
   "execution_count": 143,
   "metadata": {},
   "outputs": [
    {
     "data": {
      "text/plain": [
       "TimedeltaIndex(['1 days 00:00:00', '1 days 00:00:05', '2 days 00:00:00',\n",
       "                '2 days 00:00:02'],\n",
       "               dtype='timedelta64[ns]', freq=None)"
      ]
     },
     "execution_count": 143,
     "metadata": {},
     "output_type": "execute_result"
    }
   ],
   "source": [
    "pd.TimedeltaIndex(['1 days', '1 days, 00:00:05', np.timedelta64(2, 'D'),\n",
    "   ....:                    datetime.timedelta(days=2, seconds=2)])"
   ]
  },
  {
   "cell_type": "code",
   "execution_count": 144,
   "metadata": {},
   "outputs": [
    {
     "data": {
      "text/plain": [
       "TimedeltaIndex(['1 days', '2 days', '3 days', '4 days', '5 days'], dtype='timedelta64[ns]', freq='D')"
      ]
     },
     "execution_count": 144,
     "metadata": {},
     "output_type": "execute_result"
    }
   ],
   "source": [
    "pd.timedelta_range(start='1 days', periods=5)"
   ]
  },
  {
   "cell_type": "code",
   "execution_count": 145,
   "metadata": {},
   "outputs": [
    {
     "data": {
      "text/plain": [
       "TimedeltaIndex(['1 days', NaT, '2 days'], dtype='timedelta64[ns]', freq=None)"
      ]
     },
     "execution_count": 145,
     "metadata": {},
     "output_type": "execute_result"
    }
   ],
   "source": [
    "tdi = pd.TimedeltaIndex(['1 days', pd.NaT, '2 days'])"
   ]
  },
  {
   "cell_type": "code",
   "execution_count": 146,
   "metadata": {},
   "outputs": [
    {
     "data": {
      "text/plain": [
       "[Timedelta('1 days 00:00:00'), NaT, Timedelta('2 days 00:00:00')]"
      ]
     },
     "execution_count": 146,
     "metadata": {},
     "output_type": "execute_result"
    }
   ],
   "source": [
    "tdi.to_list()"
   ]
  },
  {
   "cell_type": "code",
   "execution_count": 147,
   "metadata": {},
   "outputs": [
    {
     "data": {
      "text/plain": [
       "DatetimeIndex(['2013-01-01', '2013-01-02', '2013-01-03'], dtype='datetime64[ns]', freq='D')"
      ]
     },
     "execution_count": 147,
     "metadata": {},
     "output_type": "execute_result"
    }
   ],
   "source": [
    " dti = pd.date_range('20130101', periods=3)"
   ]
  },
  {
   "cell_type": "code",
   "execution_count": 148,
   "metadata": {},
   "outputs": [
    {
     "data": {
      "text/plain": [
       "[Timestamp('2013-01-01 00:00:00', freq='D'),\n",
       " Timestamp('2013-01-02 00:00:00', freq='D'),\n",
       " Timestamp('2013-01-03 00:00:00', freq='D')]"
      ]
     },
     "execution_count": 148,
     "metadata": {},
     "output_type": "execute_result"
    }
   ],
   "source": [
    "dti.to_list()"
   ]
  },
  {
   "cell_type": "code",
   "execution_count": 149,
   "metadata": {},
   "outputs": [
    {
     "data": {
      "text/plain": [
       "DatetimeIndex(['2013-01-02', 'NaT', '2013-01-05'], dtype='datetime64[ns]', freq=None)"
      ]
     },
     "execution_count": 149,
     "metadata": {},
     "output_type": "execute_result"
    }
   ],
   "source": [
    "tdi+dti"
   ]
  },
  {
   "cell_type": "code",
   "execution_count": 150,
   "metadata": {},
   "outputs": [
    {
     "data": {
      "text/plain": [
       "0   2012-01-01\n",
       "1   2012-01-02\n",
       "2   2012-01-03\n",
       "dtype: datetime64[ns]"
      ]
     },
     "execution_count": 150,
     "metadata": {},
     "output_type": "execute_result"
    }
   ],
   "source": [
    "s"
   ]
  },
  {
   "cell_type": "code",
   "execution_count": 151,
   "metadata": {},
   "outputs": [
    {
     "data": {
      "text/plain": [
       "1 days 00:00:00     0\n",
       "1 days 01:00:00     1\n",
       "1 days 02:00:00     2\n",
       "1 days 03:00:00     3\n",
       "1 days 04:00:00     4\n",
       "                   ..\n",
       "4 days 23:00:00    95\n",
       "5 days 00:00:00    96\n",
       "5 days 01:00:00    97\n",
       "5 days 02:00:00    98\n",
       "5 days 03:00:00    99\n",
       "Freq: H, Length: 100, dtype: int32"
      ]
     },
     "execution_count": 151,
     "metadata": {},
     "output_type": "execute_result"
    }
   ],
   "source": [
    "s = pd.Series(np.arange(100),\n",
    "   .....:               index=pd.timedelta_range('1 days', periods=100, freq='h'))"
   ]
  },
  {
   "cell_type": "code",
   "execution_count": 152,
   "metadata": {},
   "outputs": [
    {
     "data": {
      "text/plain": [
       "1 days    24\n",
       "2 days    24\n",
       "3 days    24\n",
       "4 days    24\n",
       "5 days     4\n",
       "Freq: D, dtype: int64"
      ]
     },
     "execution_count": 152,
     "metadata": {},
     "output_type": "execute_result"
    }
   ],
   "source": [
    "s.resample('D').count()"
   ]
  },
  {
   "cell_type": "code",
   "execution_count": 153,
   "metadata": {},
   "outputs": [],
   "source": [
    "#Sparse data structures"
   ]
  },
  {
   "cell_type": "code",
   "execution_count": 154,
   "metadata": {},
   "outputs": [
    {
     "data": {
      "text/plain": [
       "array([-1.59199979, -0.20509999,  0.58148891, -0.21881694, -1.98507733,\n",
       "        1.10520352,  0.32786313, -0.63208972,  0.53675894,  1.65468091])"
      ]
     },
     "execution_count": 154,
     "metadata": {},
     "output_type": "execute_result"
    }
   ],
   "source": [
    "arr = np.random.randn(10)"
   ]
  },
  {
   "cell_type": "code",
   "execution_count": 155,
   "metadata": {},
   "outputs": [],
   "source": [
    "arr[2:-2] = np.nan"
   ]
  },
  {
   "cell_type": "code",
   "execution_count": 156,
   "metadata": {},
   "outputs": [
    {
     "data": {
      "text/plain": [
       "0   -1.592000\n",
       "1   -0.205100\n",
       "2         NaN\n",
       "3         NaN\n",
       "4         NaN\n",
       "5         NaN\n",
       "6         NaN\n",
       "7         NaN\n",
       "8    0.536759\n",
       "9    1.654681\n",
       "dtype: Sparse[float64, nan]"
      ]
     },
     "execution_count": 156,
     "metadata": {},
     "output_type": "execute_result"
    }
   ],
   "source": [
    "ts = pd.Series(pd.arrays.SparseArray(arr))"
   ]
  },
  {
   "cell_type": "code",
   "execution_count": 157,
   "metadata": {},
   "outputs": [
    {
     "name": "stdout",
     "output_type": "stream",
     "text": [
      "----------------------------------------\n",
      "Type: <class 'pandas.core.series.Series'>\n",
      "Length: 10\n"
     ]
    },
    {
     "data": {
      "text/plain": [
       "0   -1.592000\n",
       "1   -0.205100\n",
       "2         NaN\n",
       "3         NaN\n",
       "4         NaN\n",
       "5         NaN\n",
       "6         NaN\n",
       "7         NaN\n",
       "8    0.536759\n",
       "9    1.654681\n",
       "dtype: Sparse[float64, nan]"
      ]
     },
     "metadata": {},
     "output_type": "display_data"
    }
   ],
   "source": [
    "z(ts)"
   ]
  },
  {
   "cell_type": "code",
   "execution_count": 158,
   "metadata": {},
   "outputs": [
    {
     "data": {
      "text/html": [
       "<div>\n",
       "<style scoped>\n",
       "    .dataframe tbody tr th:only-of-type {\n",
       "        vertical-align: middle;\n",
       "    }\n",
       "\n",
       "    .dataframe tbody tr th {\n",
       "        vertical-align: top;\n",
       "    }\n",
       "\n",
       "    .dataframe thead th {\n",
       "        text-align: right;\n",
       "    }\n",
       "</style>\n",
       "<table border=\"1\" class=\"dataframe\">\n",
       "  <thead>\n",
       "    <tr style=\"text-align: right;\">\n",
       "      <th></th>\n",
       "      <th>0</th>\n",
       "      <th>1</th>\n",
       "      <th>2</th>\n",
       "      <th>3</th>\n",
       "    </tr>\n",
       "  </thead>\n",
       "  <tbody>\n",
       "    <tr>\n",
       "      <th>0</th>\n",
       "      <td>0.369604</td>\n",
       "      <td>1.065111</td>\n",
       "      <td>0.140481</td>\n",
       "      <td>1.314709</td>\n",
       "    </tr>\n",
       "    <tr>\n",
       "      <th>1</th>\n",
       "      <td>1.263720</td>\n",
       "      <td>1.175696</td>\n",
       "      <td>1.278320</td>\n",
       "      <td>0.101929</td>\n",
       "    </tr>\n",
       "    <tr>\n",
       "      <th>2</th>\n",
       "      <td>-1.089297</td>\n",
       "      <td>0.014340</td>\n",
       "      <td>1.175882</td>\n",
       "      <td>0.813249</td>\n",
       "    </tr>\n",
       "    <tr>\n",
       "      <th>3</th>\n",
       "      <td>0.897332</td>\n",
       "      <td>0.209028</td>\n",
       "      <td>0.209997</td>\n",
       "      <td>1.045556</td>\n",
       "    </tr>\n",
       "    <tr>\n",
       "      <th>4</th>\n",
       "      <td>0.397578</td>\n",
       "      <td>0.207756</td>\n",
       "      <td>0.389767</td>\n",
       "      <td>-0.962022</td>\n",
       "    </tr>\n",
       "    <tr>\n",
       "      <th>...</th>\n",
       "      <td>...</td>\n",
       "      <td>...</td>\n",
       "      <td>...</td>\n",
       "      <td>...</td>\n",
       "    </tr>\n",
       "    <tr>\n",
       "      <th>9995</th>\n",
       "      <td>-0.206049</td>\n",
       "      <td>-0.423061</td>\n",
       "      <td>-0.108680</td>\n",
       "      <td>0.371608</td>\n",
       "    </tr>\n",
       "    <tr>\n",
       "      <th>9996</th>\n",
       "      <td>0.109699</td>\n",
       "      <td>-0.457318</td>\n",
       "      <td>-0.192051</td>\n",
       "      <td>-0.408174</td>\n",
       "    </tr>\n",
       "    <tr>\n",
       "      <th>9997</th>\n",
       "      <td>-2.359818</td>\n",
       "      <td>-0.346883</td>\n",
       "      <td>-1.169595</td>\n",
       "      <td>0.991021</td>\n",
       "    </tr>\n",
       "    <tr>\n",
       "      <th>9998</th>\n",
       "      <td>0.477989</td>\n",
       "      <td>0.927302</td>\n",
       "      <td>-0.982146</td>\n",
       "      <td>1.005736</td>\n",
       "    </tr>\n",
       "    <tr>\n",
       "      <th>9999</th>\n",
       "      <td>1.121097</td>\n",
       "      <td>-1.785628</td>\n",
       "      <td>-1.777288</td>\n",
       "      <td>-1.189111</td>\n",
       "    </tr>\n",
       "  </tbody>\n",
       "</table>\n",
       "<p>10000 rows × 4 columns</p>\n",
       "</div>"
      ],
      "text/plain": [
       "             0         1         2         3\n",
       "0     0.369604  1.065111  0.140481  1.314709\n",
       "1     1.263720  1.175696  1.278320  0.101929\n",
       "2    -1.089297  0.014340  1.175882  0.813249\n",
       "3     0.897332  0.209028  0.209997  1.045556\n",
       "4     0.397578  0.207756  0.389767 -0.962022\n",
       "...        ...       ...       ...       ...\n",
       "9995 -0.206049 -0.423061 -0.108680  0.371608\n",
       "9996  0.109699 -0.457318 -0.192051 -0.408174\n",
       "9997 -2.359818 -0.346883 -1.169595  0.991021\n",
       "9998  0.477989  0.927302 -0.982146  1.005736\n",
       "9999  1.121097 -1.785628 -1.777288 -1.189111\n",
       "\n",
       "[10000 rows x 4 columns]"
      ]
     },
     "execution_count": 158,
     "metadata": {},
     "output_type": "execute_result"
    }
   ],
   "source": [
    "df = pd.DataFrame(np.random.randn(10000, 4))"
   ]
  },
  {
   "cell_type": "code",
   "execution_count": 165,
   "metadata": {},
   "outputs": [],
   "source": [
    "df.iloc[:9998] = np.nan\n",
    "df.iloc[9998:, 0] = np.nan"
   ]
  },
  {
   "cell_type": "code",
   "execution_count": 166,
   "metadata": {},
   "outputs": [
    {
     "data": {
      "text/html": [
       "<div>\n",
       "<style scoped>\n",
       "    .dataframe tbody tr th:only-of-type {\n",
       "        vertical-align: middle;\n",
       "    }\n",
       "\n",
       "    .dataframe tbody tr th {\n",
       "        vertical-align: top;\n",
       "    }\n",
       "\n",
       "    .dataframe thead th {\n",
       "        text-align: right;\n",
       "    }\n",
       "</style>\n",
       "<table border=\"1\" class=\"dataframe\">\n",
       "  <thead>\n",
       "    <tr style=\"text-align: right;\">\n",
       "      <th></th>\n",
       "      <th>0</th>\n",
       "      <th>1</th>\n",
       "      <th>2</th>\n",
       "      <th>3</th>\n",
       "    </tr>\n",
       "  </thead>\n",
       "  <tbody>\n",
       "    <tr>\n",
       "      <th>0</th>\n",
       "      <td>NaN</td>\n",
       "      <td>NaN</td>\n",
       "      <td>NaN</td>\n",
       "      <td>NaN</td>\n",
       "    </tr>\n",
       "    <tr>\n",
       "      <th>1</th>\n",
       "      <td>NaN</td>\n",
       "      <td>NaN</td>\n",
       "      <td>NaN</td>\n",
       "      <td>NaN</td>\n",
       "    </tr>\n",
       "    <tr>\n",
       "      <th>2</th>\n",
       "      <td>NaN</td>\n",
       "      <td>NaN</td>\n",
       "      <td>NaN</td>\n",
       "      <td>NaN</td>\n",
       "    </tr>\n",
       "    <tr>\n",
       "      <th>3</th>\n",
       "      <td>NaN</td>\n",
       "      <td>NaN</td>\n",
       "      <td>NaN</td>\n",
       "      <td>NaN</td>\n",
       "    </tr>\n",
       "    <tr>\n",
       "      <th>4</th>\n",
       "      <td>NaN</td>\n",
       "      <td>NaN</td>\n",
       "      <td>NaN</td>\n",
       "      <td>NaN</td>\n",
       "    </tr>\n",
       "    <tr>\n",
       "      <th>...</th>\n",
       "      <td>...</td>\n",
       "      <td>...</td>\n",
       "      <td>...</td>\n",
       "      <td>...</td>\n",
       "    </tr>\n",
       "    <tr>\n",
       "      <th>9995</th>\n",
       "      <td>NaN</td>\n",
       "      <td>NaN</td>\n",
       "      <td>NaN</td>\n",
       "      <td>NaN</td>\n",
       "    </tr>\n",
       "    <tr>\n",
       "      <th>9996</th>\n",
       "      <td>NaN</td>\n",
       "      <td>NaN</td>\n",
       "      <td>NaN</td>\n",
       "      <td>NaN</td>\n",
       "    </tr>\n",
       "    <tr>\n",
       "      <th>9997</th>\n",
       "      <td>NaN</td>\n",
       "      <td>NaN</td>\n",
       "      <td>NaN</td>\n",
       "      <td>NaN</td>\n",
       "    </tr>\n",
       "    <tr>\n",
       "      <th>9998</th>\n",
       "      <td>NaN</td>\n",
       "      <td>0.927302</td>\n",
       "      <td>-0.982146</td>\n",
       "      <td>1.005736</td>\n",
       "    </tr>\n",
       "    <tr>\n",
       "      <th>9999</th>\n",
       "      <td>NaN</td>\n",
       "      <td>-1.785628</td>\n",
       "      <td>-1.777288</td>\n",
       "      <td>-1.189111</td>\n",
       "    </tr>\n",
       "  </tbody>\n",
       "</table>\n",
       "<p>10000 rows × 4 columns</p>\n",
       "</div>"
      ],
      "text/plain": [
       "       0         1         2         3\n",
       "0    NaN       NaN       NaN       NaN\n",
       "1    NaN       NaN       NaN       NaN\n",
       "2    NaN       NaN       NaN       NaN\n",
       "3    NaN       NaN       NaN       NaN\n",
       "4    NaN       NaN       NaN       NaN\n",
       "...   ..       ...       ...       ...\n",
       "9995 NaN       NaN       NaN       NaN\n",
       "9996 NaN       NaN       NaN       NaN\n",
       "9997 NaN       NaN       NaN       NaN\n",
       "9998 NaN  0.927302 -0.982146  1.005736\n",
       "9999 NaN -1.785628 -1.777288 -1.189111\n",
       "\n",
       "[10000 rows x 4 columns]"
      ]
     },
     "execution_count": 166,
     "metadata": {},
     "output_type": "execute_result"
    }
   ],
   "source": [
    "sdf = df.astype(pd.SparseDtype(\"float\", np.nan))"
   ]
  },
  {
   "cell_type": "code",
   "execution_count": 167,
   "metadata": {},
   "outputs": [
    {
     "data": {
      "text/plain": [
       "0    Sparse[float64, nan]\n",
       "1    Sparse[float64, nan]\n",
       "2    Sparse[float64, nan]\n",
       "3    Sparse[float64, nan]\n",
       "dtype: object"
      ]
     },
     "execution_count": 167,
     "metadata": {},
     "output_type": "execute_result"
    }
   ],
   "source": [
    "sdf.dtypes"
   ]
  },
  {
   "cell_type": "code",
   "execution_count": 168,
   "metadata": {},
   "outputs": [
    {
     "data": {
      "text/plain": [
       "0.00015000000000000001"
      ]
     },
     "execution_count": 168,
     "metadata": {},
     "output_type": "execute_result"
    }
   ],
   "source": [
    "sdf.sparse.density"
   ]
  },
  {
   "cell_type": "code",
   "execution_count": 174,
   "metadata": {},
   "outputs": [
    {
     "data": {
      "text/plain": [
       "320.064"
      ]
     },
     "execution_count": 174,
     "metadata": {},
     "output_type": "execute_result"
    }
   ],
   "source": [
    "a = df.memory_usage().sum() / 1e3"
   ]
  },
  {
   "cell_type": "code",
   "execution_count": 175,
   "metadata": {},
   "outputs": [
    {
     "data": {
      "text/plain": [
       "0.136"
      ]
     },
     "execution_count": 175,
     "metadata": {},
     "output_type": "execute_result"
    }
   ],
   "source": [
    "b = sdf.memory_usage().sum()/ 1e3"
   ]
  },
  {
   "cell_type": "code",
   "execution_count": 173,
   "metadata": {},
   "outputs": [
    {
     "data": {
      "text/plain": [
       "0.0004249150169966007"
      ]
     },
     "execution_count": 173,
     "metadata": {},
     "output_type": "execute_result"
    }
   ],
   "source": [
    "b/a"
   ]
  },
  {
   "cell_type": "code",
   "execution_count": 176,
   "metadata": {},
   "outputs": [
    {
     "data": {
      "text/plain": [
       "['int64',\n",
       " 'float64',\n",
       " 'datetime64[ns]',\n",
       " 'timedelta64[ns]',\n",
       " 'complex128',\n",
       " 'object',\n",
       " 'bool']"
      ]
     },
     "execution_count": 176,
     "metadata": {},
     "output_type": "execute_result"
    }
   ],
   "source": [
    "dtypes = ['int64', 'float64', 'datetime64[ns]', 'timedelta64[ns]',\n",
    "   ...:           'complex128', 'object', 'bool']"
   ]
  },
  {
   "cell_type": "code",
   "execution_count": 178,
   "metadata": {},
   "outputs": [
    {
     "data": {
      "text/plain": [
       "{'int64': array([14, 45,  3, ..., 10, 11, 72], dtype=int64),\n",
       " 'float64': array([79., 22., 91., ..., 26., 11., 90.]),\n",
       " 'datetime64[ns]': array(['1970-01-01T00:00:00.000000027', '1970-01-01T00:00:00.000000040',\n",
       "        '1970-01-01T00:00:00.000000044', ...,\n",
       "        '1970-01-01T00:00:00.000000086', '1970-01-01T00:00:00.000000013',\n",
       "        '1970-01-01T00:00:00.000000027'], dtype='datetime64[ns]'),\n",
       " 'timedelta64[ns]': array([88, 48, 65, ..., 47,  1, 38], dtype='timedelta64[ns]'),\n",
       " 'complex128': array([26.+0.j, 11.+0.j, 22.+0.j, ...,  0.+0.j, 41.+0.j, 31.+0.j]),\n",
       " 'object': array([88, 14, 23, ..., 76, 24, 22], dtype=object),\n",
       " 'bool': array([ True,  True,  True, ...,  True,  True,  True])}"
      ]
     },
     "execution_count": 178,
     "metadata": {},
     "output_type": "execute_result"
    }
   ],
   "source": [
    "n = 5000\n",
    "\n",
    "data = {t: np.random.randint(100, size=n).astype(t) for t in dtypes}"
   ]
  },
  {
   "cell_type": "code",
   "execution_count": 179,
   "metadata": {},
   "outputs": [
    {
     "data": {
      "text/html": [
       "<div>\n",
       "<style scoped>\n",
       "    .dataframe tbody tr th:only-of-type {\n",
       "        vertical-align: middle;\n",
       "    }\n",
       "\n",
       "    .dataframe tbody tr th {\n",
       "        vertical-align: top;\n",
       "    }\n",
       "\n",
       "    .dataframe thead th {\n",
       "        text-align: right;\n",
       "    }\n",
       "</style>\n",
       "<table border=\"1\" class=\"dataframe\">\n",
       "  <thead>\n",
       "    <tr style=\"text-align: right;\">\n",
       "      <th></th>\n",
       "      <th>int64</th>\n",
       "      <th>float64</th>\n",
       "      <th>datetime64[ns]</th>\n",
       "      <th>timedelta64[ns]</th>\n",
       "      <th>complex128</th>\n",
       "      <th>object</th>\n",
       "      <th>bool</th>\n",
       "    </tr>\n",
       "  </thead>\n",
       "  <tbody>\n",
       "    <tr>\n",
       "      <th>0</th>\n",
       "      <td>14</td>\n",
       "      <td>79.0</td>\n",
       "      <td>1970-01-01 00:00:00.000000027</td>\n",
       "      <td>0 days 00:00:00.000000088</td>\n",
       "      <td>26.000000+0.000000j</td>\n",
       "      <td>88</td>\n",
       "      <td>True</td>\n",
       "    </tr>\n",
       "    <tr>\n",
       "      <th>1</th>\n",
       "      <td>45</td>\n",
       "      <td>22.0</td>\n",
       "      <td>1970-01-01 00:00:00.000000040</td>\n",
       "      <td>0 days 00:00:00.000000048</td>\n",
       "      <td>11.000000+0.000000j</td>\n",
       "      <td>14</td>\n",
       "      <td>True</td>\n",
       "    </tr>\n",
       "    <tr>\n",
       "      <th>2</th>\n",
       "      <td>3</td>\n",
       "      <td>91.0</td>\n",
       "      <td>1970-01-01 00:00:00.000000044</td>\n",
       "      <td>0 days 00:00:00.000000065</td>\n",
       "      <td>22.000000+0.000000j</td>\n",
       "      <td>23</td>\n",
       "      <td>True</td>\n",
       "    </tr>\n",
       "    <tr>\n",
       "      <th>3</th>\n",
       "      <td>39</td>\n",
       "      <td>70.0</td>\n",
       "      <td>1970-01-01 00:00:00.000000014</td>\n",
       "      <td>0 days 00:00:00.000000016</td>\n",
       "      <td>45.000000+0.000000j</td>\n",
       "      <td>76</td>\n",
       "      <td>True</td>\n",
       "    </tr>\n",
       "    <tr>\n",
       "      <th>4</th>\n",
       "      <td>1</td>\n",
       "      <td>39.0</td>\n",
       "      <td>1970-01-01 00:00:00.000000055</td>\n",
       "      <td>0 days 00:00:00.000000040</td>\n",
       "      <td>78.000000+0.000000j</td>\n",
       "      <td>81</td>\n",
       "      <td>True</td>\n",
       "    </tr>\n",
       "    <tr>\n",
       "      <th>...</th>\n",
       "      <td>...</td>\n",
       "      <td>...</td>\n",
       "      <td>...</td>\n",
       "      <td>...</td>\n",
       "      <td>...</td>\n",
       "      <td>...</td>\n",
       "      <td>...</td>\n",
       "    </tr>\n",
       "    <tr>\n",
       "      <th>4995</th>\n",
       "      <td>90</td>\n",
       "      <td>89.0</td>\n",
       "      <td>1970-01-01 00:00:00.000000058</td>\n",
       "      <td>0 days 00:00:00.000000084</td>\n",
       "      <td>66.000000+0.000000j</td>\n",
       "      <td>11</td>\n",
       "      <td>True</td>\n",
       "    </tr>\n",
       "    <tr>\n",
       "      <th>4996</th>\n",
       "      <td>52</td>\n",
       "      <td>9.0</td>\n",
       "      <td>1970-01-01 00:00:00.000000061</td>\n",
       "      <td>0 days 00:00:00.000000083</td>\n",
       "      <td>90.000000+0.000000j</td>\n",
       "      <td>43</td>\n",
       "      <td>True</td>\n",
       "    </tr>\n",
       "    <tr>\n",
       "      <th>4997</th>\n",
       "      <td>10</td>\n",
       "      <td>26.0</td>\n",
       "      <td>1970-01-01 00:00:00.000000086</td>\n",
       "      <td>0 days 00:00:00.000000047</td>\n",
       "      <td>0.000000+0.000000j</td>\n",
       "      <td>76</td>\n",
       "      <td>True</td>\n",
       "    </tr>\n",
       "    <tr>\n",
       "      <th>4998</th>\n",
       "      <td>11</td>\n",
       "      <td>11.0</td>\n",
       "      <td>1970-01-01 00:00:00.000000013</td>\n",
       "      <td>0 days 00:00:00.000000001</td>\n",
       "      <td>41.000000+0.000000j</td>\n",
       "      <td>24</td>\n",
       "      <td>True</td>\n",
       "    </tr>\n",
       "    <tr>\n",
       "      <th>4999</th>\n",
       "      <td>72</td>\n",
       "      <td>90.0</td>\n",
       "      <td>1970-01-01 00:00:00.000000027</td>\n",
       "      <td>0 days 00:00:00.000000038</td>\n",
       "      <td>31.000000+0.000000j</td>\n",
       "      <td>22</td>\n",
       "      <td>True</td>\n",
       "    </tr>\n",
       "  </tbody>\n",
       "</table>\n",
       "<p>5000 rows × 7 columns</p>\n",
       "</div>"
      ],
      "text/plain": [
       "      int64  float64                datetime64[ns]           timedelta64[ns]  \\\n",
       "0        14     79.0 1970-01-01 00:00:00.000000027 0 days 00:00:00.000000088   \n",
       "1        45     22.0 1970-01-01 00:00:00.000000040 0 days 00:00:00.000000048   \n",
       "2         3     91.0 1970-01-01 00:00:00.000000044 0 days 00:00:00.000000065   \n",
       "3        39     70.0 1970-01-01 00:00:00.000000014 0 days 00:00:00.000000016   \n",
       "4         1     39.0 1970-01-01 00:00:00.000000055 0 days 00:00:00.000000040   \n",
       "...     ...      ...                           ...                       ...   \n",
       "4995     90     89.0 1970-01-01 00:00:00.000000058 0 days 00:00:00.000000084   \n",
       "4996     52      9.0 1970-01-01 00:00:00.000000061 0 days 00:00:00.000000083   \n",
       "4997     10     26.0 1970-01-01 00:00:00.000000086 0 days 00:00:00.000000047   \n",
       "4998     11     11.0 1970-01-01 00:00:00.000000013 0 days 00:00:00.000000001   \n",
       "4999     72     90.0 1970-01-01 00:00:00.000000027 0 days 00:00:00.000000038   \n",
       "\n",
       "               complex128 object  bool  \n",
       "0     26.000000+0.000000j     88  True  \n",
       "1     11.000000+0.000000j     14  True  \n",
       "2     22.000000+0.000000j     23  True  \n",
       "3     45.000000+0.000000j     76  True  \n",
       "4     78.000000+0.000000j     81  True  \n",
       "...                   ...    ...   ...  \n",
       "4995  66.000000+0.000000j     11  True  \n",
       "4996  90.000000+0.000000j     43  True  \n",
       "4997   0.000000+0.000000j     76  True  \n",
       "4998  41.000000+0.000000j     24  True  \n",
       "4999  31.000000+0.000000j     22  True  \n",
       "\n",
       "[5000 rows x 7 columns]"
      ]
     },
     "execution_count": 179,
     "metadata": {},
     "output_type": "execute_result"
    }
   ],
   "source": [
    "df = pd.DataFrame(data)"
   ]
  },
  {
   "cell_type": "code",
   "execution_count": 180,
   "metadata": {},
   "outputs": [],
   "source": [
    "df['categorical'] = df['object'].astype('category')"
   ]
  },
  {
   "cell_type": "code",
   "execution_count": 181,
   "metadata": {},
   "outputs": [
    {
     "name": "stdout",
     "output_type": "stream",
     "text": [
      "<class 'pandas.core.frame.DataFrame'>\n",
      "RangeIndex: 5000 entries, 0 to 4999\n",
      "Data columns (total 8 columns):\n",
      " #   Column           Non-Null Count  Dtype          \n",
      "---  ------           --------------  -----          \n",
      " 0   int64            5000 non-null   int64          \n",
      " 1   float64          5000 non-null   float64        \n",
      " 2   datetime64[ns]   5000 non-null   datetime64[ns] \n",
      " 3   timedelta64[ns]  5000 non-null   timedelta64[ns]\n",
      " 4   complex128       5000 non-null   complex128     \n",
      " 5   object           5000 non-null   object         \n",
      " 6   bool             5000 non-null   bool           \n",
      " 7   categorical      5000 non-null   category       \n",
      "dtypes: bool(1), category(1), complex128(1), datetime64[ns](1), float64(1), int64(1), object(1), timedelta64[ns](1)\n",
      "memory usage: 268.5+ KB\n"
     ]
    }
   ],
   "source": [
    "df.info()"
   ]
  },
  {
   "cell_type": "code",
   "execution_count": 182,
   "metadata": {},
   "outputs": [
    {
     "name": "stdout",
     "output_type": "stream",
     "text": [
      "<class 'pandas.core.frame.DataFrame'>\n",
      "RangeIndex: 5000 entries, 0 to 4999\n",
      "Data columns (total 8 columns):\n",
      " #   Column           Non-Null Count  Dtype          \n",
      "---  ------           --------------  -----          \n",
      " 0   int64            5000 non-null   int64          \n",
      " 1   float64          5000 non-null   float64        \n",
      " 2   datetime64[ns]   5000 non-null   datetime64[ns] \n",
      " 3   timedelta64[ns]  5000 non-null   timedelta64[ns]\n",
      " 4   complex128       5000 non-null   complex128     \n",
      " 5   object           5000 non-null   object         \n",
      " 6   bool             5000 non-null   bool           \n",
      " 7   categorical      5000 non-null   category       \n",
      "dtypes: bool(1), category(1), complex128(1), datetime64[ns](1), float64(1), int64(1), object(1), timedelta64[ns](1)\n",
      "memory usage: 336.8 KB\n"
     ]
    }
   ],
   "source": [
    " df.info(memory_usage='deep')"
   ]
  },
  {
   "cell_type": "code",
   "execution_count": 186,
   "metadata": {},
   "outputs": [
    {
     "data": {
      "text/plain": [
       "Index               0.062500\n",
       "int64              39.062500\n",
       "float64            39.062500\n",
       "datetime64[ns]     39.062500\n",
       "timedelta64[ns]    39.062500\n",
       "complex128         78.125000\n",
       "object             19.531250\n",
       "bool                4.882812\n",
       "categorical         9.664062\n",
       "dtype: float64"
      ]
     },
     "execution_count": 186,
     "metadata": {},
     "output_type": "execute_result"
    }
   ],
   "source": [
    "df.memory_usage(deep=False)/1024"
   ]
  },
  {
   "cell_type": "code",
   "execution_count": 187,
   "metadata": {},
   "outputs": [
    {
     "data": {
      "text/plain": [
       "Index               0.062500\n",
       "int64              39.062500\n",
       "float64            39.062500\n",
       "datetime64[ns]     39.062500\n",
       "timedelta64[ns]    39.062500\n",
       "complex128         78.125000\n",
       "object             87.779297\n",
       "bool                4.882812\n",
       "categorical         9.664062\n",
       "dtype: float64"
      ]
     },
     "execution_count": 187,
     "metadata": {},
     "output_type": "execute_result"
    }
   ],
   "source": [
    "df.memory_usage(deep=True)/1024"
   ]
  },
  {
   "cell_type": "code",
   "execution_count": null,
   "metadata": {},
   "outputs": [],
   "source": []
  }
 ],
 "metadata": {
  "kernelspec": {
   "display_name": "Python 3",
   "language": "python",
   "name": "python3"
  },
  "language_info": {
   "codemirror_mode": {
    "name": "ipython",
    "version": 3
   },
   "file_extension": ".py",
   "mimetype": "text/x-python",
   "name": "python",
   "nbconvert_exporter": "python",
   "pygments_lexer": "ipython3",
   "version": "3.8.2"
  },
  "varInspector": {
   "cols": {
    "lenName": 16,
    "lenType": 16,
    "lenVar": 40
   },
   "kernels_config": {
    "python": {
     "delete_cmd_postfix": "",
     "delete_cmd_prefix": "del ",
     "library": "var_list.py",
     "varRefreshCmd": "print(var_dic_list())"
    },
    "r": {
     "delete_cmd_postfix": ") ",
     "delete_cmd_prefix": "rm(",
     "library": "var_list.r",
     "varRefreshCmd": "cat(var_dic_list()) "
    }
   },
   "types_to_exclude": [
    "module",
    "function",
    "builtin_function_or_method",
    "instance",
    "_Feature"
   ],
   "window_display": false
  }
 },
 "nbformat": 4,
 "nbformat_minor": 4
}
