{
 "cells": [
  {
   "cell_type": "code",
   "execution_count": 42,
   "metadata": {},
   "outputs": [],
   "source": [
    "import pandas as pd\n",
    "from datetime import datetime\n",
    "import numpy as np\n",
    "%matplotlib notebook"
   ]
  },
  {
   "cell_type": "code",
   "execution_count": 9,
   "metadata": {},
   "outputs": [
    {
     "data": {
      "text/plain": [
       "'C:\\\\Users\\\\Tony'"
      ]
     },
     "execution_count": 9,
     "metadata": {},
     "output_type": "execute_result"
    }
   ],
   "source": [
    "pwd"
   ]
  },
  {
   "cell_type": "code",
   "execution_count": 10,
   "metadata": {},
   "outputs": [
    {
     "name": "stdout",
     "output_type": "stream",
     "text": [
      "D:\\Google Drive\\My Documents\\Code_Developement\\python_work\\data_visualization\n"
     ]
    }
   ],
   "source": [
    "cd \"D:\\Google Drive\\My Documents\\Code_Developement\\python_work\\data_visualization\""
   ]
  },
  {
   "cell_type": "code",
   "execution_count": null,
   "metadata": {},
   "outputs": [],
   "source": []
  },
  {
   "cell_type": "code",
   "execution_count": null,
   "metadata": {},
   "outputs": [],
   "source": [
    "data = {\n",
    "    'apples': [3, 2, 0, 1], \n",
    "    'oranges': [0, 3, 7, 2]\n",
    "}"
   ]
  },
  {
   "cell_type": "code",
   "execution_count": null,
   "metadata": {},
   "outputs": [],
   "source": [
    "data"
   ]
  },
  {
   "cell_type": "code",
   "execution_count": null,
   "metadata": {},
   "outputs": [],
   "source": [
    "purchases = pd.DataFrame(data)\n",
    "\n",
    "purchases"
   ]
  },
  {
   "cell_type": "code",
   "execution_count": null,
   "metadata": {},
   "outputs": [],
   "source": [
    "purchases = pd.DataFrame(data, index=['June', 'Robert', 'Lily', 'David'])\n",
    "\n",
    "purchases"
   ]
  },
  {
   "cell_type": "code",
   "execution_count": null,
   "metadata": {},
   "outputs": [],
   "source": [
    "purchases.loc[0]"
   ]
  },
  {
   "cell_type": "code",
   "execution_count": null,
   "metadata": {},
   "outputs": [],
   "source": [
    "df = pd.read_csv('purchases.csv')\n",
    "\n",
    "df"
   ]
  },
  {
   "cell_type": "code",
   "execution_count": null,
   "metadata": {},
   "outputs": [],
   "source": [
    "df = pd.read_csv('purchases.csv', index_col=0)\n",
    "\n",
    "df"
   ]
  },
  {
   "cell_type": "code",
   "execution_count": null,
   "metadata": {},
   "outputs": [],
   "source": [
    "movies_df = pd.read_csv(\"IMDB-Movie-Data.csv\", index_col=\"Title\")"
   ]
  },
  {
   "cell_type": "code",
   "execution_count": null,
   "metadata": {},
   "outputs": [],
   "source": [
    "movies_df.head()"
   ]
  },
  {
   "cell_type": "code",
   "execution_count": null,
   "metadata": {},
   "outputs": [],
   "source": [
    "movies_df.tail(2)"
   ]
  },
  {
   "cell_type": "code",
   "execution_count": null,
   "metadata": {},
   "outputs": [],
   "source": [
    "movies_df"
   ]
  },
  {
   "cell_type": "code",
   "execution_count": null,
   "metadata": {},
   "outputs": [],
   "source": [
    "movies_df.info()"
   ]
  },
  {
   "cell_type": "code",
   "execution_count": null,
   "metadata": {},
   "outputs": [],
   "source": [
    "movies_df.shape"
   ]
  },
  {
   "cell_type": "code",
   "execution_count": null,
   "metadata": {},
   "outputs": [],
   "source": [
    "movies_df.columns"
   ]
  },
  {
   "cell_type": "code",
   "execution_count": null,
   "metadata": {},
   "outputs": [],
   "source": [
    "movies_df.rename(columns={\n",
    "        'Runtime (Minutes)': 'Runtime_minutes', \n",
    "        'Revenue (Millions)': 'Revenue_millions'\n",
    "    }, inplace=True)\n",
    "\n",
    "\n",
    "movies_df.columns"
   ]
  },
  {
   "cell_type": "code",
   "execution_count": null,
   "metadata": {},
   "outputs": [],
   "source": [
    "movies_df"
   ]
  },
  {
   "cell_type": "code",
   "execution_count": null,
   "metadata": {},
   "outputs": [],
   "source": [
    "for col in movies_df:\n",
    "    print(f'{col}\\t\\t\\t{type(col)}')"
   ]
  },
  {
   "cell_type": "code",
   "execution_count": null,
   "metadata": {},
   "outputs": [],
   "source": [
    "movies_df.columns"
   ]
  },
  {
   "cell_type": "code",
   "execution_count": null,
   "metadata": {},
   "outputs": [],
   "source": [
    "movies_df.columns = [col.lower() for col in movies_df]\n",
    "\n",
    "movies_df.columns"
   ]
  },
  {
   "cell_type": "code",
   "execution_count": null,
   "metadata": {},
   "outputs": [],
   "source": [
    "movies_df.isnull()"
   ]
  },
  {
   "cell_type": "code",
   "execution_count": null,
   "metadata": {},
   "outputs": [],
   "source": [
    "movies_df.isnull().sum()"
   ]
  },
  {
   "cell_type": "code",
   "execution_count": null,
   "metadata": {},
   "outputs": [],
   "source": [
    "revenue = movies_df['revenue_millions']\n",
    "print(type(revenue))\n",
    "revenue"
   ]
  },
  {
   "cell_type": "code",
   "execution_count": null,
   "metadata": {},
   "outputs": [],
   "source": [
    "revenue.head()"
   ]
  },
  {
   "cell_type": "code",
   "execution_count": null,
   "metadata": {},
   "outputs": [],
   "source": [
    "revenue_mean = revenue.mean()\n",
    "\n",
    "revenue_mean"
   ]
  },
  {
   "cell_type": "code",
   "execution_count": null,
   "metadata": {},
   "outputs": [],
   "source": [
    "revenue.fillna(revenue_mean, inplace=True)"
   ]
  },
  {
   "cell_type": "code",
   "execution_count": null,
   "metadata": {},
   "outputs": [],
   "source": [
    "movies_df.isnull().sum()"
   ]
  },
  {
   "cell_type": "code",
   "execution_count": null,
   "metadata": {},
   "outputs": [],
   "source": [
    "movies_df.describe()\n"
   ]
  },
  {
   "cell_type": "code",
   "execution_count": null,
   "metadata": {},
   "outputs": [],
   "source": [
    "movies_df['genre'].describe()"
   ]
  },
  {
   "cell_type": "code",
   "execution_count": null,
   "metadata": {},
   "outputs": [],
   "source": [
    "movies_df['genre'].value_counts().head(50)"
   ]
  },
  {
   "cell_type": "code",
   "execution_count": null,
   "metadata": {},
   "outputs": [],
   "source": [
    "movies_df.corr()"
   ]
  },
  {
   "cell_type": "code",
   "execution_count": null,
   "metadata": {},
   "outputs": [],
   "source": [
    "genre_col = movies_df['genre']\n",
    "print(type(genre_col))\n",
    "genre_col"
   ]
  },
  {
   "cell_type": "code",
   "execution_count": null,
   "metadata": {},
   "outputs": [],
   "source": [
    "genre_col = movies_df[['genre']]\n",
    "print(type(genre_col))\n",
    "genre_col"
   ]
  },
  {
   "cell_type": "code",
   "execution_count": null,
   "metadata": {},
   "outputs": [],
   "source": [
    "subset = movies_df[['genre', 'rating']]\n",
    "\n",
    "subset.head()"
   ]
  },
  {
   "cell_type": "code",
   "execution_count": null,
   "metadata": {},
   "outputs": [],
   "source": [
    "prom = movies_df.loc[\"Prometheus\"]\n",
    "\n",
    "prom"
   ]
  },
  {
   "cell_type": "code",
   "execution_count": null,
   "metadata": {},
   "outputs": [],
   "source": [
    "prom = movies_df.iloc[0]\n",
    "prom"
   ]
  },
  {
   "cell_type": "code",
   "execution_count": null,
   "metadata": {},
   "outputs": [],
   "source": [
    "movie_subset = movies_df.iloc[1:4]\n",
    "movie_subset"
   ]
  },
  {
   "cell_type": "code",
   "execution_count": null,
   "metadata": {},
   "outputs": [],
   "source": [
    "condition = (movies_df['director'] == \"Ridley Scott\")\n",
    "\n",
    "condition.head()"
   ]
  },
  {
   "cell_type": "code",
   "execution_count": null,
   "metadata": {},
   "outputs": [],
   "source": [
    "movies_df[movies_df['director'] == \"Ridley Scott\"]"
   ]
  },
  {
   "cell_type": "code",
   "execution_count": null,
   "metadata": {},
   "outputs": [],
   "source": [
    "movies_df[movies_df['rating'] >= 8.6]"
   ]
  },
  {
   "cell_type": "code",
   "execution_count": null,
   "metadata": {},
   "outputs": [],
   "source": [
    "movies_df[(movies_df['director'] == 'Christopher Nolan') | (movies_df['director'] == 'Ridley Scott')]"
   ]
  },
  {
   "cell_type": "code",
   "execution_count": null,
   "metadata": {},
   "outputs": [],
   "source": [
    "movies_df[movies_df['director'].isin(['Christopher Nolan', 'Ridley Scott'])]"
   ]
  },
  {
   "cell_type": "code",
   "execution_count": null,
   "metadata": {},
   "outputs": [],
   "source": [
    "movies_df[\n",
    "    ((movies_df['year'] >= 2005) & (movies_df['year'] <= 2010))\n",
    "    & (movies_df['rating'] > 8.0)\n",
    "    & (movies_df['revenue_millions'] < movies_df['revenue_millions'].quantile(0.25))\n",
    "]"
   ]
  },
  {
   "cell_type": "code",
   "execution_count": null,
   "metadata": {},
   "outputs": [],
   "source": [
    "def rating_function(x):\n",
    "    if x >= 8.0:\n",
    "        return \"good\"\n",
    "    else:\n",
    "        return \"bad\""
   ]
  },
  {
   "cell_type": "code",
   "execution_count": null,
   "metadata": {},
   "outputs": [],
   "source": [
    "movies_df[\"rating_category\"] = movies_df[\"rating\"].apply(rating_function)\n",
    "\n",
    "movies_df"
   ]
  },
  {
   "cell_type": "code",
   "execution_count": null,
   "metadata": {},
   "outputs": [],
   "source": [
    "movies_df.plot(kind='scatter', x='rating', y='revenue_millions', title='Revenue (millions) vs Rating')"
   ]
  },
  {
   "cell_type": "code",
   "execution_count": null,
   "metadata": {},
   "outputs": [],
   "source": [
    "movies_df['rating'].plot(kind='hist', title='Rating');"
   ]
  },
  {
   "cell_type": "code",
   "execution_count": null,
   "metadata": {},
   "outputs": [],
   "source": [
    "movies_df['rating'].plot(kind=\"box\");"
   ]
  },
  {
   "cell_type": "code",
   "execution_count": null,
   "metadata": {},
   "outputs": [],
   "source": [
    "movies_df.boxplot(column='revenue_millions', by='rating_category');"
   ]
  },
  {
   "cell_type": "code",
   "execution_count": null,
   "metadata": {},
   "outputs": [],
   "source": [
    "from datetime import datetime\n",
    "datetime(year=2015, month=7, day=4)"
   ]
  },
  {
   "cell_type": "code",
   "execution_count": null,
   "metadata": {},
   "outputs": [],
   "source": [
    "from dateutil import parser\n",
    "date = parser.parse(\"4th of July, 2015\")\n",
    "date"
   ]
  },
  {
   "cell_type": "code",
   "execution_count": null,
   "metadata": {},
   "outputs": [],
   "source": [
    "import numpy as np\n",
    "date = np.array('2015-07-04', dtype=np.datetime64)\n",
    "date"
   ]
  },
  {
   "cell_type": "code",
   "execution_count": null,
   "metadata": {},
   "outputs": [],
   "source": [
    "date\n",
    "ts1 =np.asarray([1, 2, 3, 4])\n",
    "ts2 = pd.to_timedelta(ts1, 'D')\n",
    "\n",
    "date + ts2"
   ]
  },
  {
   "cell_type": "code",
   "execution_count": null,
   "metadata": {},
   "outputs": [],
   "source": [
    "import pandas as pd\n",
    "date = pd.to_datetime(\"4th of July, 2015\")\n",
    "date"
   ]
  },
  {
   "cell_type": "code",
   "execution_count": null,
   "metadata": {},
   "outputs": [],
   "source": [
    "date.strftime('%A')"
   ]
  },
  {
   "cell_type": "code",
   "execution_count": null,
   "metadata": {},
   "outputs": [],
   "source": [
    "date + pd.to_timedelta(np.arange(32), 'D')"
   ]
  },
  {
   "cell_type": "code",
   "execution_count": null,
   "metadata": {},
   "outputs": [],
   "source": [
    "dates = pd.to_datetime([datetime(2015, 7, 3), '4th of July, 2015',\n",
    "                       '2015-Jul-6', '07-07-2015', '20150708'])\n",
    "dates"
   ]
  },
  {
   "cell_type": "code",
   "execution_count": null,
   "metadata": {},
   "outputs": [],
   "source": [
    "dates - dates[0]"
   ]
  },
  {
   "cell_type": "code",
   "execution_count": null,
   "metadata": {},
   "outputs": [],
   "source": [
    "pd.date_range('2015-07-03', '2015-07-10')"
   ]
  },
  {
   "cell_type": "code",
   "execution_count": null,
   "metadata": {},
   "outputs": [],
   "source": [
    "pd.date_range('2015-07-03', periods=8)"
   ]
  },
  {
   "cell_type": "code",
   "execution_count": null,
   "metadata": {},
   "outputs": [],
   "source": [
    "pd.date_range('2015-07-03', periods=8, freq='H')"
   ]
  },
  {
   "cell_type": "code",
   "execution_count": null,
   "metadata": {},
   "outputs": [],
   "source": [
    "from pandas.tseries.offsets import BDay\n",
    "pd.date_range('2015-07-01', periods=5, freq=BDay())"
   ]
  },
  {
   "cell_type": "code",
   "execution_count": null,
   "metadata": {},
   "outputs": [],
   "source": [
    "df = pd.DataFrame({\n",
    "        \"Name\": [\"Braund, Mr. Owen Harris\",\n",
    "                 \"Allen, Mr. William Henry\",\n",
    "                 \"Bonnell, Miss. Elizabeth\"],\n",
    "        \"Age\": [22, 35, 58],\n",
    "        \"Height\": [5.1, 5.5, 6.3],\n",
    "        \"Sex\": [\"male\", \"male\", \"female\"]}\n",
    "    )\n",
    "   "
   ]
  },
  {
   "cell_type": "code",
   "execution_count": null,
   "metadata": {},
   "outputs": [],
   "source": [
    "df"
   ]
  },
  {
   "cell_type": "code",
   "execution_count": null,
   "metadata": {},
   "outputs": [],
   "source": [
    "df[\"Age\"]"
   ]
  },
  {
   "cell_type": "code",
   "execution_count": null,
   "metadata": {},
   "outputs": [],
   "source": [
    "ages = pd.Series([22, 35, 58], name=\"Age\")\n",
    "ages"
   ]
  },
  {
   "cell_type": "code",
   "execution_count": null,
   "metadata": {},
   "outputs": [],
   "source": [
    "df.min()"
   ]
  },
  {
   "cell_type": "code",
   "execution_count": null,
   "metadata": {},
   "outputs": [],
   "source": [
    "df_desc=df.describe()['Age']\n",
    "print(type(df_desc))\n",
    "df_desc"
   ]
  },
  {
   "cell_type": "code",
   "execution_count": 14,
   "metadata": {},
   "outputs": [],
   "source": [
    "titanic = pd.read_csv(\"titanic.csv\")"
   ]
  },
  {
   "cell_type": "code",
   "execution_count": null,
   "metadata": {},
   "outputs": [],
   "source": [
    "titanic.info()"
   ]
  },
  {
   "cell_type": "code",
   "execution_count": null,
   "metadata": {},
   "outputs": [],
   "source": [
    "titanic.describe()"
   ]
  },
  {
   "cell_type": "code",
   "execution_count": null,
   "metadata": {},
   "outputs": [],
   "source": [
    "wse=pd.read_csv(\"wse.csv\")\n",
    "wse.describe()"
   ]
  },
  {
   "cell_type": "code",
   "execution_count": null,
   "metadata": {},
   "outputs": [],
   "source": [
    "wse.head()"
   ]
  },
  {
   "cell_type": "code",
   "execution_count": null,
   "metadata": {},
   "outputs": [],
   "source": [
    "import matplotlib.pyplot as plt"
   ]
  },
  {
   "cell_type": "code",
   "execution_count": null,
   "metadata": {},
   "outputs": [],
   "source": [
    "plt.scatter(x='Date', y='Elevation',  data=wse, marker='o', color='r', linestyle='--')"
   ]
  },
  {
   "cell_type": "code",
   "execution_count": null,
   "metadata": {},
   "outputs": [],
   "source": [
    "wse.dtypes"
   ]
  },
  {
   "cell_type": "code",
   "execution_count": null,
   "metadata": {},
   "outputs": [],
   "source": [
    "times=wse['Date']"
   ]
  },
  {
   "cell_type": "code",
   "execution_count": null,
   "metadata": {},
   "outputs": [],
   "source": [
    "times"
   ]
  },
  {
   "cell_type": "code",
   "execution_count": null,
   "metadata": {},
   "outputs": [],
   "source": [
    "titanic.info()"
   ]
  },
  {
   "cell_type": "code",
   "execution_count": null,
   "metadata": {},
   "outputs": [],
   "source": [
    "age_sex = titanic[[\"Age\", \"Sex\"]]\n",
    "print(age_sex.shape)\n",
    "print(type(age_sex))\n",
    "age_sex"
   ]
  },
  {
   "cell_type": "code",
   "execution_count": null,
   "metadata": {},
   "outputs": [],
   "source": [
    "tmp1=titanic[\"Age\"] > 35"
   ]
  },
  {
   "cell_type": "code",
   "execution_count": null,
   "metadata": {},
   "outputs": [],
   "source": [
    "tmp1[1]"
   ]
  },
  {
   "cell_type": "code",
   "execution_count": null,
   "metadata": {},
   "outputs": [],
   "source": [
    "titanic[tmp1]"
   ]
  },
  {
   "cell_type": "code",
   "execution_count": null,
   "metadata": {},
   "outputs": [],
   "source": [
    "titanic[\"Age\"] > 35"
   ]
  },
  {
   "cell_type": "code",
   "execution_count": null,
   "metadata": {},
   "outputs": [],
   "source": [
    "above_35 = titanic[titanic[\"Age\"] > 35]"
   ]
  },
  {
   "cell_type": "code",
   "execution_count": null,
   "metadata": {},
   "outputs": [],
   "source": [
    "above_35.head"
   ]
  },
  {
   "cell_type": "code",
   "execution_count": null,
   "metadata": {},
   "outputs": [],
   "source": [
    "titanic[\"Age\"] > 35"
   ]
  },
  {
   "cell_type": "code",
   "execution_count": null,
   "metadata": {},
   "outputs": [],
   "source": [
    "tmp1 = ( titanic[\"Sex\"] == 'female' )"
   ]
  },
  {
   "cell_type": "code",
   "execution_count": null,
   "metadata": {},
   "outputs": [],
   "source": [
    "titanic(tmp1)"
   ]
  },
  {
   "cell_type": "code",
   "execution_count": null,
   "metadata": {},
   "outputs": [],
   "source": [
    "print(titanic.shape)\n",
    "ywf = (titanic[\"Age\"] < 21) & (titanic[\"Sex\"]=='female')\n",
    "#print(ywf)\n",
    "yw=titanic[yw]\n",
    "print(yw)\n"
   ]
  },
  {
   "cell_type": "code",
   "execution_count": null,
   "metadata": {},
   "outputs": [],
   "source": [
    "women = titanic[(titanic[\"Sex\"]=='female')]\n",
    "women_alive =  titanic[(titanic[\"Sex\"]=='female') & (titanic[\"Survived\"]==1)]\n",
    "\n",
    "men =  titanic[(titanic[\"Sex\"]=='male')]\n",
    "men_alive =  titanic[(titanic[\"Sex\"]=='male') & (titanic[\"Survived\"]==1)]\n",
    "\n",
    "print(women.count())\n",
    "print(women_alive.count())\n",
    "print(men.count())\n",
    "print(men_alive.count())"
   ]
  },
  {
   "cell_type": "code",
   "execution_count": null,
   "metadata": {},
   "outputs": [],
   "source": [
    "titanic = pd.read_csv(\"titanic.csv\")\n",
    "titanic.info"
   ]
  },
  {
   "cell_type": "code",
   "execution_count": null,
   "metadata": {},
   "outputs": [],
   "source": [
    "filter_age = titanic[\"Age\"] < 10\n",
    "filter_sex = titanic[\"Sex\"] == 'female'\n",
    "filter_age_sex = filter_age & filter_sex\n",
    "titanic_filtered = titanic[filter_age_sex]\n",
    "titanic_filtered[[\"Age\", \"Sex\", \"Survived\"]]"
   ]
  },
  {
   "cell_type": "code",
   "execution_count": null,
   "metadata": {},
   "outputs": [],
   "source": [
    "filter_class = titanic[\"Pclass\"].isin([1])\n",
    "titanic[filter_class][\"Name\"]"
   ]
  },
  {
   "cell_type": "code",
   "execution_count": null,
   "metadata": {},
   "outputs": [],
   "source": [
    "titanic.notna().sum()"
   ]
  },
  {
   "cell_type": "code",
   "execution_count": null,
   "metadata": {},
   "outputs": [],
   "source": [
    "age_filter = titanic[\"Age\"] > 35\n",
    "adult_names1 = titanic[age_filter][[\"Name\", \"Age\"]]\n",
    "adult_names2 = titanic.loc[titanic[\"Age\"] > 35, [\"Name\", \"Age\"]]\n",
    "print(adult_names1.head())\n",
    "print(adult_names1.shape)\n",
    "print(adult_names2.head())\n",
    "print(adult_names2.shape)\n"
   ]
  },
  {
   "cell_type": "code",
   "execution_count": null,
   "metadata": {},
   "outputs": [],
   "source": [
    "titanic.iloc[0:5,[0, 3, 4, 5]]"
   ]
  },
  {
   "cell_type": "code",
   "execution_count": null,
   "metadata": {},
   "outputs": [],
   "source": [
    "titanic.iloc[0:3,3] = 'abbysomething'\n",
    "titanic.head"
   ]
  },
  {
   "cell_type": "code",
   "execution_count": null,
   "metadata": {},
   "outputs": [],
   "source": [
    "import matplotlib.pyplot as plt"
   ]
  },
  {
   "cell_type": "code",
   "execution_count": null,
   "metadata": {},
   "outputs": [],
   "source": [
    "air_quality = pd.read_csv(\"air_quality_no2.csv\", index_col=0, parse_dates=True)\n",
    "air_quality.head()"
   ]
  },
  {
   "cell_type": "code",
   "execution_count": null,
   "metadata": {},
   "outputs": [],
   "source": [
    "air_quality.plot()"
   ]
  },
  {
   "cell_type": "code",
   "execution_count": null,
   "metadata": {},
   "outputs": [],
   "source": [
    "air_quality['station_paris'].plot()"
   ]
  },
  {
   "cell_type": "code",
   "execution_count": null,
   "metadata": {},
   "outputs": [],
   "source": [
    "tmp = air_quality['station_paris']\n",
    "print(type(tmp))\n",
    "print(tmp.shape)\n",
    "print(tmp)\n"
   ]
  },
  {
   "cell_type": "code",
   "execution_count": null,
   "metadata": {},
   "outputs": [],
   "source": [
    "air_quality.plot.scatter(x='station_paris', y='station_london', alpha=0.5)"
   ]
  },
  {
   "cell_type": "code",
   "execution_count": null,
   "metadata": {},
   "outputs": [],
   "source": [
    "dir(air_quality.plot)"
   ]
  },
  {
   "cell_type": "code",
   "execution_count": null,
   "metadata": {},
   "outputs": [],
   "source": [
    "air_quality.plot.box()"
   ]
  },
  {
   "cell_type": "code",
   "execution_count": null,
   "metadata": {},
   "outputs": [],
   "source": [
    "axs = air_quality.plot.area()"
   ]
  },
  {
   "cell_type": "code",
   "execution_count": null,
   "metadata": {},
   "outputs": [],
   "source": [
    "axs = air_quality.plot.area(figsize=(12, 4))"
   ]
  },
  {
   "cell_type": "code",
   "execution_count": null,
   "metadata": {},
   "outputs": [],
   "source": [
    "axs = air_quality.plot.area(figsize=(12, 4), subplots=True)"
   ]
  },
  {
   "cell_type": "code",
   "execution_count": null,
   "metadata": {},
   "outputs": [],
   "source": [
    "fig, axs = plt.subplots(figsize=(12, 4));"
   ]
  },
  {
   "cell_type": "code",
   "execution_count": null,
   "metadata": {},
   "outputs": [],
   "source": [
    "air_quality.plot.area(ax=axs);"
   ]
  },
  {
   "cell_type": "code",
   "execution_count": null,
   "metadata": {},
   "outputs": [],
   "source": [
    "plt.ion()"
   ]
  },
  {
   "cell_type": "code",
   "execution_count": null,
   "metadata": {},
   "outputs": [],
   "source": [
    "air_quality.plot.area(ax=axs);"
   ]
  },
  {
   "cell_type": "code",
   "execution_count": null,
   "metadata": {},
   "outputs": [],
   "source": []
  },
  {
   "cell_type": "code",
   "execution_count": null,
   "metadata": {},
   "outputs": [],
   "source": [
    "air_quality.plot.area(ax=axs);"
   ]
  },
  {
   "cell_type": "code",
   "execution_count": null,
   "metadata": {},
   "outputs": [],
   "source": [
    "fig, axs = plt.subplots(figsize=(12, 4));"
   ]
  },
  {
   "cell_type": "code",
   "execution_count": null,
   "metadata": {},
   "outputs": [],
   "source": [
    "air_quality.plot.area(ax=axs);"
   ]
  },
  {
   "cell_type": "code",
   "execution_count": null,
   "metadata": {},
   "outputs": [],
   "source": [
    "axs.set_ylabel(\"NO$_2$ concentration\");"
   ]
  },
  {
   "cell_type": "code",
   "execution_count": null,
   "metadata": {},
   "outputs": [],
   "source": [
    "air_quality1 = pd.read_csv(\"air_quality_no2.csv\", index_col=0, parse_dates=True)\n",
    "air_quality2 = pd.read_csv(\"air_quality_no2.csv\", index_col=0, parse_dates=False)"
   ]
  },
  {
   "cell_type": "code",
   "execution_count": null,
   "metadata": {},
   "outputs": [],
   "source": [
    "air_quality1.plot()\n",
    "air_quality2.plot()\n"
   ]
  },
  {
   "cell_type": "code",
   "execution_count": null,
   "metadata": {},
   "outputs": [],
   "source": [
    "print(air_quality1.head())\n",
    "print(air_quality2.head())\n"
   ]
  },
  {
   "cell_type": "code",
   "execution_count": null,
   "metadata": {},
   "outputs": [],
   "source": [
    "air_quality1.info"
   ]
  },
  {
   "cell_type": "code",
   "execution_count": null,
   "metadata": {},
   "outputs": [],
   "source": [
    "air_quality1.describe()"
   ]
  },
  {
   "cell_type": "code",
   "execution_count": null,
   "metadata": {},
   "outputs": [],
   "source": [
    "air_quality1[\"london_mg_per_cubic\"] = air_quality1[\"station_london\"] * 1.882"
   ]
  },
  {
   "cell_type": "code",
   "execution_count": null,
   "metadata": {},
   "outputs": [],
   "source": [
    "air_quality1.head()"
   ]
  },
  {
   "cell_type": "code",
   "execution_count": null,
   "metadata": {},
   "outputs": [],
   "source": [
    "air_quality1['ratio_paris_antwerp'] = air_quality1['station_paris']/ air_quality1['station_antwerp']\n",
    "air_quality1.head()"
   ]
  },
  {
   "cell_type": "code",
   "execution_count": null,
   "metadata": {},
   "outputs": [],
   "source": [
    "aq_renamed = air_quality1.rename(columns={'station_antwerp': 'ANT', 'station_paris': 'PAR' , 'station_london': 'LON' })\n",
    "aq_renamed.head()"
   ]
  },
  {
   "cell_type": "code",
   "execution_count": null,
   "metadata": {},
   "outputs": [],
   "source": [
    "aq_renamed2=aq_renamed.rename(columns=str.lower)\n",
    "aq_renamed2.head()"
   ]
  },
  {
   "cell_type": "code",
   "execution_count": null,
   "metadata": {},
   "outputs": [],
   "source": [
    "aq_renamed3= aq_renamed2.rename(columns=str.upper)\n",
    "aq_renamed3.head()"
   ]
  },
  {
   "cell_type": "code",
   "execution_count": null,
   "metadata": {},
   "outputs": [],
   "source": [
    "titanic = pd.read_csv(\"titanic.csv\")\n",
    "titanic.head"
   ]
  },
  {
   "cell_type": "code",
   "execution_count": null,
   "metadata": {},
   "outputs": [],
   "source": [
    "titanic[['Age', 'Fare']].median()"
   ]
  },
  {
   "cell_type": "code",
   "execution_count": null,
   "metadata": {},
   "outputs": [],
   "source": [
    "titanic[['Age', 'Fare']].describe()"
   ]
  },
  {
   "cell_type": "code",
   "execution_count": null,
   "metadata": {},
   "outputs": [],
   "source": [
    "titanic.agg({'Age': ['min', 'max', 'median', 'skew'],\n",
    "            'Fare': ['min', 'max', 'median', 'mean']})"
   ]
  },
  {
   "cell_type": "code",
   "execution_count": null,
   "metadata": {},
   "outputs": [],
   "source": [
    "titanic.groupby(\"Sex\")"
   ]
  },
  {
   "cell_type": "code",
   "execution_count": null,
   "metadata": {},
   "outputs": [],
   "source": [
    "titanic.head()"
   ]
  },
  {
   "cell_type": "code",
   "execution_count": null,
   "metadata": {},
   "outputs": [],
   "source": [
    "titanic.groupby(\"Sex\").mean()"
   ]
  },
  {
   "cell_type": "code",
   "execution_count": null,
   "metadata": {},
   "outputs": [],
   "source": [
    "titanic.groupby(\"Sex\").mean()['Age']"
   ]
  },
  {
   "cell_type": "code",
   "execution_count": null,
   "metadata": {},
   "outputs": [],
   "source": [
    "titanic.groupby(\"Sex\")['Age'].mean()"
   ]
  },
  {
   "cell_type": "code",
   "execution_count": null,
   "metadata": {},
   "outputs": [],
   "source": [
    "titanic.columns"
   ]
  },
  {
   "cell_type": "code",
   "execution_count": null,
   "metadata": {},
   "outputs": [],
   "source": [
    "titanic.groupby(\"Sex\")['Age'].shape"
   ]
  },
  {
   "cell_type": "code",
   "execution_count": null,
   "metadata": {},
   "outputs": [],
   "source": [
    "titanic[['Survived', 'Sex']].groupby(\"Sex\").mean()"
   ]
  },
  {
   "cell_type": "code",
   "execution_count": null,
   "metadata": {},
   "outputs": [],
   "source": []
  },
  {
   "cell_type": "code",
   "execution_count": null,
   "metadata": {},
   "outputs": [],
   "source": [
    "titanic_af = titanic['Age'] < 21\n",
    "titanic[titanic_af][['Survived', 'Sex']].groupby(\"Sex\").describe()"
   ]
  },
  {
   "cell_type": "code",
   "execution_count": null,
   "metadata": {},
   "outputs": [],
   "source": [
    "titanic.groupby([\"Sex\", \"Pclass\"])[\"Fare\"].describe()"
   ]
  },
  {
   "cell_type": "code",
   "execution_count": null,
   "metadata": {},
   "outputs": [],
   "source": [
    "titanic.groupby(['Sex', 'Survived'])['Age'].describe()"
   ]
  },
  {
   "cell_type": "code",
   "execution_count": null,
   "metadata": {},
   "outputs": [],
   "source": [
    "titanic.sort_values(by=\"Age\").head(10)"
   ]
  },
  {
   "cell_type": "code",
   "execution_count": null,
   "metadata": {},
   "outputs": [],
   "source": [
    "air_quality.head()"
   ]
  },
  {
   "cell_type": "code",
   "execution_count": null,
   "metadata": {},
   "outputs": [],
   "source": [
    "aq2 = pd.read_csv(\"air_quality_long.csv\")\n",
    "aq2.head()"
   ]
  },
  {
   "cell_type": "code",
   "execution_count": 26,
   "metadata": {},
   "outputs": [
    {
     "name": "stdout",
     "output_type": "stream",
     "text": [
      "Index(['2019-06-18 06:00:00+00:00', '2019-06-17 08:00:00+00:00',\n",
      "       '2019-06-17 07:00:00+00:00', '2019-06-17 06:00:00+00:00',\n",
      "       '2019-06-17 05:00:00+00:00', '2019-06-17 04:00:00+00:00',\n",
      "       '2019-06-17 03:00:00+00:00', '2019-06-17 02:00:00+00:00',\n",
      "       '2019-06-17 01:00:00+00:00', '2019-06-16 01:00:00+00:00',\n",
      "       ...\n",
      "       '2019-04-09 11:00:00+00:00', '2019-04-09 10:00:00+00:00',\n",
      "       '2019-04-09 09:00:00+00:00', '2019-04-09 08:00:00+00:00',\n",
      "       '2019-04-09 07:00:00+00:00', '2019-04-09 06:00:00+00:00',\n",
      "       '2019-04-09 05:00:00+00:00', '2019-04-09 04:00:00+00:00',\n",
      "       '2019-04-09 03:00:00+00:00', '2019-04-09 02:00:00+00:00'],\n",
      "      dtype='object', name='date.utc', length=5272)\n",
      "<class 'pandas.core.frame.DataFrame'>\n",
      "Index: 5272 entries, 2019-06-18 06:00:00+00:00 to 2019-04-09 02:00:00+00:00\n",
      "Data columns (total 6 columns):\n",
      " #   Column     Non-Null Count  Dtype  \n",
      "---  ------     --------------  -----  \n",
      " 0   city       5272 non-null   object \n",
      " 1   country    5272 non-null   object \n",
      " 2   location   5272 non-null   object \n",
      " 3   parameter  5272 non-null   object \n",
      " 4   value      5272 non-null   float64\n",
      " 5   unit       5272 non-null   object \n",
      "dtypes: float64(1), object(5)\n",
      "memory usage: 164.8+ KB\n",
      "None\n",
      "                                city country location parameter  value   unit\n",
      "date.utc                                                                     \n",
      "2019-06-18 06:00:00+00:00  Antwerpen      BE  BETR801      pm25   18.0  µg/m³\n",
      "2019-06-17 08:00:00+00:00  Antwerpen      BE  BETR801      pm25    6.5  µg/m³\n",
      "2019-06-17 07:00:00+00:00  Antwerpen      BE  BETR801      pm25   18.5  µg/m³\n",
      "2019-06-17 06:00:00+00:00  Antwerpen      BE  BETR801      pm25   16.0  µg/m³\n",
      "2019-06-17 05:00:00+00:00  Antwerpen      BE  BETR801      pm25    7.5  µg/m³\n",
      "DatetimeIndex(['2019-06-18 06:00:00+00:00', '2019-06-17 08:00:00+00:00',\n",
      "               '2019-06-17 07:00:00+00:00', '2019-06-17 06:00:00+00:00',\n",
      "               '2019-06-17 05:00:00+00:00', '2019-06-17 04:00:00+00:00',\n",
      "               '2019-06-17 03:00:00+00:00', '2019-06-17 02:00:00+00:00',\n",
      "               '2019-06-17 01:00:00+00:00', '2019-06-16 01:00:00+00:00',\n",
      "               ...\n",
      "               '2019-04-09 11:00:00+00:00', '2019-04-09 10:00:00+00:00',\n",
      "               '2019-04-09 09:00:00+00:00', '2019-04-09 08:00:00+00:00',\n",
      "               '2019-04-09 07:00:00+00:00', '2019-04-09 06:00:00+00:00',\n",
      "               '2019-04-09 05:00:00+00:00', '2019-04-09 04:00:00+00:00',\n",
      "               '2019-04-09 03:00:00+00:00', '2019-04-09 02:00:00+00:00'],\n",
      "              dtype='datetime64[ns, UTC]', name='date.utc', length=5272, freq=None)\n",
      "<class 'pandas.core.frame.DataFrame'>\n",
      "DatetimeIndex: 5272 entries, 2019-06-18 06:00:00+00:00 to 2019-04-09 02:00:00+00:00\n",
      "Data columns (total 6 columns):\n",
      " #   Column     Non-Null Count  Dtype  \n",
      "---  ------     --------------  -----  \n",
      " 0   city       5272 non-null   object \n",
      " 1   country    5272 non-null   object \n",
      " 2   location   5272 non-null   object \n",
      " 3   parameter  5272 non-null   object \n",
      " 4   value      5272 non-null   float64\n",
      " 5   unit       5272 non-null   object \n",
      "dtypes: float64(1), object(5)\n",
      "memory usage: 185.3+ KB\n",
      "None\n",
      "                                city country location parameter  value   unit\n",
      "date.utc                                                                     \n",
      "2019-06-18 06:00:00+00:00  Antwerpen      BE  BETR801      pm25   18.0  µg/m³\n",
      "2019-06-17 08:00:00+00:00  Antwerpen      BE  BETR801      pm25    6.5  µg/m³\n",
      "2019-06-17 07:00:00+00:00  Antwerpen      BE  BETR801      pm25   18.5  µg/m³\n",
      "2019-06-17 06:00:00+00:00  Antwerpen      BE  BETR801      pm25   16.0  µg/m³\n",
      "2019-06-17 05:00:00+00:00  Antwerpen      BE  BETR801      pm25    7.5  µg/m³\n"
     ]
    }
   ],
   "source": [
    "aq3 = pd.read_csv(\"air_quality_long.csv\", index_col='date.utc')\n",
    "print(aq3.index)\n",
    "print(aq3.info())\n",
    "print(aq3.head())\n",
    "\n",
    "aq4 = pd.read_csv(\"air_quality_long.csv\", index_col='date.utc', parse_dates=True)\n",
    "print(aq4.index)\n",
    "print(aq4.info())\n",
    "print(aq4.head())"
   ]
  },
  {
   "cell_type": "code",
   "execution_count": 15,
   "metadata": {},
   "outputs": [
    {
     "data": {
      "text/html": [
       "<div>\n",
       "<style scoped>\n",
       "    .dataframe tbody tr th:only-of-type {\n",
       "        vertical-align: middle;\n",
       "    }\n",
       "\n",
       "    .dataframe tbody tr th {\n",
       "        vertical-align: top;\n",
       "    }\n",
       "\n",
       "    .dataframe thead th {\n",
       "        text-align: right;\n",
       "    }\n",
       "</style>\n",
       "<table border=\"1\" class=\"dataframe\">\n",
       "  <thead>\n",
       "    <tr style=\"text-align: right;\">\n",
       "      <th></th>\n",
       "      <th>PassengerId</th>\n",
       "      <th>Survived</th>\n",
       "      <th>Pclass</th>\n",
       "      <th>Name</th>\n",
       "      <th>Sex</th>\n",
       "      <th>Age</th>\n",
       "      <th>SibSp</th>\n",
       "      <th>Parch</th>\n",
       "      <th>Ticket</th>\n",
       "      <th>Fare</th>\n",
       "      <th>Cabin</th>\n",
       "      <th>Embarked</th>\n",
       "    </tr>\n",
       "  </thead>\n",
       "  <tbody>\n",
       "    <tr>\n",
       "      <th>803</th>\n",
       "      <td>804</td>\n",
       "      <td>1</td>\n",
       "      <td>3</td>\n",
       "      <td>Thomas, Master. Assad Alexander</td>\n",
       "      <td>male</td>\n",
       "      <td>0.42</td>\n",
       "      <td>0</td>\n",
       "      <td>1</td>\n",
       "      <td>2625</td>\n",
       "      <td>8.5167</td>\n",
       "      <td>NaN</td>\n",
       "      <td>C</td>\n",
       "    </tr>\n",
       "    <tr>\n",
       "      <th>755</th>\n",
       "      <td>756</td>\n",
       "      <td>1</td>\n",
       "      <td>2</td>\n",
       "      <td>Hamalainen, Master. Viljo</td>\n",
       "      <td>male</td>\n",
       "      <td>0.67</td>\n",
       "      <td>1</td>\n",
       "      <td>1</td>\n",
       "      <td>250649</td>\n",
       "      <td>14.5000</td>\n",
       "      <td>NaN</td>\n",
       "      <td>S</td>\n",
       "    </tr>\n",
       "    <tr>\n",
       "      <th>644</th>\n",
       "      <td>645</td>\n",
       "      <td>1</td>\n",
       "      <td>3</td>\n",
       "      <td>Baclini, Miss. Eugenie</td>\n",
       "      <td>female</td>\n",
       "      <td>0.75</td>\n",
       "      <td>2</td>\n",
       "      <td>1</td>\n",
       "      <td>2666</td>\n",
       "      <td>19.2583</td>\n",
       "      <td>NaN</td>\n",
       "      <td>C</td>\n",
       "    </tr>\n",
       "    <tr>\n",
       "      <th>469</th>\n",
       "      <td>470</td>\n",
       "      <td>1</td>\n",
       "      <td>3</td>\n",
       "      <td>Baclini, Miss. Helene Barbara</td>\n",
       "      <td>female</td>\n",
       "      <td>0.75</td>\n",
       "      <td>2</td>\n",
       "      <td>1</td>\n",
       "      <td>2666</td>\n",
       "      <td>19.2583</td>\n",
       "      <td>NaN</td>\n",
       "      <td>C</td>\n",
       "    </tr>\n",
       "    <tr>\n",
       "      <th>78</th>\n",
       "      <td>79</td>\n",
       "      <td>1</td>\n",
       "      <td>2</td>\n",
       "      <td>Caldwell, Master. Alden Gates</td>\n",
       "      <td>male</td>\n",
       "      <td>0.83</td>\n",
       "      <td>0</td>\n",
       "      <td>2</td>\n",
       "      <td>248738</td>\n",
       "      <td>29.0000</td>\n",
       "      <td>NaN</td>\n",
       "      <td>S</td>\n",
       "    </tr>\n",
       "  </tbody>\n",
       "</table>\n",
       "</div>"
      ],
      "text/plain": [
       "     PassengerId  Survived  Pclass                             Name     Sex  \\\n",
       "803          804         1       3  Thomas, Master. Assad Alexander    male   \n",
       "755          756         1       2        Hamalainen, Master. Viljo    male   \n",
       "644          645         1       3           Baclini, Miss. Eugenie  female   \n",
       "469          470         1       3    Baclini, Miss. Helene Barbara  female   \n",
       "78            79         1       2    Caldwell, Master. Alden Gates    male   \n",
       "\n",
       "      Age  SibSp  Parch  Ticket     Fare Cabin Embarked  \n",
       "803  0.42      0      1    2625   8.5167   NaN        C  \n",
       "755  0.67      1      1  250649  14.5000   NaN        S  \n",
       "644  0.75      2      1    2666  19.2583   NaN        C  \n",
       "469  0.75      2      1    2666  19.2583   NaN        C  \n",
       "78   0.83      0      2  248738  29.0000   NaN        S  "
      ]
     },
     "execution_count": 15,
     "metadata": {},
     "output_type": "execute_result"
    }
   ],
   "source": [
    "titanic.sort_values(by=\"Age\").head()"
   ]
  },
  {
   "cell_type": "code",
   "execution_count": 25,
   "metadata": {},
   "outputs": [
    {
     "data": {
      "text/html": [
       "<div>\n",
       "<style scoped>\n",
       "    .dataframe tbody tr th:only-of-type {\n",
       "        vertical-align: middle;\n",
       "    }\n",
       "\n",
       "    .dataframe tbody tr th {\n",
       "        vertical-align: top;\n",
       "    }\n",
       "\n",
       "    .dataframe thead th {\n",
       "        text-align: right;\n",
       "    }\n",
       "</style>\n",
       "<table border=\"1\" class=\"dataframe\">\n",
       "  <thead>\n",
       "    <tr style=\"text-align: right;\">\n",
       "      <th></th>\n",
       "      <th>PassengerId</th>\n",
       "      <th>Survived</th>\n",
       "      <th>Pclass</th>\n",
       "      <th>Name</th>\n",
       "      <th>Sex</th>\n",
       "      <th>Age</th>\n",
       "      <th>SibSp</th>\n",
       "      <th>Parch</th>\n",
       "      <th>Ticket</th>\n",
       "      <th>Fare</th>\n",
       "      <th>Cabin</th>\n",
       "      <th>Embarked</th>\n",
       "    </tr>\n",
       "  </thead>\n",
       "  <tbody>\n",
       "    <tr>\n",
       "      <th>301</th>\n",
       "      <td>302</td>\n",
       "      <td>1</td>\n",
       "      <td>3</td>\n",
       "      <td>McCoy, Mr. Bernard</td>\n",
       "      <td>male</td>\n",
       "      <td>NaN</td>\n",
       "      <td>2</td>\n",
       "      <td>0</td>\n",
       "      <td>367226</td>\n",
       "      <td>23.2500</td>\n",
       "      <td>NaN</td>\n",
       "      <td>Q</td>\n",
       "    </tr>\n",
       "    <tr>\n",
       "      <th>304</th>\n",
       "      <td>305</td>\n",
       "      <td>0</td>\n",
       "      <td>3</td>\n",
       "      <td>Williams, Mr. Howard Hugh \"Harry\"</td>\n",
       "      <td>male</td>\n",
       "      <td>NaN</td>\n",
       "      <td>0</td>\n",
       "      <td>0</td>\n",
       "      <td>A/5 2466</td>\n",
       "      <td>8.0500</td>\n",
       "      <td>NaN</td>\n",
       "      <td>S</td>\n",
       "    </tr>\n",
       "    <tr>\n",
       "      <th>324</th>\n",
       "      <td>325</td>\n",
       "      <td>0</td>\n",
       "      <td>3</td>\n",
       "      <td>Sage, Mr. George John Jr</td>\n",
       "      <td>male</td>\n",
       "      <td>NaN</td>\n",
       "      <td>8</td>\n",
       "      <td>2</td>\n",
       "      <td>CA. 2343</td>\n",
       "      <td>69.5500</td>\n",
       "      <td>NaN</td>\n",
       "      <td>S</td>\n",
       "    </tr>\n",
       "    <tr>\n",
       "      <th>330</th>\n",
       "      <td>331</td>\n",
       "      <td>1</td>\n",
       "      <td>3</td>\n",
       "      <td>McCoy, Miss. Agnes</td>\n",
       "      <td>female</td>\n",
       "      <td>NaN</td>\n",
       "      <td>2</td>\n",
       "      <td>0</td>\n",
       "      <td>367226</td>\n",
       "      <td>23.2500</td>\n",
       "      <td>NaN</td>\n",
       "      <td>Q</td>\n",
       "    </tr>\n",
       "    <tr>\n",
       "      <th>335</th>\n",
       "      <td>336</td>\n",
       "      <td>0</td>\n",
       "      <td>3</td>\n",
       "      <td>Denkoff, Mr. Mitto</td>\n",
       "      <td>male</td>\n",
       "      <td>NaN</td>\n",
       "      <td>0</td>\n",
       "      <td>0</td>\n",
       "      <td>349225</td>\n",
       "      <td>7.8958</td>\n",
       "      <td>NaN</td>\n",
       "      <td>S</td>\n",
       "    </tr>\n",
       "    <tr>\n",
       "      <th>...</th>\n",
       "      <td>...</td>\n",
       "      <td>...</td>\n",
       "      <td>...</td>\n",
       "      <td>...</td>\n",
       "      <td>...</td>\n",
       "      <td>...</td>\n",
       "      <td>...</td>\n",
       "      <td>...</td>\n",
       "      <td>...</td>\n",
       "      <td>...</td>\n",
       "      <td>...</td>\n",
       "      <td>...</td>\n",
       "    </tr>\n",
       "    <tr>\n",
       "      <th>827</th>\n",
       "      <td>828</td>\n",
       "      <td>1</td>\n",
       "      <td>2</td>\n",
       "      <td>Mallet, Master. Andre</td>\n",
       "      <td>male</td>\n",
       "      <td>1.0</td>\n",
       "      <td>0</td>\n",
       "      <td>2</td>\n",
       "      <td>S.C./PARIS 2079</td>\n",
       "      <td>37.0042</td>\n",
       "      <td>NaN</td>\n",
       "      <td>C</td>\n",
       "    </tr>\n",
       "    <tr>\n",
       "      <th>340</th>\n",
       "      <td>341</td>\n",
       "      <td>1</td>\n",
       "      <td>2</td>\n",
       "      <td>Navratil, Master. Edmond Roger</td>\n",
       "      <td>male</td>\n",
       "      <td>2.0</td>\n",
       "      <td>1</td>\n",
       "      <td>1</td>\n",
       "      <td>230080</td>\n",
       "      <td>26.0000</td>\n",
       "      <td>F2</td>\n",
       "      <td>S</td>\n",
       "    </tr>\n",
       "    <tr>\n",
       "      <th>530</th>\n",
       "      <td>531</td>\n",
       "      <td>1</td>\n",
       "      <td>2</td>\n",
       "      <td>Quick, Miss. Phyllis May</td>\n",
       "      <td>female</td>\n",
       "      <td>2.0</td>\n",
       "      <td>1</td>\n",
       "      <td>1</td>\n",
       "      <td>26360</td>\n",
       "      <td>26.0000</td>\n",
       "      <td>NaN</td>\n",
       "      <td>S</td>\n",
       "    </tr>\n",
       "    <tr>\n",
       "      <th>43</th>\n",
       "      <td>44</td>\n",
       "      <td>1</td>\n",
       "      <td>2</td>\n",
       "      <td>Laroche, Miss. Simonne Marie Anne Andree</td>\n",
       "      <td>female</td>\n",
       "      <td>3.0</td>\n",
       "      <td>1</td>\n",
       "      <td>2</td>\n",
       "      <td>SC/Paris 2123</td>\n",
       "      <td>41.5792</td>\n",
       "      <td>NaN</td>\n",
       "      <td>C</td>\n",
       "    </tr>\n",
       "    <tr>\n",
       "      <th>193</th>\n",
       "      <td>194</td>\n",
       "      <td>1</td>\n",
       "      <td>2</td>\n",
       "      <td>Navratil, Master. Michel M</td>\n",
       "      <td>male</td>\n",
       "      <td>3.0</td>\n",
       "      <td>1</td>\n",
       "      <td>1</td>\n",
       "      <td>230080</td>\n",
       "      <td>26.0000</td>\n",
       "      <td>F2</td>\n",
       "      <td>S</td>\n",
       "    </tr>\n",
       "  </tbody>\n",
       "</table>\n",
       "<p>100 rows × 12 columns</p>\n",
       "</div>"
      ],
      "text/plain": [
       "     PassengerId  Survived  Pclass                                      Name  \\\n",
       "301          302         1       3                        McCoy, Mr. Bernard   \n",
       "304          305         0       3         Williams, Mr. Howard Hugh \"Harry\"   \n",
       "324          325         0       3                  Sage, Mr. George John Jr   \n",
       "330          331         1       3                        McCoy, Miss. Agnes   \n",
       "335          336         0       3                        Denkoff, Mr. Mitto   \n",
       "..           ...       ...     ...                                       ...   \n",
       "827          828         1       2                     Mallet, Master. Andre   \n",
       "340          341         1       2            Navratil, Master. Edmond Roger   \n",
       "530          531         1       2                  Quick, Miss. Phyllis May   \n",
       "43            44         1       2  Laroche, Miss. Simonne Marie Anne Andree   \n",
       "193          194         1       2                Navratil, Master. Michel M   \n",
       "\n",
       "        Sex  Age  SibSp  Parch           Ticket     Fare Cabin Embarked  \n",
       "301    male  NaN      2      0           367226  23.2500   NaN        Q  \n",
       "304    male  NaN      0      0         A/5 2466   8.0500   NaN        S  \n",
       "324    male  NaN      8      2         CA. 2343  69.5500   NaN        S  \n",
       "330  female  NaN      2      0           367226  23.2500   NaN        Q  \n",
       "335    male  NaN      0      0           349225   7.8958   NaN        S  \n",
       "..      ...  ...    ...    ...              ...      ...   ...      ...  \n",
       "827    male  1.0      0      2  S.C./PARIS 2079  37.0042   NaN        C  \n",
       "340    male  2.0      1      1           230080  26.0000    F2        S  \n",
       "530  female  2.0      1      1            26360  26.0000   NaN        S  \n",
       "43   female  3.0      1      2    SC/Paris 2123  41.5792   NaN        C  \n",
       "193    male  3.0      1      1           230080  26.0000    F2        S  \n",
       "\n",
       "[100 rows x 12 columns]"
      ]
     },
     "execution_count": 25,
     "metadata": {},
     "output_type": "execute_result"
    }
   ],
   "source": [
    "titanic.sort_values(by=['Pclass', 'Age'], ascending=[False, True])[400:500]"
   ]
  },
  {
   "cell_type": "code",
   "execution_count": 27,
   "metadata": {},
   "outputs": [
    {
     "name": "stdout",
     "output_type": "stream",
     "text": [
      "                                city country location parameter  value   unit\n",
      "date.utc                                                                     \n",
      "2019-06-18 06:00:00+00:00  Antwerpen      BE  BETR801      pm25   18.0  µg/m³\n",
      "2019-06-17 08:00:00+00:00  Antwerpen      BE  BETR801      pm25    6.5  µg/m³\n",
      "2019-06-17 07:00:00+00:00  Antwerpen      BE  BETR801      pm25   18.5  µg/m³\n",
      "2019-06-17 06:00:00+00:00  Antwerpen      BE  BETR801      pm25   16.0  µg/m³\n",
      "2019-06-17 05:00:00+00:00  Antwerpen      BE  BETR801      pm25    7.5  µg/m³\n"
     ]
    }
   ],
   "source": [
    "print(aq4.head())"
   ]
  },
  {
   "cell_type": "code",
   "execution_count": 29,
   "metadata": {},
   "outputs": [],
   "source": [
    "f_no2 = aq4['parameter'] == 'no2'"
   ]
  },
  {
   "cell_type": "code",
   "execution_count": 31,
   "metadata": {},
   "outputs": [
    {
     "data": {
      "text/html": [
       "<div>\n",
       "<style scoped>\n",
       "    .dataframe tbody tr th:only-of-type {\n",
       "        vertical-align: middle;\n",
       "    }\n",
       "\n",
       "    .dataframe tbody tr th {\n",
       "        vertical-align: top;\n",
       "    }\n",
       "\n",
       "    .dataframe thead th {\n",
       "        text-align: right;\n",
       "    }\n",
       "</style>\n",
       "<table border=\"1\" class=\"dataframe\">\n",
       "  <thead>\n",
       "    <tr style=\"text-align: right;\">\n",
       "      <th></th>\n",
       "      <th>city</th>\n",
       "      <th>country</th>\n",
       "      <th>location</th>\n",
       "      <th>parameter</th>\n",
       "      <th>value</th>\n",
       "      <th>unit</th>\n",
       "    </tr>\n",
       "    <tr>\n",
       "      <th>date.utc</th>\n",
       "      <th></th>\n",
       "      <th></th>\n",
       "      <th></th>\n",
       "      <th></th>\n",
       "      <th></th>\n",
       "      <th></th>\n",
       "    </tr>\n",
       "  </thead>\n",
       "  <tbody>\n",
       "    <tr>\n",
       "      <th>2019-06-21 00:00:00+00:00</th>\n",
       "      <td>Paris</td>\n",
       "      <td>FR</td>\n",
       "      <td>FR04014</td>\n",
       "      <td>no2</td>\n",
       "      <td>20.0</td>\n",
       "      <td>µg/m³</td>\n",
       "    </tr>\n",
       "    <tr>\n",
       "      <th>2019-06-20 23:00:00+00:00</th>\n",
       "      <td>Paris</td>\n",
       "      <td>FR</td>\n",
       "      <td>FR04014</td>\n",
       "      <td>no2</td>\n",
       "      <td>21.8</td>\n",
       "      <td>µg/m³</td>\n",
       "    </tr>\n",
       "    <tr>\n",
       "      <th>2019-06-20 22:00:00+00:00</th>\n",
       "      <td>Paris</td>\n",
       "      <td>FR</td>\n",
       "      <td>FR04014</td>\n",
       "      <td>no2</td>\n",
       "      <td>26.5</td>\n",
       "      <td>µg/m³</td>\n",
       "    </tr>\n",
       "    <tr>\n",
       "      <th>2019-06-20 21:00:00+00:00</th>\n",
       "      <td>Paris</td>\n",
       "      <td>FR</td>\n",
       "      <td>FR04014</td>\n",
       "      <td>no2</td>\n",
       "      <td>24.9</td>\n",
       "      <td>µg/m³</td>\n",
       "    </tr>\n",
       "    <tr>\n",
       "      <th>2019-06-20 20:00:00+00:00</th>\n",
       "      <td>Paris</td>\n",
       "      <td>FR</td>\n",
       "      <td>FR04014</td>\n",
       "      <td>no2</td>\n",
       "      <td>21.4</td>\n",
       "      <td>µg/m³</td>\n",
       "    </tr>\n",
       "  </tbody>\n",
       "</table>\n",
       "</div>"
      ],
      "text/plain": [
       "                            city country location parameter  value   unit\n",
       "date.utc                                                                 \n",
       "2019-06-21 00:00:00+00:00  Paris      FR  FR04014       no2   20.0  µg/m³\n",
       "2019-06-20 23:00:00+00:00  Paris      FR  FR04014       no2   21.8  µg/m³\n",
       "2019-06-20 22:00:00+00:00  Paris      FR  FR04014       no2   26.5  µg/m³\n",
       "2019-06-20 21:00:00+00:00  Paris      FR  FR04014       no2   24.9  µg/m³\n",
       "2019-06-20 20:00:00+00:00  Paris      FR  FR04014       no2   21.4  µg/m³"
      ]
     },
     "execution_count": 31,
     "metadata": {},
     "output_type": "execute_result"
    }
   ],
   "source": [
    "no2 = aq4[f_no2]\n",
    "no2.head()"
   ]
  },
  {
   "cell_type": "code",
   "execution_count": 33,
   "metadata": {},
   "outputs": [
    {
     "data": {
      "text/html": [
       "<div>\n",
       "<style scoped>\n",
       "    .dataframe tbody tr th:only-of-type {\n",
       "        vertical-align: middle;\n",
       "    }\n",
       "\n",
       "    .dataframe tbody tr th {\n",
       "        vertical-align: top;\n",
       "    }\n",
       "\n",
       "    .dataframe thead th {\n",
       "        text-align: right;\n",
       "    }\n",
       "</style>\n",
       "<table border=\"1\" class=\"dataframe\">\n",
       "  <thead>\n",
       "    <tr style=\"text-align: right;\">\n",
       "      <th></th>\n",
       "      <th>city</th>\n",
       "      <th>country</th>\n",
       "      <th>location</th>\n",
       "      <th>parameter</th>\n",
       "      <th>value</th>\n",
       "      <th>unit</th>\n",
       "    </tr>\n",
       "    <tr>\n",
       "      <th>date.utc</th>\n",
       "      <th></th>\n",
       "      <th></th>\n",
       "      <th></th>\n",
       "      <th></th>\n",
       "      <th></th>\n",
       "      <th></th>\n",
       "    </tr>\n",
       "  </thead>\n",
       "  <tbody>\n",
       "    <tr>\n",
       "      <th>2019-04-09 01:00:00+00:00</th>\n",
       "      <td>Antwerpen</td>\n",
       "      <td>BE</td>\n",
       "      <td>BETR801</td>\n",
       "      <td>no2</td>\n",
       "      <td>22.5</td>\n",
       "      <td>µg/m³</td>\n",
       "    </tr>\n",
       "    <tr>\n",
       "      <th>2019-04-09 01:00:00+00:00</th>\n",
       "      <td>Paris</td>\n",
       "      <td>FR</td>\n",
       "      <td>FR04014</td>\n",
       "      <td>no2</td>\n",
       "      <td>24.4</td>\n",
       "      <td>µg/m³</td>\n",
       "    </tr>\n",
       "    <tr>\n",
       "      <th>2019-04-09 02:00:00+00:00</th>\n",
       "      <td>London</td>\n",
       "      <td>GB</td>\n",
       "      <td>London Westminster</td>\n",
       "      <td>no2</td>\n",
       "      <td>67.0</td>\n",
       "      <td>µg/m³</td>\n",
       "    </tr>\n",
       "    <tr>\n",
       "      <th>2019-04-09 02:00:00+00:00</th>\n",
       "      <td>Antwerpen</td>\n",
       "      <td>BE</td>\n",
       "      <td>BETR801</td>\n",
       "      <td>no2</td>\n",
       "      <td>53.5</td>\n",
       "      <td>µg/m³</td>\n",
       "    </tr>\n",
       "    <tr>\n",
       "      <th>2019-04-09 02:00:00+00:00</th>\n",
       "      <td>Paris</td>\n",
       "      <td>FR</td>\n",
       "      <td>FR04014</td>\n",
       "      <td>no2</td>\n",
       "      <td>27.4</td>\n",
       "      <td>µg/m³</td>\n",
       "    </tr>\n",
       "    <tr>\n",
       "      <th>2019-04-09 03:00:00+00:00</th>\n",
       "      <td>Antwerpen</td>\n",
       "      <td>BE</td>\n",
       "      <td>BETR801</td>\n",
       "      <td>no2</td>\n",
       "      <td>54.5</td>\n",
       "      <td>µg/m³</td>\n",
       "    </tr>\n",
       "    <tr>\n",
       "      <th>2019-04-09 03:00:00+00:00</th>\n",
       "      <td>London</td>\n",
       "      <td>GB</td>\n",
       "      <td>London Westminster</td>\n",
       "      <td>no2</td>\n",
       "      <td>67.0</td>\n",
       "      <td>µg/m³</td>\n",
       "    </tr>\n",
       "    <tr>\n",
       "      <th>2019-04-09 03:00:00+00:00</th>\n",
       "      <td>Paris</td>\n",
       "      <td>FR</td>\n",
       "      <td>FR04014</td>\n",
       "      <td>no2</td>\n",
       "      <td>34.2</td>\n",
       "      <td>µg/m³</td>\n",
       "    </tr>\n",
       "    <tr>\n",
       "      <th>2019-04-09 04:00:00+00:00</th>\n",
       "      <td>Antwerpen</td>\n",
       "      <td>BE</td>\n",
       "      <td>BETR801</td>\n",
       "      <td>no2</td>\n",
       "      <td>34.5</td>\n",
       "      <td>µg/m³</td>\n",
       "    </tr>\n",
       "    <tr>\n",
       "      <th>2019-04-09 04:00:00+00:00</th>\n",
       "      <td>Paris</td>\n",
       "      <td>FR</td>\n",
       "      <td>FR04014</td>\n",
       "      <td>no2</td>\n",
       "      <td>48.5</td>\n",
       "      <td>µg/m³</td>\n",
       "    </tr>\n",
       "    <tr>\n",
       "      <th>2019-04-09 04:00:00+00:00</th>\n",
       "      <td>London</td>\n",
       "      <td>GB</td>\n",
       "      <td>London Westminster</td>\n",
       "      <td>no2</td>\n",
       "      <td>41.0</td>\n",
       "      <td>µg/m³</td>\n",
       "    </tr>\n",
       "    <tr>\n",
       "      <th>2019-04-09 05:00:00+00:00</th>\n",
       "      <td>Paris</td>\n",
       "      <td>FR</td>\n",
       "      <td>FR04014</td>\n",
       "      <td>no2</td>\n",
       "      <td>59.5</td>\n",
       "      <td>µg/m³</td>\n",
       "    </tr>\n",
       "    <tr>\n",
       "      <th>2019-04-09 05:00:00+00:00</th>\n",
       "      <td>Antwerpen</td>\n",
       "      <td>BE</td>\n",
       "      <td>BETR801</td>\n",
       "      <td>no2</td>\n",
       "      <td>46.5</td>\n",
       "      <td>µg/m³</td>\n",
       "    </tr>\n",
       "    <tr>\n",
       "      <th>2019-04-09 05:00:00+00:00</th>\n",
       "      <td>London</td>\n",
       "      <td>GB</td>\n",
       "      <td>London Westminster</td>\n",
       "      <td>no2</td>\n",
       "      <td>41.0</td>\n",
       "      <td>µg/m³</td>\n",
       "    </tr>\n",
       "    <tr>\n",
       "      <th>2019-04-09 06:00:00+00:00</th>\n",
       "      <td>London</td>\n",
       "      <td>GB</td>\n",
       "      <td>London Westminster</td>\n",
       "      <td>no2</td>\n",
       "      <td>41.0</td>\n",
       "      <td>µg/m³</td>\n",
       "    </tr>\n",
       "  </tbody>\n",
       "</table>\n",
       "</div>"
      ],
      "text/plain": [
       "                                city country            location parameter  \\\n",
       "date.utc                                                                     \n",
       "2019-04-09 01:00:00+00:00  Antwerpen      BE             BETR801       no2   \n",
       "2019-04-09 01:00:00+00:00      Paris      FR             FR04014       no2   \n",
       "2019-04-09 02:00:00+00:00     London      GB  London Westminster       no2   \n",
       "2019-04-09 02:00:00+00:00  Antwerpen      BE             BETR801       no2   \n",
       "2019-04-09 02:00:00+00:00      Paris      FR             FR04014       no2   \n",
       "2019-04-09 03:00:00+00:00  Antwerpen      BE             BETR801       no2   \n",
       "2019-04-09 03:00:00+00:00     London      GB  London Westminster       no2   \n",
       "2019-04-09 03:00:00+00:00      Paris      FR             FR04014       no2   \n",
       "2019-04-09 04:00:00+00:00  Antwerpen      BE             BETR801       no2   \n",
       "2019-04-09 04:00:00+00:00      Paris      FR             FR04014       no2   \n",
       "2019-04-09 04:00:00+00:00     London      GB  London Westminster       no2   \n",
       "2019-04-09 05:00:00+00:00      Paris      FR             FR04014       no2   \n",
       "2019-04-09 05:00:00+00:00  Antwerpen      BE             BETR801       no2   \n",
       "2019-04-09 05:00:00+00:00     London      GB  London Westminster       no2   \n",
       "2019-04-09 06:00:00+00:00     London      GB  London Westminster       no2   \n",
       "\n",
       "                           value   unit  \n",
       "date.utc                                 \n",
       "2019-04-09 01:00:00+00:00   22.5  µg/m³  \n",
       "2019-04-09 01:00:00+00:00   24.4  µg/m³  \n",
       "2019-04-09 02:00:00+00:00   67.0  µg/m³  \n",
       "2019-04-09 02:00:00+00:00   53.5  µg/m³  \n",
       "2019-04-09 02:00:00+00:00   27.4  µg/m³  \n",
       "2019-04-09 03:00:00+00:00   54.5  µg/m³  \n",
       "2019-04-09 03:00:00+00:00   67.0  µg/m³  \n",
       "2019-04-09 03:00:00+00:00   34.2  µg/m³  \n",
       "2019-04-09 04:00:00+00:00   34.5  µg/m³  \n",
       "2019-04-09 04:00:00+00:00   48.5  µg/m³  \n",
       "2019-04-09 04:00:00+00:00   41.0  µg/m³  \n",
       "2019-04-09 05:00:00+00:00   59.5  µg/m³  \n",
       "2019-04-09 05:00:00+00:00   46.5  µg/m³  \n",
       "2019-04-09 05:00:00+00:00   41.0  µg/m³  \n",
       "2019-04-09 06:00:00+00:00   41.0  µg/m³  "
      ]
     },
     "execution_count": 33,
     "metadata": {},
     "output_type": "execute_result"
    }
   ],
   "source": [
    "no2_subset = no2.sort_index().groupby([\"location\"])\n",
    "no2_subset.head()"
   ]
  },
  {
   "cell_type": "code",
   "execution_count": 34,
   "metadata": {},
   "outputs": [],
   "source": [
    "fn_wse = 'wse.csv'"
   ]
  },
  {
   "cell_type": "code",
   "execution_count": 37,
   "metadata": {},
   "outputs": [],
   "source": [
    "wse_df = pd.read_csv(fn_wse, index_col=0, parse_dates=True)"
   ]
  },
  {
   "cell_type": "code",
   "execution_count": 38,
   "metadata": {},
   "outputs": [
    {
     "data": {
      "text/plain": [
       "DatetimeIndex(['2010-01-01', '2010-02-01', '2010-03-01', '2010-04-01',\n",
       "               '2010-05-01', '2010-06-01', '2010-07-01', '2010-08-01',\n",
       "               '2010-09-01', '2010-10-01', '2010-11-01', '2010-12-01',\n",
       "               '2011-01-01', '2011-02-01', '2011-03-01', '2011-04-01',\n",
       "               '2011-05-01', '2011-06-01', '2011-07-01', '2011-08-01',\n",
       "               '2011-09-01', '2011-10-01', '2011-11-01', '2011-12-01',\n",
       "               '2012-01-01', '2012-02-01', '2012-03-01', '2012-04-01',\n",
       "               '2012-05-01', '2012-06-01', '2012-07-01', '2012-08-01',\n",
       "               '2012-09-01', '2012-10-01', '2012-11-01', '2012-12-01',\n",
       "               '2013-01-01', '2013-02-01', '2013-03-01', '2013-04-01',\n",
       "               '2013-05-01', '2013-06-01', '2013-07-01', '2013-08-01',\n",
       "               '2013-09-01', '2013-10-01', '2013-11-01', '2013-12-01',\n",
       "               '2014-01-01', '2014-02-01', '2014-03-01', '2014-04-01',\n",
       "               '2014-05-01', '2014-06-01', '2014-07-01', '2014-08-01',\n",
       "               '2014-09-01', '2014-10-01', '2014-11-01', '2014-12-01'],\n",
       "              dtype='datetime64[ns]', name='Date', freq=None)"
      ]
     },
     "execution_count": 38,
     "metadata": {},
     "output_type": "execute_result"
    }
   ],
   "source": [
    "wse_df.index"
   ]
  },
  {
   "cell_type": "code",
   "execution_count": 40,
   "metadata": {},
   "outputs": [
    {
     "data": {
      "text/plain": [
       "Index(['Elevation'], dtype='object')"
      ]
     },
     "execution_count": 40,
     "metadata": {},
     "output_type": "execute_result"
    }
   ],
   "source": [
    "wse_df.describe()\n",
    "wse_df.columns"
   ]
  },
  {
   "cell_type": "code",
   "execution_count": 48,
   "metadata": {},
   "outputs": [
    {
     "data": {
      "application/javascript": [
       "/* Put everything inside the global mpl namespace */\n",
       "window.mpl = {};\n",
       "\n",
       "\n",
       "mpl.get_websocket_type = function() {\n",
       "    if (typeof(WebSocket) !== 'undefined') {\n",
       "        return WebSocket;\n",
       "    } else if (typeof(MozWebSocket) !== 'undefined') {\n",
       "        return MozWebSocket;\n",
       "    } else {\n",
       "        alert('Your browser does not have WebSocket support. ' +\n",
       "              'Please try Chrome, Safari or Firefox ≥ 6. ' +\n",
       "              'Firefox 4 and 5 are also supported but you ' +\n",
       "              'have to enable WebSockets in about:config.');\n",
       "    };\n",
       "}\n",
       "\n",
       "mpl.figure = function(figure_id, websocket, ondownload, parent_element) {\n",
       "    this.id = figure_id;\n",
       "\n",
       "    this.ws = websocket;\n",
       "\n",
       "    this.supports_binary = (this.ws.binaryType != undefined);\n",
       "\n",
       "    if (!this.supports_binary) {\n",
       "        var warnings = document.getElementById(\"mpl-warnings\");\n",
       "        if (warnings) {\n",
       "            warnings.style.display = 'block';\n",
       "            warnings.textContent = (\n",
       "                \"This browser does not support binary websocket messages. \" +\n",
       "                    \"Performance may be slow.\");\n",
       "        }\n",
       "    }\n",
       "\n",
       "    this.imageObj = new Image();\n",
       "\n",
       "    this.context = undefined;\n",
       "    this.message = undefined;\n",
       "    this.canvas = undefined;\n",
       "    this.rubberband_canvas = undefined;\n",
       "    this.rubberband_context = undefined;\n",
       "    this.format_dropdown = undefined;\n",
       "\n",
       "    this.image_mode = 'full';\n",
       "\n",
       "    this.root = $('<div/>');\n",
       "    this._root_extra_style(this.root)\n",
       "    this.root.attr('style', 'display: inline-block');\n",
       "\n",
       "    $(parent_element).append(this.root);\n",
       "\n",
       "    this._init_header(this);\n",
       "    this._init_canvas(this);\n",
       "    this._init_toolbar(this);\n",
       "\n",
       "    var fig = this;\n",
       "\n",
       "    this.waiting = false;\n",
       "\n",
       "    this.ws.onopen =  function () {\n",
       "            fig.send_message(\"supports_binary\", {value: fig.supports_binary});\n",
       "            fig.send_message(\"send_image_mode\", {});\n",
       "            if (mpl.ratio != 1) {\n",
       "                fig.send_message(\"set_dpi_ratio\", {'dpi_ratio': mpl.ratio});\n",
       "            }\n",
       "            fig.send_message(\"refresh\", {});\n",
       "        }\n",
       "\n",
       "    this.imageObj.onload = function() {\n",
       "            if (fig.image_mode == 'full') {\n",
       "                // Full images could contain transparency (where diff images\n",
       "                // almost always do), so we need to clear the canvas so that\n",
       "                // there is no ghosting.\n",
       "                fig.context.clearRect(0, 0, fig.canvas.width, fig.canvas.height);\n",
       "            }\n",
       "            fig.context.drawImage(fig.imageObj, 0, 0);\n",
       "        };\n",
       "\n",
       "    this.imageObj.onunload = function() {\n",
       "        fig.ws.close();\n",
       "    }\n",
       "\n",
       "    this.ws.onmessage = this._make_on_message_function(this);\n",
       "\n",
       "    this.ondownload = ondownload;\n",
       "}\n",
       "\n",
       "mpl.figure.prototype._init_header = function() {\n",
       "    var titlebar = $(\n",
       "        '<div class=\"ui-dialog-titlebar ui-widget-header ui-corner-all ' +\n",
       "        'ui-helper-clearfix\"/>');\n",
       "    var titletext = $(\n",
       "        '<div class=\"ui-dialog-title\" style=\"width: 100%; ' +\n",
       "        'text-align: center; padding: 3px;\"/>');\n",
       "    titlebar.append(titletext)\n",
       "    this.root.append(titlebar);\n",
       "    this.header = titletext[0];\n",
       "}\n",
       "\n",
       "\n",
       "\n",
       "mpl.figure.prototype._canvas_extra_style = function(canvas_div) {\n",
       "\n",
       "}\n",
       "\n",
       "\n",
       "mpl.figure.prototype._root_extra_style = function(canvas_div) {\n",
       "\n",
       "}\n",
       "\n",
       "mpl.figure.prototype._init_canvas = function() {\n",
       "    var fig = this;\n",
       "\n",
       "    var canvas_div = $('<div/>');\n",
       "\n",
       "    canvas_div.attr('style', 'position: relative; clear: both; outline: 0');\n",
       "\n",
       "    function canvas_keyboard_event(event) {\n",
       "        return fig.key_event(event, event['data']);\n",
       "    }\n",
       "\n",
       "    canvas_div.keydown('key_press', canvas_keyboard_event);\n",
       "    canvas_div.keyup('key_release', canvas_keyboard_event);\n",
       "    this.canvas_div = canvas_div\n",
       "    this._canvas_extra_style(canvas_div)\n",
       "    this.root.append(canvas_div);\n",
       "\n",
       "    var canvas = $('<canvas/>');\n",
       "    canvas.addClass('mpl-canvas');\n",
       "    canvas.attr('style', \"left: 0; top: 0; z-index: 0; outline: 0\")\n",
       "\n",
       "    this.canvas = canvas[0];\n",
       "    this.context = canvas[0].getContext(\"2d\");\n",
       "\n",
       "    var backingStore = this.context.backingStorePixelRatio ||\n",
       "\tthis.context.webkitBackingStorePixelRatio ||\n",
       "\tthis.context.mozBackingStorePixelRatio ||\n",
       "\tthis.context.msBackingStorePixelRatio ||\n",
       "\tthis.context.oBackingStorePixelRatio ||\n",
       "\tthis.context.backingStorePixelRatio || 1;\n",
       "\n",
       "    mpl.ratio = (window.devicePixelRatio || 1) / backingStore;\n",
       "\n",
       "    var rubberband = $('<canvas/>');\n",
       "    rubberband.attr('style', \"position: absolute; left: 0; top: 0; z-index: 1;\")\n",
       "\n",
       "    var pass_mouse_events = true;\n",
       "\n",
       "    canvas_div.resizable({\n",
       "        start: function(event, ui) {\n",
       "            pass_mouse_events = false;\n",
       "        },\n",
       "        resize: function(event, ui) {\n",
       "            fig.request_resize(ui.size.width, ui.size.height);\n",
       "        },\n",
       "        stop: function(event, ui) {\n",
       "            pass_mouse_events = true;\n",
       "            fig.request_resize(ui.size.width, ui.size.height);\n",
       "        },\n",
       "    });\n",
       "\n",
       "    function mouse_event_fn(event) {\n",
       "        if (pass_mouse_events)\n",
       "            return fig.mouse_event(event, event['data']);\n",
       "    }\n",
       "\n",
       "    rubberband.mousedown('button_press', mouse_event_fn);\n",
       "    rubberband.mouseup('button_release', mouse_event_fn);\n",
       "    // Throttle sequential mouse events to 1 every 20ms.\n",
       "    rubberband.mousemove('motion_notify', mouse_event_fn);\n",
       "\n",
       "    rubberband.mouseenter('figure_enter', mouse_event_fn);\n",
       "    rubberband.mouseleave('figure_leave', mouse_event_fn);\n",
       "\n",
       "    canvas_div.on(\"wheel\", function (event) {\n",
       "        event = event.originalEvent;\n",
       "        event['data'] = 'scroll'\n",
       "        if (event.deltaY < 0) {\n",
       "            event.step = 1;\n",
       "        } else {\n",
       "            event.step = -1;\n",
       "        }\n",
       "        mouse_event_fn(event);\n",
       "    });\n",
       "\n",
       "    canvas_div.append(canvas);\n",
       "    canvas_div.append(rubberband);\n",
       "\n",
       "    this.rubberband = rubberband;\n",
       "    this.rubberband_canvas = rubberband[0];\n",
       "    this.rubberband_context = rubberband[0].getContext(\"2d\");\n",
       "    this.rubberband_context.strokeStyle = \"#000000\";\n",
       "\n",
       "    this._resize_canvas = function(width, height) {\n",
       "        // Keep the size of the canvas, canvas container, and rubber band\n",
       "        // canvas in synch.\n",
       "        canvas_div.css('width', width)\n",
       "        canvas_div.css('height', height)\n",
       "\n",
       "        canvas.attr('width', width * mpl.ratio);\n",
       "        canvas.attr('height', height * mpl.ratio);\n",
       "        canvas.attr('style', 'width: ' + width + 'px; height: ' + height + 'px;');\n",
       "\n",
       "        rubberband.attr('width', width);\n",
       "        rubberband.attr('height', height);\n",
       "    }\n",
       "\n",
       "    // Set the figure to an initial 600x600px, this will subsequently be updated\n",
       "    // upon first draw.\n",
       "    this._resize_canvas(600, 600);\n",
       "\n",
       "    // Disable right mouse context menu.\n",
       "    $(this.rubberband_canvas).bind(\"contextmenu\",function(e){\n",
       "        return false;\n",
       "    });\n",
       "\n",
       "    function set_focus () {\n",
       "        canvas.focus();\n",
       "        canvas_div.focus();\n",
       "    }\n",
       "\n",
       "    window.setTimeout(set_focus, 100);\n",
       "}\n",
       "\n",
       "mpl.figure.prototype._init_toolbar = function() {\n",
       "    var fig = this;\n",
       "\n",
       "    var nav_element = $('<div/>');\n",
       "    nav_element.attr('style', 'width: 100%');\n",
       "    this.root.append(nav_element);\n",
       "\n",
       "    // Define a callback function for later on.\n",
       "    function toolbar_event(event) {\n",
       "        return fig.toolbar_button_onclick(event['data']);\n",
       "    }\n",
       "    function toolbar_mouse_event(event) {\n",
       "        return fig.toolbar_button_onmouseover(event['data']);\n",
       "    }\n",
       "\n",
       "    for(var toolbar_ind in mpl.toolbar_items) {\n",
       "        var name = mpl.toolbar_items[toolbar_ind][0];\n",
       "        var tooltip = mpl.toolbar_items[toolbar_ind][1];\n",
       "        var image = mpl.toolbar_items[toolbar_ind][2];\n",
       "        var method_name = mpl.toolbar_items[toolbar_ind][3];\n",
       "\n",
       "        if (!name) {\n",
       "            // put a spacer in here.\n",
       "            continue;\n",
       "        }\n",
       "        var button = $('<button/>');\n",
       "        button.addClass('ui-button ui-widget ui-state-default ui-corner-all ' +\n",
       "                        'ui-button-icon-only');\n",
       "        button.attr('role', 'button');\n",
       "        button.attr('aria-disabled', 'false');\n",
       "        button.click(method_name, toolbar_event);\n",
       "        button.mouseover(tooltip, toolbar_mouse_event);\n",
       "\n",
       "        var icon_img = $('<span/>');\n",
       "        icon_img.addClass('ui-button-icon-primary ui-icon');\n",
       "        icon_img.addClass(image);\n",
       "        icon_img.addClass('ui-corner-all');\n",
       "\n",
       "        var tooltip_span = $('<span/>');\n",
       "        tooltip_span.addClass('ui-button-text');\n",
       "        tooltip_span.html(tooltip);\n",
       "\n",
       "        button.append(icon_img);\n",
       "        button.append(tooltip_span);\n",
       "\n",
       "        nav_element.append(button);\n",
       "    }\n",
       "\n",
       "    var fmt_picker_span = $('<span/>');\n",
       "\n",
       "    var fmt_picker = $('<select/>');\n",
       "    fmt_picker.addClass('mpl-toolbar-option ui-widget ui-widget-content');\n",
       "    fmt_picker_span.append(fmt_picker);\n",
       "    nav_element.append(fmt_picker_span);\n",
       "    this.format_dropdown = fmt_picker[0];\n",
       "\n",
       "    for (var ind in mpl.extensions) {\n",
       "        var fmt = mpl.extensions[ind];\n",
       "        var option = $(\n",
       "            '<option/>', {selected: fmt === mpl.default_extension}).html(fmt);\n",
       "        fmt_picker.append(option);\n",
       "    }\n",
       "\n",
       "    // Add hover states to the ui-buttons\n",
       "    $( \".ui-button\" ).hover(\n",
       "        function() { $(this).addClass(\"ui-state-hover\");},\n",
       "        function() { $(this).removeClass(\"ui-state-hover\");}\n",
       "    );\n",
       "\n",
       "    var status_bar = $('<span class=\"mpl-message\"/>');\n",
       "    nav_element.append(status_bar);\n",
       "    this.message = status_bar[0];\n",
       "}\n",
       "\n",
       "mpl.figure.prototype.request_resize = function(x_pixels, y_pixels) {\n",
       "    // Request matplotlib to resize the figure. Matplotlib will then trigger a resize in the client,\n",
       "    // which will in turn request a refresh of the image.\n",
       "    this.send_message('resize', {'width': x_pixels, 'height': y_pixels});\n",
       "}\n",
       "\n",
       "mpl.figure.prototype.send_message = function(type, properties) {\n",
       "    properties['type'] = type;\n",
       "    properties['figure_id'] = this.id;\n",
       "    this.ws.send(JSON.stringify(properties));\n",
       "}\n",
       "\n",
       "mpl.figure.prototype.send_draw_message = function() {\n",
       "    if (!this.waiting) {\n",
       "        this.waiting = true;\n",
       "        this.ws.send(JSON.stringify({type: \"draw\", figure_id: this.id}));\n",
       "    }\n",
       "}\n",
       "\n",
       "\n",
       "mpl.figure.prototype.handle_save = function(fig, msg) {\n",
       "    var format_dropdown = fig.format_dropdown;\n",
       "    var format = format_dropdown.options[format_dropdown.selectedIndex].value;\n",
       "    fig.ondownload(fig, format);\n",
       "}\n",
       "\n",
       "\n",
       "mpl.figure.prototype.handle_resize = function(fig, msg) {\n",
       "    var size = msg['size'];\n",
       "    if (size[0] != fig.canvas.width || size[1] != fig.canvas.height) {\n",
       "        fig._resize_canvas(size[0], size[1]);\n",
       "        fig.send_message(\"refresh\", {});\n",
       "    };\n",
       "}\n",
       "\n",
       "mpl.figure.prototype.handle_rubberband = function(fig, msg) {\n",
       "    var x0 = msg['x0'] / mpl.ratio;\n",
       "    var y0 = (fig.canvas.height - msg['y0']) / mpl.ratio;\n",
       "    var x1 = msg['x1'] / mpl.ratio;\n",
       "    var y1 = (fig.canvas.height - msg['y1']) / mpl.ratio;\n",
       "    x0 = Math.floor(x0) + 0.5;\n",
       "    y0 = Math.floor(y0) + 0.5;\n",
       "    x1 = Math.floor(x1) + 0.5;\n",
       "    y1 = Math.floor(y1) + 0.5;\n",
       "    var min_x = Math.min(x0, x1);\n",
       "    var min_y = Math.min(y0, y1);\n",
       "    var width = Math.abs(x1 - x0);\n",
       "    var height = Math.abs(y1 - y0);\n",
       "\n",
       "    fig.rubberband_context.clearRect(\n",
       "        0, 0, fig.canvas.width / mpl.ratio, fig.canvas.height / mpl.ratio);\n",
       "\n",
       "    fig.rubberband_context.strokeRect(min_x, min_y, width, height);\n",
       "}\n",
       "\n",
       "mpl.figure.prototype.handle_figure_label = function(fig, msg) {\n",
       "    // Updates the figure title.\n",
       "    fig.header.textContent = msg['label'];\n",
       "}\n",
       "\n",
       "mpl.figure.prototype.handle_cursor = function(fig, msg) {\n",
       "    var cursor = msg['cursor'];\n",
       "    switch(cursor)\n",
       "    {\n",
       "    case 0:\n",
       "        cursor = 'pointer';\n",
       "        break;\n",
       "    case 1:\n",
       "        cursor = 'default';\n",
       "        break;\n",
       "    case 2:\n",
       "        cursor = 'crosshair';\n",
       "        break;\n",
       "    case 3:\n",
       "        cursor = 'move';\n",
       "        break;\n",
       "    }\n",
       "    fig.rubberband_canvas.style.cursor = cursor;\n",
       "}\n",
       "\n",
       "mpl.figure.prototype.handle_message = function(fig, msg) {\n",
       "    fig.message.textContent = msg['message'];\n",
       "}\n",
       "\n",
       "mpl.figure.prototype.handle_draw = function(fig, msg) {\n",
       "    // Request the server to send over a new figure.\n",
       "    fig.send_draw_message();\n",
       "}\n",
       "\n",
       "mpl.figure.prototype.handle_image_mode = function(fig, msg) {\n",
       "    fig.image_mode = msg['mode'];\n",
       "}\n",
       "\n",
       "mpl.figure.prototype.updated_canvas_event = function() {\n",
       "    // Called whenever the canvas gets updated.\n",
       "    this.send_message(\"ack\", {});\n",
       "}\n",
       "\n",
       "// A function to construct a web socket function for onmessage handling.\n",
       "// Called in the figure constructor.\n",
       "mpl.figure.prototype._make_on_message_function = function(fig) {\n",
       "    return function socket_on_message(evt) {\n",
       "        if (evt.data instanceof Blob) {\n",
       "            /* FIXME: We get \"Resource interpreted as Image but\n",
       "             * transferred with MIME type text/plain:\" errors on\n",
       "             * Chrome.  But how to set the MIME type?  It doesn't seem\n",
       "             * to be part of the websocket stream */\n",
       "            evt.data.type = \"image/png\";\n",
       "\n",
       "            /* Free the memory for the previous frames */\n",
       "            if (fig.imageObj.src) {\n",
       "                (window.URL || window.webkitURL).revokeObjectURL(\n",
       "                    fig.imageObj.src);\n",
       "            }\n",
       "\n",
       "            fig.imageObj.src = (window.URL || window.webkitURL).createObjectURL(\n",
       "                evt.data);\n",
       "            fig.updated_canvas_event();\n",
       "            fig.waiting = false;\n",
       "            return;\n",
       "        }\n",
       "        else if (typeof evt.data === 'string' && evt.data.slice(0, 21) == \"data:image/png;base64\") {\n",
       "            fig.imageObj.src = evt.data;\n",
       "            fig.updated_canvas_event();\n",
       "            fig.waiting = false;\n",
       "            return;\n",
       "        }\n",
       "\n",
       "        var msg = JSON.parse(evt.data);\n",
       "        var msg_type = msg['type'];\n",
       "\n",
       "        // Call the  \"handle_{type}\" callback, which takes\n",
       "        // the figure and JSON message as its only arguments.\n",
       "        try {\n",
       "            var callback = fig[\"handle_\" + msg_type];\n",
       "        } catch (e) {\n",
       "            console.log(\"No handler for the '\" + msg_type + \"' message type: \", msg);\n",
       "            return;\n",
       "        }\n",
       "\n",
       "        if (callback) {\n",
       "            try {\n",
       "                // console.log(\"Handling '\" + msg_type + \"' message: \", msg);\n",
       "                callback(fig, msg);\n",
       "            } catch (e) {\n",
       "                console.log(\"Exception inside the 'handler_\" + msg_type + \"' callback:\", e, e.stack, msg);\n",
       "            }\n",
       "        }\n",
       "    };\n",
       "}\n",
       "\n",
       "// from http://stackoverflow.com/questions/1114465/getting-mouse-location-in-canvas\n",
       "mpl.findpos = function(e) {\n",
       "    //this section is from http://www.quirksmode.org/js/events_properties.html\n",
       "    var targ;\n",
       "    if (!e)\n",
       "        e = window.event;\n",
       "    if (e.target)\n",
       "        targ = e.target;\n",
       "    else if (e.srcElement)\n",
       "        targ = e.srcElement;\n",
       "    if (targ.nodeType == 3) // defeat Safari bug\n",
       "        targ = targ.parentNode;\n",
       "\n",
       "    // jQuery normalizes the pageX and pageY\n",
       "    // pageX,Y are the mouse positions relative to the document\n",
       "    // offset() returns the position of the element relative to the document\n",
       "    var x = e.pageX - $(targ).offset().left;\n",
       "    var y = e.pageY - $(targ).offset().top;\n",
       "\n",
       "    return {\"x\": x, \"y\": y};\n",
       "};\n",
       "\n",
       "/*\n",
       " * return a copy of an object with only non-object keys\n",
       " * we need this to avoid circular references\n",
       " * http://stackoverflow.com/a/24161582/3208463\n",
       " */\n",
       "function simpleKeys (original) {\n",
       "  return Object.keys(original).reduce(function (obj, key) {\n",
       "    if (typeof original[key] !== 'object')\n",
       "        obj[key] = original[key]\n",
       "    return obj;\n",
       "  }, {});\n",
       "}\n",
       "\n",
       "mpl.figure.prototype.mouse_event = function(event, name) {\n",
       "    var canvas_pos = mpl.findpos(event)\n",
       "\n",
       "    if (name === 'button_press')\n",
       "    {\n",
       "        this.canvas.focus();\n",
       "        this.canvas_div.focus();\n",
       "    }\n",
       "\n",
       "    var x = canvas_pos.x * mpl.ratio;\n",
       "    var y = canvas_pos.y * mpl.ratio;\n",
       "\n",
       "    this.send_message(name, {x: x, y: y, button: event.button,\n",
       "                             step: event.step,\n",
       "                             guiEvent: simpleKeys(event)});\n",
       "\n",
       "    /* This prevents the web browser from automatically changing to\n",
       "     * the text insertion cursor when the button is pressed.  We want\n",
       "     * to control all of the cursor setting manually through the\n",
       "     * 'cursor' event from matplotlib */\n",
       "    event.preventDefault();\n",
       "    return false;\n",
       "}\n",
       "\n",
       "mpl.figure.prototype._key_event_extra = function(event, name) {\n",
       "    // Handle any extra behaviour associated with a key event\n",
       "}\n",
       "\n",
       "mpl.figure.prototype.key_event = function(event, name) {\n",
       "\n",
       "    // Prevent repeat events\n",
       "    if (name == 'key_press')\n",
       "    {\n",
       "        if (event.which === this._key)\n",
       "            return;\n",
       "        else\n",
       "            this._key = event.which;\n",
       "    }\n",
       "    if (name == 'key_release')\n",
       "        this._key = null;\n",
       "\n",
       "    var value = '';\n",
       "    if (event.ctrlKey && event.which != 17)\n",
       "        value += \"ctrl+\";\n",
       "    if (event.altKey && event.which != 18)\n",
       "        value += \"alt+\";\n",
       "    if (event.shiftKey && event.which != 16)\n",
       "        value += \"shift+\";\n",
       "\n",
       "    value += 'k';\n",
       "    value += event.which.toString();\n",
       "\n",
       "    this._key_event_extra(event, name);\n",
       "\n",
       "    this.send_message(name, {key: value,\n",
       "                             guiEvent: simpleKeys(event)});\n",
       "    return false;\n",
       "}\n",
       "\n",
       "mpl.figure.prototype.toolbar_button_onclick = function(name) {\n",
       "    if (name == 'download') {\n",
       "        this.handle_save(this, null);\n",
       "    } else {\n",
       "        this.send_message(\"toolbar_button\", {name: name});\n",
       "    }\n",
       "};\n",
       "\n",
       "mpl.figure.prototype.toolbar_button_onmouseover = function(tooltip) {\n",
       "    this.message.textContent = tooltip;\n",
       "};\n",
       "mpl.toolbar_items = [[\"Home\", \"Reset original view\", \"fa fa-home icon-home\", \"home\"], [\"Back\", \"Back to previous view\", \"fa fa-arrow-left icon-arrow-left\", \"back\"], [\"Forward\", \"Forward to next view\", \"fa fa-arrow-right icon-arrow-right\", \"forward\"], [\"\", \"\", \"\", \"\"], [\"Pan\", \"Pan axes with left mouse, zoom with right\", \"fa fa-arrows icon-move\", \"pan\"], [\"Zoom\", \"Zoom to rectangle\", \"fa fa-square-o icon-check-empty\", \"zoom\"], [\"\", \"\", \"\", \"\"], [\"Download\", \"Download plot\", \"fa fa-floppy-o icon-save\", \"download\"]];\n",
       "\n",
       "mpl.extensions = [\"eps\", \"pdf\", \"png\", \"ps\", \"raw\", \"svg\"];\n",
       "\n",
       "mpl.default_extension = \"png\";var comm_websocket_adapter = function(comm) {\n",
       "    // Create a \"websocket\"-like object which calls the given IPython comm\n",
       "    // object with the appropriate methods. Currently this is a non binary\n",
       "    // socket, so there is still some room for performance tuning.\n",
       "    var ws = {};\n",
       "\n",
       "    ws.close = function() {\n",
       "        comm.close()\n",
       "    };\n",
       "    ws.send = function(m) {\n",
       "        //console.log('sending', m);\n",
       "        comm.send(m);\n",
       "    };\n",
       "    // Register the callback with on_msg.\n",
       "    comm.on_msg(function(msg) {\n",
       "        //console.log('receiving', msg['content']['data'], msg);\n",
       "        // Pass the mpl event to the overridden (by mpl) onmessage function.\n",
       "        ws.onmessage(msg['content']['data'])\n",
       "    });\n",
       "    return ws;\n",
       "}\n",
       "\n",
       "mpl.mpl_figure_comm = function(comm, msg) {\n",
       "    // This is the function which gets called when the mpl process\n",
       "    // starts-up an IPython Comm through the \"matplotlib\" channel.\n",
       "\n",
       "    var id = msg.content.data.id;\n",
       "    // Get hold of the div created by the display call when the Comm\n",
       "    // socket was opened in Python.\n",
       "    var element = $(\"#\" + id);\n",
       "    var ws_proxy = comm_websocket_adapter(comm)\n",
       "\n",
       "    function ondownload(figure, format) {\n",
       "        window.open(figure.imageObj.src);\n",
       "    }\n",
       "\n",
       "    var fig = new mpl.figure(id, ws_proxy,\n",
       "                           ondownload,\n",
       "                           element.get(0));\n",
       "\n",
       "    // Call onopen now - mpl needs it, as it is assuming we've passed it a real\n",
       "    // web socket which is closed, not our websocket->open comm proxy.\n",
       "    ws_proxy.onopen();\n",
       "\n",
       "    fig.parent_element = element.get(0);\n",
       "    fig.cell_info = mpl.find_output_cell(\"<div id='\" + id + \"'></div>\");\n",
       "    if (!fig.cell_info) {\n",
       "        console.error(\"Failed to find cell for figure\", id, fig);\n",
       "        return;\n",
       "    }\n",
       "\n",
       "    var output_index = fig.cell_info[2]\n",
       "    var cell = fig.cell_info[0];\n",
       "\n",
       "};\n",
       "\n",
       "mpl.figure.prototype.handle_close = function(fig, msg) {\n",
       "    var width = fig.canvas.width/mpl.ratio\n",
       "    fig.root.unbind('remove')\n",
       "\n",
       "    // Update the output cell to use the data from the current canvas.\n",
       "    fig.push_to_output();\n",
       "    var dataURL = fig.canvas.toDataURL();\n",
       "    // Re-enable the keyboard manager in IPython - without this line, in FF,\n",
       "    // the notebook keyboard shortcuts fail.\n",
       "    IPython.keyboard_manager.enable()\n",
       "    $(fig.parent_element).html('<img src=\"' + dataURL + '\" width=\"' + width + '\">');\n",
       "    fig.close_ws(fig, msg);\n",
       "}\n",
       "\n",
       "mpl.figure.prototype.close_ws = function(fig, msg){\n",
       "    fig.send_message('closing', msg);\n",
       "    // fig.ws.close()\n",
       "}\n",
       "\n",
       "mpl.figure.prototype.push_to_output = function(remove_interactive) {\n",
       "    // Turn the data on the canvas into data in the output cell.\n",
       "    var width = this.canvas.width/mpl.ratio\n",
       "    var dataURL = this.canvas.toDataURL();\n",
       "    this.cell_info[1]['text/html'] = '<img src=\"' + dataURL + '\" width=\"' + width + '\">';\n",
       "}\n",
       "\n",
       "mpl.figure.prototype.updated_canvas_event = function() {\n",
       "    // Tell IPython that the notebook contents must change.\n",
       "    IPython.notebook.set_dirty(true);\n",
       "    this.send_message(\"ack\", {});\n",
       "    var fig = this;\n",
       "    // Wait a second, then push the new image to the DOM so\n",
       "    // that it is saved nicely (might be nice to debounce this).\n",
       "    setTimeout(function () { fig.push_to_output() }, 1000);\n",
       "}\n",
       "\n",
       "mpl.figure.prototype._init_toolbar = function() {\n",
       "    var fig = this;\n",
       "\n",
       "    var nav_element = $('<div/>');\n",
       "    nav_element.attr('style', 'width: 100%');\n",
       "    this.root.append(nav_element);\n",
       "\n",
       "    // Define a callback function for later on.\n",
       "    function toolbar_event(event) {\n",
       "        return fig.toolbar_button_onclick(event['data']);\n",
       "    }\n",
       "    function toolbar_mouse_event(event) {\n",
       "        return fig.toolbar_button_onmouseover(event['data']);\n",
       "    }\n",
       "\n",
       "    for(var toolbar_ind in mpl.toolbar_items){\n",
       "        var name = mpl.toolbar_items[toolbar_ind][0];\n",
       "        var tooltip = mpl.toolbar_items[toolbar_ind][1];\n",
       "        var image = mpl.toolbar_items[toolbar_ind][2];\n",
       "        var method_name = mpl.toolbar_items[toolbar_ind][3];\n",
       "\n",
       "        if (!name) { continue; };\n",
       "\n",
       "        var button = $('<button class=\"btn btn-default\" href=\"#\" title=\"' + name + '\"><i class=\"fa ' + image + ' fa-lg\"></i></button>');\n",
       "        button.click(method_name, toolbar_event);\n",
       "        button.mouseover(tooltip, toolbar_mouse_event);\n",
       "        nav_element.append(button);\n",
       "    }\n",
       "\n",
       "    // Add the status bar.\n",
       "    var status_bar = $('<span class=\"mpl-message\" style=\"text-align:right; float: right;\"/>');\n",
       "    nav_element.append(status_bar);\n",
       "    this.message = status_bar[0];\n",
       "\n",
       "    // Add the close button to the window.\n",
       "    var buttongrp = $('<div class=\"btn-group inline pull-right\"></div>');\n",
       "    var button = $('<button class=\"btn btn-mini btn-primary\" href=\"#\" title=\"Stop Interaction\"><i class=\"fa fa-power-off icon-remove icon-large\"></i></button>');\n",
       "    button.click(function (evt) { fig.handle_close(fig, {}); } );\n",
       "    button.mouseover('Stop Interaction', toolbar_mouse_event);\n",
       "    buttongrp.append(button);\n",
       "    var titlebar = this.root.find($('.ui-dialog-titlebar'));\n",
       "    titlebar.prepend(buttongrp);\n",
       "}\n",
       "\n",
       "mpl.figure.prototype._root_extra_style = function(el){\n",
       "    var fig = this\n",
       "    el.on(\"remove\", function(){\n",
       "\tfig.close_ws(fig, {});\n",
       "    });\n",
       "}\n",
       "\n",
       "mpl.figure.prototype._canvas_extra_style = function(el){\n",
       "    // this is important to make the div 'focusable\n",
       "    el.attr('tabindex', 0)\n",
       "    // reach out to IPython and tell the keyboard manager to turn it's self\n",
       "    // off when our div gets focus\n",
       "\n",
       "    // location in version 3\n",
       "    if (IPython.notebook.keyboard_manager) {\n",
       "        IPython.notebook.keyboard_manager.register_events(el);\n",
       "    }\n",
       "    else {\n",
       "        // location in version 2\n",
       "        IPython.keyboard_manager.register_events(el);\n",
       "    }\n",
       "\n",
       "}\n",
       "\n",
       "mpl.figure.prototype._key_event_extra = function(event, name) {\n",
       "    var manager = IPython.notebook.keyboard_manager;\n",
       "    if (!manager)\n",
       "        manager = IPython.keyboard_manager;\n",
       "\n",
       "    // Check for shift+enter\n",
       "    if (event.shiftKey && event.which == 13) {\n",
       "        this.canvas_div.blur();\n",
       "        // select the cell after this one\n",
       "        var index = IPython.notebook.find_cell_index(this.cell_info[0]);\n",
       "        IPython.notebook.select(index + 1);\n",
       "    }\n",
       "}\n",
       "\n",
       "mpl.figure.prototype.handle_save = function(fig, msg) {\n",
       "    fig.ondownload(fig, null);\n",
       "}\n",
       "\n",
       "\n",
       "mpl.find_output_cell = function(html_output) {\n",
       "    // Return the cell and output element which can be found *uniquely* in the notebook.\n",
       "    // Note - this is a bit hacky, but it is done because the \"notebook_saving.Notebook\"\n",
       "    // IPython event is triggered only after the cells have been serialised, which for\n",
       "    // our purposes (turning an active figure into a static one), is too late.\n",
       "    var cells = IPython.notebook.get_cells();\n",
       "    var ncells = cells.length;\n",
       "    for (var i=0; i<ncells; i++) {\n",
       "        var cell = cells[i];\n",
       "        if (cell.cell_type === 'code'){\n",
       "            for (var j=0; j<cell.output_area.outputs.length; j++) {\n",
       "                var data = cell.output_area.outputs[j];\n",
       "                if (data.data) {\n",
       "                    // IPython >= 3 moved mimebundle to data attribute of output\n",
       "                    data = data.data;\n",
       "                }\n",
       "                if (data['text/html'] == html_output) {\n",
       "                    return [cell, data, j];\n",
       "                }\n",
       "            }\n",
       "        }\n",
       "    }\n",
       "}\n",
       "\n",
       "// Register the function which deals with the matplotlib target/channel.\n",
       "// The kernel may be null if the page has been refreshed.\n",
       "if (IPython.notebook.kernel != null) {\n",
       "    IPython.notebook.kernel.comm_manager.register_target('matplotlib', mpl.mpl_figure_comm);\n",
       "}\n"
      ],
      "text/plain": [
       "<IPython.core.display.Javascript object>"
      ]
     },
     "metadata": {},
     "output_type": "display_data"
    },
    {
     "data": {
      "text/html": [
       "<img src=\"data:image/png;base64,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\" width=\"559.4285714285714\">"
      ],
      "text/plain": [
       "<IPython.core.display.HTML object>"
      ]
     },
     "metadata": {},
     "output_type": "display_data"
    },
    {
     "data": {
      "text/plain": [
       "<matplotlib.axes._subplots.AxesSubplot at 0x1306d48>"
      ]
     },
     "execution_count": 48,
     "metadata": {},
     "output_type": "execute_result"
    }
   ],
   "source": [
    "wse_df.plot(marker='o', markerfacecolor='r' )"
   ]
  },
  {
   "cell_type": "code",
   "execution_count": null,
   "metadata": {},
   "outputs": [],
   "source": []
  }
 ],
 "metadata": {
  "kernelspec": {
   "display_name": "Python 3",
   "language": "python",
   "name": "python3"
  },
  "language_info": {
   "codemirror_mode": {
    "name": "ipython",
    "version": 3
   },
   "file_extension": ".py",
   "mimetype": "text/x-python",
   "name": "python",
   "nbconvert_exporter": "python",
   "pygments_lexer": "ipython3",
   "version": "3.8.2"
  }
 },
 "nbformat": 4,
 "nbformat_minor": 4
}
