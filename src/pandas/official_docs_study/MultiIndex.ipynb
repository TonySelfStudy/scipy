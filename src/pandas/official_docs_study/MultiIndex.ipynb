{
 "cells": [
  {
   "cell_type": "code",
   "execution_count": 1,
   "metadata": {},
   "outputs": [],
   "source": [
    "# Pandas Web User Guide Follow along\n",
    "# MultiIndex / advanced indexing\n",
    "# Source: https://pandas.pydata.org/docs/user_guide/advanced.html\n",
    "# Created 11/28/20\n",
    "\n",
    "%matplotlib notebook\n",
    "\n",
    "import pandas as pd\n",
    "import numpy as np\n",
    "import matplotlib.pyplot as plt\n",
    "from io import StringIO\n",
    "\n",
    "# How interactive you want is discussed:\n",
    "# https://ipython.readthedocs.io/en/stable/config/options/terminal.html\n",
    "# Options are: 'all', 'last', 'last_expr', 'none', 'last_expr_or_assign'\n",
    "# Default is: 'last_expr'\n",
    "\n",
    "from IPython.core.interactiveshell import InteractiveShell\n",
    "# InteractiveShell.ast_node_interactivity I can only get last_expr_or_assign to work\n",
    "InteractiveShell.ast_node_interactivity = \"last_expr_or_assign\""
   ]
  },
  {
   "cell_type": "code",
   "execution_count": 2,
   "metadata": {},
   "outputs": [
    {
     "data": {
      "text/plain": [
       "<function IPython.core.display.display(*objs, include=None, exclude=None, metadata=None, transient=None, display_id=None, **kwargs)>"
      ]
     },
     "execution_count": 2,
     "metadata": {},
     "output_type": "execute_result"
    }
   ],
   "source": [
    "def diag(*args):\n",
    "    \"\"\"Pandas diagnostics\"\"\"\n",
    "    \n",
    "    for i in args:\n",
    "        \n",
    "        if isinstance(i, pd.core.frame.DataFrame):\n",
    "            print(i.info())\n",
    "            display(i)\n",
    "        else:\n",
    "            print(f'{\"-\"*40}')\n",
    "            print(f'Type: {type(i)}')\n",
    "\n",
    "            try:\n",
    "                print(f'Length: {len(i)}')\n",
    "            except:\n",
    "                pass\n",
    "\n",
    "            try:\n",
    "                print(i.info())\n",
    "            except:\n",
    "                pass\n",
    "\n",
    "            try:\n",
    "                display(i)\n",
    "            except:\n",
    "                print(i)\n",
    "                \n",
    "z = diag\n",
    "d = display"
   ]
  },
  {
   "cell_type": "code",
   "execution_count": 3,
   "metadata": {},
   "outputs": [],
   "source": [
    "def read_df(text):\n",
    "    \"\"\"Create a pandas dataframe from a string of a dataframe\n",
    "    copied from the pandas website tutorial.\"\"\"\n",
    "    lines = text.split('\\n')\n",
    "    cols = lines[0].split()\n",
    "    index, array = [], []\n",
    "    for line in lines[1:]:\n",
    "        vals = line.split()\n",
    "        index.append(vals[0])\n",
    "        array.append(vals[1:])\n",
    "#     print(cols)\n",
    "#     print(index)\n",
    "#     print(array)\n",
    "    df = pd.DataFrame(array, index=index, columns=cols)\n",
    "    return df"
   ]
  },
  {
   "cell_type": "code",
   "execution_count": 4,
   "metadata": {},
   "outputs": [
    {
     "data": {
      "text/plain": [
       "[['bar', 'bar', 'baz', 'baz', 'foo', 'foo', 'qux', 'qux'],\n",
       " ['one', 'two', 'one', 'two', 'one', 'two', 'one', 'two']]"
      ]
     },
     "execution_count": 4,
     "metadata": {},
     "output_type": "execute_result"
    }
   ],
   "source": [
    "arrays = [['bar', 'bar', 'baz', 'baz', 'foo', 'foo', 'qux', 'qux'],\n",
    "          ['one', 'two', 'one', 'two', 'one', 'two', 'one', 'two']]"
   ]
  },
  {
   "cell_type": "code",
   "execution_count": 8,
   "metadata": {},
   "outputs": [
    {
     "data": {
      "text/plain": [
       "[('one', 'bar'),\n",
       " ('two', 'bar'),\n",
       " ('one', 'baz'),\n",
       " ('two', 'baz'),\n",
       " ('one', 'foo'),\n",
       " ('two', 'foo'),\n",
       " ('one', 'qux'),\n",
       " ('two', 'qux')]"
      ]
     },
     "execution_count": 8,
     "metadata": {},
     "output_type": "execute_result"
    }
   ],
   "source": [
    "tuples = list(zip(arrays[0], arrays[1]))\n",
    "tuples2 = list(zip(arrays[1], arrays[0]))"
   ]
  },
  {
   "cell_type": "code",
   "execution_count": 9,
   "metadata": {},
   "outputs": [
    {
     "data": {
      "text/plain": [
       "MultiIndex([('one', 'bar'),\n",
       "            ('two', 'bar'),\n",
       "            ('one', 'baz'),\n",
       "            ('two', 'baz'),\n",
       "            ('one', 'foo'),\n",
       "            ('two', 'foo'),\n",
       "            ('one', 'qux'),\n",
       "            ('two', 'qux')],\n",
       "           names=['first', 'second'])"
      ]
     },
     "execution_count": 9,
     "metadata": {},
     "output_type": "execute_result"
    }
   ],
   "source": [
    "index = pd.MultiIndex.from_tuples(tuples, names=['first', 'second'])\n",
    "index2 = pd.MultiIndex.from_tuples(tuples2, names=['first', 'second'])"
   ]
  },
  {
   "cell_type": "code",
   "execution_count": 7,
   "metadata": {},
   "outputs": [
    {
     "data": {
      "text/plain": [
       "first  second\n",
       "bar    one       1.241012\n",
       "       two       1.247764\n",
       "baz    one       0.178791\n",
       "       two      -0.230680\n",
       "foo    one      -1.288829\n",
       "       two       2.018137\n",
       "qux    one       0.767679\n",
       "       two       0.789902\n",
       "dtype: float64"
      ]
     },
     "execution_count": 7,
     "metadata": {},
     "output_type": "execute_result"
    }
   ],
   "source": [
    "s = pd.Series(np.random.randn(8), index=index)"
   ]
  },
  {
   "cell_type": "code",
   "execution_count": 10,
   "metadata": {},
   "outputs": [
    {
     "data": {
      "text/plain": [
       "first  second\n",
       "one    bar      -0.233188\n",
       "two    bar       0.145134\n",
       "one    baz       0.043937\n",
       "two    baz      -1.425380\n",
       "one    foo      -2.308013\n",
       "two    foo      -0.511141\n",
       "one    qux       1.318730\n",
       "two    qux       0.002822\n",
       "dtype: float64"
      ]
     },
     "execution_count": 10,
     "metadata": {},
     "output_type": "execute_result"
    }
   ],
   "source": [
    "s2 = pd.Series(np.random.randn(8), index=index2)"
   ]
  },
  {
   "cell_type": "code",
   "execution_count": 11,
   "metadata": {},
   "outputs": [
    {
     "name": "stdout",
     "output_type": "stream",
     "text": [
      "----------------------------------------\n",
      "Type: <class 'pandas.core.indexes.multi.MultiIndex'>\n",
      "Length: 8\n"
     ]
    },
    {
     "data": {
      "text/plain": [
       "MultiIndex([('bar', 'one'),\n",
       "            ('bar', 'two'),\n",
       "            ('baz', 'one'),\n",
       "            ('baz', 'two'),\n",
       "            ('foo', 'one'),\n",
       "            ('foo', 'two'),\n",
       "            ('qux', 'one'),\n",
       "            ('qux', 'two')],\n",
       "           names=['first', 'second'])"
      ]
     },
     "metadata": {},
     "output_type": "display_data"
    },
    {
     "name": "stdout",
     "output_type": "stream",
     "text": [
      "----------------------------------------\n",
      "Type: <class 'pandas.core.indexes.multi.MultiIndex'>\n",
      "Length: 8\n"
     ]
    },
    {
     "data": {
      "text/plain": [
       "MultiIndex([('one', 'bar'),\n",
       "            ('two', 'bar'),\n",
       "            ('one', 'baz'),\n",
       "            ('two', 'baz'),\n",
       "            ('one', 'foo'),\n",
       "            ('two', 'foo'),\n",
       "            ('one', 'qux'),\n",
       "            ('two', 'qux')],\n",
       "           names=['first', 'second'])"
      ]
     },
     "metadata": {},
     "output_type": "display_data"
    }
   ],
   "source": [
    "z(index, index2)"
   ]
  },
  {
   "cell_type": "code",
   "execution_count": 14,
   "metadata": {},
   "outputs": [
    {
     "data": {
      "text/plain": [
       "MultiIndex([('one', 'bar'),\n",
       "            ('one', 'baz'),\n",
       "            ('one', 'foo'),\n",
       "            ('one', 'qux'),\n",
       "            ('two', 'bar'),\n",
       "            ('two', 'baz'),\n",
       "            ('two', 'foo'),\n",
       "            ('two', 'qux')],\n",
       "           names=['first', 'second'])"
      ]
     },
     "execution_count": 14,
     "metadata": {},
     "output_type": "execute_result"
    }
   ],
   "source": [
    "index3 = index2.sortlevel()[0]"
   ]
  },
  {
   "cell_type": "code",
   "execution_count": 15,
   "metadata": {},
   "outputs": [
    {
     "data": {
      "text/plain": [
       "first  second\n",
       "one    bar       0.216424\n",
       "       baz      -0.357371\n",
       "       foo       0.434301\n",
       "       qux      -0.914742\n",
       "two    bar       1.942854\n",
       "       baz       0.692249\n",
       "       foo       0.042710\n",
       "       qux      -0.814046\n",
       "dtype: float64"
      ]
     },
     "execution_count": 15,
     "metadata": {},
     "output_type": "execute_result"
    }
   ],
   "source": [
    "s3 = pd.Series(np.random.randn(8), index=index3)"
   ]
  },
  {
   "cell_type": "code",
   "execution_count": 16,
   "metadata": {},
   "outputs": [
    {
     "data": {
      "text/plain": [
       "[array(['bar', 'bar', 'baz', 'baz', 'foo', 'foo', 'qux', 'qux'],\n",
       "       dtype='<U3'),\n",
       " array(['one', 'two', 'one', 'two', 'one', 'two', 'one', 'two'],\n",
       "       dtype='<U3')]"
      ]
     },
     "execution_count": 16,
     "metadata": {},
     "output_type": "execute_result"
    }
   ],
   "source": [
    "arrays = [np.array(['bar', 'bar', 'baz', 'baz', 'foo', 'foo', 'qux', 'qux']),\n",
    "          np.array(['one', 'two', 'one', 'two', 'one', 'two', 'one', 'two'])]\n"
   ]
  },
  {
   "cell_type": "code",
   "execution_count": 17,
   "metadata": {},
   "outputs": [
    {
     "data": {
      "text/plain": [
       "bar  one   -1.661993\n",
       "     two    0.359927\n",
       "baz  one   -0.144447\n",
       "     two   -0.179669\n",
       "foo  one   -0.462734\n",
       "     two    0.732535\n",
       "qux  one   -0.518339\n",
       "     two    0.519349\n",
       "dtype: float64"
      ]
     },
     "execution_count": 17,
     "metadata": {},
     "output_type": "execute_result"
    }
   ],
   "source": [
    "s = pd.Series(np.random.randn(8), index=arrays)"
   ]
  },
  {
   "cell_type": "code",
   "execution_count": 18,
   "metadata": {},
   "outputs": [
    {
     "data": {
      "text/html": [
       "<div>\n",
       "<style scoped>\n",
       "    .dataframe tbody tr th:only-of-type {\n",
       "        vertical-align: middle;\n",
       "    }\n",
       "\n",
       "    .dataframe tbody tr th {\n",
       "        vertical-align: top;\n",
       "    }\n",
       "\n",
       "    .dataframe thead th {\n",
       "        text-align: right;\n",
       "    }\n",
       "</style>\n",
       "<table border=\"1\" class=\"dataframe\">\n",
       "  <thead>\n",
       "    <tr style=\"text-align: right;\">\n",
       "      <th></th>\n",
       "      <th></th>\n",
       "      <th>0</th>\n",
       "      <th>1</th>\n",
       "      <th>2</th>\n",
       "      <th>3</th>\n",
       "    </tr>\n",
       "  </thead>\n",
       "  <tbody>\n",
       "    <tr>\n",
       "      <th rowspan=\"2\" valign=\"top\">bar</th>\n",
       "      <th>one</th>\n",
       "      <td>-0.115379</td>\n",
       "      <td>-0.954590</td>\n",
       "      <td>0.260215</td>\n",
       "      <td>-1.455257</td>\n",
       "    </tr>\n",
       "    <tr>\n",
       "      <th>two</th>\n",
       "      <td>2.118252</td>\n",
       "      <td>0.933411</td>\n",
       "      <td>0.125037</td>\n",
       "      <td>0.332224</td>\n",
       "    </tr>\n",
       "    <tr>\n",
       "      <th rowspan=\"2\" valign=\"top\">baz</th>\n",
       "      <th>one</th>\n",
       "      <td>-1.362134</td>\n",
       "      <td>0.722191</td>\n",
       "      <td>-0.725573</td>\n",
       "      <td>-0.705449</td>\n",
       "    </tr>\n",
       "    <tr>\n",
       "      <th>two</th>\n",
       "      <td>-1.977232</td>\n",
       "      <td>-1.657447</td>\n",
       "      <td>-0.524156</td>\n",
       "      <td>1.568251</td>\n",
       "    </tr>\n",
       "    <tr>\n",
       "      <th rowspan=\"2\" valign=\"top\">foo</th>\n",
       "      <th>one</th>\n",
       "      <td>0.670188</td>\n",
       "      <td>1.403562</td>\n",
       "      <td>0.848911</td>\n",
       "      <td>0.336650</td>\n",
       "    </tr>\n",
       "    <tr>\n",
       "      <th>two</th>\n",
       "      <td>-1.397599</td>\n",
       "      <td>0.806706</td>\n",
       "      <td>-0.543242</td>\n",
       "      <td>2.144464</td>\n",
       "    </tr>\n",
       "    <tr>\n",
       "      <th rowspan=\"2\" valign=\"top\">qux</th>\n",
       "      <th>one</th>\n",
       "      <td>-0.508533</td>\n",
       "      <td>1.405071</td>\n",
       "      <td>1.494578</td>\n",
       "      <td>-1.373326</td>\n",
       "    </tr>\n",
       "    <tr>\n",
       "      <th>two</th>\n",
       "      <td>-0.470918</td>\n",
       "      <td>-0.860176</td>\n",
       "      <td>-0.431508</td>\n",
       "      <td>-0.985807</td>\n",
       "    </tr>\n",
       "  </tbody>\n",
       "</table>\n",
       "</div>"
      ],
      "text/plain": [
       "                0         1         2         3\n",
       "bar one -0.115379 -0.954590  0.260215 -1.455257\n",
       "    two  2.118252  0.933411  0.125037  0.332224\n",
       "baz one -1.362134  0.722191 -0.725573 -0.705449\n",
       "    two -1.977232 -1.657447 -0.524156  1.568251\n",
       "foo one  0.670188  1.403562  0.848911  0.336650\n",
       "    two -1.397599  0.806706 -0.543242  2.144464\n",
       "qux one -0.508533  1.405071  1.494578 -1.373326\n",
       "    two -0.470918 -0.860176 -0.431508 -0.985807"
      ]
     },
     "execution_count": 18,
     "metadata": {},
     "output_type": "execute_result"
    }
   ],
   "source": [
    "df = pd.DataFrame(np.random.randn(8, 4), index=arrays)"
   ]
  },
  {
   "cell_type": "code",
   "execution_count": 19,
   "metadata": {},
   "outputs": [
    {
     "data": {
      "text/plain": [
       "FrozenList([None, None])"
      ]
     },
     "execution_count": 19,
     "metadata": {},
     "output_type": "execute_result"
    }
   ],
   "source": [
    "df.index.names"
   ]
  },
  {
   "cell_type": "code",
   "execution_count": 20,
   "metadata": {},
   "outputs": [
    {
     "data": {
      "text/plain": [
       "pandas.core.indexes.frozen.FrozenList"
      ]
     },
     "execution_count": 20,
     "metadata": {},
     "output_type": "execute_result"
    }
   ],
   "source": [
    "type(_)"
   ]
  },
  {
   "cell_type": "code",
   "execution_count": 21,
   "metadata": {},
   "outputs": [
    {
     "data": {
      "text/html": [
       "<div>\n",
       "<style scoped>\n",
       "    .dataframe tbody tr th:only-of-type {\n",
       "        vertical-align: middle;\n",
       "    }\n",
       "\n",
       "    .dataframe tbody tr th {\n",
       "        vertical-align: top;\n",
       "    }\n",
       "\n",
       "    .dataframe thead tr th {\n",
       "        text-align: left;\n",
       "    }\n",
       "</style>\n",
       "<table border=\"1\" class=\"dataframe\">\n",
       "  <thead>\n",
       "    <tr>\n",
       "      <th>first</th>\n",
       "      <th colspan=\"2\" halign=\"left\">bar</th>\n",
       "      <th colspan=\"2\" halign=\"left\">baz</th>\n",
       "      <th colspan=\"2\" halign=\"left\">foo</th>\n",
       "      <th colspan=\"2\" halign=\"left\">qux</th>\n",
       "    </tr>\n",
       "    <tr>\n",
       "      <th>second</th>\n",
       "      <th>one</th>\n",
       "      <th>two</th>\n",
       "      <th>one</th>\n",
       "      <th>two</th>\n",
       "      <th>one</th>\n",
       "      <th>two</th>\n",
       "      <th>one</th>\n",
       "      <th>two</th>\n",
       "    </tr>\n",
       "  </thead>\n",
       "  <tbody>\n",
       "    <tr>\n",
       "      <th>A</th>\n",
       "      <td>0.023382</td>\n",
       "      <td>0.577120</td>\n",
       "      <td>0.771476</td>\n",
       "      <td>0.085153</td>\n",
       "      <td>0.708879</td>\n",
       "      <td>-0.323803</td>\n",
       "      <td>0.368654</td>\n",
       "      <td>0.811713</td>\n",
       "    </tr>\n",
       "    <tr>\n",
       "      <th>B</th>\n",
       "      <td>-0.810641</td>\n",
       "      <td>0.367707</td>\n",
       "      <td>0.492949</td>\n",
       "      <td>0.288856</td>\n",
       "      <td>0.803745</td>\n",
       "      <td>0.490196</td>\n",
       "      <td>0.421637</td>\n",
       "      <td>0.766480</td>\n",
       "    </tr>\n",
       "    <tr>\n",
       "      <th>C</th>\n",
       "      <td>-0.072366</td>\n",
       "      <td>-0.249330</td>\n",
       "      <td>-3.506486</td>\n",
       "      <td>-0.072703</td>\n",
       "      <td>0.478583</td>\n",
       "      <td>1.650921</td>\n",
       "      <td>0.587227</td>\n",
       "      <td>0.140359</td>\n",
       "    </tr>\n",
       "  </tbody>\n",
       "</table>\n",
       "</div>"
      ],
      "text/plain": [
       "first        bar                 baz                 foo                 qux  \\\n",
       "second       one       two       one       two       one       two       one   \n",
       "A       0.023382  0.577120  0.771476  0.085153  0.708879 -0.323803  0.368654   \n",
       "B      -0.810641  0.367707  0.492949  0.288856  0.803745  0.490196  0.421637   \n",
       "C      -0.072366 -0.249330 -3.506486 -0.072703  0.478583  1.650921  0.587227   \n",
       "\n",
       "first             \n",
       "second       two  \n",
       "A       0.811713  \n",
       "B       0.766480  \n",
       "C       0.140359  "
      ]
     },
     "execution_count": 21,
     "metadata": {},
     "output_type": "execute_result"
    }
   ],
   "source": [
    "df = pd.DataFrame(np.random.randn(3, 8), \n",
    "                  index=['A', 'B', 'C'], columns=index)\n"
   ]
  },
  {
   "cell_type": "code",
   "execution_count": 22,
   "metadata": {},
   "outputs": [
    {
     "data": {
      "text/html": [
       "<div>\n",
       "<style scoped>\n",
       "    .dataframe tbody tr th:only-of-type {\n",
       "        vertical-align: middle;\n",
       "    }\n",
       "\n",
       "    .dataframe tbody tr th {\n",
       "        vertical-align: top;\n",
       "    }\n",
       "\n",
       "    .dataframe thead tr th {\n",
       "        text-align: left;\n",
       "    }\n",
       "\n",
       "    .dataframe thead tr:last-of-type th {\n",
       "        text-align: right;\n",
       "    }\n",
       "</style>\n",
       "<table border=\"1\" class=\"dataframe\">\n",
       "  <thead>\n",
       "    <tr>\n",
       "      <th></th>\n",
       "      <th>first</th>\n",
       "      <th colspan=\"2\" halign=\"left\">bar</th>\n",
       "      <th colspan=\"2\" halign=\"left\">baz</th>\n",
       "      <th colspan=\"2\" halign=\"left\">foo</th>\n",
       "    </tr>\n",
       "    <tr>\n",
       "      <th></th>\n",
       "      <th>second</th>\n",
       "      <th>one</th>\n",
       "      <th>two</th>\n",
       "      <th>one</th>\n",
       "      <th>two</th>\n",
       "      <th>one</th>\n",
       "      <th>two</th>\n",
       "    </tr>\n",
       "    <tr>\n",
       "      <th>first</th>\n",
       "      <th>second</th>\n",
       "      <th></th>\n",
       "      <th></th>\n",
       "      <th></th>\n",
       "      <th></th>\n",
       "      <th></th>\n",
       "      <th></th>\n",
       "    </tr>\n",
       "  </thead>\n",
       "  <tbody>\n",
       "    <tr>\n",
       "      <th rowspan=\"2\" valign=\"top\">bar</th>\n",
       "      <th>one</th>\n",
       "      <td>1.827531</td>\n",
       "      <td>-0.485999</td>\n",
       "      <td>1.552349</td>\n",
       "      <td>-0.948817</td>\n",
       "      <td>1.077188</td>\n",
       "      <td>-0.996762</td>\n",
       "    </tr>\n",
       "    <tr>\n",
       "      <th>two</th>\n",
       "      <td>1.065523</td>\n",
       "      <td>-0.046297</td>\n",
       "      <td>0.624500</td>\n",
       "      <td>-0.291000</td>\n",
       "      <td>1.285070</td>\n",
       "      <td>-1.527565</td>\n",
       "    </tr>\n",
       "    <tr>\n",
       "      <th rowspan=\"2\" valign=\"top\">baz</th>\n",
       "      <th>one</th>\n",
       "      <td>0.345756</td>\n",
       "      <td>-0.660479</td>\n",
       "      <td>-1.645245</td>\n",
       "      <td>0.298978</td>\n",
       "      <td>0.045767</td>\n",
       "      <td>-1.833355</td>\n",
       "    </tr>\n",
       "    <tr>\n",
       "      <th>two</th>\n",
       "      <td>-0.573586</td>\n",
       "      <td>1.662789</td>\n",
       "      <td>-1.770571</td>\n",
       "      <td>1.854419</td>\n",
       "      <td>-0.449356</td>\n",
       "      <td>-0.540327</td>\n",
       "    </tr>\n",
       "    <tr>\n",
       "      <th rowspan=\"2\" valign=\"top\">foo</th>\n",
       "      <th>one</th>\n",
       "      <td>-0.019874</td>\n",
       "      <td>-0.409977</td>\n",
       "      <td>1.259413</td>\n",
       "      <td>-1.384061</td>\n",
       "      <td>1.505377</td>\n",
       "      <td>-0.719011</td>\n",
       "    </tr>\n",
       "    <tr>\n",
       "      <th>two</th>\n",
       "      <td>0.747988</td>\n",
       "      <td>-1.346936</td>\n",
       "      <td>-0.426890</td>\n",
       "      <td>-0.696416</td>\n",
       "      <td>-0.386669</td>\n",
       "      <td>0.152563</td>\n",
       "    </tr>\n",
       "  </tbody>\n",
       "</table>\n",
       "</div>"
      ],
      "text/plain": [
       "first              bar                 baz                 foo          \n",
       "second             one       two       one       two       one       two\n",
       "first second                                                            \n",
       "bar   one     1.827531 -0.485999  1.552349 -0.948817  1.077188 -0.996762\n",
       "      two     1.065523 -0.046297  0.624500 -0.291000  1.285070 -1.527565\n",
       "baz   one     0.345756 -0.660479 -1.645245  0.298978  0.045767 -1.833355\n",
       "      two    -0.573586  1.662789 -1.770571  1.854419 -0.449356 -0.540327\n",
       "foo   one    -0.019874 -0.409977  1.259413 -1.384061  1.505377 -0.719011\n",
       "      two     0.747988 -1.346936 -0.426890 -0.696416 -0.386669  0.152563"
      ]
     },
     "execution_count": 22,
     "metadata": {},
     "output_type": "execute_result"
    }
   ],
   "source": [
    "pd.DataFrame(np.random.randn(6, 6), index=index[:6], columns=index[:6])"
   ]
  },
  {
   "cell_type": "code",
   "execution_count": 23,
   "metadata": {},
   "outputs": [
    {
     "data": {
      "text/plain": [
       "[('bar', 'one'),\n",
       " ('bar', 'two'),\n",
       " ('baz', 'one'),\n",
       " ('baz', 'two'),\n",
       " ('foo', 'one'),\n",
       " ('foo', 'two'),\n",
       " ('qux', 'one'),\n",
       " ('qux', 'two')]"
      ]
     },
     "execution_count": 23,
     "metadata": {},
     "output_type": "execute_result"
    }
   ],
   "source": [
    "tuples"
   ]
  },
  {
   "cell_type": "code",
   "execution_count": 24,
   "metadata": {},
   "outputs": [
    {
     "data": {
      "text/plain": [
       "Index(['bar', 'bar', 'baz', 'baz', 'foo', 'foo', 'qux', 'qux'], dtype='object', name='first')"
      ]
     },
     "execution_count": 24,
     "metadata": {},
     "output_type": "execute_result"
    }
   ],
   "source": [
    "index.get_level_values(0)"
   ]
  },
  {
   "cell_type": "code",
   "execution_count": 25,
   "metadata": {},
   "outputs": [
    {
     "data": {
      "text/plain": [
       "Index(['one', 'two', 'one', 'two', 'one', 'two', 'one', 'two'], dtype='object', name='second')"
      ]
     },
     "execution_count": 25,
     "metadata": {},
     "output_type": "execute_result"
    }
   ],
   "source": [
    "index.get_level_values(1)"
   ]
  },
  {
   "cell_type": "code",
   "execution_count": 26,
   "metadata": {},
   "outputs": [
    {
     "data": {
      "text/plain": [
       "MultiIndex([('bar', 'one'),\n",
       "            ('bar', 'two'),\n",
       "            ('baz', 'one'),\n",
       "            ('baz', 'two'),\n",
       "            ('foo', 'one'),\n",
       "            ('foo', 'two'),\n",
       "            ('qux', 'one'),\n",
       "            ('qux', 'two')],\n",
       "           names=['first', 'second'])"
      ]
     },
     "execution_count": 26,
     "metadata": {},
     "output_type": "execute_result"
    }
   ],
   "source": [
    "index"
   ]
  },
  {
   "cell_type": "code",
   "execution_count": 27,
   "metadata": {},
   "outputs": [
    {
     "data": {
      "text/html": [
       "<div>\n",
       "<style scoped>\n",
       "    .dataframe tbody tr th:only-of-type {\n",
       "        vertical-align: middle;\n",
       "    }\n",
       "\n",
       "    .dataframe tbody tr th {\n",
       "        vertical-align: top;\n",
       "    }\n",
       "\n",
       "    .dataframe thead tr th {\n",
       "        text-align: left;\n",
       "    }\n",
       "</style>\n",
       "<table border=\"1\" class=\"dataframe\">\n",
       "  <thead>\n",
       "    <tr>\n",
       "      <th>first</th>\n",
       "      <th colspan=\"2\" halign=\"left\">bar</th>\n",
       "      <th colspan=\"2\" halign=\"left\">baz</th>\n",
       "      <th colspan=\"2\" halign=\"left\">foo</th>\n",
       "      <th colspan=\"2\" halign=\"left\">qux</th>\n",
       "    </tr>\n",
       "    <tr>\n",
       "      <th>second</th>\n",
       "      <th>one</th>\n",
       "      <th>two</th>\n",
       "      <th>one</th>\n",
       "      <th>two</th>\n",
       "      <th>one</th>\n",
       "      <th>two</th>\n",
       "      <th>one</th>\n",
       "      <th>two</th>\n",
       "    </tr>\n",
       "  </thead>\n",
       "  <tbody>\n",
       "    <tr>\n",
       "      <th>A</th>\n",
       "      <td>0.023382</td>\n",
       "      <td>0.577120</td>\n",
       "      <td>0.771476</td>\n",
       "      <td>0.085153</td>\n",
       "      <td>0.708879</td>\n",
       "      <td>-0.323803</td>\n",
       "      <td>0.368654</td>\n",
       "      <td>0.811713</td>\n",
       "    </tr>\n",
       "    <tr>\n",
       "      <th>B</th>\n",
       "      <td>-0.810641</td>\n",
       "      <td>0.367707</td>\n",
       "      <td>0.492949</td>\n",
       "      <td>0.288856</td>\n",
       "      <td>0.803745</td>\n",
       "      <td>0.490196</td>\n",
       "      <td>0.421637</td>\n",
       "      <td>0.766480</td>\n",
       "    </tr>\n",
       "    <tr>\n",
       "      <th>C</th>\n",
       "      <td>-0.072366</td>\n",
       "      <td>-0.249330</td>\n",
       "      <td>-3.506486</td>\n",
       "      <td>-0.072703</td>\n",
       "      <td>0.478583</td>\n",
       "      <td>1.650921</td>\n",
       "      <td>0.587227</td>\n",
       "      <td>0.140359</td>\n",
       "    </tr>\n",
       "  </tbody>\n",
       "</table>\n",
       "</div>"
      ],
      "text/plain": [
       "first        bar                 baz                 foo                 qux  \\\n",
       "second       one       two       one       two       one       two       one   \n",
       "A       0.023382  0.577120  0.771476  0.085153  0.708879 -0.323803  0.368654   \n",
       "B      -0.810641  0.367707  0.492949  0.288856  0.803745  0.490196  0.421637   \n",
       "C      -0.072366 -0.249330 -3.506486 -0.072703  0.478583  1.650921  0.587227   \n",
       "\n",
       "first             \n",
       "second       two  \n",
       "A       0.811713  \n",
       "B       0.766480  \n",
       "C       0.140359  "
      ]
     },
     "execution_count": 27,
     "metadata": {},
     "output_type": "execute_result"
    }
   ],
   "source": [
    "df"
   ]
  },
  {
   "cell_type": "code",
   "execution_count": 28,
   "metadata": {},
   "outputs": [
    {
     "data": {
      "text/html": [
       "<div>\n",
       "<style scoped>\n",
       "    .dataframe tbody tr th:only-of-type {\n",
       "        vertical-align: middle;\n",
       "    }\n",
       "\n",
       "    .dataframe tbody tr th {\n",
       "        vertical-align: top;\n",
       "    }\n",
       "\n",
       "    .dataframe thead th {\n",
       "        text-align: right;\n",
       "    }\n",
       "</style>\n",
       "<table border=\"1\" class=\"dataframe\">\n",
       "  <thead>\n",
       "    <tr style=\"text-align: right;\">\n",
       "      <th>second</th>\n",
       "      <th>one</th>\n",
       "      <th>two</th>\n",
       "    </tr>\n",
       "  </thead>\n",
       "  <tbody>\n",
       "    <tr>\n",
       "      <th>A</th>\n",
       "      <td>0.023382</td>\n",
       "      <td>0.577120</td>\n",
       "    </tr>\n",
       "    <tr>\n",
       "      <th>B</th>\n",
       "      <td>-0.810641</td>\n",
       "      <td>0.367707</td>\n",
       "    </tr>\n",
       "    <tr>\n",
       "      <th>C</th>\n",
       "      <td>-0.072366</td>\n",
       "      <td>-0.249330</td>\n",
       "    </tr>\n",
       "  </tbody>\n",
       "</table>\n",
       "</div>"
      ],
      "text/plain": [
       "second       one       two\n",
       "A       0.023382  0.577120\n",
       "B      -0.810641  0.367707\n",
       "C      -0.072366 -0.249330"
      ]
     },
     "execution_count": 28,
     "metadata": {},
     "output_type": "execute_result"
    }
   ],
   "source": [
    "df['bar']"
   ]
  },
  {
   "cell_type": "code",
   "execution_count": 29,
   "metadata": {},
   "outputs": [
    {
     "data": {
      "text/plain": [
       "A    0.023382\n",
       "B   -0.810641\n",
       "C   -0.072366\n",
       "Name: (bar, one), dtype: float64"
      ]
     },
     "execution_count": 29,
     "metadata": {},
     "output_type": "execute_result"
    }
   ],
   "source": [
    "df['bar', 'one']"
   ]
  },
  {
   "cell_type": "code",
   "execution_count": 34,
   "metadata": {},
   "outputs": [
    {
     "data": {
      "text/html": [
       "<div>\n",
       "<style scoped>\n",
       "    .dataframe tbody tr th:only-of-type {\n",
       "        vertical-align: middle;\n",
       "    }\n",
       "\n",
       "    .dataframe tbody tr th {\n",
       "        vertical-align: top;\n",
       "    }\n",
       "\n",
       "    .dataframe thead tr th {\n",
       "        text-align: left;\n",
       "    }\n",
       "</style>\n",
       "<table border=\"1\" class=\"dataframe\">\n",
       "  <thead>\n",
       "    <tr>\n",
       "      <th>first</th>\n",
       "      <th colspan=\"2\" halign=\"left\">bar</th>\n",
       "      <th colspan=\"2\" halign=\"left\">baz</th>\n",
       "    </tr>\n",
       "    <tr>\n",
       "      <th>second</th>\n",
       "      <th>one</th>\n",
       "      <th>two</th>\n",
       "      <th>one</th>\n",
       "      <th>two</th>\n",
       "    </tr>\n",
       "  </thead>\n",
       "  <tbody>\n",
       "    <tr>\n",
       "      <th>A</th>\n",
       "      <td>0.023382</td>\n",
       "      <td>0.577120</td>\n",
       "      <td>0.771476</td>\n",
       "      <td>0.085153</td>\n",
       "    </tr>\n",
       "    <tr>\n",
       "      <th>B</th>\n",
       "      <td>-0.810641</td>\n",
       "      <td>0.367707</td>\n",
       "      <td>0.492949</td>\n",
       "      <td>0.288856</td>\n",
       "    </tr>\n",
       "    <tr>\n",
       "      <th>C</th>\n",
       "      <td>-0.072366</td>\n",
       "      <td>-0.249330</td>\n",
       "      <td>-3.506486</td>\n",
       "      <td>-0.072703</td>\n",
       "    </tr>\n",
       "  </tbody>\n",
       "</table>\n",
       "</div>"
      ],
      "text/plain": [
       "first        bar                 baz          \n",
       "second       one       two       one       two\n",
       "A       0.023382  0.577120  0.771476  0.085153\n",
       "B      -0.810641  0.367707  0.492949  0.288856\n",
       "C      -0.072366 -0.249330 -3.506486 -0.072703"
      ]
     },
     "execution_count": 34,
     "metadata": {},
     "output_type": "execute_result"
    }
   ],
   "source": [
    "df[['bar', 'baz']]"
   ]
  },
  {
   "cell_type": "code",
   "execution_count": 38,
   "metadata": {},
   "outputs": [
    {
     "data": {
      "text/html": [
       "<div>\n",
       "<style scoped>\n",
       "    .dataframe tbody tr th:only-of-type {\n",
       "        vertical-align: middle;\n",
       "    }\n",
       "\n",
       "    .dataframe tbody tr th {\n",
       "        vertical-align: top;\n",
       "    }\n",
       "\n",
       "    .dataframe thead tr th {\n",
       "        text-align: left;\n",
       "    }\n",
       "</style>\n",
       "<table border=\"1\" class=\"dataframe\">\n",
       "  <thead>\n",
       "    <tr>\n",
       "      <th>first</th>\n",
       "      <th colspan=\"2\" halign=\"left\">bar</th>\n",
       "      <th colspan=\"2\" halign=\"left\">baz</th>\n",
       "    </tr>\n",
       "    <tr>\n",
       "      <th>second</th>\n",
       "      <th>one</th>\n",
       "      <th>two</th>\n",
       "      <th>one</th>\n",
       "      <th>two</th>\n",
       "    </tr>\n",
       "  </thead>\n",
       "  <tbody>\n",
       "    <tr>\n",
       "      <th>A</th>\n",
       "      <td>0.023382</td>\n",
       "      <td>0.577120</td>\n",
       "      <td>0.771476</td>\n",
       "      <td>0.085153</td>\n",
       "    </tr>\n",
       "    <tr>\n",
       "      <th>B</th>\n",
       "      <td>-0.810641</td>\n",
       "      <td>0.367707</td>\n",
       "      <td>0.492949</td>\n",
       "      <td>0.288856</td>\n",
       "    </tr>\n",
       "    <tr>\n",
       "      <th>C</th>\n",
       "      <td>-0.072366</td>\n",
       "      <td>-0.249330</td>\n",
       "      <td>-3.506486</td>\n",
       "      <td>-0.072703</td>\n",
       "    </tr>\n",
       "  </tbody>\n",
       "</table>\n",
       "</div>"
      ],
      "text/plain": [
       "first        bar                 baz          \n",
       "second       one       two       one       two\n",
       "A       0.023382  0.577120  0.771476  0.085153\n",
       "B      -0.810641  0.367707  0.492949  0.288856\n",
       "C      -0.072366 -0.249330 -3.506486 -0.072703"
      ]
     },
     "execution_count": 38,
     "metadata": {},
     "output_type": "execute_result"
    }
   ],
   "source": [
    "df.loc[:, ['bar', 'baz']]"
   ]
  },
  {
   "cell_type": "code",
   "execution_count": 39,
   "metadata": {},
   "outputs": [
    {
     "data": {
      "text/plain": [
       "A    0.023382\n",
       "B   -0.810641\n",
       "C   -0.072366\n",
       "Name: one, dtype: float64"
      ]
     },
     "execution_count": 39,
     "metadata": {},
     "output_type": "execute_result"
    }
   ],
   "source": [
    "df['bar']['one']"
   ]
  },
  {
   "cell_type": "code",
   "execution_count": 40,
   "metadata": {},
   "outputs": [
    {
     "data": {
      "text/plain": [
       "FrozenList([['bar', 'baz', 'foo', 'qux'], ['one', 'two']])"
      ]
     },
     "execution_count": 40,
     "metadata": {},
     "output_type": "execute_result"
    }
   ],
   "source": [
    "df.columns.levels"
   ]
  },
  {
   "cell_type": "code",
   "execution_count": 41,
   "metadata": {},
   "outputs": [
    {
     "data": {
      "text/html": [
       "<div>\n",
       "<style scoped>\n",
       "    .dataframe tbody tr th:only-of-type {\n",
       "        vertical-align: middle;\n",
       "    }\n",
       "\n",
       "    .dataframe tbody tr th {\n",
       "        vertical-align: top;\n",
       "    }\n",
       "\n",
       "    .dataframe thead tr th {\n",
       "        text-align: left;\n",
       "    }\n",
       "</style>\n",
       "<table border=\"1\" class=\"dataframe\">\n",
       "  <thead>\n",
       "    <tr>\n",
       "      <th>first</th>\n",
       "      <th colspan=\"2\" halign=\"left\">foo</th>\n",
       "      <th colspan=\"2\" halign=\"left\">qux</th>\n",
       "    </tr>\n",
       "    <tr>\n",
       "      <th>second</th>\n",
       "      <th>one</th>\n",
       "      <th>two</th>\n",
       "      <th>one</th>\n",
       "      <th>two</th>\n",
       "    </tr>\n",
       "  </thead>\n",
       "  <tbody>\n",
       "    <tr>\n",
       "      <th>A</th>\n",
       "      <td>0.708879</td>\n",
       "      <td>-0.323803</td>\n",
       "      <td>0.368654</td>\n",
       "      <td>0.811713</td>\n",
       "    </tr>\n",
       "    <tr>\n",
       "      <th>B</th>\n",
       "      <td>0.803745</td>\n",
       "      <td>0.490196</td>\n",
       "      <td>0.421637</td>\n",
       "      <td>0.766480</td>\n",
       "    </tr>\n",
       "    <tr>\n",
       "      <th>C</th>\n",
       "      <td>0.478583</td>\n",
       "      <td>1.650921</td>\n",
       "      <td>0.587227</td>\n",
       "      <td>0.140359</td>\n",
       "    </tr>\n",
       "  </tbody>\n",
       "</table>\n",
       "</div>"
      ],
      "text/plain": [
       "first        foo                 qux          \n",
       "second       one       two       one       two\n",
       "A       0.708879 -0.323803  0.368654  0.811713\n",
       "B       0.803745  0.490196  0.421637  0.766480\n",
       "C       0.478583  1.650921  0.587227  0.140359"
      ]
     },
     "execution_count": 41,
     "metadata": {},
     "output_type": "execute_result"
    }
   ],
   "source": [
    "df[['foo','qux']]"
   ]
  },
  {
   "cell_type": "code",
   "execution_count": 42,
   "metadata": {},
   "outputs": [
    {
     "data": {
      "text/plain": [
       "MultiIndex([('foo', 'one'),\n",
       "            ('foo', 'two'),\n",
       "            ('qux', 'one'),\n",
       "            ('qux', 'two')],\n",
       "           names=['first', 'second'])"
      ]
     },
     "execution_count": 42,
     "metadata": {},
     "output_type": "execute_result"
    }
   ],
   "source": [
    "df[['foo','qux']].columns"
   ]
  },
  {
   "cell_type": "code",
   "execution_count": 43,
   "metadata": {},
   "outputs": [
    {
     "data": {
      "text/plain": [
       "FrozenList([['bar', 'baz', 'foo', 'qux'], ['one', 'two']])"
      ]
     },
     "execution_count": 43,
     "metadata": {},
     "output_type": "execute_result"
    }
   ],
   "source": [
    "df[['foo','qux']].columns.levels"
   ]
  },
  {
   "cell_type": "code",
   "execution_count": 47,
   "metadata": {},
   "outputs": [
    {
     "data": {
      "text/html": [
       "<div>\n",
       "<style scoped>\n",
       "    .dataframe tbody tr th:only-of-type {\n",
       "        vertical-align: middle;\n",
       "    }\n",
       "\n",
       "    .dataframe tbody tr th {\n",
       "        vertical-align: top;\n",
       "    }\n",
       "\n",
       "    .dataframe thead tr th {\n",
       "        text-align: left;\n",
       "    }\n",
       "</style>\n",
       "<table border=\"1\" class=\"dataframe\">\n",
       "  <thead>\n",
       "    <tr>\n",
       "      <th>first</th>\n",
       "      <th>foo</th>\n",
       "      <th>qux</th>\n",
       "    </tr>\n",
       "    <tr>\n",
       "      <th>second</th>\n",
       "      <th>one</th>\n",
       "      <th>two</th>\n",
       "    </tr>\n",
       "  </thead>\n",
       "  <tbody>\n",
       "    <tr>\n",
       "      <th>A</th>\n",
       "      <td>0.708879</td>\n",
       "      <td>0.811713</td>\n",
       "    </tr>\n",
       "    <tr>\n",
       "      <th>B</th>\n",
       "      <td>0.803745</td>\n",
       "      <td>0.766480</td>\n",
       "    </tr>\n",
       "    <tr>\n",
       "      <th>C</th>\n",
       "      <td>0.478583</td>\n",
       "      <td>0.140359</td>\n",
       "    </tr>\n",
       "  </tbody>\n",
       "</table>\n",
       "</div>"
      ],
      "text/plain": [
       "first        foo       qux\n",
       "second       one       two\n",
       "A       0.708879  0.811713\n",
       "B       0.803745  0.766480\n",
       "C       0.478583  0.140359"
      ]
     },
     "execution_count": 47,
     "metadata": {},
     "output_type": "execute_result"
    }
   ],
   "source": [
    "df[[('foo', 'one'),('qux', 'two')]]"
   ]
  },
  {
   "cell_type": "code",
   "execution_count": 49,
   "metadata": {},
   "outputs": [
    {
     "data": {
      "text/html": [
       "<div>\n",
       "<style scoped>\n",
       "    .dataframe tbody tr th:only-of-type {\n",
       "        vertical-align: middle;\n",
       "    }\n",
       "\n",
       "    .dataframe tbody tr th {\n",
       "        vertical-align: top;\n",
       "    }\n",
       "\n",
       "    .dataframe thead tr th {\n",
       "        text-align: left;\n",
       "    }\n",
       "</style>\n",
       "<table border=\"1\" class=\"dataframe\">\n",
       "  <thead>\n",
       "    <tr>\n",
       "      <th>first</th>\n",
       "      <th>foo</th>\n",
       "      <th>qux</th>\n",
       "    </tr>\n",
       "    <tr>\n",
       "      <th>second</th>\n",
       "      <th>one</th>\n",
       "      <th>two</th>\n",
       "    </tr>\n",
       "  </thead>\n",
       "  <tbody>\n",
       "    <tr>\n",
       "      <th>A</th>\n",
       "      <td>0.708879</td>\n",
       "      <td>0.811713</td>\n",
       "    </tr>\n",
       "    <tr>\n",
       "      <th>B</th>\n",
       "      <td>0.803745</td>\n",
       "      <td>0.766480</td>\n",
       "    </tr>\n",
       "    <tr>\n",
       "      <th>C</th>\n",
       "      <td>0.478583</td>\n",
       "      <td>0.140359</td>\n",
       "    </tr>\n",
       "  </tbody>\n",
       "</table>\n",
       "</div>"
      ],
      "text/plain": [
       "first        foo       qux\n",
       "second       one       two\n",
       "A       0.708879  0.811713\n",
       "B       0.803745  0.766480\n",
       "C       0.478583  0.140359"
      ]
     },
     "execution_count": 49,
     "metadata": {},
     "output_type": "execute_result"
    }
   ],
   "source": [
    "df.loc[:, [('foo', 'one'),('qux', 'two')]]"
   ]
  },
  {
   "cell_type": "code",
   "execution_count": 50,
   "metadata": {},
   "outputs": [
    {
     "data": {
      "text/html": [
       "<div>\n",
       "<style scoped>\n",
       "    .dataframe tbody tr th:only-of-type {\n",
       "        vertical-align: middle;\n",
       "    }\n",
       "\n",
       "    .dataframe tbody tr th {\n",
       "        vertical-align: top;\n",
       "    }\n",
       "\n",
       "    .dataframe thead tr th {\n",
       "        text-align: left;\n",
       "    }\n",
       "\n",
       "    .dataframe thead tr:last-of-type th {\n",
       "        text-align: right;\n",
       "    }\n",
       "</style>\n",
       "<table border=\"1\" class=\"dataframe\">\n",
       "  <thead>\n",
       "    <tr>\n",
       "      <th></th>\n",
       "      <th>first</th>\n",
       "      <th colspan=\"2\" halign=\"left\">bar</th>\n",
       "      <th colspan=\"2\" halign=\"left\">baz</th>\n",
       "      <th colspan=\"2\" halign=\"left\">foo</th>\n",
       "    </tr>\n",
       "    <tr>\n",
       "      <th></th>\n",
       "      <th>second</th>\n",
       "      <th>one</th>\n",
       "      <th>two</th>\n",
       "      <th>one</th>\n",
       "      <th>two</th>\n",
       "      <th>one</th>\n",
       "      <th>two</th>\n",
       "    </tr>\n",
       "    <tr>\n",
       "      <th>first</th>\n",
       "      <th>second</th>\n",
       "      <th></th>\n",
       "      <th></th>\n",
       "      <th></th>\n",
       "      <th></th>\n",
       "      <th></th>\n",
       "      <th></th>\n",
       "    </tr>\n",
       "  </thead>\n",
       "  <tbody>\n",
       "    <tr>\n",
       "      <th rowspan=\"2\" valign=\"top\">bar</th>\n",
       "      <th>one</th>\n",
       "      <td>0.301773</td>\n",
       "      <td>-0.625670</td>\n",
       "      <td>-0.534902</td>\n",
       "      <td>-1.490927</td>\n",
       "      <td>0.203442</td>\n",
       "      <td>0.083134</td>\n",
       "    </tr>\n",
       "    <tr>\n",
       "      <th>two</th>\n",
       "      <td>-1.061645</td>\n",
       "      <td>0.155512</td>\n",
       "      <td>0.653107</td>\n",
       "      <td>-0.218430</td>\n",
       "      <td>0.956777</td>\n",
       "      <td>-0.380241</td>\n",
       "    </tr>\n",
       "    <tr>\n",
       "      <th rowspan=\"2\" valign=\"top\">baz</th>\n",
       "      <th>one</th>\n",
       "      <td>1.447010</td>\n",
       "      <td>1.608197</td>\n",
       "      <td>0.363882</td>\n",
       "      <td>-0.735997</td>\n",
       "      <td>2.582787</td>\n",
       "      <td>1.996678</td>\n",
       "    </tr>\n",
       "    <tr>\n",
       "      <th>two</th>\n",
       "      <td>-2.623456</td>\n",
       "      <td>1.035516</td>\n",
       "      <td>0.746133</td>\n",
       "      <td>0.925367</td>\n",
       "      <td>-0.400350</td>\n",
       "      <td>-1.554836</td>\n",
       "    </tr>\n",
       "    <tr>\n",
       "      <th rowspan=\"2\" valign=\"top\">foo</th>\n",
       "      <th>one</th>\n",
       "      <td>-1.579503</td>\n",
       "      <td>-1.788064</td>\n",
       "      <td>-0.613173</td>\n",
       "      <td>-0.336030</td>\n",
       "      <td>0.321949</td>\n",
       "      <td>1.207348</td>\n",
       "    </tr>\n",
       "    <tr>\n",
       "      <th>two</th>\n",
       "      <td>0.321940</td>\n",
       "      <td>-0.256062</td>\n",
       "      <td>-0.601433</td>\n",
       "      <td>-0.966037</td>\n",
       "      <td>0.512884</td>\n",
       "      <td>-1.878031</td>\n",
       "    </tr>\n",
       "  </tbody>\n",
       "</table>\n",
       "</div>"
      ],
      "text/plain": [
       "first              bar                 baz                 foo          \n",
       "second             one       two       one       two       one       two\n",
       "first second                                                            \n",
       "bar   one     0.301773 -0.625670 -0.534902 -1.490927  0.203442  0.083134\n",
       "      two    -1.061645  0.155512  0.653107 -0.218430  0.956777 -0.380241\n",
       "baz   one     1.447010  1.608197  0.363882 -0.735997  2.582787  1.996678\n",
       "      two    -2.623456  1.035516  0.746133  0.925367 -0.400350 -1.554836\n",
       "foo   one    -1.579503 -1.788064 -0.613173 -0.336030  0.321949  1.207348\n",
       "      two     0.321940 -0.256062 -0.601433 -0.966037  0.512884 -1.878031"
      ]
     },
     "execution_count": 50,
     "metadata": {},
     "output_type": "execute_result"
    }
   ],
   "source": [
    "df2 = pd.DataFrame(np.random.randn(6, 6), index=index[:6], columns=index[:6])"
   ]
  },
  {
   "cell_type": "code",
   "execution_count": 57,
   "metadata": {},
   "outputs": [
    {
     "data": {
      "text/html": [
       "<div>\n",
       "<style scoped>\n",
       "    .dataframe tbody tr th:only-of-type {\n",
       "        vertical-align: middle;\n",
       "    }\n",
       "\n",
       "    .dataframe tbody tr th {\n",
       "        vertical-align: top;\n",
       "    }\n",
       "\n",
       "    .dataframe thead tr th {\n",
       "        text-align: left;\n",
       "    }\n",
       "</style>\n",
       "<table border=\"1\" class=\"dataframe\">\n",
       "  <thead>\n",
       "    <tr>\n",
       "      <th>first</th>\n",
       "      <th colspan=\"2\" halign=\"left\">bar</th>\n",
       "      <th colspan=\"2\" halign=\"left\">baz</th>\n",
       "      <th colspan=\"2\" halign=\"left\">foo</th>\n",
       "      <th colspan=\"2\" halign=\"left\">qux</th>\n",
       "    </tr>\n",
       "    <tr>\n",
       "      <th>second</th>\n",
       "      <th>one</th>\n",
       "      <th>two</th>\n",
       "      <th>one</th>\n",
       "      <th>two</th>\n",
       "      <th>one</th>\n",
       "      <th>two</th>\n",
       "      <th>one</th>\n",
       "      <th>two</th>\n",
       "    </tr>\n",
       "  </thead>\n",
       "  <tbody>\n",
       "    <tr>\n",
       "      <th>A</th>\n",
       "      <td>0.023382</td>\n",
       "      <td>0.577120</td>\n",
       "      <td>0.771476</td>\n",
       "      <td>0.085153</td>\n",
       "      <td>0.708879</td>\n",
       "      <td>-0.323803</td>\n",
       "      <td>0.368654</td>\n",
       "      <td>0.811713</td>\n",
       "    </tr>\n",
       "    <tr>\n",
       "      <th>B</th>\n",
       "      <td>-0.810641</td>\n",
       "      <td>0.367707</td>\n",
       "      <td>0.492949</td>\n",
       "      <td>0.288856</td>\n",
       "      <td>0.803745</td>\n",
       "      <td>0.490196</td>\n",
       "      <td>0.421637</td>\n",
       "      <td>0.766480</td>\n",
       "    </tr>\n",
       "    <tr>\n",
       "      <th>C</th>\n",
       "      <td>-0.072366</td>\n",
       "      <td>-0.249330</td>\n",
       "      <td>-3.506486</td>\n",
       "      <td>-0.072703</td>\n",
       "      <td>0.478583</td>\n",
       "      <td>1.650921</td>\n",
       "      <td>0.587227</td>\n",
       "      <td>0.140359</td>\n",
       "    </tr>\n",
       "  </tbody>\n",
       "</table>\n",
       "</div>"
      ],
      "text/plain": [
       "first        bar                 baz                 foo                 qux  \\\n",
       "second       one       two       one       two       one       two       one   \n",
       "A       0.023382  0.577120  0.771476  0.085153  0.708879 -0.323803  0.368654   \n",
       "B      -0.810641  0.367707  0.492949  0.288856  0.803745  0.490196  0.421637   \n",
       "C      -0.072366 -0.249330 -3.506486 -0.072703  0.478583  1.650921  0.587227   \n",
       "\n",
       "first             \n",
       "second       two  \n",
       "A       0.811713  \n",
       "B       0.766480  \n",
       "C       0.140359  "
      ]
     },
     "execution_count": 57,
     "metadata": {},
     "output_type": "execute_result"
    }
   ],
   "source": [
    "df"
   ]
  },
  {
   "cell_type": "code",
   "execution_count": 58,
   "metadata": {},
   "outputs": [
    {
     "data": {
      "text/plain": [
       "array([('foo', 'one'), ('foo', 'two'), ('qux', 'one'), ('qux', 'two')],\n",
       "      dtype=object)"
      ]
     },
     "execution_count": 58,
     "metadata": {},
     "output_type": "execute_result"
    }
   ],
   "source": [
    "df[['foo', 'qux']].columns.to_numpy()"
   ]
  },
  {
   "cell_type": "code",
   "execution_count": 59,
   "metadata": {},
   "outputs": [
    {
     "data": {
      "text/plain": [
       "Index(['foo', 'foo', 'qux', 'qux'], dtype='object', name='first')"
      ]
     },
     "execution_count": 59,
     "metadata": {},
     "output_type": "execute_result"
    }
   ],
   "source": [
    "df[['foo', 'qux']].columns.get_level_values(0)"
   ]
  },
  {
   "cell_type": "code",
   "execution_count": 60,
   "metadata": {},
   "outputs": [
    {
     "data": {
      "text/plain": [
       "MultiIndex([('foo', 'one'),\n",
       "            ('foo', 'two'),\n",
       "            ('qux', 'one'),\n",
       "            ('qux', 'two')],\n",
       "           names=['first', 'second'])"
      ]
     },
     "execution_count": 60,
     "metadata": {},
     "output_type": "execute_result"
    }
   ],
   "source": [
    "new_mi = df[['foo', 'qux']].columns.remove_unused_levels()"
   ]
  },
  {
   "cell_type": "code",
   "execution_count": 61,
   "metadata": {},
   "outputs": [
    {
     "data": {
      "text/plain": [
       "bar  one   -1.661993\n",
       "     two    0.359927\n",
       "baz  one   -0.144447\n",
       "     two   -0.179669\n",
       "foo  one   -0.462734\n",
       "     two    0.732535\n",
       "qux  one   -0.518339\n",
       "     two    0.519349\n",
       "dtype: float64"
      ]
     },
     "execution_count": 61,
     "metadata": {},
     "output_type": "execute_result"
    }
   ],
   "source": [
    "s"
   ]
  },
  {
   "cell_type": "code",
   "execution_count": 62,
   "metadata": {},
   "outputs": [
    {
     "data": {
      "text/plain": [
       "bar  one   -1.661993\n",
       "     two    0.359927\n",
       "baz  one   -0.144447\n",
       "     two   -0.179669\n",
       "foo  one   -0.462734\n",
       "     two    0.732535\n",
       "dtype: float64"
      ]
     },
     "execution_count": 62,
     "metadata": {},
     "output_type": "execute_result"
    }
   ],
   "source": [
    "s[:-2]"
   ]
  },
  {
   "cell_type": "code",
   "execution_count": 63,
   "metadata": {},
   "outputs": [
    {
     "data": {
      "text/plain": [
       "bar  one   -3.323986\n",
       "     two    0.719854\n",
       "baz  one   -0.288894\n",
       "     two   -0.359338\n",
       "foo  one   -0.925469\n",
       "     two    1.465070\n",
       "qux  one         NaN\n",
       "     two         NaN\n",
       "dtype: float64"
      ]
     },
     "execution_count": 63,
     "metadata": {},
     "output_type": "execute_result"
    }
   ],
   "source": [
    "s + s[:-2]"
   ]
  },
  {
   "cell_type": "code",
   "execution_count": 64,
   "metadata": {},
   "outputs": [
    {
     "data": {
      "text/plain": [
       "bar  one   -3.323986\n",
       "     two         NaN\n",
       "baz  one   -0.288894\n",
       "     two         NaN\n",
       "foo  one   -0.925469\n",
       "     two         NaN\n",
       "qux  one   -1.036679\n",
       "     two         NaN\n",
       "dtype: float64"
      ]
     },
     "execution_count": 64,
     "metadata": {},
     "output_type": "execute_result"
    }
   ],
   "source": [
    "s + s[::2]"
   ]
  },
  {
   "cell_type": "code",
   "execution_count": 65,
   "metadata": {},
   "outputs": [
    {
     "data": {
      "text/plain": [
       "MultiIndex([('bar', 'one'),\n",
       "            ('bar', 'two'),\n",
       "            ('baz', 'one')],\n",
       "           names=['first', 'second'])"
      ]
     },
     "execution_count": 65,
     "metadata": {},
     "output_type": "execute_result"
    }
   ],
   "source": [
    "index[:3]"
   ]
  },
  {
   "cell_type": "code",
   "execution_count": 66,
   "metadata": {},
   "outputs": [
    {
     "data": {
      "text/plain": [
       "first  second\n",
       "bar    one      -1.661993\n",
       "       two       0.359927\n",
       "baz    one      -0.144447\n",
       "dtype: float64"
      ]
     },
     "execution_count": 66,
     "metadata": {},
     "output_type": "execute_result"
    }
   ],
   "source": [
    "s.reindex(index[:3])"
   ]
  },
  {
   "cell_type": "code",
   "execution_count": 67,
   "metadata": {},
   "outputs": [
    {
     "data": {
      "text/html": [
       "<div>\n",
       "<style scoped>\n",
       "    .dataframe tbody tr th:only-of-type {\n",
       "        vertical-align: middle;\n",
       "    }\n",
       "\n",
       "    .dataframe tbody tr th {\n",
       "        vertical-align: top;\n",
       "    }\n",
       "\n",
       "    .dataframe thead th {\n",
       "        text-align: right;\n",
       "    }\n",
       "</style>\n",
       "<table border=\"1\" class=\"dataframe\">\n",
       "  <thead>\n",
       "    <tr style=\"text-align: right;\">\n",
       "      <th></th>\n",
       "      <th></th>\n",
       "      <th>A</th>\n",
       "      <th>B</th>\n",
       "      <th>C</th>\n",
       "    </tr>\n",
       "    <tr>\n",
       "      <th>first</th>\n",
       "      <th>second</th>\n",
       "      <th></th>\n",
       "      <th></th>\n",
       "      <th></th>\n",
       "    </tr>\n",
       "  </thead>\n",
       "  <tbody>\n",
       "    <tr>\n",
       "      <th rowspan=\"2\" valign=\"top\">bar</th>\n",
       "      <th>one</th>\n",
       "      <td>0.023382</td>\n",
       "      <td>-0.810641</td>\n",
       "      <td>-0.072366</td>\n",
       "    </tr>\n",
       "    <tr>\n",
       "      <th>two</th>\n",
       "      <td>0.577120</td>\n",
       "      <td>0.367707</td>\n",
       "      <td>-0.249330</td>\n",
       "    </tr>\n",
       "    <tr>\n",
       "      <th rowspan=\"2\" valign=\"top\">baz</th>\n",
       "      <th>one</th>\n",
       "      <td>0.771476</td>\n",
       "      <td>0.492949</td>\n",
       "      <td>-3.506486</td>\n",
       "    </tr>\n",
       "    <tr>\n",
       "      <th>two</th>\n",
       "      <td>0.085153</td>\n",
       "      <td>0.288856</td>\n",
       "      <td>-0.072703</td>\n",
       "    </tr>\n",
       "    <tr>\n",
       "      <th rowspan=\"2\" valign=\"top\">foo</th>\n",
       "      <th>one</th>\n",
       "      <td>0.708879</td>\n",
       "      <td>0.803745</td>\n",
       "      <td>0.478583</td>\n",
       "    </tr>\n",
       "    <tr>\n",
       "      <th>two</th>\n",
       "      <td>-0.323803</td>\n",
       "      <td>0.490196</td>\n",
       "      <td>1.650921</td>\n",
       "    </tr>\n",
       "    <tr>\n",
       "      <th rowspan=\"2\" valign=\"top\">qux</th>\n",
       "      <th>one</th>\n",
       "      <td>0.368654</td>\n",
       "      <td>0.421637</td>\n",
       "      <td>0.587227</td>\n",
       "    </tr>\n",
       "    <tr>\n",
       "      <th>two</th>\n",
       "      <td>0.811713</td>\n",
       "      <td>0.766480</td>\n",
       "      <td>0.140359</td>\n",
       "    </tr>\n",
       "  </tbody>\n",
       "</table>\n",
       "</div>"
      ],
      "text/plain": [
       "                     A         B         C\n",
       "first second                              \n",
       "bar   one     0.023382 -0.810641 -0.072366\n",
       "      two     0.577120  0.367707 -0.249330\n",
       "baz   one     0.771476  0.492949 -3.506486\n",
       "      two     0.085153  0.288856 -0.072703\n",
       "foo   one     0.708879  0.803745  0.478583\n",
       "      two    -0.323803  0.490196  1.650921\n",
       "qux   one     0.368654  0.421637  0.587227\n",
       "      two     0.811713  0.766480  0.140359"
      ]
     },
     "execution_count": 67,
     "metadata": {},
     "output_type": "execute_result"
    }
   ],
   "source": [
    "df = df.T"
   ]
  },
  {
   "cell_type": "code",
   "execution_count": 68,
   "metadata": {},
   "outputs": [
    {
     "data": {
      "text/plain": [
       "A    0.577120\n",
       "B    0.367707\n",
       "C   -0.249330\n",
       "Name: (bar, two), dtype: float64"
      ]
     },
     "execution_count": 68,
     "metadata": {},
     "output_type": "execute_result"
    }
   ],
   "source": [
    "df.loc[('bar', 'two')]"
   ]
  },
  {
   "cell_type": "code",
   "execution_count": 69,
   "metadata": {},
   "outputs": [
    {
     "data": {
      "text/html": [
       "<div>\n",
       "<style scoped>\n",
       "    .dataframe tbody tr th:only-of-type {\n",
       "        vertical-align: middle;\n",
       "    }\n",
       "\n",
       "    .dataframe tbody tr th {\n",
       "        vertical-align: top;\n",
       "    }\n",
       "\n",
       "    .dataframe thead th {\n",
       "        text-align: right;\n",
       "    }\n",
       "</style>\n",
       "<table border=\"1\" class=\"dataframe\">\n",
       "  <thead>\n",
       "    <tr style=\"text-align: right;\">\n",
       "      <th></th>\n",
       "      <th>A</th>\n",
       "      <th>B</th>\n",
       "      <th>C</th>\n",
       "    </tr>\n",
       "    <tr>\n",
       "      <th>second</th>\n",
       "      <th></th>\n",
       "      <th></th>\n",
       "      <th></th>\n",
       "    </tr>\n",
       "  </thead>\n",
       "  <tbody>\n",
       "    <tr>\n",
       "      <th>one</th>\n",
       "      <td>0.023382</td>\n",
       "      <td>-0.810641</td>\n",
       "      <td>-0.072366</td>\n",
       "    </tr>\n",
       "    <tr>\n",
       "      <th>two</th>\n",
       "      <td>0.577120</td>\n",
       "      <td>0.367707</td>\n",
       "      <td>-0.249330</td>\n",
       "    </tr>\n",
       "  </tbody>\n",
       "</table>\n",
       "</div>"
      ],
      "text/plain": [
       "               A         B         C\n",
       "second                              \n",
       "one     0.023382 -0.810641 -0.072366\n",
       "two     0.577120  0.367707 -0.249330"
      ]
     },
     "execution_count": 69,
     "metadata": {},
     "output_type": "execute_result"
    }
   ],
   "source": [
    "df.loc['bar']"
   ]
  },
  {
   "cell_type": "code",
   "execution_count": 73,
   "metadata": {},
   "outputs": [
    {
     "name": "stdout",
     "output_type": "stream",
     "text": [
      "----------------------------------------\n",
      "Type: <class 'pandas.core.indexes.multi.MultiIndex'>\n",
      "Length: 6\n"
     ]
    },
    {
     "data": {
      "text/plain": [
       "MultiIndex([('A', 'c'),\n",
       "            ('A', 'd'),\n",
       "            ('A', 'e'),\n",
       "            ('B', 'c'),\n",
       "            ('B', 'd'),\n",
       "            ('B', 'e')],\n",
       "           )"
      ]
     },
     "metadata": {},
     "output_type": "display_data"
    },
    {
     "name": "stdout",
     "output_type": "stream",
     "text": [
      "----------------------------------------\n",
      "Type: <class 'pandas.core.series.Series'>\n",
      "Length: 6\n"
     ]
    },
    {
     "data": {
      "text/plain": [
       "A  c    1\n",
       "   d    2\n",
       "   e    3\n",
       "B  c    4\n",
       "   d    5\n",
       "   e    6\n",
       "dtype: int64"
      ]
     },
     "metadata": {},
     "output_type": "display_data"
    }
   ],
   "source": [
    "s = pd.Series([1, 2, 3, 4, 5, 6],\n",
    "       index=pd.MultiIndex.from_product(\n",
    "           [[\"A\", \"B\"], [\"c\", \"d\", \"e\"]]))\n",
    "z(s.index, s)"
   ]
  },
  {
   "cell_type": "code",
   "execution_count": 74,
   "metadata": {},
   "outputs": [
    {
     "data": {
      "text/plain": [
       "A  c    1\n",
       "B  d    5\n",
       "dtype: int64"
      ]
     },
     "execution_count": 74,
     "metadata": {},
     "output_type": "execute_result"
    }
   ],
   "source": [
    "s.loc[[(\"A\", \"c\"), (\"B\", \"d\")]]"
   ]
  },
  {
   "cell_type": "code",
   "execution_count": 81,
   "metadata": {},
   "outputs": [
    {
     "data": {
      "text/plain": [
       "A  c    1\n",
       "   d    2\n",
       "   e    3\n",
       "B  c    4\n",
       "   d    5\n",
       "   e    6\n",
       "dtype: int64"
      ]
     },
     "execution_count": 81,
     "metadata": {},
     "output_type": "execute_result"
    }
   ],
   "source": [
    "s.loc[([\"A\", \"B\"], [\"c\", \"d\", \"e\"])]"
   ]
  },
  {
   "cell_type": "code",
   "execution_count": 78,
   "metadata": {},
   "outputs": [
    {
     "name": "stdout",
     "output_type": "stream",
     "text": [
      "----------------------------------------\n",
      "Type: <class 'pandas.core.indexes.multi.MultiIndex'>\n",
      "Length: 12\n"
     ]
    },
    {
     "data": {
      "text/plain": [
       "MultiIndex([('A', 'c'),\n",
       "            ('A', 'd'),\n",
       "            ('A', 'e'),\n",
       "            ('A', 'f'),\n",
       "            ('B', 'c'),\n",
       "            ('B', 'd'),\n",
       "            ('B', 'e'),\n",
       "            ('B', 'f'),\n",
       "            ('C', 'c'),\n",
       "            ('C', 'd'),\n",
       "            ('C', 'e'),\n",
       "            ('C', 'f')],\n",
       "           )"
      ]
     },
     "metadata": {},
     "output_type": "display_data"
    },
    {
     "name": "stdout",
     "output_type": "stream",
     "text": [
      "----------------------------------------\n",
      "Type: <class 'pandas.core.series.Series'>\n",
      "Length: 12\n"
     ]
    },
    {
     "data": {
      "text/plain": [
       "A  c     0\n",
       "   d     1\n",
       "   e     2\n",
       "   f     3\n",
       "B  c     4\n",
       "   d     5\n",
       "   e     6\n",
       "   f     7\n",
       "C  c     8\n",
       "   d     9\n",
       "   e    10\n",
       "   f    11\n",
       "dtype: int64"
      ]
     },
     "metadata": {},
     "output_type": "display_data"
    }
   ],
   "source": [
    "s2 = pd.Series(range(12),\n",
    "       index=pd.MultiIndex.from_product(\n",
    "           [[\"A\", \"B\", \"C\"], [\"c\", \"d\", \"e\", \"f\"]]))\n",
    "z(s2.index, s2)"
   ]
  },
  {
   "cell_type": "code",
   "execution_count": 85,
   "metadata": {},
   "outputs": [
    {
     "data": {
      "text/plain": [
       "A  c    0\n",
       "B  d    5\n",
       "dtype: int64"
      ]
     },
     "execution_count": 85,
     "metadata": {},
     "output_type": "execute_result"
    }
   ],
   "source": [
    "s2.loc[[(\"A\", \"c\"), (\"B\", \"d\")]]"
   ]
  },
  {
   "cell_type": "code",
   "execution_count": 86,
   "metadata": {},
   "outputs": [
    {
     "data": {
      "text/plain": [
       "A  c     0\n",
       "   d     1\n",
       "   e     2\n",
       "C  c     8\n",
       "   d     9\n",
       "   e    10\n",
       "dtype: int64"
      ]
     },
     "execution_count": 86,
     "metadata": {},
     "output_type": "execute_result"
    }
   ],
   "source": [
    "s2.loc[([\"A\", \"C\"], [\"c\", \"d\", \"e\"])]"
   ]
  },
  {
   "cell_type": "code",
   "execution_count": 84,
   "metadata": {},
   "outputs": [
    {
     "data": {
      "text/plain": [
       "A  c     0\n",
       "   d     1\n",
       "   e     2\n",
       "C  c     8\n",
       "   d     9\n",
       "   e    10\n",
       "dtype: int64"
      ]
     },
     "execution_count": 84,
     "metadata": {},
     "output_type": "execute_result"
    }
   ],
   "source": [
    "s2.loc[([\"A\", \"C\"], [\"c\", \"d\", \"e\"])]"
   ]
  },
  {
   "cell_type": "code",
   "execution_count": 87,
   "metadata": {},
   "outputs": [],
   "source": [
    "def mklbl(prefix, n):\n",
    "    return [\"%s%s\" % (prefix, i) for i in range(n)]"
   ]
  },
  {
   "cell_type": "code",
   "execution_count": 89,
   "metadata": {},
   "outputs": [
    {
     "name": "stdout",
     "output_type": "stream",
     "text": [
      "----------------------------------------\n",
      "Type: <class 'pandas.core.indexes.multi.MultiIndex'>\n",
      "Length: 64\n"
     ]
    },
    {
     "data": {
      "text/plain": [
       "MultiIndex([('A0', 'B0', 'C0', 'D0'),\n",
       "            ('A0', 'B0', 'C0', 'D1'),\n",
       "            ('A0', 'B0', 'C1', 'D0'),\n",
       "            ('A0', 'B0', 'C1', 'D1'),\n",
       "            ('A0', 'B0', 'C2', 'D0'),\n",
       "            ('A0', 'B0', 'C2', 'D1'),\n",
       "            ('A0', 'B0', 'C3', 'D0'),\n",
       "            ('A0', 'B0', 'C3', 'D1'),\n",
       "            ('A0', 'B1', 'C0', 'D0'),\n",
       "            ('A0', 'B1', 'C0', 'D1'),\n",
       "            ('A0', 'B1', 'C1', 'D0'),\n",
       "            ('A0', 'B1', 'C1', 'D1'),\n",
       "            ('A0', 'B1', 'C2', 'D0'),\n",
       "            ('A0', 'B1', 'C2', 'D1'),\n",
       "            ('A0', 'B1', 'C3', 'D0'),\n",
       "            ('A0', 'B1', 'C3', 'D1'),\n",
       "            ('A1', 'B0', 'C0', 'D0'),\n",
       "            ('A1', 'B0', 'C0', 'D1'),\n",
       "            ('A1', 'B0', 'C1', 'D0'),\n",
       "            ('A1', 'B0', 'C1', 'D1'),\n",
       "            ('A1', 'B0', 'C2', 'D0'),\n",
       "            ('A1', 'B0', 'C2', 'D1'),\n",
       "            ('A1', 'B0', 'C3', 'D0'),\n",
       "            ('A1', 'B0', 'C3', 'D1'),\n",
       "            ('A1', 'B1', 'C0', 'D0'),\n",
       "            ('A1', 'B1', 'C0', 'D1'),\n",
       "            ('A1', 'B1', 'C1', 'D0'),\n",
       "            ('A1', 'B1', 'C1', 'D1'),\n",
       "            ('A1', 'B1', 'C2', 'D0'),\n",
       "            ('A1', 'B1', 'C2', 'D1'),\n",
       "            ('A1', 'B1', 'C3', 'D0'),\n",
       "            ('A1', 'B1', 'C3', 'D1'),\n",
       "            ('A2', 'B0', 'C0', 'D0'),\n",
       "            ('A2', 'B0', 'C0', 'D1'),\n",
       "            ('A2', 'B0', 'C1', 'D0'),\n",
       "            ('A2', 'B0', 'C1', 'D1'),\n",
       "            ('A2', 'B0', 'C2', 'D0'),\n",
       "            ('A2', 'B0', 'C2', 'D1'),\n",
       "            ('A2', 'B0', 'C3', 'D0'),\n",
       "            ('A2', 'B0', 'C3', 'D1'),\n",
       "            ('A2', 'B1', 'C0', 'D0'),\n",
       "            ('A2', 'B1', 'C0', 'D1'),\n",
       "            ('A2', 'B1', 'C1', 'D0'),\n",
       "            ('A2', 'B1', 'C1', 'D1'),\n",
       "            ('A2', 'B1', 'C2', 'D0'),\n",
       "            ('A2', 'B1', 'C2', 'D1'),\n",
       "            ('A2', 'B1', 'C3', 'D0'),\n",
       "            ('A2', 'B1', 'C3', 'D1'),\n",
       "            ('A3', 'B0', 'C0', 'D0'),\n",
       "            ('A3', 'B0', 'C0', 'D1'),\n",
       "            ('A3', 'B0', 'C1', 'D0'),\n",
       "            ('A3', 'B0', 'C1', 'D1'),\n",
       "            ('A3', 'B0', 'C2', 'D0'),\n",
       "            ('A3', 'B0', 'C2', 'D1'),\n",
       "            ('A3', 'B0', 'C3', 'D0'),\n",
       "            ('A3', 'B0', 'C3', 'D1'),\n",
       "            ('A3', 'B1', 'C0', 'D0'),\n",
       "            ('A3', 'B1', 'C0', 'D1'),\n",
       "            ('A3', 'B1', 'C1', 'D0'),\n",
       "            ('A3', 'B1', 'C1', 'D1'),\n",
       "            ('A3', 'B1', 'C2', 'D0'),\n",
       "            ('A3', 'B1', 'C2', 'D1'),\n",
       "            ('A3', 'B1', 'C3', 'D0'),\n",
       "            ('A3', 'B1', 'C3', 'D1')],\n",
       "           )"
      ]
     },
     "metadata": {},
     "output_type": "display_data"
    }
   ],
   "source": [
    "miindex = pd.MultiIndex.from_product([mklbl('A', 4),\n",
    "                                      mklbl('B', 2),\n",
    "                                      mklbl('C', 4),\n",
    "                                      mklbl('D', 2)])\n",
    "z(miindex)"
   ]
  },
  {
   "cell_type": "code",
   "execution_count": 90,
   "metadata": {},
   "outputs": [
    {
     "name": "stdout",
     "output_type": "stream",
     "text": [
      "----------------------------------------\n",
      "Type: <class 'pandas.core.indexes.multi.MultiIndex'>\n",
      "Length: 4\n"
     ]
    },
    {
     "data": {
      "text/plain": [
       "MultiIndex([('a', 'foo'),\n",
       "            ('a', 'bar'),\n",
       "            ('b', 'foo'),\n",
       "            ('b', 'bah')],\n",
       "           names=['lvl0', 'lvl1'])"
      ]
     },
     "metadata": {},
     "output_type": "display_data"
    }
   ],
   "source": [
    "micolumns = pd.MultiIndex.from_tuples([('a', 'foo'), ('a', 'bar'),\n",
    "                                       ('b', 'foo'), ('b', 'bah')],\n",
    "                                      names=['lvl0', 'lvl1'])\n",
    "z(micolumns)"
   ]
  },
  {
   "cell_type": "code",
   "execution_count": 92,
   "metadata": {},
   "outputs": [
    {
     "name": "stdout",
     "output_type": "stream",
     "text": [
      "<class 'pandas.core.frame.DataFrame'>\n",
      "MultiIndex: 64 entries, ('A0', 'B0', 'C0', 'D0') to ('A3', 'B1', 'C3', 'D1')\n",
      "Data columns (total 4 columns):\n",
      " #   Column    Non-Null Count  Dtype\n",
      "---  ------    --------------  -----\n",
      " 0   (a, bar)  64 non-null     int32\n",
      " 1   (a, foo)  64 non-null     int32\n",
      " 2   (b, bah)  64 non-null     int32\n",
      " 3   (b, foo)  64 non-null     int32\n",
      "dtypes: int32(4)\n",
      "memory usage: 1.6+ KB\n",
      "None\n"
     ]
    },
    {
     "data": {
      "text/html": [
       "<div>\n",
       "<style scoped>\n",
       "    .dataframe tbody tr th:only-of-type {\n",
       "        vertical-align: middle;\n",
       "    }\n",
       "\n",
       "    .dataframe tbody tr th {\n",
       "        vertical-align: top;\n",
       "    }\n",
       "\n",
       "    .dataframe thead tr th {\n",
       "        text-align: left;\n",
       "    }\n",
       "</style>\n",
       "<table border=\"1\" class=\"dataframe\">\n",
       "  <thead>\n",
       "    <tr>\n",
       "      <th></th>\n",
       "      <th></th>\n",
       "      <th></th>\n",
       "      <th>lvl0</th>\n",
       "      <th colspan=\"2\" halign=\"left\">a</th>\n",
       "      <th colspan=\"2\" halign=\"left\">b</th>\n",
       "    </tr>\n",
       "    <tr>\n",
       "      <th></th>\n",
       "      <th></th>\n",
       "      <th></th>\n",
       "      <th>lvl1</th>\n",
       "      <th>bar</th>\n",
       "      <th>foo</th>\n",
       "      <th>bah</th>\n",
       "      <th>foo</th>\n",
       "    </tr>\n",
       "  </thead>\n",
       "  <tbody>\n",
       "    <tr>\n",
       "      <th rowspan=\"5\" valign=\"top\">A0</th>\n",
       "      <th rowspan=\"5\" valign=\"top\">B0</th>\n",
       "      <th rowspan=\"2\" valign=\"top\">C0</th>\n",
       "      <th>D0</th>\n",
       "      <td>1</td>\n",
       "      <td>0</td>\n",
       "      <td>3</td>\n",
       "      <td>2</td>\n",
       "    </tr>\n",
       "    <tr>\n",
       "      <th>D1</th>\n",
       "      <td>5</td>\n",
       "      <td>4</td>\n",
       "      <td>7</td>\n",
       "      <td>6</td>\n",
       "    </tr>\n",
       "    <tr>\n",
       "      <th rowspan=\"2\" valign=\"top\">C1</th>\n",
       "      <th>D0</th>\n",
       "      <td>9</td>\n",
       "      <td>8</td>\n",
       "      <td>11</td>\n",
       "      <td>10</td>\n",
       "    </tr>\n",
       "    <tr>\n",
       "      <th>D1</th>\n",
       "      <td>13</td>\n",
       "      <td>12</td>\n",
       "      <td>15</td>\n",
       "      <td>14</td>\n",
       "    </tr>\n",
       "    <tr>\n",
       "      <th>C2</th>\n",
       "      <th>D0</th>\n",
       "      <td>17</td>\n",
       "      <td>16</td>\n",
       "      <td>19</td>\n",
       "      <td>18</td>\n",
       "    </tr>\n",
       "    <tr>\n",
       "      <th>...</th>\n",
       "      <th>...</th>\n",
       "      <th>...</th>\n",
       "      <th>...</th>\n",
       "      <td>...</td>\n",
       "      <td>...</td>\n",
       "      <td>...</td>\n",
       "      <td>...</td>\n",
       "    </tr>\n",
       "    <tr>\n",
       "      <th rowspan=\"5\" valign=\"top\">A3</th>\n",
       "      <th rowspan=\"5\" valign=\"top\">B1</th>\n",
       "      <th>C1</th>\n",
       "      <th>D1</th>\n",
       "      <td>237</td>\n",
       "      <td>236</td>\n",
       "      <td>239</td>\n",
       "      <td>238</td>\n",
       "    </tr>\n",
       "    <tr>\n",
       "      <th rowspan=\"2\" valign=\"top\">C2</th>\n",
       "      <th>D0</th>\n",
       "      <td>241</td>\n",
       "      <td>240</td>\n",
       "      <td>243</td>\n",
       "      <td>242</td>\n",
       "    </tr>\n",
       "    <tr>\n",
       "      <th>D1</th>\n",
       "      <td>245</td>\n",
       "      <td>244</td>\n",
       "      <td>247</td>\n",
       "      <td>246</td>\n",
       "    </tr>\n",
       "    <tr>\n",
       "      <th rowspan=\"2\" valign=\"top\">C3</th>\n",
       "      <th>D0</th>\n",
       "      <td>249</td>\n",
       "      <td>248</td>\n",
       "      <td>251</td>\n",
       "      <td>250</td>\n",
       "    </tr>\n",
       "    <tr>\n",
       "      <th>D1</th>\n",
       "      <td>253</td>\n",
       "      <td>252</td>\n",
       "      <td>255</td>\n",
       "      <td>254</td>\n",
       "    </tr>\n",
       "  </tbody>\n",
       "</table>\n",
       "<p>64 rows × 4 columns</p>\n",
       "</div>"
      ],
      "text/plain": [
       "lvl0           a         b     \n",
       "lvl1         bar  foo  bah  foo\n",
       "A0 B0 C0 D0    1    0    3    2\n",
       "         D1    5    4    7    6\n",
       "      C1 D0    9    8   11   10\n",
       "         D1   13   12   15   14\n",
       "      C2 D0   17   16   19   18\n",
       "...          ...  ...  ...  ...\n",
       "A3 B1 C1 D1  237  236  239  238\n",
       "      C2 D0  241  240  243  242\n",
       "         D1  245  244  247  246\n",
       "      C3 D0  249  248  251  250\n",
       "         D1  253  252  255  254\n",
       "\n",
       "[64 rows x 4 columns]"
      ]
     },
     "metadata": {},
     "output_type": "display_data"
    }
   ],
   "source": [
    "dfmi = pd.DataFrame(np.arange(len(miindex) * len(micolumns))\n",
    "                      .reshape((len(miindex), len(micolumns))),\n",
    "                    index=miindex,\n",
    "                    columns=micolumns).sort_index().sort_index(axis=1)\n",
    "z(dfmi)"
   ]
  },
  {
   "cell_type": "code",
   "execution_count": 93,
   "metadata": {},
   "outputs": [
    {
     "data": {
      "text/html": [
       "<div>\n",
       "<style scoped>\n",
       "    .dataframe tbody tr th:only-of-type {\n",
       "        vertical-align: middle;\n",
       "    }\n",
       "\n",
       "    .dataframe tbody tr th {\n",
       "        vertical-align: top;\n",
       "    }\n",
       "\n",
       "    .dataframe thead tr th {\n",
       "        text-align: left;\n",
       "    }\n",
       "</style>\n",
       "<table border=\"1\" class=\"dataframe\">\n",
       "  <thead>\n",
       "    <tr>\n",
       "      <th></th>\n",
       "      <th></th>\n",
       "      <th></th>\n",
       "      <th>lvl0</th>\n",
       "      <th colspan=\"2\" halign=\"left\">a</th>\n",
       "      <th colspan=\"2\" halign=\"left\">b</th>\n",
       "    </tr>\n",
       "    <tr>\n",
       "      <th></th>\n",
       "      <th></th>\n",
       "      <th></th>\n",
       "      <th>lvl1</th>\n",
       "      <th>bar</th>\n",
       "      <th>foo</th>\n",
       "      <th>bah</th>\n",
       "      <th>foo</th>\n",
       "    </tr>\n",
       "  </thead>\n",
       "  <tbody>\n",
       "    <tr>\n",
       "      <th rowspan=\"8\" valign=\"top\">A1</th>\n",
       "      <th rowspan=\"4\" valign=\"top\">B0</th>\n",
       "      <th rowspan=\"2\" valign=\"top\">C1</th>\n",
       "      <th>D0</th>\n",
       "      <td>73</td>\n",
       "      <td>72</td>\n",
       "      <td>75</td>\n",
       "      <td>74</td>\n",
       "    </tr>\n",
       "    <tr>\n",
       "      <th>D1</th>\n",
       "      <td>77</td>\n",
       "      <td>76</td>\n",
       "      <td>79</td>\n",
       "      <td>78</td>\n",
       "    </tr>\n",
       "    <tr>\n",
       "      <th rowspan=\"2\" valign=\"top\">C3</th>\n",
       "      <th>D0</th>\n",
       "      <td>89</td>\n",
       "      <td>88</td>\n",
       "      <td>91</td>\n",
       "      <td>90</td>\n",
       "    </tr>\n",
       "    <tr>\n",
       "      <th>D1</th>\n",
       "      <td>93</td>\n",
       "      <td>92</td>\n",
       "      <td>95</td>\n",
       "      <td>94</td>\n",
       "    </tr>\n",
       "    <tr>\n",
       "      <th rowspan=\"4\" valign=\"top\">B1</th>\n",
       "      <th rowspan=\"2\" valign=\"top\">C1</th>\n",
       "      <th>D0</th>\n",
       "      <td>105</td>\n",
       "      <td>104</td>\n",
       "      <td>107</td>\n",
       "      <td>106</td>\n",
       "    </tr>\n",
       "    <tr>\n",
       "      <th>D1</th>\n",
       "      <td>109</td>\n",
       "      <td>108</td>\n",
       "      <td>111</td>\n",
       "      <td>110</td>\n",
       "    </tr>\n",
       "    <tr>\n",
       "      <th rowspan=\"2\" valign=\"top\">C3</th>\n",
       "      <th>D0</th>\n",
       "      <td>121</td>\n",
       "      <td>120</td>\n",
       "      <td>123</td>\n",
       "      <td>122</td>\n",
       "    </tr>\n",
       "    <tr>\n",
       "      <th>D1</th>\n",
       "      <td>125</td>\n",
       "      <td>124</td>\n",
       "      <td>127</td>\n",
       "      <td>126</td>\n",
       "    </tr>\n",
       "    <tr>\n",
       "      <th rowspan=\"8\" valign=\"top\">A2</th>\n",
       "      <th rowspan=\"4\" valign=\"top\">B0</th>\n",
       "      <th rowspan=\"2\" valign=\"top\">C1</th>\n",
       "      <th>D0</th>\n",
       "      <td>137</td>\n",
       "      <td>136</td>\n",
       "      <td>139</td>\n",
       "      <td>138</td>\n",
       "    </tr>\n",
       "    <tr>\n",
       "      <th>D1</th>\n",
       "      <td>141</td>\n",
       "      <td>140</td>\n",
       "      <td>143</td>\n",
       "      <td>142</td>\n",
       "    </tr>\n",
       "    <tr>\n",
       "      <th rowspan=\"2\" valign=\"top\">C3</th>\n",
       "      <th>D0</th>\n",
       "      <td>153</td>\n",
       "      <td>152</td>\n",
       "      <td>155</td>\n",
       "      <td>154</td>\n",
       "    </tr>\n",
       "    <tr>\n",
       "      <th>D1</th>\n",
       "      <td>157</td>\n",
       "      <td>156</td>\n",
       "      <td>159</td>\n",
       "      <td>158</td>\n",
       "    </tr>\n",
       "    <tr>\n",
       "      <th rowspan=\"4\" valign=\"top\">B1</th>\n",
       "      <th rowspan=\"2\" valign=\"top\">C1</th>\n",
       "      <th>D0</th>\n",
       "      <td>169</td>\n",
       "      <td>168</td>\n",
       "      <td>171</td>\n",
       "      <td>170</td>\n",
       "    </tr>\n",
       "    <tr>\n",
       "      <th>D1</th>\n",
       "      <td>173</td>\n",
       "      <td>172</td>\n",
       "      <td>175</td>\n",
       "      <td>174</td>\n",
       "    </tr>\n",
       "    <tr>\n",
       "      <th rowspan=\"2\" valign=\"top\">C3</th>\n",
       "      <th>D0</th>\n",
       "      <td>185</td>\n",
       "      <td>184</td>\n",
       "      <td>187</td>\n",
       "      <td>186</td>\n",
       "    </tr>\n",
       "    <tr>\n",
       "      <th>D1</th>\n",
       "      <td>189</td>\n",
       "      <td>188</td>\n",
       "      <td>191</td>\n",
       "      <td>190</td>\n",
       "    </tr>\n",
       "    <tr>\n",
       "      <th rowspan=\"8\" valign=\"top\">A3</th>\n",
       "      <th rowspan=\"4\" valign=\"top\">B0</th>\n",
       "      <th rowspan=\"2\" valign=\"top\">C1</th>\n",
       "      <th>D0</th>\n",
       "      <td>201</td>\n",
       "      <td>200</td>\n",
       "      <td>203</td>\n",
       "      <td>202</td>\n",
       "    </tr>\n",
       "    <tr>\n",
       "      <th>D1</th>\n",
       "      <td>205</td>\n",
       "      <td>204</td>\n",
       "      <td>207</td>\n",
       "      <td>206</td>\n",
       "    </tr>\n",
       "    <tr>\n",
       "      <th rowspan=\"2\" valign=\"top\">C3</th>\n",
       "      <th>D0</th>\n",
       "      <td>217</td>\n",
       "      <td>216</td>\n",
       "      <td>219</td>\n",
       "      <td>218</td>\n",
       "    </tr>\n",
       "    <tr>\n",
       "      <th>D1</th>\n",
       "      <td>221</td>\n",
       "      <td>220</td>\n",
       "      <td>223</td>\n",
       "      <td>222</td>\n",
       "    </tr>\n",
       "    <tr>\n",
       "      <th rowspan=\"4\" valign=\"top\">B1</th>\n",
       "      <th rowspan=\"2\" valign=\"top\">C1</th>\n",
       "      <th>D0</th>\n",
       "      <td>233</td>\n",
       "      <td>232</td>\n",
       "      <td>235</td>\n",
       "      <td>234</td>\n",
       "    </tr>\n",
       "    <tr>\n",
       "      <th>D1</th>\n",
       "      <td>237</td>\n",
       "      <td>236</td>\n",
       "      <td>239</td>\n",
       "      <td>238</td>\n",
       "    </tr>\n",
       "    <tr>\n",
       "      <th rowspan=\"2\" valign=\"top\">C3</th>\n",
       "      <th>D0</th>\n",
       "      <td>249</td>\n",
       "      <td>248</td>\n",
       "      <td>251</td>\n",
       "      <td>250</td>\n",
       "    </tr>\n",
       "    <tr>\n",
       "      <th>D1</th>\n",
       "      <td>253</td>\n",
       "      <td>252</td>\n",
       "      <td>255</td>\n",
       "      <td>254</td>\n",
       "    </tr>\n",
       "  </tbody>\n",
       "</table>\n",
       "</div>"
      ],
      "text/plain": [
       "lvl0           a         b     \n",
       "lvl1         bar  foo  bah  foo\n",
       "A1 B0 C1 D0   73   72   75   74\n",
       "         D1   77   76   79   78\n",
       "      C3 D0   89   88   91   90\n",
       "         D1   93   92   95   94\n",
       "   B1 C1 D0  105  104  107  106\n",
       "         D1  109  108  111  110\n",
       "      C3 D0  121  120  123  122\n",
       "         D1  125  124  127  126\n",
       "A2 B0 C1 D0  137  136  139  138\n",
       "         D1  141  140  143  142\n",
       "      C3 D0  153  152  155  154\n",
       "         D1  157  156  159  158\n",
       "   B1 C1 D0  169  168  171  170\n",
       "         D1  173  172  175  174\n",
       "      C3 D0  185  184  187  186\n",
       "         D1  189  188  191  190\n",
       "A3 B0 C1 D0  201  200  203  202\n",
       "         D1  205  204  207  206\n",
       "      C3 D0  217  216  219  218\n",
       "         D1  221  220  223  222\n",
       "   B1 C1 D0  233  232  235  234\n",
       "         D1  237  236  239  238\n",
       "      C3 D0  249  248  251  250\n",
       "         D1  253  252  255  254"
      ]
     },
     "execution_count": 93,
     "metadata": {},
     "output_type": "execute_result"
    }
   ],
   "source": [
    "dfmi.loc[(slice('A1', 'A3'), slice(None), ['C1', 'C3']), :]"
   ]
  },
  {
   "cell_type": "code",
   "execution_count": 108,
   "metadata": {},
   "outputs": [
    {
     "data": {
      "text/html": [
       "<div>\n",
       "<style scoped>\n",
       "    .dataframe tbody tr th:only-of-type {\n",
       "        vertical-align: middle;\n",
       "    }\n",
       "\n",
       "    .dataframe tbody tr th {\n",
       "        vertical-align: top;\n",
       "    }\n",
       "\n",
       "    .dataframe thead tr th {\n",
       "        text-align: left;\n",
       "    }\n",
       "</style>\n",
       "<table border=\"1\" class=\"dataframe\">\n",
       "  <thead>\n",
       "    <tr>\n",
       "      <th></th>\n",
       "      <th></th>\n",
       "      <th></th>\n",
       "      <th>lvl0</th>\n",
       "      <th colspan=\"2\" halign=\"left\">a</th>\n",
       "      <th colspan=\"2\" halign=\"left\">b</th>\n",
       "    </tr>\n",
       "    <tr>\n",
       "      <th></th>\n",
       "      <th></th>\n",
       "      <th></th>\n",
       "      <th>lvl1</th>\n",
       "      <th>bar</th>\n",
       "      <th>foo</th>\n",
       "      <th>bah</th>\n",
       "      <th>foo</th>\n",
       "    </tr>\n",
       "  </thead>\n",
       "  <tbody>\n",
       "    <tr>\n",
       "      <th rowspan=\"8\" valign=\"top\">A1</th>\n",
       "      <th rowspan=\"4\" valign=\"top\">B0</th>\n",
       "      <th rowspan=\"2\" valign=\"top\">C1</th>\n",
       "      <th>D0</th>\n",
       "      <td>73</td>\n",
       "      <td>72</td>\n",
       "      <td>75</td>\n",
       "      <td>74</td>\n",
       "    </tr>\n",
       "    <tr>\n",
       "      <th>D1</th>\n",
       "      <td>77</td>\n",
       "      <td>76</td>\n",
       "      <td>79</td>\n",
       "      <td>78</td>\n",
       "    </tr>\n",
       "    <tr>\n",
       "      <th rowspan=\"2\" valign=\"top\">C3</th>\n",
       "      <th>D0</th>\n",
       "      <td>89</td>\n",
       "      <td>88</td>\n",
       "      <td>91</td>\n",
       "      <td>90</td>\n",
       "    </tr>\n",
       "    <tr>\n",
       "      <th>D1</th>\n",
       "      <td>93</td>\n",
       "      <td>92</td>\n",
       "      <td>95</td>\n",
       "      <td>94</td>\n",
       "    </tr>\n",
       "    <tr>\n",
       "      <th rowspan=\"4\" valign=\"top\">B1</th>\n",
       "      <th rowspan=\"2\" valign=\"top\">C1</th>\n",
       "      <th>D0</th>\n",
       "      <td>105</td>\n",
       "      <td>104</td>\n",
       "      <td>107</td>\n",
       "      <td>106</td>\n",
       "    </tr>\n",
       "    <tr>\n",
       "      <th>D1</th>\n",
       "      <td>109</td>\n",
       "      <td>108</td>\n",
       "      <td>111</td>\n",
       "      <td>110</td>\n",
       "    </tr>\n",
       "    <tr>\n",
       "      <th rowspan=\"2\" valign=\"top\">C3</th>\n",
       "      <th>D0</th>\n",
       "      <td>121</td>\n",
       "      <td>120</td>\n",
       "      <td>123</td>\n",
       "      <td>122</td>\n",
       "    </tr>\n",
       "    <tr>\n",
       "      <th>D1</th>\n",
       "      <td>125</td>\n",
       "      <td>124</td>\n",
       "      <td>127</td>\n",
       "      <td>126</td>\n",
       "    </tr>\n",
       "    <tr>\n",
       "      <th rowspan=\"8\" valign=\"top\">A2</th>\n",
       "      <th rowspan=\"4\" valign=\"top\">B0</th>\n",
       "      <th rowspan=\"2\" valign=\"top\">C1</th>\n",
       "      <th>D0</th>\n",
       "      <td>137</td>\n",
       "      <td>136</td>\n",
       "      <td>139</td>\n",
       "      <td>138</td>\n",
       "    </tr>\n",
       "    <tr>\n",
       "      <th>D1</th>\n",
       "      <td>141</td>\n",
       "      <td>140</td>\n",
       "      <td>143</td>\n",
       "      <td>142</td>\n",
       "    </tr>\n",
       "    <tr>\n",
       "      <th rowspan=\"2\" valign=\"top\">C3</th>\n",
       "      <th>D0</th>\n",
       "      <td>153</td>\n",
       "      <td>152</td>\n",
       "      <td>155</td>\n",
       "      <td>154</td>\n",
       "    </tr>\n",
       "    <tr>\n",
       "      <th>D1</th>\n",
       "      <td>157</td>\n",
       "      <td>156</td>\n",
       "      <td>159</td>\n",
       "      <td>158</td>\n",
       "    </tr>\n",
       "    <tr>\n",
       "      <th rowspan=\"4\" valign=\"top\">B1</th>\n",
       "      <th rowspan=\"2\" valign=\"top\">C1</th>\n",
       "      <th>D0</th>\n",
       "      <td>169</td>\n",
       "      <td>168</td>\n",
       "      <td>171</td>\n",
       "      <td>170</td>\n",
       "    </tr>\n",
       "    <tr>\n",
       "      <th>D1</th>\n",
       "      <td>173</td>\n",
       "      <td>172</td>\n",
       "      <td>175</td>\n",
       "      <td>174</td>\n",
       "    </tr>\n",
       "    <tr>\n",
       "      <th rowspan=\"2\" valign=\"top\">C3</th>\n",
       "      <th>D0</th>\n",
       "      <td>185</td>\n",
       "      <td>184</td>\n",
       "      <td>187</td>\n",
       "      <td>186</td>\n",
       "    </tr>\n",
       "    <tr>\n",
       "      <th>D1</th>\n",
       "      <td>189</td>\n",
       "      <td>188</td>\n",
       "      <td>191</td>\n",
       "      <td>190</td>\n",
       "    </tr>\n",
       "    <tr>\n",
       "      <th rowspan=\"8\" valign=\"top\">A3</th>\n",
       "      <th rowspan=\"4\" valign=\"top\">B0</th>\n",
       "      <th rowspan=\"2\" valign=\"top\">C1</th>\n",
       "      <th>D0</th>\n",
       "      <td>201</td>\n",
       "      <td>200</td>\n",
       "      <td>203</td>\n",
       "      <td>202</td>\n",
       "    </tr>\n",
       "    <tr>\n",
       "      <th>D1</th>\n",
       "      <td>205</td>\n",
       "      <td>204</td>\n",
       "      <td>207</td>\n",
       "      <td>206</td>\n",
       "    </tr>\n",
       "    <tr>\n",
       "      <th rowspan=\"2\" valign=\"top\">C3</th>\n",
       "      <th>D0</th>\n",
       "      <td>217</td>\n",
       "      <td>216</td>\n",
       "      <td>219</td>\n",
       "      <td>218</td>\n",
       "    </tr>\n",
       "    <tr>\n",
       "      <th>D1</th>\n",
       "      <td>221</td>\n",
       "      <td>220</td>\n",
       "      <td>223</td>\n",
       "      <td>222</td>\n",
       "    </tr>\n",
       "    <tr>\n",
       "      <th rowspan=\"4\" valign=\"top\">B1</th>\n",
       "      <th rowspan=\"2\" valign=\"top\">C1</th>\n",
       "      <th>D0</th>\n",
       "      <td>233</td>\n",
       "      <td>232</td>\n",
       "      <td>235</td>\n",
       "      <td>234</td>\n",
       "    </tr>\n",
       "    <tr>\n",
       "      <th>D1</th>\n",
       "      <td>237</td>\n",
       "      <td>236</td>\n",
       "      <td>239</td>\n",
       "      <td>238</td>\n",
       "    </tr>\n",
       "    <tr>\n",
       "      <th rowspan=\"2\" valign=\"top\">C3</th>\n",
       "      <th>D0</th>\n",
       "      <td>249</td>\n",
       "      <td>248</td>\n",
       "      <td>251</td>\n",
       "      <td>250</td>\n",
       "    </tr>\n",
       "    <tr>\n",
       "      <th>D1</th>\n",
       "      <td>253</td>\n",
       "      <td>252</td>\n",
       "      <td>255</td>\n",
       "      <td>254</td>\n",
       "    </tr>\n",
       "  </tbody>\n",
       "</table>\n",
       "</div>"
      ],
      "text/plain": [
       "lvl0           a         b     \n",
       "lvl1         bar  foo  bah  foo\n",
       "A1 B0 C1 D0   73   72   75   74\n",
       "         D1   77   76   79   78\n",
       "      C3 D0   89   88   91   90\n",
       "         D1   93   92   95   94\n",
       "   B1 C1 D0  105  104  107  106\n",
       "         D1  109  108  111  110\n",
       "      C3 D0  121  120  123  122\n",
       "         D1  125  124  127  126\n",
       "A2 B0 C1 D0  137  136  139  138\n",
       "         D1  141  140  143  142\n",
       "      C3 D0  153  152  155  154\n",
       "         D1  157  156  159  158\n",
       "   B1 C1 D0  169  168  171  170\n",
       "         D1  173  172  175  174\n",
       "      C3 D0  185  184  187  186\n",
       "         D1  189  188  191  190\n",
       "A3 B0 C1 D0  201  200  203  202\n",
       "         D1  205  204  207  206\n",
       "      C3 D0  217  216  219  218\n",
       "         D1  221  220  223  222\n",
       "   B1 C1 D0  233  232  235  234\n",
       "         D1  237  236  239  238\n",
       "      C3 D0  249  248  251  250\n",
       "         D1  253  252  255  254"
      ]
     },
     "execution_count": 108,
     "metadata": {},
     "output_type": "execute_result"
    }
   ],
   "source": [
    "dfmi.loc[(slice('A1', 'A3'), slice(None), ['C1', 'C3']),  slice(None)]"
   ]
  },
  {
   "cell_type": "code",
   "execution_count": 122,
   "metadata": {},
   "outputs": [
    {
     "name": "stdout",
     "output_type": "stream",
     "text": [
      "----------------------------------------\n",
      "Type: <class 'tuple'>\n",
      "Length: 3\n"
     ]
    },
    {
     "data": {
      "text/plain": [
       "(slice(None, None, None), slice(None, None, None), ['C1', 'C3'])"
      ]
     },
     "metadata": {},
     "output_type": "display_data"
    },
    {
     "name": "stdout",
     "output_type": "stream",
     "text": [
      "----------------------------------------\n",
      "Type: <class 'slice'>\n"
     ]
    },
    {
     "data": {
      "text/plain": [
       "slice(None, None, None)"
      ]
     },
     "metadata": {},
     "output_type": "display_data"
    },
    {
     "name": "stdout",
     "output_type": "stream",
     "text": [
      "----------------------------------------\n",
      "Type: <class 'tuple'>\n",
      "Length: 2\n"
     ]
    },
    {
     "data": {
      "text/plain": [
       "(slice(None, None, None), 'foo')"
      ]
     },
     "metadata": {},
     "output_type": "display_data"
    }
   ],
   "source": [
    "a = idx[:, :, ['C1', 'C3']]\n",
    "b = idx[:, 'foo']\n",
    "z(a, a[0], b, )"
   ]
  },
  {
   "cell_type": "code",
   "execution_count": 124,
   "metadata": {},
   "outputs": [
    {
     "name": "stdout",
     "output_type": "stream",
     "text": [
      "<class 'pandas.core.frame.DataFrame'>\n",
      "MultiIndex: 32 entries, ('A0', 'B0', 'C1', 'D0') to ('A3', 'B1', 'C3', 'D1')\n",
      "Data columns (total 2 columns):\n",
      " #   Column    Non-Null Count  Dtype\n",
      "---  ------    --------------  -----\n",
      " 0   (a, foo)  32 non-null     int32\n",
      " 1   (b, foo)  32 non-null     int32\n",
      "dtypes: int32(2)\n",
      "memory usage: 752.0+ bytes\n",
      "None\n"
     ]
    },
    {
     "data": {
      "text/html": [
       "<div>\n",
       "<style scoped>\n",
       "    .dataframe tbody tr th:only-of-type {\n",
       "        vertical-align: middle;\n",
       "    }\n",
       "\n",
       "    .dataframe tbody tr th {\n",
       "        vertical-align: top;\n",
       "    }\n",
       "\n",
       "    .dataframe thead tr th {\n",
       "        text-align: left;\n",
       "    }\n",
       "</style>\n",
       "<table border=\"1\" class=\"dataframe\">\n",
       "  <thead>\n",
       "    <tr>\n",
       "      <th></th>\n",
       "      <th></th>\n",
       "      <th></th>\n",
       "      <th>lvl0</th>\n",
       "      <th>a</th>\n",
       "      <th>b</th>\n",
       "    </tr>\n",
       "    <tr>\n",
       "      <th></th>\n",
       "      <th></th>\n",
       "      <th></th>\n",
       "      <th>lvl1</th>\n",
       "      <th>foo</th>\n",
       "      <th>foo</th>\n",
       "    </tr>\n",
       "  </thead>\n",
       "  <tbody>\n",
       "    <tr>\n",
       "      <th rowspan=\"8\" valign=\"top\">A0</th>\n",
       "      <th rowspan=\"4\" valign=\"top\">B0</th>\n",
       "      <th rowspan=\"2\" valign=\"top\">C1</th>\n",
       "      <th>D0</th>\n",
       "      <td>8</td>\n",
       "      <td>10</td>\n",
       "    </tr>\n",
       "    <tr>\n",
       "      <th>D1</th>\n",
       "      <td>12</td>\n",
       "      <td>14</td>\n",
       "    </tr>\n",
       "    <tr>\n",
       "      <th rowspan=\"2\" valign=\"top\">C3</th>\n",
       "      <th>D0</th>\n",
       "      <td>24</td>\n",
       "      <td>26</td>\n",
       "    </tr>\n",
       "    <tr>\n",
       "      <th>D1</th>\n",
       "      <td>28</td>\n",
       "      <td>30</td>\n",
       "    </tr>\n",
       "    <tr>\n",
       "      <th rowspan=\"4\" valign=\"top\">B1</th>\n",
       "      <th rowspan=\"2\" valign=\"top\">C1</th>\n",
       "      <th>D0</th>\n",
       "      <td>40</td>\n",
       "      <td>42</td>\n",
       "    </tr>\n",
       "    <tr>\n",
       "      <th>D1</th>\n",
       "      <td>44</td>\n",
       "      <td>46</td>\n",
       "    </tr>\n",
       "    <tr>\n",
       "      <th rowspan=\"2\" valign=\"top\">C3</th>\n",
       "      <th>D0</th>\n",
       "      <td>56</td>\n",
       "      <td>58</td>\n",
       "    </tr>\n",
       "    <tr>\n",
       "      <th>D1</th>\n",
       "      <td>60</td>\n",
       "      <td>62</td>\n",
       "    </tr>\n",
       "    <tr>\n",
       "      <th rowspan=\"8\" valign=\"top\">A1</th>\n",
       "      <th rowspan=\"4\" valign=\"top\">B0</th>\n",
       "      <th rowspan=\"2\" valign=\"top\">C1</th>\n",
       "      <th>D0</th>\n",
       "      <td>72</td>\n",
       "      <td>74</td>\n",
       "    </tr>\n",
       "    <tr>\n",
       "      <th>D1</th>\n",
       "      <td>76</td>\n",
       "      <td>78</td>\n",
       "    </tr>\n",
       "    <tr>\n",
       "      <th rowspan=\"2\" valign=\"top\">C3</th>\n",
       "      <th>D0</th>\n",
       "      <td>88</td>\n",
       "      <td>90</td>\n",
       "    </tr>\n",
       "    <tr>\n",
       "      <th>D1</th>\n",
       "      <td>92</td>\n",
       "      <td>94</td>\n",
       "    </tr>\n",
       "    <tr>\n",
       "      <th rowspan=\"4\" valign=\"top\">B1</th>\n",
       "      <th rowspan=\"2\" valign=\"top\">C1</th>\n",
       "      <th>D0</th>\n",
       "      <td>104</td>\n",
       "      <td>106</td>\n",
       "    </tr>\n",
       "    <tr>\n",
       "      <th>D1</th>\n",
       "      <td>108</td>\n",
       "      <td>110</td>\n",
       "    </tr>\n",
       "    <tr>\n",
       "      <th rowspan=\"2\" valign=\"top\">C3</th>\n",
       "      <th>D0</th>\n",
       "      <td>120</td>\n",
       "      <td>122</td>\n",
       "    </tr>\n",
       "    <tr>\n",
       "      <th>D1</th>\n",
       "      <td>124</td>\n",
       "      <td>126</td>\n",
       "    </tr>\n",
       "    <tr>\n",
       "      <th rowspan=\"8\" valign=\"top\">A2</th>\n",
       "      <th rowspan=\"4\" valign=\"top\">B0</th>\n",
       "      <th rowspan=\"2\" valign=\"top\">C1</th>\n",
       "      <th>D0</th>\n",
       "      <td>136</td>\n",
       "      <td>138</td>\n",
       "    </tr>\n",
       "    <tr>\n",
       "      <th>D1</th>\n",
       "      <td>140</td>\n",
       "      <td>142</td>\n",
       "    </tr>\n",
       "    <tr>\n",
       "      <th rowspan=\"2\" valign=\"top\">C3</th>\n",
       "      <th>D0</th>\n",
       "      <td>152</td>\n",
       "      <td>154</td>\n",
       "    </tr>\n",
       "    <tr>\n",
       "      <th>D1</th>\n",
       "      <td>156</td>\n",
       "      <td>158</td>\n",
       "    </tr>\n",
       "    <tr>\n",
       "      <th rowspan=\"4\" valign=\"top\">B1</th>\n",
       "      <th rowspan=\"2\" valign=\"top\">C1</th>\n",
       "      <th>D0</th>\n",
       "      <td>168</td>\n",
       "      <td>170</td>\n",
       "    </tr>\n",
       "    <tr>\n",
       "      <th>D1</th>\n",
       "      <td>172</td>\n",
       "      <td>174</td>\n",
       "    </tr>\n",
       "    <tr>\n",
       "      <th rowspan=\"2\" valign=\"top\">C3</th>\n",
       "      <th>D0</th>\n",
       "      <td>184</td>\n",
       "      <td>186</td>\n",
       "    </tr>\n",
       "    <tr>\n",
       "      <th>D1</th>\n",
       "      <td>188</td>\n",
       "      <td>190</td>\n",
       "    </tr>\n",
       "    <tr>\n",
       "      <th rowspan=\"8\" valign=\"top\">A3</th>\n",
       "      <th rowspan=\"4\" valign=\"top\">B0</th>\n",
       "      <th rowspan=\"2\" valign=\"top\">C1</th>\n",
       "      <th>D0</th>\n",
       "      <td>200</td>\n",
       "      <td>202</td>\n",
       "    </tr>\n",
       "    <tr>\n",
       "      <th>D1</th>\n",
       "      <td>204</td>\n",
       "      <td>206</td>\n",
       "    </tr>\n",
       "    <tr>\n",
       "      <th rowspan=\"2\" valign=\"top\">C3</th>\n",
       "      <th>D0</th>\n",
       "      <td>216</td>\n",
       "      <td>218</td>\n",
       "    </tr>\n",
       "    <tr>\n",
       "      <th>D1</th>\n",
       "      <td>220</td>\n",
       "      <td>222</td>\n",
       "    </tr>\n",
       "    <tr>\n",
       "      <th rowspan=\"4\" valign=\"top\">B1</th>\n",
       "      <th rowspan=\"2\" valign=\"top\">C1</th>\n",
       "      <th>D0</th>\n",
       "      <td>232</td>\n",
       "      <td>234</td>\n",
       "    </tr>\n",
       "    <tr>\n",
       "      <th>D1</th>\n",
       "      <td>236</td>\n",
       "      <td>238</td>\n",
       "    </tr>\n",
       "    <tr>\n",
       "      <th rowspan=\"2\" valign=\"top\">C3</th>\n",
       "      <th>D0</th>\n",
       "      <td>248</td>\n",
       "      <td>250</td>\n",
       "    </tr>\n",
       "    <tr>\n",
       "      <th>D1</th>\n",
       "      <td>252</td>\n",
       "      <td>254</td>\n",
       "    </tr>\n",
       "  </tbody>\n",
       "</table>\n",
       "</div>"
      ],
      "text/plain": [
       "lvl0           a    b\n",
       "lvl1         foo  foo\n",
       "A0 B0 C1 D0    8   10\n",
       "         D1   12   14\n",
       "      C3 D0   24   26\n",
       "         D1   28   30\n",
       "   B1 C1 D0   40   42\n",
       "         D1   44   46\n",
       "      C3 D0   56   58\n",
       "         D1   60   62\n",
       "A1 B0 C1 D0   72   74\n",
       "         D1   76   78\n",
       "      C3 D0   88   90\n",
       "         D1   92   94\n",
       "   B1 C1 D0  104  106\n",
       "         D1  108  110\n",
       "      C3 D0  120  122\n",
       "         D1  124  126\n",
       "A2 B0 C1 D0  136  138\n",
       "         D1  140  142\n",
       "      C3 D0  152  154\n",
       "         D1  156  158\n",
       "   B1 C1 D0  168  170\n",
       "         D1  172  174\n",
       "      C3 D0  184  186\n",
       "         D1  188  190\n",
       "A3 B0 C1 D0  200  202\n",
       "         D1  204  206\n",
       "      C3 D0  216  218\n",
       "         D1  220  222\n",
       "   B1 C1 D0  232  234\n",
       "         D1  236  238\n",
       "      C3 D0  248  250\n",
       "         D1  252  254"
      ]
     },
     "metadata": {},
     "output_type": "display_data"
    }
   ],
   "source": [
    "z(dfmi.loc[a, b])"
   ]
  },
  {
   "cell_type": "code",
   "execution_count": 135,
   "metadata": {},
   "outputs": [
    {
     "name": "stdout",
     "output_type": "stream",
     "text": [
      "----------------------------------------\n",
      "Type: <class 'pandas.core.series.Series'>\n",
      "Length: 64\n"
     ]
    },
    {
     "data": {
      "text/plain": [
       "A0  B0  C0  D0      0\n",
       "            D1      4\n",
       "        C1  D0      8\n",
       "            D1     12\n",
       "        C2  D0     16\n",
       "                 ... \n",
       "A3  B1  C1  D1    236\n",
       "        C2  D0    240\n",
       "            D1    244\n",
       "        C3  D0    248\n",
       "            D1    252\n",
       "Name: (a, foo), Length: 64, dtype: int32"
      ]
     },
     "metadata": {},
     "output_type": "display_data"
    },
    {
     "name": "stdout",
     "output_type": "stream",
     "text": [
      "----------------------------------------\n",
      "Type: <class 'pandas.core.series.Series'>\n",
      "Length: 64\n"
     ]
    },
    {
     "data": {
      "text/plain": [
       "A0  B0  C0  D0    False\n",
       "            D1    False\n",
       "        C1  D0    False\n",
       "            D1    False\n",
       "        C2  D0    False\n",
       "                  ...  \n",
       "A3  B1  C1  D1     True\n",
       "        C2  D0     True\n",
       "            D1     True\n",
       "        C3  D0     True\n",
       "            D1     True\n",
       "Name: (a, foo), Length: 64, dtype: bool"
      ]
     },
     "metadata": {},
     "output_type": "display_data"
    }
   ],
   "source": [
    "a = dfmi[('a', 'foo')]\n",
    "b = a > 200\n",
    "z(a, b)"
   ]
  },
  {
   "cell_type": "code",
   "execution_count": 132,
   "metadata": {},
   "outputs": [
    {
     "name": "stdout",
     "output_type": "stream",
     "text": [
      "----------------------------------------\n",
      "Type: <class 'pandas.core.series.Series'>\n",
      "Length: 64\n"
     ]
    },
    {
     "data": {
      "text/plain": [
       "A0  B0  C0  D0      0\n",
       "            D1      4\n",
       "        C1  D0      8\n",
       "            D1     12\n",
       "        C2  D0     16\n",
       "                 ... \n",
       "A3  B1  C1  D1    236\n",
       "        C2  D0    240\n",
       "            D1    244\n",
       "        C3  D0    248\n",
       "            D1    252\n",
       "Name: (a, foo), Length: 64, dtype: int32"
      ]
     },
     "metadata": {},
     "output_type": "display_data"
    }
   ],
   "source": [
    "b = dfmi[[('a', 'foo')]].squeezeueeze()\n",
    "z(b)"
   ]
  },
  {
   "cell_type": "code",
   "execution_count": 133,
   "metadata": {},
   "outputs": [
    {
     "data": {
      "text/plain": [
       "True"
      ]
     },
     "execution_count": 133,
     "metadata": {},
     "output_type": "execute_result"
    }
   ],
   "source": [
    "all(a == b)"
   ]
  },
  {
   "cell_type": "code",
   "execution_count": 134,
   "metadata": {},
   "outputs": [
    {
     "data": {
      "text/plain": [
       "A0  B0  C0  D0    True\n",
       "            D1    True\n",
       "        C1  D0    True\n",
       "            D1    True\n",
       "        C2  D0    True\n",
       "                  ... \n",
       "A3  B1  C1  D1    True\n",
       "        C2  D0    True\n",
       "            D1    True\n",
       "        C3  D0    True\n",
       "            D1    True\n",
       "Name: (a, foo), Length: 64, dtype: bool"
      ]
     },
     "execution_count": 134,
     "metadata": {},
     "output_type": "execute_result"
    }
   ],
   "source": [
    "a == b"
   ]
  },
  {
   "cell_type": "code",
   "execution_count": 136,
   "metadata": {},
   "outputs": [
    {
     "data": {
      "text/html": [
       "<div>\n",
       "<style scoped>\n",
       "    .dataframe tbody tr th:only-of-type {\n",
       "        vertical-align: middle;\n",
       "    }\n",
       "\n",
       "    .dataframe tbody tr th {\n",
       "        vertical-align: top;\n",
       "    }\n",
       "\n",
       "    .dataframe thead tr th {\n",
       "        text-align: left;\n",
       "    }\n",
       "</style>\n",
       "<table border=\"1\" class=\"dataframe\">\n",
       "  <thead>\n",
       "    <tr>\n",
       "      <th></th>\n",
       "      <th></th>\n",
       "      <th></th>\n",
       "      <th>lvl0</th>\n",
       "      <th>a</th>\n",
       "      <th>b</th>\n",
       "    </tr>\n",
       "    <tr>\n",
       "      <th></th>\n",
       "      <th></th>\n",
       "      <th></th>\n",
       "      <th>lvl1</th>\n",
       "      <th>foo</th>\n",
       "      <th>foo</th>\n",
       "    </tr>\n",
       "  </thead>\n",
       "  <tbody>\n",
       "    <tr>\n",
       "      <th rowspan=\"7\" valign=\"top\">A3</th>\n",
       "      <th rowspan=\"3\" valign=\"top\">B0</th>\n",
       "      <th>C1</th>\n",
       "      <th>D1</th>\n",
       "      <td>204</td>\n",
       "      <td>206</td>\n",
       "    </tr>\n",
       "    <tr>\n",
       "      <th rowspan=\"2\" valign=\"top\">C3</th>\n",
       "      <th>D0</th>\n",
       "      <td>216</td>\n",
       "      <td>218</td>\n",
       "    </tr>\n",
       "    <tr>\n",
       "      <th>D1</th>\n",
       "      <td>220</td>\n",
       "      <td>222</td>\n",
       "    </tr>\n",
       "    <tr>\n",
       "      <th rowspan=\"4\" valign=\"top\">B1</th>\n",
       "      <th rowspan=\"2\" valign=\"top\">C1</th>\n",
       "      <th>D0</th>\n",
       "      <td>232</td>\n",
       "      <td>234</td>\n",
       "    </tr>\n",
       "    <tr>\n",
       "      <th>D1</th>\n",
       "      <td>236</td>\n",
       "      <td>238</td>\n",
       "    </tr>\n",
       "    <tr>\n",
       "      <th rowspan=\"2\" valign=\"top\">C3</th>\n",
       "      <th>D0</th>\n",
       "      <td>248</td>\n",
       "      <td>250</td>\n",
       "    </tr>\n",
       "    <tr>\n",
       "      <th>D1</th>\n",
       "      <td>252</td>\n",
       "      <td>254</td>\n",
       "    </tr>\n",
       "  </tbody>\n",
       "</table>\n",
       "</div>"
      ],
      "text/plain": [
       "lvl0           a    b\n",
       "lvl1         foo  foo\n",
       "A3 B0 C1 D1  204  206\n",
       "      C3 D0  216  218\n",
       "         D1  220  222\n",
       "   B1 C1 D0  232  234\n",
       "         D1  236  238\n",
       "      C3 D0  248  250\n",
       "         D1  252  254"
      ]
     },
     "execution_count": 136,
     "metadata": {},
     "output_type": "execute_result"
    }
   ],
   "source": [
    "mask = dfmi[('a', 'foo')] > 200\n",
    "dfmi.loc[idx[mask, :, ['C1', 'C3']], idx[:, 'foo']]"
   ]
  },
  {
   "cell_type": "code",
   "execution_count": 137,
   "metadata": {},
   "outputs": [
    {
     "data": {
      "text/html": [
       "<div>\n",
       "<style scoped>\n",
       "    .dataframe tbody tr th:only-of-type {\n",
       "        vertical-align: middle;\n",
       "    }\n",
       "\n",
       "    .dataframe tbody tr th {\n",
       "        vertical-align: top;\n",
       "    }\n",
       "\n",
       "    .dataframe thead th {\n",
       "        text-align: right;\n",
       "    }\n",
       "</style>\n",
       "<table border=\"1\" class=\"dataframe\">\n",
       "  <thead>\n",
       "    <tr style=\"text-align: right;\">\n",
       "      <th></th>\n",
       "      <th></th>\n",
       "      <th>A</th>\n",
       "      <th>B</th>\n",
       "      <th>C</th>\n",
       "    </tr>\n",
       "    <tr>\n",
       "      <th>first</th>\n",
       "      <th>second</th>\n",
       "      <th></th>\n",
       "      <th></th>\n",
       "      <th></th>\n",
       "    </tr>\n",
       "  </thead>\n",
       "  <tbody>\n",
       "    <tr>\n",
       "      <th rowspan=\"2\" valign=\"top\">bar</th>\n",
       "      <th>one</th>\n",
       "      <td>0.023382</td>\n",
       "      <td>-0.810641</td>\n",
       "      <td>-0.072366</td>\n",
       "    </tr>\n",
       "    <tr>\n",
       "      <th>two</th>\n",
       "      <td>0.577120</td>\n",
       "      <td>0.367707</td>\n",
       "      <td>-0.249330</td>\n",
       "    </tr>\n",
       "    <tr>\n",
       "      <th rowspan=\"2\" valign=\"top\">baz</th>\n",
       "      <th>one</th>\n",
       "      <td>0.771476</td>\n",
       "      <td>0.492949</td>\n",
       "      <td>-3.506486</td>\n",
       "    </tr>\n",
       "    <tr>\n",
       "      <th>two</th>\n",
       "      <td>0.085153</td>\n",
       "      <td>0.288856</td>\n",
       "      <td>-0.072703</td>\n",
       "    </tr>\n",
       "    <tr>\n",
       "      <th rowspan=\"2\" valign=\"top\">foo</th>\n",
       "      <th>one</th>\n",
       "      <td>0.708879</td>\n",
       "      <td>0.803745</td>\n",
       "      <td>0.478583</td>\n",
       "    </tr>\n",
       "    <tr>\n",
       "      <th>two</th>\n",
       "      <td>-0.323803</td>\n",
       "      <td>0.490196</td>\n",
       "      <td>1.650921</td>\n",
       "    </tr>\n",
       "    <tr>\n",
       "      <th rowspan=\"2\" valign=\"top\">qux</th>\n",
       "      <th>one</th>\n",
       "      <td>0.368654</td>\n",
       "      <td>0.421637</td>\n",
       "      <td>0.587227</td>\n",
       "    </tr>\n",
       "    <tr>\n",
       "      <th>two</th>\n",
       "      <td>0.811713</td>\n",
       "      <td>0.766480</td>\n",
       "      <td>0.140359</td>\n",
       "    </tr>\n",
       "  </tbody>\n",
       "</table>\n",
       "</div>"
      ],
      "text/plain": [
       "                     A         B         C\n",
       "first second                              \n",
       "bar   one     0.023382 -0.810641 -0.072366\n",
       "      two     0.577120  0.367707 -0.249330\n",
       "baz   one     0.771476  0.492949 -3.506486\n",
       "      two     0.085153  0.288856 -0.072703\n",
       "foo   one     0.708879  0.803745  0.478583\n",
       "      two    -0.323803  0.490196  1.650921\n",
       "qux   one     0.368654  0.421637  0.587227\n",
       "      two     0.811713  0.766480  0.140359"
      ]
     },
     "execution_count": 137,
     "metadata": {},
     "output_type": "execute_result"
    }
   ],
   "source": [
    "df"
   ]
  },
  {
   "cell_type": "code",
   "execution_count": 138,
   "metadata": {},
   "outputs": [
    {
     "data": {
      "text/html": [
       "<div>\n",
       "<style scoped>\n",
       "    .dataframe tbody tr th:only-of-type {\n",
       "        vertical-align: middle;\n",
       "    }\n",
       "\n",
       "    .dataframe tbody tr th {\n",
       "        vertical-align: top;\n",
       "    }\n",
       "\n",
       "    .dataframe thead th {\n",
       "        text-align: right;\n",
       "    }\n",
       "</style>\n",
       "<table border=\"1\" class=\"dataframe\">\n",
       "  <thead>\n",
       "    <tr style=\"text-align: right;\">\n",
       "      <th></th>\n",
       "      <th>A</th>\n",
       "      <th>B</th>\n",
       "      <th>C</th>\n",
       "    </tr>\n",
       "    <tr>\n",
       "      <th>first</th>\n",
       "      <th></th>\n",
       "      <th></th>\n",
       "      <th></th>\n",
       "    </tr>\n",
       "  </thead>\n",
       "  <tbody>\n",
       "    <tr>\n",
       "      <th>bar</th>\n",
       "      <td>0.023382</td>\n",
       "      <td>-0.810641</td>\n",
       "      <td>-0.072366</td>\n",
       "    </tr>\n",
       "    <tr>\n",
       "      <th>baz</th>\n",
       "      <td>0.771476</td>\n",
       "      <td>0.492949</td>\n",
       "      <td>-3.506486</td>\n",
       "    </tr>\n",
       "    <tr>\n",
       "      <th>foo</th>\n",
       "      <td>0.708879</td>\n",
       "      <td>0.803745</td>\n",
       "      <td>0.478583</td>\n",
       "    </tr>\n",
       "    <tr>\n",
       "      <th>qux</th>\n",
       "      <td>0.368654</td>\n",
       "      <td>0.421637</td>\n",
       "      <td>0.587227</td>\n",
       "    </tr>\n",
       "  </tbody>\n",
       "</table>\n",
       "</div>"
      ],
      "text/plain": [
       "              A         B         C\n",
       "first                              \n",
       "bar    0.023382 -0.810641 -0.072366\n",
       "baz    0.771476  0.492949 -3.506486\n",
       "foo    0.708879  0.803745  0.478583\n",
       "qux    0.368654  0.421637  0.587227"
      ]
     },
     "execution_count": 138,
     "metadata": {},
     "output_type": "execute_result"
    }
   ],
   "source": [
    "df.xs('one', level='second')"
   ]
  },
  {
   "cell_type": "code",
   "execution_count": 139,
   "metadata": {},
   "outputs": [
    {
     "data": {
      "text/html": [
       "<div>\n",
       "<style scoped>\n",
       "    .dataframe tbody tr th:only-of-type {\n",
       "        vertical-align: middle;\n",
       "    }\n",
       "\n",
       "    .dataframe tbody tr th {\n",
       "        vertical-align: top;\n",
       "    }\n",
       "\n",
       "    .dataframe thead th {\n",
       "        text-align: right;\n",
       "    }\n",
       "</style>\n",
       "<table border=\"1\" class=\"dataframe\">\n",
       "  <thead>\n",
       "    <tr style=\"text-align: right;\">\n",
       "      <th></th>\n",
       "      <th></th>\n",
       "      <th>A</th>\n",
       "      <th>B</th>\n",
       "      <th>C</th>\n",
       "    </tr>\n",
       "    <tr>\n",
       "      <th>first</th>\n",
       "      <th>second</th>\n",
       "      <th></th>\n",
       "      <th></th>\n",
       "      <th></th>\n",
       "    </tr>\n",
       "  </thead>\n",
       "  <tbody>\n",
       "    <tr>\n",
       "      <th>bar</th>\n",
       "      <th>one</th>\n",
       "      <td>0.023382</td>\n",
       "      <td>-0.810641</td>\n",
       "      <td>-0.072366</td>\n",
       "    </tr>\n",
       "    <tr>\n",
       "      <th>baz</th>\n",
       "      <th>one</th>\n",
       "      <td>0.771476</td>\n",
       "      <td>0.492949</td>\n",
       "      <td>-3.506486</td>\n",
       "    </tr>\n",
       "    <tr>\n",
       "      <th>foo</th>\n",
       "      <th>one</th>\n",
       "      <td>0.708879</td>\n",
       "      <td>0.803745</td>\n",
       "      <td>0.478583</td>\n",
       "    </tr>\n",
       "    <tr>\n",
       "      <th>qux</th>\n",
       "      <th>one</th>\n",
       "      <td>0.368654</td>\n",
       "      <td>0.421637</td>\n",
       "      <td>0.587227</td>\n",
       "    </tr>\n",
       "  </tbody>\n",
       "</table>\n",
       "</div>"
      ],
      "text/plain": [
       "                     A         B         C\n",
       "first second                              \n",
       "bar   one     0.023382 -0.810641 -0.072366\n",
       "baz   one     0.771476  0.492949 -3.506486\n",
       "foo   one     0.708879  0.803745  0.478583\n",
       "qux   one     0.368654  0.421637  0.587227"
      ]
     },
     "execution_count": 139,
     "metadata": {},
     "output_type": "execute_result"
    }
   ],
   "source": [
    "df.loc[(slice(None), 'one'), :]"
   ]
  },
  {
   "cell_type": "code",
   "execution_count": 140,
   "metadata": {},
   "outputs": [
    {
     "data": {
      "text/html": [
       "<div>\n",
       "<style scoped>\n",
       "    .dataframe tbody tr th:only-of-type {\n",
       "        vertical-align: middle;\n",
       "    }\n",
       "\n",
       "    .dataframe tbody tr th {\n",
       "        vertical-align: top;\n",
       "    }\n",
       "\n",
       "    .dataframe thead tr th {\n",
       "        text-align: left;\n",
       "    }\n",
       "</style>\n",
       "<table border=\"1\" class=\"dataframe\">\n",
       "  <thead>\n",
       "    <tr>\n",
       "      <th>first</th>\n",
       "      <th colspan=\"2\" halign=\"left\">bar</th>\n",
       "      <th colspan=\"2\" halign=\"left\">baz</th>\n",
       "      <th colspan=\"2\" halign=\"left\">foo</th>\n",
       "      <th colspan=\"2\" halign=\"left\">qux</th>\n",
       "    </tr>\n",
       "    <tr>\n",
       "      <th>second</th>\n",
       "      <th>one</th>\n",
       "      <th>two</th>\n",
       "      <th>one</th>\n",
       "      <th>two</th>\n",
       "      <th>one</th>\n",
       "      <th>two</th>\n",
       "      <th>one</th>\n",
       "      <th>two</th>\n",
       "    </tr>\n",
       "  </thead>\n",
       "  <tbody>\n",
       "    <tr>\n",
       "      <th>A</th>\n",
       "      <td>0.023382</td>\n",
       "      <td>0.577120</td>\n",
       "      <td>0.771476</td>\n",
       "      <td>0.085153</td>\n",
       "      <td>0.708879</td>\n",
       "      <td>-0.323803</td>\n",
       "      <td>0.368654</td>\n",
       "      <td>0.811713</td>\n",
       "    </tr>\n",
       "    <tr>\n",
       "      <th>B</th>\n",
       "      <td>-0.810641</td>\n",
       "      <td>0.367707</td>\n",
       "      <td>0.492949</td>\n",
       "      <td>0.288856</td>\n",
       "      <td>0.803745</td>\n",
       "      <td>0.490196</td>\n",
       "      <td>0.421637</td>\n",
       "      <td>0.766480</td>\n",
       "    </tr>\n",
       "    <tr>\n",
       "      <th>C</th>\n",
       "      <td>-0.072366</td>\n",
       "      <td>-0.249330</td>\n",
       "      <td>-3.506486</td>\n",
       "      <td>-0.072703</td>\n",
       "      <td>0.478583</td>\n",
       "      <td>1.650921</td>\n",
       "      <td>0.587227</td>\n",
       "      <td>0.140359</td>\n",
       "    </tr>\n",
       "  </tbody>\n",
       "</table>\n",
       "</div>"
      ],
      "text/plain": [
       "first        bar                 baz                 foo                 qux  \\\n",
       "second       one       two       one       two       one       two       one   \n",
       "A       0.023382  0.577120  0.771476  0.085153  0.708879 -0.323803  0.368654   \n",
       "B      -0.810641  0.367707  0.492949  0.288856  0.803745  0.490196  0.421637   \n",
       "C      -0.072366 -0.249330 -3.506486 -0.072703  0.478583  1.650921  0.587227   \n",
       "\n",
       "first             \n",
       "second       two  \n",
       "A       0.811713  \n",
       "B       0.766480  \n",
       "C       0.140359  "
      ]
     },
     "execution_count": 140,
     "metadata": {},
     "output_type": "execute_result"
    }
   ],
   "source": [
    " df = df.T"
   ]
  },
  {
   "cell_type": "code",
   "execution_count": 141,
   "metadata": {},
   "outputs": [
    {
     "data": {
      "text/html": [
       "<div>\n",
       "<style scoped>\n",
       "    .dataframe tbody tr th:only-of-type {\n",
       "        vertical-align: middle;\n",
       "    }\n",
       "\n",
       "    .dataframe tbody tr th {\n",
       "        vertical-align: top;\n",
       "    }\n",
       "\n",
       "    .dataframe thead th {\n",
       "        text-align: right;\n",
       "    }\n",
       "</style>\n",
       "<table border=\"1\" class=\"dataframe\">\n",
       "  <thead>\n",
       "    <tr style=\"text-align: right;\">\n",
       "      <th>first</th>\n",
       "      <th>bar</th>\n",
       "      <th>baz</th>\n",
       "      <th>foo</th>\n",
       "      <th>qux</th>\n",
       "    </tr>\n",
       "  </thead>\n",
       "  <tbody>\n",
       "    <tr>\n",
       "      <th>A</th>\n",
       "      <td>0.023382</td>\n",
       "      <td>0.771476</td>\n",
       "      <td>0.708879</td>\n",
       "      <td>0.368654</td>\n",
       "    </tr>\n",
       "    <tr>\n",
       "      <th>B</th>\n",
       "      <td>-0.810641</td>\n",
       "      <td>0.492949</td>\n",
       "      <td>0.803745</td>\n",
       "      <td>0.421637</td>\n",
       "    </tr>\n",
       "    <tr>\n",
       "      <th>C</th>\n",
       "      <td>-0.072366</td>\n",
       "      <td>-3.506486</td>\n",
       "      <td>0.478583</td>\n",
       "      <td>0.587227</td>\n",
       "    </tr>\n",
       "  </tbody>\n",
       "</table>\n",
       "</div>"
      ],
      "text/plain": [
       "first       bar       baz       foo       qux\n",
       "A      0.023382  0.771476  0.708879  0.368654\n",
       "B     -0.810641  0.492949  0.803745  0.421637\n",
       "C     -0.072366 -3.506486  0.478583  0.587227"
      ]
     },
     "execution_count": 141,
     "metadata": {},
     "output_type": "execute_result"
    }
   ],
   "source": [
    "df.xs('one', level='second', axis=1)"
   ]
  },
  {
   "cell_type": "code",
   "execution_count": 142,
   "metadata": {},
   "outputs": [
    {
     "data": {
      "text/html": [
       "<div>\n",
       "<style scoped>\n",
       "    .dataframe tbody tr th:only-of-type {\n",
       "        vertical-align: middle;\n",
       "    }\n",
       "\n",
       "    .dataframe tbody tr th {\n",
       "        vertical-align: top;\n",
       "    }\n",
       "\n",
       "    .dataframe thead tr th {\n",
       "        text-align: left;\n",
       "    }\n",
       "</style>\n",
       "<table border=\"1\" class=\"dataframe\">\n",
       "  <thead>\n",
       "    <tr>\n",
       "      <th>first</th>\n",
       "      <th>bar</th>\n",
       "      <th>baz</th>\n",
       "      <th>foo</th>\n",
       "      <th>qux</th>\n",
       "    </tr>\n",
       "    <tr>\n",
       "      <th>second</th>\n",
       "      <th>one</th>\n",
       "      <th>one</th>\n",
       "      <th>one</th>\n",
       "      <th>one</th>\n",
       "    </tr>\n",
       "  </thead>\n",
       "  <tbody>\n",
       "    <tr>\n",
       "      <th>A</th>\n",
       "      <td>0.023382</td>\n",
       "      <td>0.771476</td>\n",
       "      <td>0.708879</td>\n",
       "      <td>0.368654</td>\n",
       "    </tr>\n",
       "    <tr>\n",
       "      <th>B</th>\n",
       "      <td>-0.810641</td>\n",
       "      <td>0.492949</td>\n",
       "      <td>0.803745</td>\n",
       "      <td>0.421637</td>\n",
       "    </tr>\n",
       "    <tr>\n",
       "      <th>C</th>\n",
       "      <td>-0.072366</td>\n",
       "      <td>-3.506486</td>\n",
       "      <td>0.478583</td>\n",
       "      <td>0.587227</td>\n",
       "    </tr>\n",
       "  </tbody>\n",
       "</table>\n",
       "</div>"
      ],
      "text/plain": [
       "first        bar       baz       foo       qux\n",
       "second       one       one       one       one\n",
       "A       0.023382  0.771476  0.708879  0.368654\n",
       "B      -0.810641  0.492949  0.803745  0.421637\n",
       "C      -0.072366 -3.506486  0.478583  0.587227"
      ]
     },
     "execution_count": 142,
     "metadata": {},
     "output_type": "execute_result"
    }
   ],
   "source": [
    "df.loc[:, (slice(None), 'one')]"
   ]
  },
  {
   "cell_type": "code",
   "execution_count": 143,
   "metadata": {},
   "outputs": [
    {
     "data": {
      "text/html": [
       "<div>\n",
       "<style scoped>\n",
       "    .dataframe tbody tr th:only-of-type {\n",
       "        vertical-align: middle;\n",
       "    }\n",
       "\n",
       "    .dataframe tbody tr th {\n",
       "        vertical-align: top;\n",
       "    }\n",
       "\n",
       "    .dataframe thead tr th {\n",
       "        text-align: left;\n",
       "    }\n",
       "</style>\n",
       "<table border=\"1\" class=\"dataframe\">\n",
       "  <thead>\n",
       "    <tr>\n",
       "      <th>first</th>\n",
       "      <th>bar</th>\n",
       "    </tr>\n",
       "    <tr>\n",
       "      <th>second</th>\n",
       "      <th>one</th>\n",
       "    </tr>\n",
       "  </thead>\n",
       "  <tbody>\n",
       "    <tr>\n",
       "      <th>A</th>\n",
       "      <td>0.023382</td>\n",
       "    </tr>\n",
       "    <tr>\n",
       "      <th>B</th>\n",
       "      <td>-0.810641</td>\n",
       "    </tr>\n",
       "    <tr>\n",
       "      <th>C</th>\n",
       "      <td>-0.072366</td>\n",
       "    </tr>\n",
       "  </tbody>\n",
       "</table>\n",
       "</div>"
      ],
      "text/plain": [
       "first        bar\n",
       "second       one\n",
       "A       0.023382\n",
       "B      -0.810641\n",
       "C      -0.072366"
      ]
     },
     "execution_count": 143,
     "metadata": {},
     "output_type": "execute_result"
    }
   ],
   "source": [
    "df.xs(('one', 'bar'), level=('second', 'first'), axis=1)"
   ]
  },
  {
   "cell_type": "code",
   "execution_count": 144,
   "metadata": {},
   "outputs": [
    {
     "data": {
      "text/plain": [
       "MultiIndex([( 'one', 'y'),\n",
       "            ( 'one', 'x'),\n",
       "            ('zero', 'y'),\n",
       "            ('zero', 'x')],\n",
       "           )"
      ]
     },
     "execution_count": 144,
     "metadata": {},
     "output_type": "execute_result"
    }
   ],
   "source": [
    "midx = pd.MultiIndex(levels=[['zero', 'one'], ['x', 'y']],\n",
    "                     codes=[[1, 1, 0, 0], [1, 0, 1, 0]])"
   ]
  },
  {
   "cell_type": "code",
   "execution_count": 145,
   "metadata": {},
   "outputs": [
    {
     "data": {
      "text/html": [
       "<div>\n",
       "<style scoped>\n",
       "    .dataframe tbody tr th:only-of-type {\n",
       "        vertical-align: middle;\n",
       "    }\n",
       "\n",
       "    .dataframe tbody tr th {\n",
       "        vertical-align: top;\n",
       "    }\n",
       "\n",
       "    .dataframe thead th {\n",
       "        text-align: right;\n",
       "    }\n",
       "</style>\n",
       "<table border=\"1\" class=\"dataframe\">\n",
       "  <thead>\n",
       "    <tr style=\"text-align: right;\">\n",
       "      <th></th>\n",
       "      <th></th>\n",
       "      <th>0</th>\n",
       "      <th>1</th>\n",
       "    </tr>\n",
       "  </thead>\n",
       "  <tbody>\n",
       "    <tr>\n",
       "      <th rowspan=\"2\" valign=\"top\">one</th>\n",
       "      <th>y</th>\n",
       "      <td>-1.162930</td>\n",
       "      <td>0.506697</td>\n",
       "    </tr>\n",
       "    <tr>\n",
       "      <th>x</th>\n",
       "      <td>0.397774</td>\n",
       "      <td>-0.544504</td>\n",
       "    </tr>\n",
       "    <tr>\n",
       "      <th rowspan=\"2\" valign=\"top\">zero</th>\n",
       "      <th>y</th>\n",
       "      <td>-0.047016</td>\n",
       "      <td>-1.503108</td>\n",
       "    </tr>\n",
       "    <tr>\n",
       "      <th>x</th>\n",
       "      <td>0.825291</td>\n",
       "      <td>1.199333</td>\n",
       "    </tr>\n",
       "  </tbody>\n",
       "</table>\n",
       "</div>"
      ],
      "text/plain": [
       "               0         1\n",
       "one  y -1.162930  0.506697\n",
       "     x  0.397774 -0.544504\n",
       "zero y -0.047016 -1.503108\n",
       "     x  0.825291  1.199333"
      ]
     },
     "execution_count": 145,
     "metadata": {},
     "output_type": "execute_result"
    }
   ],
   "source": [
    "df = pd.DataFrame(np.random.randn(4, 2), index=midx)"
   ]
  },
  {
   "cell_type": "code",
   "execution_count": 146,
   "metadata": {},
   "outputs": [
    {
     "data": {
      "text/html": [
       "<div>\n",
       "<style scoped>\n",
       "    .dataframe tbody tr th:only-of-type {\n",
       "        vertical-align: middle;\n",
       "    }\n",
       "\n",
       "    .dataframe tbody tr th {\n",
       "        vertical-align: top;\n",
       "    }\n",
       "\n",
       "    .dataframe thead th {\n",
       "        text-align: right;\n",
       "    }\n",
       "</style>\n",
       "<table border=\"1\" class=\"dataframe\">\n",
       "  <thead>\n",
       "    <tr style=\"text-align: right;\">\n",
       "      <th></th>\n",
       "      <th>0</th>\n",
       "      <th>1</th>\n",
       "    </tr>\n",
       "  </thead>\n",
       "  <tbody>\n",
       "    <tr>\n",
       "      <th>one</th>\n",
       "      <td>-0.382578</td>\n",
       "      <td>-0.018903</td>\n",
       "    </tr>\n",
       "    <tr>\n",
       "      <th>zero</th>\n",
       "      <td>0.389137</td>\n",
       "      <td>-0.151887</td>\n",
       "    </tr>\n",
       "  </tbody>\n",
       "</table>\n",
       "</div>"
      ],
      "text/plain": [
       "             0         1\n",
       "one  -0.382578 -0.018903\n",
       "zero  0.389137 -0.151887"
      ]
     },
     "execution_count": 146,
     "metadata": {},
     "output_type": "execute_result"
    }
   ],
   "source": [
    "df2 = df.mean(level=0)"
   ]
  },
  {
   "cell_type": "code",
   "execution_count": 147,
   "metadata": {},
   "outputs": [
    {
     "data": {
      "text/plain": [
       "MultiIndex([(1, 'a'),\n",
       "            (1, 'b'),\n",
       "            (2, 'a'),\n",
       "            (2, 'b')],\n",
       "           names=['x', 'y'])"
      ]
     },
     "execution_count": 147,
     "metadata": {},
     "output_type": "execute_result"
    }
   ],
   "source": [
    "mi = pd.MultiIndex.from_product([[1, 2], ['a', 'b']], names=['x', 'y'])"
   ]
  },
  {
   "cell_type": "code",
   "execution_count": 148,
   "metadata": {},
   "outputs": [
    {
     "data": {
      "text/plain": [
       "FrozenList(['x', 'y'])"
      ]
     },
     "execution_count": 148,
     "metadata": {},
     "output_type": "execute_result"
    }
   ],
   "source": [
    " mi.names"
   ]
  },
  {
   "cell_type": "code",
   "execution_count": 149,
   "metadata": {},
   "outputs": [
    {
     "data": {
      "text/plain": [
       "MultiIndex([(1, 'a'),\n",
       "            (1, 'b'),\n",
       "            (2, 'a'),\n",
       "            (2, 'b')],\n",
       "           names=['new name', 'y'])"
      ]
     },
     "execution_count": 149,
     "metadata": {},
     "output_type": "execute_result"
    }
   ],
   "source": [
    " mi2 = mi.rename(\"new name\", level=0)"
   ]
  },
  {
   "cell_type": "code",
   "execution_count": 150,
   "metadata": {},
   "outputs": [],
   "source": [
    "import random"
   ]
  },
  {
   "cell_type": "code",
   "execution_count": 151,
   "metadata": {},
   "outputs": [
    {
     "data": {
      "text/plain": [
       "[('bar', 'one'),\n",
       " ('bar', 'two'),\n",
       " ('baz', 'one'),\n",
       " ('baz', 'two'),\n",
       " ('foo', 'one'),\n",
       " ('foo', 'two'),\n",
       " ('qux', 'one'),\n",
       " ('qux', 'two')]"
      ]
     },
     "execution_count": 151,
     "metadata": {},
     "output_type": "execute_result"
    }
   ],
   "source": [
    "tuples"
   ]
  },
  {
   "cell_type": "code",
   "execution_count": 152,
   "metadata": {},
   "outputs": [],
   "source": [
    "random.shuffle(tuples)"
   ]
  },
  {
   "cell_type": "code",
   "execution_count": 153,
   "metadata": {},
   "outputs": [
    {
     "data": {
      "text/plain": [
       "[('foo', 'two'),\n",
       " ('qux', 'two'),\n",
       " ('foo', 'one'),\n",
       " ('qux', 'one'),\n",
       " ('baz', 'two'),\n",
       " ('bar', 'one'),\n",
       " ('baz', 'one'),\n",
       " ('bar', 'two')]"
      ]
     },
     "execution_count": 153,
     "metadata": {},
     "output_type": "execute_result"
    }
   ],
   "source": [
    "tuples"
   ]
  },
  {
   "cell_type": "code",
   "execution_count": 154,
   "metadata": {},
   "outputs": [
    {
     "data": {
      "text/plain": [
       "foo  two    0.472688\n",
       "qux  two   -0.010784\n",
       "foo  one    0.211145\n",
       "qux  one   -1.197655\n",
       "baz  two   -1.093613\n",
       "bar  one   -0.563297\n",
       "baz  one   -0.320092\n",
       "bar  two    1.049932\n",
       "dtype: float64"
      ]
     },
     "execution_count": 154,
     "metadata": {},
     "output_type": "execute_result"
    }
   ],
   "source": [
    "s = pd.Series(np.random.randn(8), index=pd.MultiIndex.from_tuples(tuples))"
   ]
  },
  {
   "cell_type": "code",
   "execution_count": 155,
   "metadata": {},
   "outputs": [
    {
     "data": {
      "text/plain": [
       "bar  one   -0.563297\n",
       "     two    1.049932\n",
       "baz  one   -0.320092\n",
       "     two   -1.093613\n",
       "foo  one    0.211145\n",
       "     two    0.472688\n",
       "qux  one   -1.197655\n",
       "     two   -0.010784\n",
       "dtype: float64"
      ]
     },
     "execution_count": 155,
     "metadata": {},
     "output_type": "execute_result"
    }
   ],
   "source": [
    "s.sort_index()"
   ]
  },
  {
   "cell_type": "code",
   "execution_count": 156,
   "metadata": {},
   "outputs": [
    {
     "data": {
      "text/plain": [
       "bar  one   -0.563297\n",
       "     two    1.049932\n",
       "baz  one   -0.320092\n",
       "     two   -1.093613\n",
       "foo  one    0.211145\n",
       "     two    0.472688\n",
       "qux  one   -1.197655\n",
       "     two   -0.010784\n",
       "dtype: float64"
      ]
     },
     "execution_count": 156,
     "metadata": {},
     "output_type": "execute_result"
    }
   ],
   "source": [
    "s.sort_index(level=0)"
   ]
  },
  {
   "cell_type": "code",
   "execution_count": 160,
   "metadata": {},
   "outputs": [
    {
     "data": {
      "text/plain": [
       "bar  two    1.049932\n",
       "baz  two   -1.093613\n",
       "foo  two    0.472688\n",
       "qux  two   -0.010784\n",
       "bar  one   -0.563297\n",
       "baz  one   -0.320092\n",
       "foo  one    0.211145\n",
       "qux  one   -1.197655\n",
       "dtype: float64"
      ]
     },
     "execution_count": 160,
     "metadata": {},
     "output_type": "execute_result"
    }
   ],
   "source": [
    "s.sort_index(level=[1,0], ascending=[False, True])"
   ]
  },
  {
   "cell_type": "code",
   "execution_count": 161,
   "metadata": {},
   "outputs": [],
   "source": [
    "s.index.set_names(['L1', 'L2'], inplace=True)"
   ]
  },
  {
   "cell_type": "code",
   "execution_count": 162,
   "metadata": {},
   "outputs": [
    {
     "data": {
      "text/plain": [
       "L1   L2 \n",
       "foo  two    0.472688\n",
       "qux  two   -0.010784\n",
       "foo  one    0.211145\n",
       "qux  one   -1.197655\n",
       "baz  two   -1.093613\n",
       "bar  one   -0.563297\n",
       "baz  one   -0.320092\n",
       "bar  two    1.049932\n",
       "dtype: float64"
      ]
     },
     "execution_count": 162,
     "metadata": {},
     "output_type": "execute_result"
    }
   ],
   "source": [
    "s"
   ]
  },
  {
   "cell_type": "code",
   "execution_count": 163,
   "metadata": {},
   "outputs": [
    {
     "data": {
      "text/plain": [
       "L1   L2 \n",
       "bar  one   -0.563297\n",
       "     two    1.049932\n",
       "baz  one   -0.320092\n",
       "     two   -1.093613\n",
       "foo  one    0.211145\n",
       "     two    0.472688\n",
       "qux  one   -1.197655\n",
       "     two   -0.010784\n",
       "dtype: float64"
      ]
     },
     "execution_count": 163,
     "metadata": {},
     "output_type": "execute_result"
    }
   ],
   "source": [
    "s.sort_index(level='L1')"
   ]
  },
  {
   "cell_type": "code",
   "execution_count": 165,
   "metadata": {},
   "outputs": [
    {
     "data": {
      "text/html": [
       "<div>\n",
       "<style scoped>\n",
       "    .dataframe tbody tr th:only-of-type {\n",
       "        vertical-align: middle;\n",
       "    }\n",
       "\n",
       "    .dataframe tbody tr th {\n",
       "        vertical-align: top;\n",
       "    }\n",
       "\n",
       "    .dataframe thead tr th {\n",
       "        text-align: left;\n",
       "    }\n",
       "</style>\n",
       "<table border=\"1\" class=\"dataframe\">\n",
       "  <thead>\n",
       "    <tr>\n",
       "      <th></th>\n",
       "      <th colspan=\"2\" halign=\"left\">one</th>\n",
       "      <th colspan=\"2\" halign=\"left\">zero</th>\n",
       "    </tr>\n",
       "    <tr>\n",
       "      <th></th>\n",
       "      <th>y</th>\n",
       "      <th>x</th>\n",
       "      <th>y</th>\n",
       "      <th>x</th>\n",
       "    </tr>\n",
       "  </thead>\n",
       "  <tbody>\n",
       "    <tr>\n",
       "      <th>0</th>\n",
       "      <td>-1.162930</td>\n",
       "      <td>0.397774</td>\n",
       "      <td>-0.047016</td>\n",
       "      <td>0.825291</td>\n",
       "    </tr>\n",
       "    <tr>\n",
       "      <th>1</th>\n",
       "      <td>0.506697</td>\n",
       "      <td>-0.544504</td>\n",
       "      <td>-1.503108</td>\n",
       "      <td>1.199333</td>\n",
       "    </tr>\n",
       "  </tbody>\n",
       "</table>\n",
       "</div>"
      ],
      "text/plain": [
       "        one                zero          \n",
       "          y         x         y         x\n",
       "0 -1.162930  0.397774 -0.047016  0.825291\n",
       "1  0.506697 -0.544504 -1.503108  1.199333"
      ]
     },
     "execution_count": 165,
     "metadata": {},
     "output_type": "execute_result"
    }
   ],
   "source": [
    "a = df.T"
   ]
  },
  {
   "cell_type": "code",
   "execution_count": 166,
   "metadata": {},
   "outputs": [
    {
     "data": {
      "text/html": [
       "<div>\n",
       "<style scoped>\n",
       "    .dataframe tbody tr th:only-of-type {\n",
       "        vertical-align: middle;\n",
       "    }\n",
       "\n",
       "    .dataframe tbody tr th {\n",
       "        vertical-align: top;\n",
       "    }\n",
       "\n",
       "    .dataframe thead tr th {\n",
       "        text-align: left;\n",
       "    }\n",
       "</style>\n",
       "<table border=\"1\" class=\"dataframe\">\n",
       "  <thead>\n",
       "    <tr>\n",
       "      <th></th>\n",
       "      <th>one</th>\n",
       "      <th>zero</th>\n",
       "      <th>one</th>\n",
       "      <th>zero</th>\n",
       "    </tr>\n",
       "    <tr>\n",
       "      <th></th>\n",
       "      <th>x</th>\n",
       "      <th>x</th>\n",
       "      <th>y</th>\n",
       "      <th>y</th>\n",
       "    </tr>\n",
       "  </thead>\n",
       "  <tbody>\n",
       "    <tr>\n",
       "      <th>0</th>\n",
       "      <td>0.397774</td>\n",
       "      <td>0.825291</td>\n",
       "      <td>-1.162930</td>\n",
       "      <td>-0.047016</td>\n",
       "    </tr>\n",
       "    <tr>\n",
       "      <th>1</th>\n",
       "      <td>-0.544504</td>\n",
       "      <td>1.199333</td>\n",
       "      <td>0.506697</td>\n",
       "      <td>-1.503108</td>\n",
       "    </tr>\n",
       "  </tbody>\n",
       "</table>\n",
       "</div>"
      ],
      "text/plain": [
       "        one      zero       one      zero\n",
       "          x         x         y         y\n",
       "0  0.397774  0.825291 -1.162930 -0.047016\n",
       "1 -0.544504  1.199333  0.506697 -1.503108"
      ]
     },
     "execution_count": 166,
     "metadata": {},
     "output_type": "execute_result"
    }
   ],
   "source": [
    "a.sort_index(level=1, axis=1)"
   ]
  },
  {
   "cell_type": "code",
   "execution_count": 167,
   "metadata": {},
   "outputs": [
    {
     "data": {
      "text/html": [
       "<div>\n",
       "<style scoped>\n",
       "    .dataframe tbody tr th:only-of-type {\n",
       "        vertical-align: middle;\n",
       "    }\n",
       "\n",
       "    .dataframe tbody tr th {\n",
       "        vertical-align: top;\n",
       "    }\n",
       "\n",
       "    .dataframe thead th {\n",
       "        text-align: right;\n",
       "    }\n",
       "</style>\n",
       "<table border=\"1\" class=\"dataframe\">\n",
       "  <thead>\n",
       "    <tr style=\"text-align: right;\">\n",
       "      <th></th>\n",
       "      <th>jim</th>\n",
       "      <th>joe</th>\n",
       "      <th>jolie</th>\n",
       "    </tr>\n",
       "  </thead>\n",
       "  <tbody>\n",
       "    <tr>\n",
       "      <th>0</th>\n",
       "      <td>0</td>\n",
       "      <td>x</td>\n",
       "      <td>0.244042</td>\n",
       "    </tr>\n",
       "    <tr>\n",
       "      <th>1</th>\n",
       "      <td>0</td>\n",
       "      <td>x</td>\n",
       "      <td>0.365851</td>\n",
       "    </tr>\n",
       "    <tr>\n",
       "      <th>2</th>\n",
       "      <td>1</td>\n",
       "      <td>z</td>\n",
       "      <td>0.648331</td>\n",
       "    </tr>\n",
       "    <tr>\n",
       "      <th>3</th>\n",
       "      <td>1</td>\n",
       "      <td>y</td>\n",
       "      <td>0.399936</td>\n",
       "    </tr>\n",
       "  </tbody>\n",
       "</table>\n",
       "</div>"
      ],
      "text/plain": [
       "   jim joe     jolie\n",
       "0    0   x  0.244042\n",
       "1    0   x  0.365851\n",
       "2    1   z  0.648331\n",
       "3    1   y  0.399936"
      ]
     },
     "execution_count": 167,
     "metadata": {},
     "output_type": "execute_result"
    }
   ],
   "source": [
    "dfm = pd.DataFrame({'jim': [0, 0, 1, 1],\n",
    "                    'joe': ['x', 'x', 'z', 'y'],\n",
    "                    'jolie': np.random.rand(4)})"
   ]
  },
  {
   "cell_type": "code",
   "execution_count": 168,
   "metadata": {},
   "outputs": [
    {
     "data": {
      "text/html": [
       "<div>\n",
       "<style scoped>\n",
       "    .dataframe tbody tr th:only-of-type {\n",
       "        vertical-align: middle;\n",
       "    }\n",
       "\n",
       "    .dataframe tbody tr th {\n",
       "        vertical-align: top;\n",
       "    }\n",
       "\n",
       "    .dataframe thead th {\n",
       "        text-align: right;\n",
       "    }\n",
       "</style>\n",
       "<table border=\"1\" class=\"dataframe\">\n",
       "  <thead>\n",
       "    <tr style=\"text-align: right;\">\n",
       "      <th></th>\n",
       "      <th></th>\n",
       "      <th>jolie</th>\n",
       "    </tr>\n",
       "    <tr>\n",
       "      <th>jim</th>\n",
       "      <th>joe</th>\n",
       "      <th></th>\n",
       "    </tr>\n",
       "  </thead>\n",
       "  <tbody>\n",
       "    <tr>\n",
       "      <th rowspan=\"2\" valign=\"top\">0</th>\n",
       "      <th>x</th>\n",
       "      <td>0.244042</td>\n",
       "    </tr>\n",
       "    <tr>\n",
       "      <th>x</th>\n",
       "      <td>0.365851</td>\n",
       "    </tr>\n",
       "    <tr>\n",
       "      <th rowspan=\"2\" valign=\"top\">1</th>\n",
       "      <th>z</th>\n",
       "      <td>0.648331</td>\n",
       "    </tr>\n",
       "    <tr>\n",
       "      <th>y</th>\n",
       "      <td>0.399936</td>\n",
       "    </tr>\n",
       "  </tbody>\n",
       "</table>\n",
       "</div>"
      ],
      "text/plain": [
       "            jolie\n",
       "jim joe          \n",
       "0   x    0.244042\n",
       "    x    0.365851\n",
       "1   z    0.648331\n",
       "    y    0.399936"
      ]
     },
     "execution_count": 168,
     "metadata": {},
     "output_type": "execute_result"
    }
   ],
   "source": [
    "dfm = dfm.set_index(['jim', 'joe'])"
   ]
  },
  {
   "cell_type": "code",
   "execution_count": 169,
   "metadata": {},
   "outputs": [
    {
     "name": "stderr",
     "output_type": "stream",
     "text": [
      "<ipython-input-169-308db657325d>:1: PerformanceWarning: indexing past lexsort depth may impact performance.\n",
      "  dfm.loc[(1, 'z')]\n"
     ]
    },
    {
     "data": {
      "text/html": [
       "<div>\n",
       "<style scoped>\n",
       "    .dataframe tbody tr th:only-of-type {\n",
       "        vertical-align: middle;\n",
       "    }\n",
       "\n",
       "    .dataframe tbody tr th {\n",
       "        vertical-align: top;\n",
       "    }\n",
       "\n",
       "    .dataframe thead th {\n",
       "        text-align: right;\n",
       "    }\n",
       "</style>\n",
       "<table border=\"1\" class=\"dataframe\">\n",
       "  <thead>\n",
       "    <tr style=\"text-align: right;\">\n",
       "      <th></th>\n",
       "      <th></th>\n",
       "      <th>jolie</th>\n",
       "    </tr>\n",
       "    <tr>\n",
       "      <th>jim</th>\n",
       "      <th>joe</th>\n",
       "      <th></th>\n",
       "    </tr>\n",
       "  </thead>\n",
       "  <tbody>\n",
       "    <tr>\n",
       "      <th>1</th>\n",
       "      <th>z</th>\n",
       "      <td>0.648331</td>\n",
       "    </tr>\n",
       "  </tbody>\n",
       "</table>\n",
       "</div>"
      ],
      "text/plain": [
       "            jolie\n",
       "jim joe          \n",
       "1   z    0.648331"
      ]
     },
     "execution_count": 169,
     "metadata": {},
     "output_type": "execute_result"
    }
   ],
   "source": [
    "dfm.loc[(1, 'z')]"
   ]
  },
  {
   "cell_type": "code",
   "execution_count": 170,
   "metadata": {},
   "outputs": [
    {
     "data": {
      "text/plain": [
       "False"
      ]
     },
     "execution_count": 170,
     "metadata": {},
     "output_type": "execute_result"
    }
   ],
   "source": [
    "dfm.index.is_lexsorted()"
   ]
  },
  {
   "cell_type": "code",
   "execution_count": 171,
   "metadata": {},
   "outputs": [
    {
     "data": {
      "text/plain": [
       "1"
      ]
     },
     "execution_count": 171,
     "metadata": {},
     "output_type": "execute_result"
    }
   ],
   "source": [
    "dfm.index.lexsort_depth"
   ]
  },
  {
   "cell_type": "code",
   "execution_count": 172,
   "metadata": {},
   "outputs": [
    {
     "data": {
      "text/html": [
       "<div>\n",
       "<style scoped>\n",
       "    .dataframe tbody tr th:only-of-type {\n",
       "        vertical-align: middle;\n",
       "    }\n",
       "\n",
       "    .dataframe tbody tr th {\n",
       "        vertical-align: top;\n",
       "    }\n",
       "\n",
       "    .dataframe thead th {\n",
       "        text-align: right;\n",
       "    }\n",
       "</style>\n",
       "<table border=\"1\" class=\"dataframe\">\n",
       "  <thead>\n",
       "    <tr style=\"text-align: right;\">\n",
       "      <th></th>\n",
       "      <th></th>\n",
       "      <th>jolie</th>\n",
       "    </tr>\n",
       "    <tr>\n",
       "      <th>jim</th>\n",
       "      <th>joe</th>\n",
       "      <th></th>\n",
       "    </tr>\n",
       "  </thead>\n",
       "  <tbody>\n",
       "    <tr>\n",
       "      <th rowspan=\"2\" valign=\"top\">0</th>\n",
       "      <th>x</th>\n",
       "      <td>0.244042</td>\n",
       "    </tr>\n",
       "    <tr>\n",
       "      <th>x</th>\n",
       "      <td>0.365851</td>\n",
       "    </tr>\n",
       "    <tr>\n",
       "      <th rowspan=\"2\" valign=\"top\">1</th>\n",
       "      <th>y</th>\n",
       "      <td>0.399936</td>\n",
       "    </tr>\n",
       "    <tr>\n",
       "      <th>z</th>\n",
       "      <td>0.648331</td>\n",
       "    </tr>\n",
       "  </tbody>\n",
       "</table>\n",
       "</div>"
      ],
      "text/plain": [
       "            jolie\n",
       "jim joe          \n",
       "0   x    0.244042\n",
       "    x    0.365851\n",
       "1   y    0.399936\n",
       "    z    0.648331"
      ]
     },
     "execution_count": 172,
     "metadata": {},
     "output_type": "execute_result"
    }
   ],
   "source": [
    "dfm = dfm.sort_index()"
   ]
  },
  {
   "cell_type": "code",
   "execution_count": 173,
   "metadata": {},
   "outputs": [
    {
     "data": {
      "text/plain": [
       "True"
      ]
     },
     "execution_count": 173,
     "metadata": {},
     "output_type": "execute_result"
    }
   ],
   "source": [
    "dfm.index.is_lexsorted()"
   ]
  },
  {
   "cell_type": "code",
   "execution_count": 174,
   "metadata": {},
   "outputs": [
    {
     "data": {
      "text/plain": [
       "2"
      ]
     },
     "execution_count": 174,
     "metadata": {},
     "output_type": "execute_result"
    }
   ],
   "source": [
    "dfm.index.lexsort_depth"
   ]
  },
  {
   "cell_type": "code",
   "execution_count": 175,
   "metadata": {},
   "outputs": [
    {
     "data": {
      "text/html": [
       "<div>\n",
       "<style scoped>\n",
       "    .dataframe tbody tr th:only-of-type {\n",
       "        vertical-align: middle;\n",
       "    }\n",
       "\n",
       "    .dataframe tbody tr th {\n",
       "        vertical-align: top;\n",
       "    }\n",
       "\n",
       "    .dataframe thead th {\n",
       "        text-align: right;\n",
       "    }\n",
       "</style>\n",
       "<table border=\"1\" class=\"dataframe\">\n",
       "  <thead>\n",
       "    <tr style=\"text-align: right;\">\n",
       "      <th></th>\n",
       "      <th></th>\n",
       "      <th>jolie</th>\n",
       "    </tr>\n",
       "    <tr>\n",
       "      <th>jim</th>\n",
       "      <th>joe</th>\n",
       "      <th></th>\n",
       "    </tr>\n",
       "  </thead>\n",
       "  <tbody>\n",
       "    <tr>\n",
       "      <th rowspan=\"2\" valign=\"top\">1</th>\n",
       "      <th>y</th>\n",
       "      <td>0.399936</td>\n",
       "    </tr>\n",
       "    <tr>\n",
       "      <th>z</th>\n",
       "      <td>0.648331</td>\n",
       "    </tr>\n",
       "  </tbody>\n",
       "</table>\n",
       "</div>"
      ],
      "text/plain": [
       "            jolie\n",
       "jim joe          \n",
       "1   y    0.399936\n",
       "    z    0.648331"
      ]
     },
     "execution_count": 175,
     "metadata": {},
     "output_type": "execute_result"
    }
   ],
   "source": [
    "dfm.loc[(0, 'y'):(1, 'z')]"
   ]
  },
  {
   "cell_type": "code",
   "execution_count": 176,
   "metadata": {},
   "outputs": [
    {
     "data": {
      "text/plain": [
       "Int64Index([934, 811, 766, 753, 535, 417, 86, 656, 940, 801], dtype='int64')"
      ]
     },
     "execution_count": 176,
     "metadata": {},
     "output_type": "execute_result"
    }
   ],
   "source": [
    "index = pd.Index(np.random.randint(0, 1000, 10))"
   ]
  },
  {
   "cell_type": "code",
   "execution_count": 177,
   "metadata": {},
   "outputs": [
    {
     "data": {
      "text/plain": [
       "[0, 9, 3]"
      ]
     },
     "execution_count": 177,
     "metadata": {},
     "output_type": "execute_result"
    }
   ],
   "source": [
    "positions = [0, 9, 3]"
   ]
  },
  {
   "cell_type": "code",
   "execution_count": 178,
   "metadata": {},
   "outputs": [
    {
     "data": {
      "text/plain": [
       "Int64Index([934, 801, 753], dtype='int64')"
      ]
     },
     "execution_count": 178,
     "metadata": {},
     "output_type": "execute_result"
    }
   ],
   "source": [
    "index[positions]"
   ]
  },
  {
   "cell_type": "code",
   "execution_count": 179,
   "metadata": {},
   "outputs": [
    {
     "data": {
      "text/plain": [
       "Int64Index([934, 801, 753], dtype='int64')"
      ]
     },
     "execution_count": 179,
     "metadata": {},
     "output_type": "execute_result"
    }
   ],
   "source": [
    "index.take(positions)"
   ]
  },
  {
   "cell_type": "code",
   "execution_count": 180,
   "metadata": {},
   "outputs": [
    {
     "data": {
      "text/html": [
       "<div>\n",
       "<style scoped>\n",
       "    .dataframe tbody tr th:only-of-type {\n",
       "        vertical-align: middle;\n",
       "    }\n",
       "\n",
       "    .dataframe tbody tr th {\n",
       "        vertical-align: top;\n",
       "    }\n",
       "\n",
       "    .dataframe thead th {\n",
       "        text-align: right;\n",
       "    }\n",
       "</style>\n",
       "<table border=\"1\" class=\"dataframe\">\n",
       "  <thead>\n",
       "    <tr style=\"text-align: right;\">\n",
       "      <th></th>\n",
       "      <th>0</th>\n",
       "      <th>1</th>\n",
       "      <th>2</th>\n",
       "    </tr>\n",
       "  </thead>\n",
       "  <tbody>\n",
       "    <tr>\n",
       "      <th>0</th>\n",
       "      <td>-0.950708</td>\n",
       "      <td>-0.314415</td>\n",
       "      <td>-0.140119</td>\n",
       "    </tr>\n",
       "    <tr>\n",
       "      <th>1</th>\n",
       "      <td>-0.038139</td>\n",
       "      <td>-0.590419</td>\n",
       "      <td>2.342000</td>\n",
       "    </tr>\n",
       "    <tr>\n",
       "      <th>2</th>\n",
       "      <td>-1.476272</td>\n",
       "      <td>-0.299201</td>\n",
       "      <td>-0.665961</td>\n",
       "    </tr>\n",
       "    <tr>\n",
       "      <th>3</th>\n",
       "      <td>1.112365</td>\n",
       "      <td>1.331336</td>\n",
       "      <td>-0.980658</td>\n",
       "    </tr>\n",
       "    <tr>\n",
       "      <th>4</th>\n",
       "      <td>1.168855</td>\n",
       "      <td>-0.229925</td>\n",
       "      <td>-0.141804</td>\n",
       "    </tr>\n",
       "  </tbody>\n",
       "</table>\n",
       "</div>"
      ],
      "text/plain": [
       "          0         1         2\n",
       "0 -0.950708 -0.314415 -0.140119\n",
       "1 -0.038139 -0.590419  2.342000\n",
       "2 -1.476272 -0.299201 -0.665961\n",
       "3  1.112365  1.331336 -0.980658\n",
       "4  1.168855 -0.229925 -0.141804"
      ]
     },
     "execution_count": 180,
     "metadata": {},
     "output_type": "execute_result"
    }
   ],
   "source": [
    "frm = pd.DataFrame(np.random.randn(5, 3))"
   ]
  },
  {
   "cell_type": "code",
   "execution_count": 181,
   "metadata": {},
   "outputs": [
    {
     "data": {
      "text/html": [
       "<div>\n",
       "<style scoped>\n",
       "    .dataframe tbody tr th:only-of-type {\n",
       "        vertical-align: middle;\n",
       "    }\n",
       "\n",
       "    .dataframe tbody tr th {\n",
       "        vertical-align: top;\n",
       "    }\n",
       "\n",
       "    .dataframe thead th {\n",
       "        text-align: right;\n",
       "    }\n",
       "</style>\n",
       "<table border=\"1\" class=\"dataframe\">\n",
       "  <thead>\n",
       "    <tr style=\"text-align: right;\">\n",
       "      <th></th>\n",
       "      <th>0</th>\n",
       "      <th>1</th>\n",
       "      <th>2</th>\n",
       "    </tr>\n",
       "  </thead>\n",
       "  <tbody>\n",
       "    <tr>\n",
       "      <th>1</th>\n",
       "      <td>-0.038139</td>\n",
       "      <td>-0.590419</td>\n",
       "      <td>2.342000</td>\n",
       "    </tr>\n",
       "    <tr>\n",
       "      <th>4</th>\n",
       "      <td>1.168855</td>\n",
       "      <td>-0.229925</td>\n",
       "      <td>-0.141804</td>\n",
       "    </tr>\n",
       "    <tr>\n",
       "      <th>3</th>\n",
       "      <td>1.112365</td>\n",
       "      <td>1.331336</td>\n",
       "      <td>-0.980658</td>\n",
       "    </tr>\n",
       "  </tbody>\n",
       "</table>\n",
       "</div>"
      ],
      "text/plain": [
       "          0         1         2\n",
       "1 -0.038139 -0.590419  2.342000\n",
       "4  1.168855 -0.229925 -0.141804\n",
       "3  1.112365  1.331336 -0.980658"
      ]
     },
     "execution_count": 181,
     "metadata": {},
     "output_type": "execute_result"
    }
   ],
   "source": [
    "frm.take([1, 4, 3])"
   ]
  },
  {
   "cell_type": "code",
   "execution_count": 182,
   "metadata": {},
   "outputs": [
    {
     "data": {
      "text/html": [
       "<div>\n",
       "<style scoped>\n",
       "    .dataframe tbody tr th:only-of-type {\n",
       "        vertical-align: middle;\n",
       "    }\n",
       "\n",
       "    .dataframe tbody tr th {\n",
       "        vertical-align: top;\n",
       "    }\n",
       "\n",
       "    .dataframe thead th {\n",
       "        text-align: right;\n",
       "    }\n",
       "</style>\n",
       "<table border=\"1\" class=\"dataframe\">\n",
       "  <thead>\n",
       "    <tr style=\"text-align: right;\">\n",
       "      <th></th>\n",
       "      <th>0</th>\n",
       "      <th>2</th>\n",
       "    </tr>\n",
       "  </thead>\n",
       "  <tbody>\n",
       "    <tr>\n",
       "      <th>0</th>\n",
       "      <td>-0.950708</td>\n",
       "      <td>-0.140119</td>\n",
       "    </tr>\n",
       "    <tr>\n",
       "      <th>1</th>\n",
       "      <td>-0.038139</td>\n",
       "      <td>2.342000</td>\n",
       "    </tr>\n",
       "    <tr>\n",
       "      <th>2</th>\n",
       "      <td>-1.476272</td>\n",
       "      <td>-0.665961</td>\n",
       "    </tr>\n",
       "    <tr>\n",
       "      <th>3</th>\n",
       "      <td>1.112365</td>\n",
       "      <td>-0.980658</td>\n",
       "    </tr>\n",
       "    <tr>\n",
       "      <th>4</th>\n",
       "      <td>1.168855</td>\n",
       "      <td>-0.141804</td>\n",
       "    </tr>\n",
       "  </tbody>\n",
       "</table>\n",
       "</div>"
      ],
      "text/plain": [
       "          0         2\n",
       "0 -0.950708 -0.140119\n",
       "1 -0.038139  2.342000\n",
       "2 -1.476272 -0.665961\n",
       "3  1.112365 -0.980658\n",
       "4  1.168855 -0.141804"
      ]
     },
     "execution_count": 182,
     "metadata": {},
     "output_type": "execute_result"
    }
   ],
   "source": [
    "frm.take([0, 2], axis=1)"
   ]
  },
  {
   "cell_type": "code",
   "execution_count": 183,
   "metadata": {},
   "outputs": [
    {
     "data": {
      "text/plain": [
       "array([ 0.82566232,  0.80699007,  0.66652483,  0.18614892, -0.03970134,\n",
       "       -0.03824737, -0.07984457, -0.09438214, -1.63450426, -0.18912748])"
      ]
     },
     "execution_count": 183,
     "metadata": {},
     "output_type": "execute_result"
    }
   ],
   "source": [
    "arr = np.random.randn(10)"
   ]
  },
  {
   "cell_type": "code",
   "execution_count": 185,
   "metadata": {},
   "outputs": [
    {
     "data": {
      "text/plain": [
       "array([0.82566232, 0.82566232, 0.80699007, 0.80699007])"
      ]
     },
     "execution_count": 185,
     "metadata": {},
     "output_type": "execute_result"
    }
   ],
   "source": [
    "arr.take([False, False, True, True])"
   ]
  },
  {
   "cell_type": "code",
   "execution_count": 189,
   "metadata": {},
   "outputs": [],
   "source": [
    "def print_header(str, char='*'):\n",
    "    \"\"\"Print a header to help separate print output.\n",
    "\n",
    "    Parameters\n",
    "    ----------\n",
    "    str:\n",
    "        Text to print in header.\n",
    "    char:\n",
    "        The character repeated on next line for pizzaz\n",
    "\n",
    "    Examples:\n",
    "    ----------\n",
    "    print_header(\"More Human Than Human\")\n",
    "    print_header(\"Do You Like Our Owl?\", \"~\")\n",
    "\n",
    "    results in:\n",
    "\n",
    "    More Human Than Human\n",
    "    *********************\n",
    "\n",
    "    Do You Like Our Owl?\n",
    "    ~~~~~~~~~~~~~~~~~~~~\n",
    "\n",
    "    \"\"\"\n",
    "    print(f\"{str}\\n{char*len(str)}\\n\")"
   ]
  },
  {
   "cell_type": "code",
   "execution_count": 190,
   "metadata": {},
   "outputs": [
    {
     "name": "stdout",
     "output_type": "stream",
     "text": [
      "More Human Than Human\n",
      "*********************\n",
      "\n",
      "Do You Like Our Owl?\n",
      "~~~~~~~~~~~~~~~~~~~~\n",
      "\n"
     ]
    }
   ],
   "source": [
    "print_header(\"More Human Than Human\")\n",
    "print_header(\"Do You Like Our Owl?\", \"~\")"
   ]
  },
  {
   "cell_type": "code",
   "execution_count": 191,
   "metadata": {},
   "outputs": [],
   "source": [
    "from pandas.api.types import CategoricalDtype"
   ]
  },
  {
   "cell_type": "code",
   "execution_count": 192,
   "metadata": {},
   "outputs": [
    {
     "data": {
      "text/html": [
       "<div>\n",
       "<style scoped>\n",
       "    .dataframe tbody tr th:only-of-type {\n",
       "        vertical-align: middle;\n",
       "    }\n",
       "\n",
       "    .dataframe tbody tr th {\n",
       "        vertical-align: top;\n",
       "    }\n",
       "\n",
       "    .dataframe thead th {\n",
       "        text-align: right;\n",
       "    }\n",
       "</style>\n",
       "<table border=\"1\" class=\"dataframe\">\n",
       "  <thead>\n",
       "    <tr style=\"text-align: right;\">\n",
       "      <th></th>\n",
       "      <th>A</th>\n",
       "      <th>B</th>\n",
       "    </tr>\n",
       "  </thead>\n",
       "  <tbody>\n",
       "    <tr>\n",
       "      <th>0</th>\n",
       "      <td>0</td>\n",
       "      <td>a</td>\n",
       "    </tr>\n",
       "    <tr>\n",
       "      <th>1</th>\n",
       "      <td>1</td>\n",
       "      <td>a</td>\n",
       "    </tr>\n",
       "    <tr>\n",
       "      <th>2</th>\n",
       "      <td>2</td>\n",
       "      <td>b</td>\n",
       "    </tr>\n",
       "    <tr>\n",
       "      <th>3</th>\n",
       "      <td>3</td>\n",
       "      <td>b</td>\n",
       "    </tr>\n",
       "    <tr>\n",
       "      <th>4</th>\n",
       "      <td>4</td>\n",
       "      <td>c</td>\n",
       "    </tr>\n",
       "    <tr>\n",
       "      <th>5</th>\n",
       "      <td>5</td>\n",
       "      <td>a</td>\n",
       "    </tr>\n",
       "  </tbody>\n",
       "</table>\n",
       "</div>"
      ],
      "text/plain": [
       "   A  B\n",
       "0  0  a\n",
       "1  1  a\n",
       "2  2  b\n",
       "3  3  b\n",
       "4  4  c\n",
       "5  5  a"
      ]
     },
     "execution_count": 192,
     "metadata": {},
     "output_type": "execute_result"
    }
   ],
   "source": [
    "df = pd.DataFrame({'A': np.arange(6),\n",
    "                   'B': list('aabbca')})"
   ]
  },
  {
   "cell_type": "code",
   "execution_count": 193,
   "metadata": {},
   "outputs": [
    {
     "name": "stdout",
     "output_type": "stream",
     "text": [
      "<class 'pandas.core.frame.DataFrame'>\n",
      "RangeIndex: 6 entries, 0 to 5\n",
      "Data columns (total 2 columns):\n",
      " #   Column  Non-Null Count  Dtype   \n",
      "---  ------  --------------  -----   \n",
      " 0   A       6 non-null      int32   \n",
      " 1   B       6 non-null      category\n",
      "dtypes: category(1), int32(1)\n",
      "memory usage: 154.0 bytes\n",
      "None\n"
     ]
    },
    {
     "data": {
      "text/html": [
       "<div>\n",
       "<style scoped>\n",
       "    .dataframe tbody tr th:only-of-type {\n",
       "        vertical-align: middle;\n",
       "    }\n",
       "\n",
       "    .dataframe tbody tr th {\n",
       "        vertical-align: top;\n",
       "    }\n",
       "\n",
       "    .dataframe thead th {\n",
       "        text-align: right;\n",
       "    }\n",
       "</style>\n",
       "<table border=\"1\" class=\"dataframe\">\n",
       "  <thead>\n",
       "    <tr style=\"text-align: right;\">\n",
       "      <th></th>\n",
       "      <th>A</th>\n",
       "      <th>B</th>\n",
       "    </tr>\n",
       "  </thead>\n",
       "  <tbody>\n",
       "    <tr>\n",
       "      <th>0</th>\n",
       "      <td>0</td>\n",
       "      <td>a</td>\n",
       "    </tr>\n",
       "    <tr>\n",
       "      <th>1</th>\n",
       "      <td>1</td>\n",
       "      <td>a</td>\n",
       "    </tr>\n",
       "    <tr>\n",
       "      <th>2</th>\n",
       "      <td>2</td>\n",
       "      <td>b</td>\n",
       "    </tr>\n",
       "    <tr>\n",
       "      <th>3</th>\n",
       "      <td>3</td>\n",
       "      <td>b</td>\n",
       "    </tr>\n",
       "    <tr>\n",
       "      <th>4</th>\n",
       "      <td>4</td>\n",
       "      <td>c</td>\n",
       "    </tr>\n",
       "    <tr>\n",
       "      <th>5</th>\n",
       "      <td>5</td>\n",
       "      <td>a</td>\n",
       "    </tr>\n",
       "  </tbody>\n",
       "</table>\n",
       "</div>"
      ],
      "text/plain": [
       "   A  B\n",
       "0  0  a\n",
       "1  1  a\n",
       "2  2  b\n",
       "3  3  b\n",
       "4  4  c\n",
       "5  5  a"
      ]
     },
     "metadata": {},
     "output_type": "display_data"
    }
   ],
   "source": [
    "df['B'] = df['B'].astype(CategoricalDtype(list('cab')))\n",
    "z(df)"
   ]
  },
  {
   "cell_type": "code",
   "execution_count": 194,
   "metadata": {},
   "outputs": [
    {
     "data": {
      "text/plain": [
       "<pandas.core.arrays.categorical.CategoricalAccessor object at 0x154F0520>"
      ]
     },
     "execution_count": 194,
     "metadata": {},
     "output_type": "execute_result"
    }
   ],
   "source": [
    "df['B'].cat"
   ]
  },
  {
   "cell_type": "code",
   "execution_count": 195,
   "metadata": {},
   "outputs": [
    {
     "data": {
      "text/plain": [
       "Index(['c', 'a', 'b'], dtype='object')"
      ]
     },
     "execution_count": 195,
     "metadata": {},
     "output_type": "execute_result"
    }
   ],
   "source": [
    "df['B'].cat.categories"
   ]
  },
  {
   "cell_type": "code",
   "execution_count": 197,
   "metadata": {},
   "outputs": [
    {
     "data": {
      "text/html": [
       "<div>\n",
       "<style scoped>\n",
       "    .dataframe tbody tr th:only-of-type {\n",
       "        vertical-align: middle;\n",
       "    }\n",
       "\n",
       "    .dataframe tbody tr th {\n",
       "        vertical-align: top;\n",
       "    }\n",
       "\n",
       "    .dataframe thead th {\n",
       "        text-align: right;\n",
       "    }\n",
       "</style>\n",
       "<table border=\"1\" class=\"dataframe\">\n",
       "  <thead>\n",
       "    <tr style=\"text-align: right;\">\n",
       "      <th></th>\n",
       "      <th>A</th>\n",
       "    </tr>\n",
       "    <tr>\n",
       "      <th>B</th>\n",
       "      <th></th>\n",
       "    </tr>\n",
       "  </thead>\n",
       "  <tbody>\n",
       "    <tr>\n",
       "      <th>a</th>\n",
       "      <td>0</td>\n",
       "    </tr>\n",
       "    <tr>\n",
       "      <th>a</th>\n",
       "      <td>1</td>\n",
       "    </tr>\n",
       "    <tr>\n",
       "      <th>b</th>\n",
       "      <td>2</td>\n",
       "    </tr>\n",
       "    <tr>\n",
       "      <th>b</th>\n",
       "      <td>3</td>\n",
       "    </tr>\n",
       "    <tr>\n",
       "      <th>c</th>\n",
       "      <td>4</td>\n",
       "    </tr>\n",
       "    <tr>\n",
       "      <th>a</th>\n",
       "      <td>5</td>\n",
       "    </tr>\n",
       "  </tbody>\n",
       "</table>\n",
       "</div>"
      ],
      "text/plain": [
       "   A\n",
       "B   \n",
       "a  0\n",
       "a  1\n",
       "b  2\n",
       "b  3\n",
       "c  4\n",
       "a  5"
      ]
     },
     "execution_count": 197,
     "metadata": {},
     "output_type": "execute_result"
    }
   ],
   "source": [
    "df2 = df.set_index('B')"
   ]
  },
  {
   "cell_type": "code",
   "execution_count": 198,
   "metadata": {},
   "outputs": [
    {
     "data": {
      "text/plain": [
       "CategoricalIndex(['a', 'a', 'b', 'b', 'c', 'a'], categories=['c', 'a', 'b'], ordered=False, name='B', dtype='category')"
      ]
     },
     "execution_count": 198,
     "metadata": {},
     "output_type": "execute_result"
    }
   ],
   "source": [
    "df2.index"
   ]
  },
  {
   "cell_type": "code",
   "execution_count": 199,
   "metadata": {},
   "outputs": [
    {
     "data": {
      "text/html": [
       "<div>\n",
       "<style scoped>\n",
       "    .dataframe tbody tr th:only-of-type {\n",
       "        vertical-align: middle;\n",
       "    }\n",
       "\n",
       "    .dataframe tbody tr th {\n",
       "        vertical-align: top;\n",
       "    }\n",
       "\n",
       "    .dataframe thead th {\n",
       "        text-align: right;\n",
       "    }\n",
       "</style>\n",
       "<table border=\"1\" class=\"dataframe\">\n",
       "  <thead>\n",
       "    <tr style=\"text-align: right;\">\n",
       "      <th></th>\n",
       "      <th>A</th>\n",
       "    </tr>\n",
       "    <tr>\n",
       "      <th>B</th>\n",
       "      <th></th>\n",
       "    </tr>\n",
       "  </thead>\n",
       "  <tbody>\n",
       "    <tr>\n",
       "      <th>a</th>\n",
       "      <td>0</td>\n",
       "    </tr>\n",
       "    <tr>\n",
       "      <th>a</th>\n",
       "      <td>1</td>\n",
       "    </tr>\n",
       "    <tr>\n",
       "      <th>a</th>\n",
       "      <td>5</td>\n",
       "    </tr>\n",
       "  </tbody>\n",
       "</table>\n",
       "</div>"
      ],
      "text/plain": [
       "   A\n",
       "B   \n",
       "a  0\n",
       "a  1\n",
       "a  5"
      ]
     },
     "execution_count": 199,
     "metadata": {},
     "output_type": "execute_result"
    }
   ],
   "source": [
    "df2.loc['a']"
   ]
  },
  {
   "cell_type": "code",
   "execution_count": 200,
   "metadata": {},
   "outputs": [
    {
     "data": {
      "text/html": [
       "<div>\n",
       "<style scoped>\n",
       "    .dataframe tbody tr th:only-of-type {\n",
       "        vertical-align: middle;\n",
       "    }\n",
       "\n",
       "    .dataframe tbody tr th {\n",
       "        vertical-align: top;\n",
       "    }\n",
       "\n",
       "    .dataframe thead th {\n",
       "        text-align: right;\n",
       "    }\n",
       "</style>\n",
       "<table border=\"1\" class=\"dataframe\">\n",
       "  <thead>\n",
       "    <tr style=\"text-align: right;\">\n",
       "      <th></th>\n",
       "      <th>A</th>\n",
       "    </tr>\n",
       "    <tr>\n",
       "      <th>B</th>\n",
       "      <th></th>\n",
       "    </tr>\n",
       "  </thead>\n",
       "  <tbody>\n",
       "    <tr>\n",
       "      <th>a</th>\n",
       "      <td>0</td>\n",
       "    </tr>\n",
       "    <tr>\n",
       "      <th>a</th>\n",
       "      <td>1</td>\n",
       "    </tr>\n",
       "    <tr>\n",
       "      <th>a</th>\n",
       "      <td>5</td>\n",
       "    </tr>\n",
       "  </tbody>\n",
       "</table>\n",
       "</div>"
      ],
      "text/plain": [
       "   A\n",
       "B   \n",
       "a  0\n",
       "a  1\n",
       "a  5"
      ]
     },
     "execution_count": 200,
     "metadata": {},
     "output_type": "execute_result"
    }
   ],
   "source": [
    "df2.loc['a']"
   ]
  },
  {
   "cell_type": "code",
   "execution_count": 201,
   "metadata": {},
   "outputs": [
    {
     "data": {
      "text/plain": [
       "CategoricalIndex(['a', 'a', 'a'], categories=['c', 'a', 'b'], ordered=False, name='B', dtype='category')"
      ]
     },
     "execution_count": 201,
     "metadata": {},
     "output_type": "execute_result"
    }
   ],
   "source": [
    "df2.loc['a'].index"
   ]
  },
  {
   "cell_type": "code",
   "execution_count": 202,
   "metadata": {},
   "outputs": [
    {
     "data": {
      "text/html": [
       "<div>\n",
       "<style scoped>\n",
       "    .dataframe tbody tr th:only-of-type {\n",
       "        vertical-align: middle;\n",
       "    }\n",
       "\n",
       "    .dataframe tbody tr th {\n",
       "        vertical-align: top;\n",
       "    }\n",
       "\n",
       "    .dataframe thead th {\n",
       "        text-align: right;\n",
       "    }\n",
       "</style>\n",
       "<table border=\"1\" class=\"dataframe\">\n",
       "  <thead>\n",
       "    <tr style=\"text-align: right;\">\n",
       "      <th></th>\n",
       "      <th>A</th>\n",
       "    </tr>\n",
       "    <tr>\n",
       "      <th>B</th>\n",
       "      <th></th>\n",
       "    </tr>\n",
       "  </thead>\n",
       "  <tbody>\n",
       "    <tr>\n",
       "      <th>c</th>\n",
       "      <td>4</td>\n",
       "    </tr>\n",
       "    <tr>\n",
       "      <th>a</th>\n",
       "      <td>6</td>\n",
       "    </tr>\n",
       "    <tr>\n",
       "      <th>b</th>\n",
       "      <td>5</td>\n",
       "    </tr>\n",
       "  </tbody>\n",
       "</table>\n",
       "</div>"
      ],
      "text/plain": [
       "   A\n",
       "B   \n",
       "c  4\n",
       "a  6\n",
       "b  5"
      ]
     },
     "execution_count": 202,
     "metadata": {},
     "output_type": "execute_result"
    }
   ],
   "source": [
    "df2.groupby(level=0).sum()"
   ]
  },
  {
   "cell_type": "code",
   "execution_count": 203,
   "metadata": {},
   "outputs": [
    {
     "data": {
      "text/html": [
       "<div>\n",
       "<style scoped>\n",
       "    .dataframe tbody tr th:only-of-type {\n",
       "        vertical-align: middle;\n",
       "    }\n",
       "\n",
       "    .dataframe tbody tr th {\n",
       "        vertical-align: top;\n",
       "    }\n",
       "\n",
       "    .dataframe thead th {\n",
       "        text-align: right;\n",
       "    }\n",
       "</style>\n",
       "<table border=\"1\" class=\"dataframe\">\n",
       "  <thead>\n",
       "    <tr style=\"text-align: right;\">\n",
       "      <th></th>\n",
       "      <th>A</th>\n",
       "    </tr>\n",
       "    <tr>\n",
       "      <th>B</th>\n",
       "      <th></th>\n",
       "    </tr>\n",
       "  </thead>\n",
       "  <tbody>\n",
       "    <tr>\n",
       "      <th>a</th>\n",
       "      <td>0</td>\n",
       "    </tr>\n",
       "    <tr>\n",
       "      <th>a</th>\n",
       "      <td>1</td>\n",
       "    </tr>\n",
       "    <tr>\n",
       "      <th>b</th>\n",
       "      <td>2</td>\n",
       "    </tr>\n",
       "    <tr>\n",
       "      <th>b</th>\n",
       "      <td>3</td>\n",
       "    </tr>\n",
       "    <tr>\n",
       "      <th>c</th>\n",
       "      <td>4</td>\n",
       "    </tr>\n",
       "    <tr>\n",
       "      <th>a</th>\n",
       "      <td>5</td>\n",
       "    </tr>\n",
       "  </tbody>\n",
       "</table>\n",
       "</div>"
      ],
      "text/plain": [
       "   A\n",
       "B   \n",
       "a  0\n",
       "a  1\n",
       "b  2\n",
       "b  3\n",
       "c  4\n",
       "a  5"
      ]
     },
     "execution_count": 203,
     "metadata": {},
     "output_type": "execute_result"
    }
   ],
   "source": [
    "df2"
   ]
  },
  {
   "cell_type": "code",
   "execution_count": 204,
   "metadata": {},
   "outputs": [
    {
     "data": {
      "text/html": [
       "<div>\n",
       "<style scoped>\n",
       "    .dataframe tbody tr th:only-of-type {\n",
       "        vertical-align: middle;\n",
       "    }\n",
       "\n",
       "    .dataframe tbody tr th {\n",
       "        vertical-align: top;\n",
       "    }\n",
       "\n",
       "    .dataframe thead th {\n",
       "        text-align: right;\n",
       "    }\n",
       "</style>\n",
       "<table border=\"1\" class=\"dataframe\">\n",
       "  <thead>\n",
       "    <tr style=\"text-align: right;\">\n",
       "      <th></th>\n",
       "      <th>A</th>\n",
       "    </tr>\n",
       "    <tr>\n",
       "      <th>B</th>\n",
       "      <th></th>\n",
       "    </tr>\n",
       "  </thead>\n",
       "  <tbody>\n",
       "    <tr>\n",
       "      <th>c</th>\n",
       "      <td>4</td>\n",
       "    </tr>\n",
       "    <tr>\n",
       "      <th>a</th>\n",
       "      <td>6</td>\n",
       "    </tr>\n",
       "    <tr>\n",
       "      <th>b</th>\n",
       "      <td>5</td>\n",
       "    </tr>\n",
       "  </tbody>\n",
       "</table>\n",
       "</div>"
      ],
      "text/plain": [
       "   A\n",
       "B   \n",
       "c  4\n",
       "a  6\n",
       "b  5"
      ]
     },
     "execution_count": 204,
     "metadata": {},
     "output_type": "execute_result"
    }
   ],
   "source": [
    "df2.groupby(level=0).sum()"
   ]
  },
  {
   "cell_type": "code",
   "execution_count": 206,
   "metadata": {},
   "outputs": [
    {
     "name": "stdout",
     "output_type": "stream",
     "text": [
      "<class 'pandas.core.frame.DataFrame'>\n",
      "RangeIndex: 3 entries, 0 to 2\n",
      "Data columns (total 2 columns):\n",
      " #   Column  Non-Null Count  Dtype   \n",
      "---  ------  --------------  -----   \n",
      " 0   A       3 non-null      int32   \n",
      " 1   B       3 non-null      category\n",
      "dtypes: category(1), int32(1)\n",
      "memory usage: 139.0 bytes\n",
      "None\n"
     ]
    },
    {
     "data": {
      "text/html": [
       "<div>\n",
       "<style scoped>\n",
       "    .dataframe tbody tr th:only-of-type {\n",
       "        vertical-align: middle;\n",
       "    }\n",
       "\n",
       "    .dataframe tbody tr th {\n",
       "        vertical-align: top;\n",
       "    }\n",
       "\n",
       "    .dataframe thead th {\n",
       "        text-align: right;\n",
       "    }\n",
       "</style>\n",
       "<table border=\"1\" class=\"dataframe\">\n",
       "  <thead>\n",
       "    <tr style=\"text-align: right;\">\n",
       "      <th></th>\n",
       "      <th>A</th>\n",
       "      <th>B</th>\n",
       "    </tr>\n",
       "  </thead>\n",
       "  <tbody>\n",
       "    <tr>\n",
       "      <th>0</th>\n",
       "      <td>0</td>\n",
       "      <td>a</td>\n",
       "    </tr>\n",
       "    <tr>\n",
       "      <th>1</th>\n",
       "      <td>1</td>\n",
       "      <td>b</td>\n",
       "    </tr>\n",
       "    <tr>\n",
       "      <th>2</th>\n",
       "      <td>2</td>\n",
       "      <td>c</td>\n",
       "    </tr>\n",
       "  </tbody>\n",
       "</table>\n",
       "</div>"
      ],
      "text/plain": [
       "   A  B\n",
       "0  0  a\n",
       "1  1  b\n",
       "2  2  c"
      ]
     },
     "metadata": {},
     "output_type": "display_data"
    }
   ],
   "source": [
    "df3 = pd.DataFrame({'A': np.arange(3),\n",
    "                    'B': pd.Series(list('abc')).astype('category')})\n",
    "z(df3)"
   ]
  },
  {
   "cell_type": "code",
   "execution_count": 208,
   "metadata": {},
   "outputs": [
    {
     "data": {
      "text/plain": [
       "{'_parent': ['a', 'b', 'c']\n",
       " Categories (3, object): ['a', 'b', 'c'],\n",
       " '_index': RangeIndex(start=0, stop=3, step=1),\n",
       " '_name': 'B',\n",
       " '__frozen': True}"
      ]
     },
     "execution_count": 208,
     "metadata": {},
     "output_type": "execute_result"
    }
   ],
   "source": [
    "vars(df3['B'].cat)"
   ]
  },
  {
   "cell_type": "code",
   "execution_count": 209,
   "metadata": {},
   "outputs": [
    {
     "data": {
      "text/html": [
       "<div>\n",
       "<style scoped>\n",
       "    .dataframe tbody tr th:only-of-type {\n",
       "        vertical-align: middle;\n",
       "    }\n",
       "\n",
       "    .dataframe tbody tr th {\n",
       "        vertical-align: top;\n",
       "    }\n",
       "\n",
       "    .dataframe thead th {\n",
       "        text-align: right;\n",
       "    }\n",
       "</style>\n",
       "<table border=\"1\" class=\"dataframe\">\n",
       "  <thead>\n",
       "    <tr style=\"text-align: right;\">\n",
       "      <th></th>\n",
       "      <th>A</th>\n",
       "    </tr>\n",
       "    <tr>\n",
       "      <th>B</th>\n",
       "      <th></th>\n",
       "    </tr>\n",
       "  </thead>\n",
       "  <tbody>\n",
       "    <tr>\n",
       "      <th>a</th>\n",
       "      <td>0</td>\n",
       "    </tr>\n",
       "    <tr>\n",
       "      <th>b</th>\n",
       "      <td>1</td>\n",
       "    </tr>\n",
       "    <tr>\n",
       "      <th>c</th>\n",
       "      <td>2</td>\n",
       "    </tr>\n",
       "  </tbody>\n",
       "</table>\n",
       "</div>"
      ],
      "text/plain": [
       "   A\n",
       "B   \n",
       "a  0\n",
       "b  1\n",
       "c  2"
      ]
     },
     "execution_count": 209,
     "metadata": {},
     "output_type": "execute_result"
    }
   ],
   "source": [
    "df3 = df3.set_index('B')"
   ]
  },
  {
   "cell_type": "code",
   "execution_count": 210,
   "metadata": {},
   "outputs": [
    {
     "name": "stdout",
     "output_type": "stream",
     "text": [
      "<class 'pandas.core.frame.DataFrame'>\n",
      "CategoricalIndex: 3 entries, a to c\n",
      "Data columns (total 1 columns):\n",
      " #   Column  Non-Null Count  Dtype\n",
      "---  ------  --------------  -----\n",
      " 0   A       3 non-null      int32\n",
      "dtypes: int32(1)\n",
      "memory usage: 75.0 bytes\n",
      "None\n"
     ]
    },
    {
     "data": {
      "text/html": [
       "<div>\n",
       "<style scoped>\n",
       "    .dataframe tbody tr th:only-of-type {\n",
       "        vertical-align: middle;\n",
       "    }\n",
       "\n",
       "    .dataframe tbody tr th {\n",
       "        vertical-align: top;\n",
       "    }\n",
       "\n",
       "    .dataframe thead th {\n",
       "        text-align: right;\n",
       "    }\n",
       "</style>\n",
       "<table border=\"1\" class=\"dataframe\">\n",
       "  <thead>\n",
       "    <tr style=\"text-align: right;\">\n",
       "      <th></th>\n",
       "      <th>A</th>\n",
       "    </tr>\n",
       "    <tr>\n",
       "      <th>B</th>\n",
       "      <th></th>\n",
       "    </tr>\n",
       "  </thead>\n",
       "  <tbody>\n",
       "    <tr>\n",
       "      <th>a</th>\n",
       "      <td>0</td>\n",
       "    </tr>\n",
       "    <tr>\n",
       "      <th>b</th>\n",
       "      <td>1</td>\n",
       "    </tr>\n",
       "    <tr>\n",
       "      <th>c</th>\n",
       "      <td>2</td>\n",
       "    </tr>\n",
       "  </tbody>\n",
       "</table>\n",
       "</div>"
      ],
      "text/plain": [
       "   A\n",
       "B   \n",
       "a  0\n",
       "b  1\n",
       "c  2"
      ]
     },
     "metadata": {},
     "output_type": "display_data"
    }
   ],
   "source": [
    "z(df3)"
   ]
  },
  {
   "cell_type": "code",
   "execution_count": 211,
   "metadata": {},
   "outputs": [
    {
     "data": {
      "text/html": [
       "<div>\n",
       "<style scoped>\n",
       "    .dataframe tbody tr th:only-of-type {\n",
       "        vertical-align: middle;\n",
       "    }\n",
       "\n",
       "    .dataframe tbody tr th {\n",
       "        vertical-align: top;\n",
       "    }\n",
       "\n",
       "    .dataframe thead th {\n",
       "        text-align: right;\n",
       "    }\n",
       "</style>\n",
       "<table border=\"1\" class=\"dataframe\">\n",
       "  <thead>\n",
       "    <tr style=\"text-align: right;\">\n",
       "      <th></th>\n",
       "      <th>A</th>\n",
       "    </tr>\n",
       "    <tr>\n",
       "      <th>B</th>\n",
       "      <th></th>\n",
       "    </tr>\n",
       "  </thead>\n",
       "  <tbody>\n",
       "    <tr>\n",
       "      <th>a</th>\n",
       "      <td>0.0</td>\n",
       "    </tr>\n",
       "    <tr>\n",
       "      <th>e</th>\n",
       "      <td>NaN</td>\n",
       "    </tr>\n",
       "  </tbody>\n",
       "</table>\n",
       "</div>"
      ],
      "text/plain": [
       "     A\n",
       "B     \n",
       "a  0.0\n",
       "e  NaN"
      ]
     },
     "execution_count": 211,
     "metadata": {},
     "output_type": "execute_result"
    }
   ],
   "source": [
    "df3.reindex(['a', 'e'])"
   ]
  },
  {
   "cell_type": "code",
   "execution_count": 212,
   "metadata": {},
   "outputs": [
    {
     "name": "stdout",
     "output_type": "stream",
     "text": [
      "----------------------------------------\n",
      "Type: <class 'pandas.core.indexes.numeric.Float64Index'>\n",
      "Length: 5\n"
     ]
    },
    {
     "data": {
      "text/plain": [
       "Float64Index([1.5, 2.0, 3.0, 4.5, 5.0], dtype='float64')"
      ]
     },
     "metadata": {},
     "output_type": "display_data"
    }
   ],
   "source": [
    "indexf = pd.Index([1.5, 2, 3, 4.5, 5])\n",
    "z(indexf)"
   ]
  },
  {
   "cell_type": "code",
   "execution_count": 213,
   "metadata": {},
   "outputs": [
    {
     "data": {
      "text/plain": [
       "1.5    0\n",
       "2.0    1\n",
       "3.0    2\n",
       "4.5    3\n",
       "5.0    4\n",
       "dtype: int64"
      ]
     },
     "execution_count": 213,
     "metadata": {},
     "output_type": "execute_result"
    }
   ],
   "source": [
    "sf = pd.Series(range(5), index=indexf)"
   ]
  },
  {
   "cell_type": "code",
   "execution_count": 214,
   "metadata": {},
   "outputs": [
    {
     "data": {
      "text/html": [
       "<div>\n",
       "<style scoped>\n",
       "    .dataframe tbody tr th:only-of-type {\n",
       "        vertical-align: middle;\n",
       "    }\n",
       "\n",
       "    .dataframe tbody tr th {\n",
       "        vertical-align: top;\n",
       "    }\n",
       "\n",
       "    .dataframe thead th {\n",
       "        text-align: right;\n",
       "    }\n",
       "</style>\n",
       "<table border=\"1\" class=\"dataframe\">\n",
       "  <thead>\n",
       "    <tr style=\"text-align: right;\">\n",
       "      <th></th>\n",
       "      <th>A</th>\n",
       "      <th>B</th>\n",
       "    </tr>\n",
       "  </thead>\n",
       "  <tbody>\n",
       "    <tr>\n",
       "      <th>0.0</th>\n",
       "      <td>0.367439</td>\n",
       "      <td>1.447807</td>\n",
       "    </tr>\n",
       "    <tr>\n",
       "      <th>250.0</th>\n",
       "      <td>0.333523</td>\n",
       "      <td>-0.740649</td>\n",
       "    </tr>\n",
       "    <tr>\n",
       "      <th>500.0</th>\n",
       "      <td>1.380795</td>\n",
       "      <td>0.023908</td>\n",
       "    </tr>\n",
       "    <tr>\n",
       "      <th>750.0</th>\n",
       "      <td>0.393868</td>\n",
       "      <td>-0.700530</td>\n",
       "    </tr>\n",
       "    <tr>\n",
       "      <th>1000.0</th>\n",
       "      <td>0.252700</td>\n",
       "      <td>0.155149</td>\n",
       "    </tr>\n",
       "    <tr>\n",
       "      <th>1000.4</th>\n",
       "      <td>-0.851760</td>\n",
       "      <td>0.356377</td>\n",
       "    </tr>\n",
       "    <tr>\n",
       "      <th>1250.5</th>\n",
       "      <td>0.817695</td>\n",
       "      <td>-1.154813</td>\n",
       "    </tr>\n",
       "    <tr>\n",
       "      <th>1500.6</th>\n",
       "      <td>-0.101661</td>\n",
       "      <td>-0.286456</td>\n",
       "    </tr>\n",
       "    <tr>\n",
       "      <th>1750.7</th>\n",
       "      <td>-1.200635</td>\n",
       "      <td>0.404662</td>\n",
       "    </tr>\n",
       "    <tr>\n",
       "      <th>2000.8</th>\n",
       "      <td>0.701354</td>\n",
       "      <td>-1.249979</td>\n",
       "    </tr>\n",
       "    <tr>\n",
       "      <th>2250.9</th>\n",
       "      <td>-0.041041</td>\n",
       "      <td>-0.107229</td>\n",
       "    </tr>\n",
       "  </tbody>\n",
       "</table>\n",
       "</div>"
      ],
      "text/plain": [
       "               A         B\n",
       "0.0     0.367439  1.447807\n",
       "250.0   0.333523 -0.740649\n",
       "500.0   1.380795  0.023908\n",
       "750.0   0.393868 -0.700530\n",
       "1000.0  0.252700  0.155149\n",
       "1000.4 -0.851760  0.356377\n",
       "1250.5  0.817695 -1.154813\n",
       "1500.6 -0.101661 -0.286456\n",
       "1750.7 -1.200635  0.404662\n",
       "2000.8  0.701354 -1.249979\n",
       "2250.9 -0.041041 -0.107229"
      ]
     },
     "execution_count": 214,
     "metadata": {},
     "output_type": "execute_result"
    }
   ],
   "source": [
    "dfir = pd.concat([pd.DataFrame(np.random.randn(5, 2),\n",
    "                               index=np.arange(5) * 250.0,\n",
    "                               columns=list('AB')),\n",
    "                  pd.DataFrame(np.random.randn(6, 2),\n",
    "                               index=np.arange(4, 10) * 250.1,\n",
    "                               columns=list('AB'))])"
   ]
  },
  {
   "cell_type": "code",
   "execution_count": 215,
   "metadata": {},
   "outputs": [
    {
     "data": {
      "text/html": [
       "<div>\n",
       "<style scoped>\n",
       "    .dataframe tbody tr th:only-of-type {\n",
       "        vertical-align: middle;\n",
       "    }\n",
       "\n",
       "    .dataframe tbody tr th {\n",
       "        vertical-align: top;\n",
       "    }\n",
       "\n",
       "    .dataframe thead th {\n",
       "        text-align: right;\n",
       "    }\n",
       "</style>\n",
       "<table border=\"1\" class=\"dataframe\">\n",
       "  <thead>\n",
       "    <tr style=\"text-align: right;\">\n",
       "      <th></th>\n",
       "      <th>A</th>\n",
       "    </tr>\n",
       "  </thead>\n",
       "  <tbody>\n",
       "    <tr>\n",
       "      <th>(0, 1]</th>\n",
       "      <td>1</td>\n",
       "    </tr>\n",
       "    <tr>\n",
       "      <th>(1, 2]</th>\n",
       "      <td>2</td>\n",
       "    </tr>\n",
       "    <tr>\n",
       "      <th>(2, 3]</th>\n",
       "      <td>3</td>\n",
       "    </tr>\n",
       "    <tr>\n",
       "      <th>(3, 4]</th>\n",
       "      <td>4</td>\n",
       "    </tr>\n",
       "  </tbody>\n",
       "</table>\n",
       "</div>"
      ],
      "text/plain": [
       "        A\n",
       "(0, 1]  1\n",
       "(1, 2]  2\n",
       "(2, 3]  3\n",
       "(3, 4]  4"
      ]
     },
     "execution_count": 215,
     "metadata": {},
     "output_type": "execute_result"
    }
   ],
   "source": [
    "df = pd.DataFrame({'A': [1, 2, 3, 4]},\n",
    "                 index=pd.IntervalIndex.from_breaks([0, 1, 2, 3, 4]))"
   ]
  },
  {
   "cell_type": "code",
   "execution_count": 216,
   "metadata": {},
   "outputs": [
    {
     "data": {
      "text/plain": [
       "0    0\n",
       "1    1\n",
       "2    2\n",
       "3    3\n",
       "4    4\n",
       "dtype: int64"
      ]
     },
     "execution_count": 216,
     "metadata": {},
     "output_type": "execute_result"
    }
   ],
   "source": [
    "s = pd.Series(range(5))"
   ]
  },
  {
   "cell_type": "code",
   "execution_count": 218,
   "metadata": {},
   "outputs": [],
   "source": [
    "# s[-1]"
   ]
  },
  {
   "cell_type": "code",
   "execution_count": 219,
   "metadata": {},
   "outputs": [
    {
     "data": {
      "text/html": [
       "<div>\n",
       "<style scoped>\n",
       "    .dataframe tbody tr th:only-of-type {\n",
       "        vertical-align: middle;\n",
       "    }\n",
       "\n",
       "    .dataframe tbody tr th {\n",
       "        vertical-align: top;\n",
       "    }\n",
       "\n",
       "    .dataframe thead th {\n",
       "        text-align: right;\n",
       "    }\n",
       "</style>\n",
       "<table border=\"1\" class=\"dataframe\">\n",
       "  <thead>\n",
       "    <tr style=\"text-align: right;\">\n",
       "      <th></th>\n",
       "      <th>0</th>\n",
       "      <th>1</th>\n",
       "      <th>2</th>\n",
       "      <th>3</th>\n",
       "    </tr>\n",
       "  </thead>\n",
       "  <tbody>\n",
       "    <tr>\n",
       "      <th>0</th>\n",
       "      <td>0.726317</td>\n",
       "      <td>0.111251</td>\n",
       "      <td>-0.315819</td>\n",
       "      <td>0.431697</td>\n",
       "    </tr>\n",
       "    <tr>\n",
       "      <th>1</th>\n",
       "      <td>1.728001</td>\n",
       "      <td>0.923755</td>\n",
       "      <td>-0.565549</td>\n",
       "      <td>-1.614144</td>\n",
       "    </tr>\n",
       "    <tr>\n",
       "      <th>2</th>\n",
       "      <td>2.699573</td>\n",
       "      <td>-0.305452</td>\n",
       "      <td>2.302054</td>\n",
       "      <td>-0.222656</td>\n",
       "    </tr>\n",
       "    <tr>\n",
       "      <th>3</th>\n",
       "      <td>-1.264054</td>\n",
       "      <td>-1.793232</td>\n",
       "      <td>-0.085918</td>\n",
       "      <td>-1.034967</td>\n",
       "    </tr>\n",
       "    <tr>\n",
       "      <th>4</th>\n",
       "      <td>0.687106</td>\n",
       "      <td>-0.126255</td>\n",
       "      <td>-1.878987</td>\n",
       "      <td>-0.032691</td>\n",
       "    </tr>\n",
       "  </tbody>\n",
       "</table>\n",
       "</div>"
      ],
      "text/plain": [
       "          0         1         2         3\n",
       "0  0.726317  0.111251 -0.315819  0.431697\n",
       "1  1.728001  0.923755 -0.565549 -1.614144\n",
       "2  2.699573 -0.305452  2.302054 -0.222656\n",
       "3 -1.264054 -1.793232 -0.085918 -1.034967\n",
       "4  0.687106 -0.126255 -1.878987 -0.032691"
      ]
     },
     "execution_count": 219,
     "metadata": {},
     "output_type": "execute_result"
    }
   ],
   "source": [
    "df = pd.DataFrame(np.random.randn(5, 4))"
   ]
  },
  {
   "cell_type": "code",
   "execution_count": 220,
   "metadata": {},
   "outputs": [
    {
     "data": {
      "text/html": [
       "<div>\n",
       "<style scoped>\n",
       "    .dataframe tbody tr th:only-of-type {\n",
       "        vertical-align: middle;\n",
       "    }\n",
       "\n",
       "    .dataframe tbody tr th {\n",
       "        vertical-align: top;\n",
       "    }\n",
       "\n",
       "    .dataframe thead th {\n",
       "        text-align: right;\n",
       "    }\n",
       "</style>\n",
       "<table border=\"1\" class=\"dataframe\">\n",
       "  <thead>\n",
       "    <tr style=\"text-align: right;\">\n",
       "      <th></th>\n",
       "      <th>0</th>\n",
       "      <th>1</th>\n",
       "      <th>2</th>\n",
       "      <th>3</th>\n",
       "    </tr>\n",
       "  </thead>\n",
       "  <tbody>\n",
       "    <tr>\n",
       "      <th>0</th>\n",
       "      <td>0.726317</td>\n",
       "      <td>0.111251</td>\n",
       "      <td>-0.315819</td>\n",
       "      <td>0.431697</td>\n",
       "    </tr>\n",
       "    <tr>\n",
       "      <th>1</th>\n",
       "      <td>1.728001</td>\n",
       "      <td>0.923755</td>\n",
       "      <td>-0.565549</td>\n",
       "      <td>-1.614144</td>\n",
       "    </tr>\n",
       "    <tr>\n",
       "      <th>2</th>\n",
       "      <td>2.699573</td>\n",
       "      <td>-0.305452</td>\n",
       "      <td>2.302054</td>\n",
       "      <td>-0.222656</td>\n",
       "    </tr>\n",
       "    <tr>\n",
       "      <th>3</th>\n",
       "      <td>-1.264054</td>\n",
       "      <td>-1.793232</td>\n",
       "      <td>-0.085918</td>\n",
       "      <td>-1.034967</td>\n",
       "    </tr>\n",
       "    <tr>\n",
       "      <th>4</th>\n",
       "      <td>0.687106</td>\n",
       "      <td>-0.126255</td>\n",
       "      <td>-1.878987</td>\n",
       "      <td>-0.032691</td>\n",
       "    </tr>\n",
       "  </tbody>\n",
       "</table>\n",
       "</div>"
      ],
      "text/plain": [
       "          0         1         2         3\n",
       "0  0.726317  0.111251 -0.315819  0.431697\n",
       "1  1.728001  0.923755 -0.565549 -1.614144\n",
       "2  2.699573 -0.305452  2.302054 -0.222656\n",
       "3 -1.264054 -1.793232 -0.085918 -1.034967\n",
       "4  0.687106 -0.126255 -1.878987 -0.032691"
      ]
     },
     "execution_count": 220,
     "metadata": {},
     "output_type": "execute_result"
    }
   ],
   "source": [
    "df.loc[-2:]"
   ]
  },
  {
   "cell_type": "code",
   "execution_count": 221,
   "metadata": {},
   "outputs": [
    {
     "data": {
      "text/html": [
       "<div>\n",
       "<style scoped>\n",
       "    .dataframe tbody tr th:only-of-type {\n",
       "        vertical-align: middle;\n",
       "    }\n",
       "\n",
       "    .dataframe tbody tr th {\n",
       "        vertical-align: top;\n",
       "    }\n",
       "\n",
       "    .dataframe thead th {\n",
       "        text-align: right;\n",
       "    }\n",
       "</style>\n",
       "<table border=\"1\" class=\"dataframe\">\n",
       "  <thead>\n",
       "    <tr style=\"text-align: right;\">\n",
       "      <th></th>\n",
       "      <th>data</th>\n",
       "    </tr>\n",
       "  </thead>\n",
       "  <tbody>\n",
       "    <tr>\n",
       "      <th>2</th>\n",
       "      <td>0</td>\n",
       "    </tr>\n",
       "    <tr>\n",
       "      <th>3</th>\n",
       "      <td>1</td>\n",
       "    </tr>\n",
       "    <tr>\n",
       "      <th>3</th>\n",
       "      <td>2</td>\n",
       "    </tr>\n",
       "    <tr>\n",
       "      <th>4</th>\n",
       "      <td>3</td>\n",
       "    </tr>\n",
       "    <tr>\n",
       "      <th>5</th>\n",
       "      <td>4</td>\n",
       "    </tr>\n",
       "  </tbody>\n",
       "</table>\n",
       "</div>"
      ],
      "text/plain": [
       "   data\n",
       "2     0\n",
       "3     1\n",
       "3     2\n",
       "4     3\n",
       "5     4"
      ]
     },
     "execution_count": 221,
     "metadata": {},
     "output_type": "execute_result"
    }
   ],
   "source": [
    "df = pd.DataFrame(index=[2, 3, 3, 4, 5], columns=['data'], data=list(range(5)))"
   ]
  },
  {
   "cell_type": "code",
   "execution_count": 222,
   "metadata": {},
   "outputs": [
    {
     "data": {
      "text/plain": [
       "True"
      ]
     },
     "execution_count": 222,
     "metadata": {},
     "output_type": "execute_result"
    }
   ],
   "source": [
    "df.index.is_monotonic_increasing"
   ]
  },
  {
   "cell_type": "code",
   "execution_count": 223,
   "metadata": {},
   "outputs": [
    {
     "data": {
      "text/html": [
       "<div>\n",
       "<style scoped>\n",
       "    .dataframe tbody tr th:only-of-type {\n",
       "        vertical-align: middle;\n",
       "    }\n",
       "\n",
       "    .dataframe tbody tr th {\n",
       "        vertical-align: top;\n",
       "    }\n",
       "\n",
       "    .dataframe thead th {\n",
       "        text-align: right;\n",
       "    }\n",
       "</style>\n",
       "<table border=\"1\" class=\"dataframe\">\n",
       "  <thead>\n",
       "    <tr style=\"text-align: right;\">\n",
       "      <th></th>\n",
       "      <th>data</th>\n",
       "    </tr>\n",
       "  </thead>\n",
       "  <tbody>\n",
       "    <tr>\n",
       "      <th>2</th>\n",
       "      <td>0</td>\n",
       "    </tr>\n",
       "    <tr>\n",
       "      <th>3</th>\n",
       "      <td>1</td>\n",
       "    </tr>\n",
       "    <tr>\n",
       "      <th>1</th>\n",
       "      <td>2</td>\n",
       "    </tr>\n",
       "    <tr>\n",
       "      <th>4</th>\n",
       "      <td>3</td>\n",
       "    </tr>\n",
       "    <tr>\n",
       "      <th>3</th>\n",
       "      <td>4</td>\n",
       "    </tr>\n",
       "    <tr>\n",
       "      <th>5</th>\n",
       "      <td>5</td>\n",
       "    </tr>\n",
       "  </tbody>\n",
       "</table>\n",
       "</div>"
      ],
      "text/plain": [
       "   data\n",
       "2     0\n",
       "3     1\n",
       "1     2\n",
       "4     3\n",
       "3     4\n",
       "5     5"
      ]
     },
     "execution_count": 223,
     "metadata": {},
     "output_type": "execute_result"
    }
   ],
   "source": [
    "df = pd.DataFrame(index=[2, 3, 1, 4, 3, 5],\n",
    "                  columns=['data'], data=list(range(6)))"
   ]
  },
  {
   "cell_type": "code",
   "execution_count": 224,
   "metadata": {},
   "outputs": [
    {
     "data": {
      "text/plain": [
       "False"
      ]
     },
     "execution_count": 224,
     "metadata": {},
     "output_type": "execute_result"
    }
   ],
   "source": [
    "df.index.is_monotonic_increasing"
   ]
  },
  {
   "cell_type": "code",
   "execution_count": 227,
   "metadata": {},
   "outputs": [
    {
     "data": {
      "text/html": [
       "<div>\n",
       "<style scoped>\n",
       "    .dataframe tbody tr th:only-of-type {\n",
       "        vertical-align: middle;\n",
       "    }\n",
       "\n",
       "    .dataframe tbody tr th {\n",
       "        vertical-align: top;\n",
       "    }\n",
       "\n",
       "    .dataframe thead th {\n",
       "        text-align: right;\n",
       "    }\n",
       "</style>\n",
       "<table border=\"1\" class=\"dataframe\">\n",
       "  <thead>\n",
       "    <tr style=\"text-align: right;\">\n",
       "      <th></th>\n",
       "      <th>data</th>\n",
       "    </tr>\n",
       "  </thead>\n",
       "  <tbody>\n",
       "    <tr>\n",
       "      <th>2</th>\n",
       "      <td>0</td>\n",
       "    </tr>\n",
       "    <tr>\n",
       "      <th>3</th>\n",
       "      <td>1</td>\n",
       "    </tr>\n",
       "    <tr>\n",
       "      <th>1</th>\n",
       "      <td>2</td>\n",
       "    </tr>\n",
       "    <tr>\n",
       "      <th>4</th>\n",
       "      <td>3</td>\n",
       "    </tr>\n",
       "    <tr>\n",
       "      <th>3</th>\n",
       "      <td>4</td>\n",
       "    </tr>\n",
       "    <tr>\n",
       "      <th>5</th>\n",
       "      <td>5</td>\n",
       "    </tr>\n",
       "  </tbody>\n",
       "</table>\n",
       "</div>"
      ],
      "text/plain": [
       "   data\n",
       "2     0\n",
       "3     1\n",
       "1     2\n",
       "4     3\n",
       "3     4\n",
       "5     5"
      ]
     },
     "execution_count": 227,
     "metadata": {},
     "output_type": "execute_result"
    }
   ],
   "source": [
    "df.loc[2:, :]"
   ]
  },
  {
   "cell_type": "code",
   "execution_count": 228,
   "metadata": {},
   "outputs": [
    {
     "name": "stdout",
     "output_type": "stream",
     "text": [
      "----------------------------------------\n",
      "Type: <class 'pandas.core.series.Series'>\n",
      "Length: 3\n"
     ]
    },
    {
     "data": {
      "text/plain": [
       "0    1\n",
       "1    2\n",
       "2    3\n",
       "dtype: int64"
      ]
     },
     "metadata": {},
     "output_type": "display_data"
    }
   ],
   "source": [
    "series1 = pd.Series([1, 2, 3])\n",
    "z(series1)"
   ]
  },
  {
   "cell_type": "code",
   "execution_count": 229,
   "metadata": {},
   "outputs": [
    {
     "data": {
      "text/plain": [
       "0    1.0\n",
       "4    NaN\n",
       "dtype: float64"
      ]
     },
     "execution_count": 229,
     "metadata": {},
     "output_type": "execute_result"
    }
   ],
   "source": [
    "res = series1.reindex([0, 4])"
   ]
  },
  {
   "cell_type": "code",
   "execution_count": 231,
   "metadata": {},
   "outputs": [
    {
     "name": "stdout",
     "output_type": "stream",
     "text": [
      "----------------------------------------\n",
      "Type: <class 'pandas.core.series.Series'>\n",
      "Length: 1\n"
     ]
    },
    {
     "data": {
      "text/plain": [
       "0    True\n",
       "dtype: bool"
      ]
     },
     "metadata": {},
     "output_type": "display_data"
    }
   ],
   "source": [
    "series2 = pd.Series([True])\n",
    "z(series2)"
   ]
  },
  {
   "cell_type": "code",
   "execution_count": 232,
   "metadata": {},
   "outputs": [
    {
     "name": "stdout",
     "output_type": "stream",
     "text": [
      "----------------------------------------\n",
      "Type: <class 'pandas.core.series.Series'>\n",
      "Length: 3\n"
     ]
    },
    {
     "data": {
      "text/plain": [
       "0    True\n",
       "1     NaN\n",
       "2     NaN\n",
       "dtype: object"
      ]
     },
     "metadata": {},
     "output_type": "display_data"
    }
   ],
   "source": [
    "res = series2.reindex_like(series1)\n",
    "z(res)"
   ]
  },
  {
   "cell_type": "code",
   "execution_count": null,
   "metadata": {},
   "outputs": [],
   "source": []
  }
 ],
 "metadata": {
  "kernelspec": {
   "display_name": "Python 3",
   "language": "python",
   "name": "python3"
  },
  "language_info": {
   "codemirror_mode": {
    "name": "ipython",
    "version": 3
   },
   "file_extension": ".py",
   "mimetype": "text/x-python",
   "name": "python",
   "nbconvert_exporter": "python",
   "pygments_lexer": "ipython3",
   "version": "3.8.2"
  },
  "varInspector": {
   "cols": {
    "lenName": 16,
    "lenType": 16,
    "lenVar": 40
   },
   "kernels_config": {
    "python": {
     "delete_cmd_postfix": "",
     "delete_cmd_prefix": "del ",
     "library": "var_list.py",
     "varRefreshCmd": "print(var_dic_list())"
    },
    "r": {
     "delete_cmd_postfix": ") ",
     "delete_cmd_prefix": "rm(",
     "library": "var_list.r",
     "varRefreshCmd": "cat(var_dic_list()) "
    }
   },
   "types_to_exclude": [
    "module",
    "function",
    "builtin_function_or_method",
    "instance",
    "_Feature"
   ],
   "window_display": false
  }
 },
 "nbformat": 4,
 "nbformat_minor": 4
}
