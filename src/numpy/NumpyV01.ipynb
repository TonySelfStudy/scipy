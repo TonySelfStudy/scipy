{
 "cells": [
  {
   "cell_type": "code",
   "execution_count": 1,
   "metadata": {},
   "outputs": [],
   "source": [
    "# Notes on Numpy\n",
    "# Created 9/29/20\n",
    "# Started at https://numpy.org/doc/stable/"
   ]
  },
  {
   "cell_type": "code",
   "execution_count": 15,
   "metadata": {},
   "outputs": [],
   "source": [
    "import numpy as np\n",
    "rg = np.random.default_rng(1)"
   ]
  },
  {
   "cell_type": "code",
   "execution_count": 8,
   "metadata": {},
   "outputs": [
    {
     "name": "stdout",
     "output_type": "stream",
     "text": [
      "[[ 0  1  2  3]\n",
      " [ 4  5  6  7]\n",
      " [ 8  9 10 11]]\n"
     ]
    }
   ],
   "source": [
    "a = np.arange(12).reshape(3, 4)\n",
    "print(a)"
   ]
  },
  {
   "cell_type": "code",
   "execution_count": 12,
   "metadata": {},
   "outputs": [
    {
     "name": "stdout",
     "output_type": "stream",
     "text": [
      "a  94783272 \n",
      " [[ 0  1  2  3]\n",
      " [ 4  5  6  7]\n",
      " [ 8  9 10 11]]\n",
      "b  240338888 \n",
      " [[ 0  1]\n",
      " [ 2  3]\n",
      " [ 4  5]\n",
      " [ 6  7]\n",
      " [ 8  9]\n",
      " [10 11]]\n"
     ]
    }
   ],
   "source": [
    "b = a.reshape(6,2)\n",
    "print(\"a \", id(a), \"\\n\", a)\n",
    "print(\"b \", id(b), \"\\n\", b)"
   ]
  },
  {
   "cell_type": "code",
   "execution_count": 13,
   "metadata": {},
   "outputs": [
    {
     "name": "stdout",
     "output_type": "stream",
     "text": [
      "a  94783272 \n",
      " [[ 0  1  2]\n",
      " [ 3  4  5]\n",
      " [ 6  7  8]\n",
      " [ 9 10 11]]\n"
     ]
    }
   ],
   "source": [
    "a.resize(4,3)\n",
    "print(\"a \", id(a), \"\\n\", a)"
   ]
  },
  {
   "cell_type": "code",
   "execution_count": 18,
   "metadata": {},
   "outputs": [
    {
     "name": "stdout",
     "output_type": "stream",
     "text": [
      "a  240377752 \n",
      " [[1. 4.]\n",
      " [2. 2.]]\n",
      "b  240386120 \n",
      " [[7. 2.]\n",
      " [4. 9.]]\n",
      "c  240386160 \n",
      " [[1. 4.]\n",
      " [2. 2.]\n",
      " [7. 2.]\n",
      " [4. 9.]]\n"
     ]
    }
   ],
   "source": [
    "a = np.floor(10*rg.random((2,2)))\n",
    "b = np.floor(10*rg.random((2,2)))\n",
    "c = np.vstack((a,b))\n",
    "print(\"a \", id(a), \"\\n\", a)\n",
    "print(\"b \", id(b), \"\\n\", b)\n",
    "print(\"c \", id(c), \"\\n\", c)"
   ]
  },
  {
   "cell_type": "code",
   "execution_count": 19,
   "metadata": {},
   "outputs": [],
   "source": [
    "x = np.arange(4)\n",
    "xx = x.reshape(4,1)\n",
    "y = np.ones(5)\n",
    "z = np.ones((3,4))"
   ]
  },
  {
   "cell_type": "code",
   "execution_count": 24,
   "metadata": {},
   "outputs": [
    {
     "name": "stdout",
     "output_type": "stream",
     "text": [
      "a  240310736 \n",
      " [ 0. 10. 20. 30.]\n",
      "b  240310616 \n",
      " [[ 0.]\n",
      " [10.]\n",
      " [20.]\n",
      " [30.]]\n",
      "c  240377632 \n",
      " [[ 0. 10. 20. 30.]]\n",
      "d  240386240 \n",
      " [[ 0. 10. 20. 30.]\n",
      " [10. 20. 30. 40.]\n",
      " [20. 30. 40. 50.]\n",
      " [30. 40. 50. 60.]]\n"
     ]
    }
   ],
   "source": [
    "a = np.array([0.0, 10.0, 20.0, 30.0])\n",
    "b = a[:, np.newaxis]\n",
    "c = a[np.newaxis, :]\n",
    "d = b+c\n",
    "print(\"a \", id(a), \"\\n\", a)\n",
    "print(\"b \", id(b), \"\\n\", b)\n",
    "print(\"c \", id(c), \"\\n\", c)\n",
    "print(\"d \", id(d), \"\\n\", d)"
   ]
  },
  {
   "cell_type": "code",
   "execution_count": 32,
   "metadata": {},
   "outputs": [
    {
     "name": "stdout",
     "output_type": "stream",
     "text": [
      "(10, 10)\n",
      "[[ 0  1  2  3  4  5  6  7  8  9]\n",
      " [10 11 12 13 14 15 16 17 18 19]\n",
      " [20 21 22 23 24 25 26 27 28 29]\n",
      " [30 31 32 33 34 35 36 37 38 39]\n",
      " [40 41 42 43 44 45 46 47 48 49]\n",
      " [50 51 52 53 54 55 56 57 58 59]\n",
      " [60 61 62 63 64 65 66 67 68 69]\n",
      " [70 71 72 73 74 75 76 77 78 79]\n",
      " [80 81 82 83 84 85 86 87 88 89]\n",
      " [90 91 92 93 94 95 96 97 98 99]]\n"
     ]
    }
   ],
   "source": [
    "a = np.arange(100).reshape(10, 10)\n",
    "print(a.shape)\n",
    "print(a)"
   ]
  },
  {
   "cell_type": "code",
   "execution_count": 33,
   "metadata": {},
   "outputs": [
    {
     "name": "stdout",
     "output_type": "stream",
     "text": [
      "[ 3 13 23 33 43 53 63 73 83 93]\n"
     ]
    }
   ],
   "source": [
    "b = a[:, 3]\n",
    "print(b)"
   ]
  },
  {
   "cell_type": "code",
   "execution_count": 35,
   "metadata": {},
   "outputs": [
    {
     "name": "stdout",
     "output_type": "stream",
     "text": [
      "[ 4 34 64 94]\n"
     ]
    }
   ],
   "source": [
    "c = a[::3, 4]\n",
    "print(c)"
   ]
  },
  {
   "cell_type": "code",
   "execution_count": 54,
   "metadata": {},
   "outputs": [
    {
     "name": "stdout",
     "output_type": "stream",
     "text": [
      "a: shape=(3, 4), id=240401448\n",
      "[[1. 1. 1. 1.]\n",
      " [1. 1. 1. 1.]\n",
      " [1. 1. 1. 1.]]\n",
      "\n",
      "b: shape=(3,), id=240418472\n",
      "[0. 0. 0.]\n",
      "\n",
      "c: shape=(3, 1), id=240402048\n",
      "[[0.]\n",
      " [0.]\n",
      " [0.]]\n",
      "\n",
      "b: shape=(3,), id=240418472\n",
      "[0. 0. 4.]\n",
      "\n",
      "c: shape=(3, 1), id=240402048\n",
      "[[0.]\n",
      " [0.]\n",
      " [4.]]\n",
      "\n"
     ]
    }
   ],
   "source": [
    "a = np.ones((3, 4))\n",
    "b = np.zeros(3)\n",
    "c = b[:, np.newaxis]  # Slicing an array returns a view of it:\n",
    "print('{}: shape={}, id={}\\n{}\\n'.format('a', a.shape, id(a), a))\n",
    "print('{}: shape={}, id={}\\n{}\\n'.format('b', b.shape, id(b), b))\n",
    "print('{}: shape={}, id={}\\n{}\\n'.format('c', c.shape, id(c), c))\n",
    "c[2] = 4\n",
    "print('{}: shape={}, id={}\\n{}\\n'.format('b', b.shape, id(b), b))\n",
    "print('{}: shape={}, id={}\\n{}\\n'.format('c', c.shape, id(c), c))"
   ]
  },
  {
   "cell_type": "code",
   "execution_count": 58,
   "metadata": {},
   "outputs": [
    {
     "name": "stdout",
     "output_type": "stream",
     "text": [
      "a: shape=(3, 4), id=240276528\n",
      "[[ 0  1  2  3]\n",
      " [ 4  5  6  7]\n",
      " [ 8  9 10 11]]\n",
      "\n",
      "b: shape=(3,), id=240928832\n",
      "[0 1 2]\n",
      "\n",
      "c: shape=(3, 1), id=240929752\n",
      "[[0]\n",
      " [1]\n",
      " [2]]\n",
      "\n",
      "d: shape=(3, 4), id=240893368\n",
      "[[ 0  1  2  3]\n",
      " [ 5  6  7  8]\n",
      " [10 11 12 13]]\n",
      "\n"
     ]
    }
   ],
   "source": [
    "a = np.arange(12).reshape(3,4)\n",
    "b = np.arange(3)\n",
    "c = b[..., np.newaxis]  # Slicing an array returns a view of it:\n",
    "d = a + c\n",
    "print('{}: shape={}, id={}\\n{}\\n'.format('a', a.shape, id(a), a))\n",
    "print('{}: shape={}, id={}\\n{}\\n'.format('b', b.shape, id(b), b))\n",
    "print('{}: shape={}, id={}\\n{}\\n'.format('c', c.shape, id(c), c))\n",
    "print('{}: shape={}, id={}\\n{}\\n'.format('d', d.shape, id(d), d))\n"
   ]
  },
  {
   "cell_type": "code",
   "execution_count": null,
   "metadata": {},
   "outputs": [],
   "source": []
  }
 ],
 "metadata": {
  "kernelspec": {
   "display_name": "Python 3",
   "language": "python",
   "name": "python3"
  },
  "language_info": {
   "codemirror_mode": {
    "name": "ipython",
    "version": 3
   },
   "file_extension": ".py",
   "mimetype": "text/x-python",
   "name": "python",
   "nbconvert_exporter": "python",
   "pygments_lexer": "ipython3",
   "version": "3.8.2"
  }
 },
 "nbformat": 4,
 "nbformat_minor": 4
}
